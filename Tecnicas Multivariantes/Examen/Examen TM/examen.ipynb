{
  "nbformat": 4,
  "nbformat_minor": 0,
  "metadata": {
    "colab": {
      "name": "examen.ipynb",
      "provenance": [],
      "collapsed_sections": []
    },
    "kernelspec": {
      "name": "python3",
      "display_name": "Python 3"
    },
    "language_info": {
      "name": "python"
    }
  },
  "cells": [
    {
      "cell_type": "code",
      "metadata": {
        "id": "QAOY3Buc0Vt7"
      },
      "source": [
        "import numpy as np\n",
        "import pandas as pd\n",
        "import statsmodels.api as sm\n",
        "import matplotlib.pyplot as plt\n",
        "from sklearn.model_selection import train_test_split\n",
        "from sklearn.tree import DecisionTreeClassifier\n",
        "from sklearn.tree import plot_tree\n",
        "from sklearn.tree import export_graphviz\n",
        "from sklearn.tree import export_text\n",
        "from sklearn.model_selection import GridSearchCV\n",
        "from sklearn.compose import ColumnTransformer\n",
        "from sklearn.preprocessing import OneHotEncoder\n",
        "from sklearn.metrics import accuracy_score\n",
        "from sklearn.metrics import confusion_matrix\n",
        "\n",
        "import warnings\n",
        "warnings.filterwarnings('once')\n",
        "carseats = sm.datasets.get_rdataset(\"Carseats\", \"ISLR\")\n"
      ],
      "execution_count": null,
      "outputs": []
    },
    {
      "cell_type": "code",
      "metadata": {
        "colab": {
          "base_uri": "https://localhost:8080/",
          "height": 202
        },
        "id": "oUT_GYfiuW0V",
        "outputId": "837d548c-d8a6-42b4-f6ed-0025f82cff83"
      },
      "source": [
        "carseats.data.head()"
      ],
      "execution_count": null,
      "outputs": [
        {
          "output_type": "execute_result",
          "data": {
            "text/html": [
              "<div>\n",
              "<style scoped>\n",
              "    .dataframe tbody tr th:only-of-type {\n",
              "        vertical-align: middle;\n",
              "    }\n",
              "\n",
              "    .dataframe tbody tr th {\n",
              "        vertical-align: top;\n",
              "    }\n",
              "\n",
              "    .dataframe thead th {\n",
              "        text-align: right;\n",
              "    }\n",
              "</style>\n",
              "<table border=\"1\" class=\"dataframe\">\n",
              "  <thead>\n",
              "    <tr style=\"text-align: right;\">\n",
              "      <th></th>\n",
              "      <th>Sales</th>\n",
              "      <th>CompPrice</th>\n",
              "      <th>Income</th>\n",
              "      <th>Advertising</th>\n",
              "      <th>Population</th>\n",
              "      <th>Price</th>\n",
              "      <th>ShelveLoc</th>\n",
              "      <th>Age</th>\n",
              "      <th>Education</th>\n",
              "      <th>Urban</th>\n",
              "      <th>US</th>\n",
              "    </tr>\n",
              "  </thead>\n",
              "  <tbody>\n",
              "    <tr>\n",
              "      <th>0</th>\n",
              "      <td>9.50</td>\n",
              "      <td>138</td>\n",
              "      <td>73</td>\n",
              "      <td>11</td>\n",
              "      <td>276</td>\n",
              "      <td>120</td>\n",
              "      <td>Bad</td>\n",
              "      <td>42</td>\n",
              "      <td>17</td>\n",
              "      <td>Yes</td>\n",
              "      <td>Yes</td>\n",
              "    </tr>\n",
              "    <tr>\n",
              "      <th>1</th>\n",
              "      <td>11.22</td>\n",
              "      <td>111</td>\n",
              "      <td>48</td>\n",
              "      <td>16</td>\n",
              "      <td>260</td>\n",
              "      <td>83</td>\n",
              "      <td>Good</td>\n",
              "      <td>65</td>\n",
              "      <td>10</td>\n",
              "      <td>Yes</td>\n",
              "      <td>Yes</td>\n",
              "    </tr>\n",
              "    <tr>\n",
              "      <th>2</th>\n",
              "      <td>10.06</td>\n",
              "      <td>113</td>\n",
              "      <td>35</td>\n",
              "      <td>10</td>\n",
              "      <td>269</td>\n",
              "      <td>80</td>\n",
              "      <td>Medium</td>\n",
              "      <td>59</td>\n",
              "      <td>12</td>\n",
              "      <td>Yes</td>\n",
              "      <td>Yes</td>\n",
              "    </tr>\n",
              "    <tr>\n",
              "      <th>3</th>\n",
              "      <td>7.40</td>\n",
              "      <td>117</td>\n",
              "      <td>100</td>\n",
              "      <td>4</td>\n",
              "      <td>466</td>\n",
              "      <td>97</td>\n",
              "      <td>Medium</td>\n",
              "      <td>55</td>\n",
              "      <td>14</td>\n",
              "      <td>Yes</td>\n",
              "      <td>Yes</td>\n",
              "    </tr>\n",
              "    <tr>\n",
              "      <th>4</th>\n",
              "      <td>4.15</td>\n",
              "      <td>141</td>\n",
              "      <td>64</td>\n",
              "      <td>3</td>\n",
              "      <td>340</td>\n",
              "      <td>128</td>\n",
              "      <td>Bad</td>\n",
              "      <td>38</td>\n",
              "      <td>13</td>\n",
              "      <td>Yes</td>\n",
              "      <td>No</td>\n",
              "    </tr>\n",
              "  </tbody>\n",
              "</table>\n",
              "</div>"
            ],
            "text/plain": [
              "   Sales  CompPrice  Income  Advertising  ...  Age  Education Urban   US\n",
              "0   9.50        138      73           11  ...   42         17   Yes  Yes\n",
              "1  11.22        111      48           16  ...   65         10   Yes  Yes\n",
              "2  10.06        113      35           10  ...   59         12   Yes  Yes\n",
              "3   7.40        117     100            4  ...   55         14   Yes  Yes\n",
              "4   4.15        141      64            3  ...   38         13   Yes   No\n",
              "\n",
              "[5 rows x 11 columns]"
            ]
          },
          "metadata": {},
          "execution_count": 10
        }
      ]
    },
    {
      "cell_type": "markdown",
      "metadata": {
        "id": "5LP96V5zutsV"
      },
      "source": [
        "# Estudio descriptivo"
      ]
    },
    {
      "cell_type": "code",
      "metadata": {
        "id": "WZ-uXVZ8uzNZ"
      },
      "source": [
        "carseats_data = carseats.data"
      ],
      "execution_count": null,
      "outputs": []
    },
    {
      "cell_type": "code",
      "metadata": {
        "colab": {
          "base_uri": "https://localhost:8080/",
          "height": 294
        },
        "id": "8SoQWATCu4Up",
        "outputId": "0c48f140-319b-49a2-8426-a66f7fbd9244"
      },
      "source": [
        "carseats_data.describe()"
      ],
      "execution_count": null,
      "outputs": [
        {
          "output_type": "execute_result",
          "data": {
            "text/html": [
              "<div>\n",
              "<style scoped>\n",
              "    .dataframe tbody tr th:only-of-type {\n",
              "        vertical-align: middle;\n",
              "    }\n",
              "\n",
              "    .dataframe tbody tr th {\n",
              "        vertical-align: top;\n",
              "    }\n",
              "\n",
              "    .dataframe thead th {\n",
              "        text-align: right;\n",
              "    }\n",
              "</style>\n",
              "<table border=\"1\" class=\"dataframe\">\n",
              "  <thead>\n",
              "    <tr style=\"text-align: right;\">\n",
              "      <th></th>\n",
              "      <th>Sales</th>\n",
              "      <th>CompPrice</th>\n",
              "      <th>Income</th>\n",
              "      <th>Advertising</th>\n",
              "      <th>Population</th>\n",
              "      <th>Price</th>\n",
              "      <th>Age</th>\n",
              "      <th>Education</th>\n",
              "    </tr>\n",
              "  </thead>\n",
              "  <tbody>\n",
              "    <tr>\n",
              "      <th>count</th>\n",
              "      <td>400.000000</td>\n",
              "      <td>400.000000</td>\n",
              "      <td>400.000000</td>\n",
              "      <td>400.000000</td>\n",
              "      <td>400.000000</td>\n",
              "      <td>400.000000</td>\n",
              "      <td>400.000000</td>\n",
              "      <td>400.000000</td>\n",
              "    </tr>\n",
              "    <tr>\n",
              "      <th>mean</th>\n",
              "      <td>7.496325</td>\n",
              "      <td>124.975000</td>\n",
              "      <td>68.657500</td>\n",
              "      <td>6.635000</td>\n",
              "      <td>264.840000</td>\n",
              "      <td>115.795000</td>\n",
              "      <td>53.322500</td>\n",
              "      <td>13.900000</td>\n",
              "    </tr>\n",
              "    <tr>\n",
              "      <th>std</th>\n",
              "      <td>2.824115</td>\n",
              "      <td>15.334512</td>\n",
              "      <td>27.986037</td>\n",
              "      <td>6.650364</td>\n",
              "      <td>147.376436</td>\n",
              "      <td>23.676664</td>\n",
              "      <td>16.200297</td>\n",
              "      <td>2.620528</td>\n",
              "    </tr>\n",
              "    <tr>\n",
              "      <th>min</th>\n",
              "      <td>0.000000</td>\n",
              "      <td>77.000000</td>\n",
              "      <td>21.000000</td>\n",
              "      <td>0.000000</td>\n",
              "      <td>10.000000</td>\n",
              "      <td>24.000000</td>\n",
              "      <td>25.000000</td>\n",
              "      <td>10.000000</td>\n",
              "    </tr>\n",
              "    <tr>\n",
              "      <th>25%</th>\n",
              "      <td>5.390000</td>\n",
              "      <td>115.000000</td>\n",
              "      <td>42.750000</td>\n",
              "      <td>0.000000</td>\n",
              "      <td>139.000000</td>\n",
              "      <td>100.000000</td>\n",
              "      <td>39.750000</td>\n",
              "      <td>12.000000</td>\n",
              "    </tr>\n",
              "    <tr>\n",
              "      <th>50%</th>\n",
              "      <td>7.490000</td>\n",
              "      <td>125.000000</td>\n",
              "      <td>69.000000</td>\n",
              "      <td>5.000000</td>\n",
              "      <td>272.000000</td>\n",
              "      <td>117.000000</td>\n",
              "      <td>54.500000</td>\n",
              "      <td>14.000000</td>\n",
              "    </tr>\n",
              "    <tr>\n",
              "      <th>75%</th>\n",
              "      <td>9.320000</td>\n",
              "      <td>135.000000</td>\n",
              "      <td>91.000000</td>\n",
              "      <td>12.000000</td>\n",
              "      <td>398.500000</td>\n",
              "      <td>131.000000</td>\n",
              "      <td>66.000000</td>\n",
              "      <td>16.000000</td>\n",
              "    </tr>\n",
              "    <tr>\n",
              "      <th>max</th>\n",
              "      <td>16.270000</td>\n",
              "      <td>175.000000</td>\n",
              "      <td>120.000000</td>\n",
              "      <td>29.000000</td>\n",
              "      <td>509.000000</td>\n",
              "      <td>191.000000</td>\n",
              "      <td>80.000000</td>\n",
              "      <td>18.000000</td>\n",
              "    </tr>\n",
              "  </tbody>\n",
              "</table>\n",
              "</div>"
            ],
            "text/plain": [
              "            Sales   CompPrice      Income  ...       Price         Age   Education\n",
              "count  400.000000  400.000000  400.000000  ...  400.000000  400.000000  400.000000\n",
              "mean     7.496325  124.975000   68.657500  ...  115.795000   53.322500   13.900000\n",
              "std      2.824115   15.334512   27.986037  ...   23.676664   16.200297    2.620528\n",
              "min      0.000000   77.000000   21.000000  ...   24.000000   25.000000   10.000000\n",
              "25%      5.390000  115.000000   42.750000  ...  100.000000   39.750000   12.000000\n",
              "50%      7.490000  125.000000   69.000000  ...  117.000000   54.500000   14.000000\n",
              "75%      9.320000  135.000000   91.000000  ...  131.000000   66.000000   16.000000\n",
              "max     16.270000  175.000000  120.000000  ...  191.000000   80.000000   18.000000\n",
              "\n",
              "[8 rows x 8 columns]"
            ]
          },
          "metadata": {},
          "execution_count": 13
        }
      ]
    },
    {
      "cell_type": "code",
      "metadata": {
        "colab": {
          "base_uri": "https://localhost:8080/",
          "height": 353
        },
        "id": "xEcq_W9mu_n1",
        "outputId": "f269ba7f-a458-46bf-fed9-a137e80ecd8f"
      },
      "source": [
        "carseats_data.hist(figsize=(10,5))\n",
        "plt.plot()"
      ],
      "execution_count": null,
      "outputs": [
        {
          "output_type": "execute_result",
          "data": {
            "text/plain": [
              "[]"
            ]
          },
          "metadata": {},
          "execution_count": 16
        },
        {
          "output_type": "display_data",
          "data": {
            "image/png": "[encoded data removed]",
            "text/plain": [
              "<Figure size 720x360 with 9 Axes>"
            ]
          },
          "metadata": {
            "needs_background": "light"
          }
        }
      ]
    },
    {
      "cell_type": "code",
      "metadata": {
        "id": "pzKOczITm9n_"
      },
      "source": [
        "corr = carseats_data.corr()"
      ],
      "execution_count": null,
      "outputs": []
    },
    {
      "cell_type": "code",
      "metadata": {
        "colab": {
          "base_uri": "https://localhost:8080/",
          "height": 195
        },
        "id": "vjEeCKQZvUbT",
        "outputId": "d6e25a9d-9c3f-4029-9560-e878f336035e"
      },
      "source": [
        "corr.style.background_gradient(cmap='coolwarm')"
      ],
      "execution_count": null,
      "outputs": [
        {
          "output_type": "execute_result",
          "data": {
            "text/html": [
              "<style  type=\"text/css\" >\n",
              "#T_0672b760_1283_11ec_aa6d_0242ac1c0002row0_col0,#T_0672b760_1283_11ec_aa6d_0242ac1c0002row1_col1,#T_0672b760_1283_11ec_aa6d_0242ac1c0002row2_col2,#T_0672b760_1283_11ec_aa6d_0242ac1c0002row3_col3,#T_0672b760_1283_11ec_aa6d_0242ac1c0002row4_col4,#T_0672b760_1283_11ec_aa6d_0242ac1c0002row5_col5,#T_0672b760_1283_11ec_aa6d_0242ac1c0002row6_col6,#T_0672b760_1283_11ec_aa6d_0242ac1c0002row7_col7{\n",
              "            background-color:  #b40426;\n",
              "            color:  #f1f1f1;\n",
              "        }#T_0672b760_1283_11ec_aa6d_0242ac1c0002row0_col1{\n",
              "            background-color:  #6a8bef;\n",
              "            color:  #000000;\n",
              "        }#T_0672b760_1283_11ec_aa6d_0242ac1c0002row0_col2{\n",
              "            background-color:  #81a4fb;\n",
              "            color:  #000000;\n",
              "        }#T_0672b760_1283_11ec_aa6d_0242ac1c0002row0_col3{\n",
              "            background-color:  #9dbdff;\n",
              "            color:  #000000;\n",
              "        }#T_0672b760_1283_11ec_aa6d_0242ac1c0002row0_col4{\n",
              "            background-color:  #6788ee;\n",
              "            color:  #000000;\n",
              "        }#T_0672b760_1283_11ec_aa6d_0242ac1c0002row0_col5,#T_0672b760_1283_11ec_aa6d_0242ac1c0002row0_col6,#T_0672b760_1283_11ec_aa6d_0242ac1c0002row1_col2,#T_0672b760_1283_11ec_aa6d_0242ac1c0002row4_col7,#T_0672b760_1283_11ec_aa6d_0242ac1c0002row5_col0,#T_0672b760_1283_11ec_aa6d_0242ac1c0002row6_col1,#T_0672b760_1283_11ec_aa6d_0242ac1c0002row7_col3,#T_0672b760_1283_11ec_aa6d_0242ac1c0002row7_col4{\n",
              "            background-color:  #3b4cc0;\n",
              "            color:  #f1f1f1;\n",
              "        }#T_0672b760_1283_11ec_aa6d_0242ac1c0002row0_col7{\n",
              "            background-color:  #4961d2;\n",
              "            color:  #f1f1f1;\n",
              "        }#T_0672b760_1283_11ec_aa6d_0242ac1c0002row1_col0{\n",
              "            background-color:  #b1cbfc;\n",
              "            color:  #000000;\n",
              "        }#T_0672b760_1283_11ec_aa6d_0242ac1c0002row1_col3,#T_0672b760_1283_11ec_aa6d_0242ac1c0002row1_col4{\n",
              "            background-color:  #3d50c3;\n",
              "            color:  #f1f1f1;\n",
              "        }#T_0672b760_1283_11ec_aa6d_0242ac1c0002row1_col5{\n",
              "            background-color:  #f7a889;\n",
              "            color:  #000000;\n",
              "        }#T_0672b760_1283_11ec_aa6d_0242ac1c0002row1_col6,#T_0672b760_1283_11ec_aa6d_0242ac1c0002row5_col7{\n",
              "            background-color:  #5b7ae5;\n",
              "            color:  #000000;\n",
              "        }#T_0672b760_1283_11ec_aa6d_0242ac1c0002row1_col7{\n",
              "            background-color:  #5f7fe8;\n",
              "            color:  #000000;\n",
              "        }#T_0672b760_1283_11ec_aa6d_0242ac1c0002row2_col0{\n",
              "            background-color:  #c4d5f3;\n",
              "            color:  #000000;\n",
              "        }#T_0672b760_1283_11ec_aa6d_0242ac1c0002row2_col1{\n",
              "            background-color:  #3f53c6;\n",
              "            color:  #f1f1f1;\n",
              "        }#T_0672b760_1283_11ec_aa6d_0242ac1c0002row2_col3,#T_0672b760_1283_11ec_aa6d_0242ac1c0002row2_col4{\n",
              "            background-color:  #5572df;\n",
              "            color:  #000000;\n",
              "        }#T_0672b760_1283_11ec_aa6d_0242ac1c0002row2_col5{\n",
              "            background-color:  #93b5fe;\n",
              "            color:  #000000;\n",
              "        }#T_0672b760_1283_11ec_aa6d_0242ac1c0002row2_col6,#T_0672b760_1283_11ec_aa6d_0242ac1c0002row3_col6{\n",
              "            background-color:  #7699f6;\n",
              "            color:  #000000;\n",
              "        }#T_0672b760_1283_11ec_aa6d_0242ac1c0002row2_col7{\n",
              "            background-color:  #485fd1;\n",
              "            color:  #f1f1f1;\n",
              "        }#T_0672b760_1283_11ec_aa6d_0242ac1c0002row3_col0{\n",
              "            background-color:  #dbdcde;\n",
              "            color:  #000000;\n",
              "        }#T_0672b760_1283_11ec_aa6d_0242ac1c0002row3_col1,#T_0672b760_1283_11ec_aa6d_0242ac1c0002row4_col2,#T_0672b760_1283_11ec_aa6d_0242ac1c0002row6_col2{\n",
              "            background-color:  #4f69d9;\n",
              "            color:  #000000;\n",
              "        }#T_0672b760_1283_11ec_aa6d_0242ac1c0002row3_col2{\n",
              "            background-color:  #6384eb;\n",
              "            color:  #000000;\n",
              "        }#T_0672b760_1283_11ec_aa6d_0242ac1c0002row3_col4,#T_0672b760_1283_11ec_aa6d_0242ac1c0002row3_col5{\n",
              "            background-color:  #abc8fd;\n",
              "            color:  #000000;\n",
              "        }#T_0672b760_1283_11ec_aa6d_0242ac1c0002row3_col7{\n",
              "            background-color:  #4e68d8;\n",
              "            color:  #000000;\n",
              "        }#T_0672b760_1283_11ec_aa6d_0242ac1c0002row4_col0{\n",
              "            background-color:  #adc9fd;\n",
              "            color:  #000000;\n",
              "        }#T_0672b760_1283_11ec_aa6d_0242ac1c0002row4_col1{\n",
              "            background-color:  #3c4ec2;\n",
              "            color:  #f1f1f1;\n",
              "        }#T_0672b760_1283_11ec_aa6d_0242ac1c0002row4_col3{\n",
              "            background-color:  #9bbcff;\n",
              "            color:  #000000;\n",
              "        }#T_0672b760_1283_11ec_aa6d_0242ac1c0002row4_col5{\n",
              "            background-color:  #9ebeff;\n",
              "            color:  #000000;\n",
              "        }#T_0672b760_1283_11ec_aa6d_0242ac1c0002row4_col6{\n",
              "            background-color:  #6b8df0;\n",
              "            color:  #000000;\n",
              "        }#T_0672b760_1283_11ec_aa6d_0242ac1c0002row5_col1{\n",
              "            background-color:  #f4c5ad;\n",
              "            color:  #000000;\n",
              "        }#T_0672b760_1283_11ec_aa6d_0242ac1c0002row5_col2,#T_0672b760_1283_11ec_aa6d_0242ac1c0002row7_col2{\n",
              "            background-color:  #4055c8;\n",
              "            color:  #f1f1f1;\n",
              "        }#T_0672b760_1283_11ec_aa6d_0242ac1c0002row5_col3{\n",
              "            background-color:  #516ddb;\n",
              "            color:  #000000;\n",
              "        }#T_0672b760_1283_11ec_aa6d_0242ac1c0002row5_col4{\n",
              "            background-color:  #5470de;\n",
              "            color:  #000000;\n",
              "        }#T_0672b760_1283_11ec_aa6d_0242ac1c0002row5_col6,#T_0672b760_1283_11ec_aa6d_0242ac1c0002row6_col7{\n",
              "            background-color:  #5a78e4;\n",
              "            color:  #000000;\n",
              "        }#T_0672b760_1283_11ec_aa6d_0242ac1c0002row6_col0{\n",
              "            background-color:  #688aef;\n",
              "            color:  #000000;\n",
              "        }#T_0672b760_1283_11ec_aa6d_0242ac1c0002row6_col3{\n",
              "            background-color:  #4358cb;\n",
              "            color:  #f1f1f1;\n",
              "        }#T_0672b760_1283_11ec_aa6d_0242ac1c0002row6_col4{\n",
              "            background-color:  #4b64d5;\n",
              "            color:  #f1f1f1;\n",
              "        }#T_0672b760_1283_11ec_aa6d_0242ac1c0002row6_col5{\n",
              "            background-color:  #88abfd;\n",
              "            color:  #000000;\n",
              "        }#T_0672b760_1283_11ec_aa6d_0242ac1c0002row7_col0{\n",
              "            background-color:  #94b6ff;\n",
              "            color:  #000000;\n",
              "        }#T_0672b760_1283_11ec_aa6d_0242ac1c0002row7_col1{\n",
              "            background-color:  #5e7de7;\n",
              "            color:  #000000;\n",
              "        }#T_0672b760_1283_11ec_aa6d_0242ac1c0002row7_col5{\n",
              "            background-color:  #a3c2fe;\n",
              "            color:  #000000;\n",
              "        }#T_0672b760_1283_11ec_aa6d_0242ac1c0002row7_col6{\n",
              "            background-color:  #799cf8;\n",
              "            color:  #000000;\n",
              "        }</style><table id=\"T_0672b760_1283_11ec_aa6d_0242ac1c0002\" ><thead>    <tr>        <th class=\"blank level0\" ></th>        <th class=\"col_heading level0 col0\" >Sales</th>        <th class=\"col_heading level0 col1\" >CompPrice</th>        <th class=\"col_heading level0 col2\" >Income</th>        <th class=\"col_heading level0 col3\" >Advertising</th>        <th class=\"col_heading level0 col4\" >Population</th>        <th class=\"col_heading level0 col5\" >Price</th>        <th class=\"col_heading level0 col6\" >Age</th>        <th class=\"col_heading level0 col7\" >Education</th>    </tr></thead><tbody>\n",
              "                <tr>\n",
              "                        <th id=\"T_0672b760_1283_11ec_aa6d_0242ac1c0002level0_row0\" class=\"row_heading level0 row0\" >Sales</th>\n",
              "                        <td id=\"T_0672b760_1283_11ec_aa6d_0242ac1c0002row0_col0\" class=\"data row0 col0\" >1.000000</td>\n",
              "                        <td id=\"T_0672b760_1283_11ec_aa6d_0242ac1c0002row0_col1\" class=\"data row0 col1\" >0.064079</td>\n",
              "                        <td id=\"T_0672b760_1283_11ec_aa6d_0242ac1c0002row0_col2\" class=\"data row0 col2\" >0.151951</td>\n",
              "                        <td id=\"T_0672b760_1283_11ec_aa6d_0242ac1c0002row0_col3\" class=\"data row0 col3\" >0.269507</td>\n",
              "                        <td id=\"T_0672b760_1283_11ec_aa6d_0242ac1c0002row0_col4\" class=\"data row0 col4\" >0.050471</td>\n",
              "                        <td id=\"T_0672b760_1283_11ec_aa6d_0242ac1c0002row0_col5\" class=\"data row0 col5\" >-0.444951</td>\n",
              "                        <td id=\"T_0672b760_1283_11ec_aa6d_0242ac1c0002row0_col6\" class=\"data row0 col6\" >-0.231815</td>\n",
              "                        <td id=\"T_0672b760_1283_11ec_aa6d_0242ac1c0002row0_col7\" class=\"data row0 col7\" >-0.051955</td>\n",
              "            </tr>\n",
              "            <tr>\n",
              "                        <th id=\"T_0672b760_1283_11ec_aa6d_0242ac1c0002level0_row1\" class=\"row_heading level0 row1\" >CompPrice</th>\n",
              "                        <td id=\"T_0672b760_1283_11ec_aa6d_0242ac1c0002row1_col0\" class=\"data row1 col0\" >0.064079</td>\n",
              "                        <td id=\"T_0672b760_1283_11ec_aa6d_0242ac1c0002row1_col1\" class=\"data row1 col1\" >1.000000</td>\n",
              "                        <td id=\"T_0672b760_1283_11ec_aa6d_0242ac1c0002row1_col2\" class=\"data row1 col2\" >-0.080653</td>\n",
              "                        <td id=\"T_0672b760_1283_11ec_aa6d_0242ac1c0002row1_col3\" class=\"data row1 col3\" >-0.024199</td>\n",
              "                        <td id=\"T_0672b760_1283_11ec_aa6d_0242ac1c0002row1_col4\" class=\"data row1 col4\" >-0.094707</td>\n",
              "                        <td id=\"T_0672b760_1283_11ec_aa6d_0242ac1c0002row1_col5\" class=\"data row1 col5\" >0.584848</td>\n",
              "                        <td id=\"T_0672b760_1283_11ec_aa6d_0242ac1c0002row1_col6\" class=\"data row1 col6\" >-0.100239</td>\n",
              "                        <td id=\"T_0672b760_1283_11ec_aa6d_0242ac1c0002row1_col7\" class=\"data row1 col7\" >0.025197</td>\n",
              "            </tr>\n",
              "            <tr>\n",
              "                        <th id=\"T_0672b760_1283_11ec_aa6d_0242ac1c0002level0_row2\" class=\"row_heading level0 row2\" >Income</th>\n",
              "                        <td id=\"T_0672b760_1283_11ec_aa6d_0242ac1c0002row2_col0\" class=\"data row2 col0\" >0.151951</td>\n",
              "                        <td id=\"T_0672b760_1283_11ec_aa6d_0242ac1c0002row2_col1\" class=\"data row2 col1\" >-0.080653</td>\n",
              "                        <td id=\"T_0672b760_1283_11ec_aa6d_0242ac1c0002row2_col2\" class=\"data row2 col2\" >1.000000</td>\n",
              "                        <td id=\"T_0672b760_1283_11ec_aa6d_0242ac1c0002row2_col3\" class=\"data row2 col3\" >0.058995</td>\n",
              "                        <td id=\"T_0672b760_1283_11ec_aa6d_0242ac1c0002row2_col4\" class=\"data row2 col4\" >-0.007877</td>\n",
              "                        <td id=\"T_0672b760_1283_11ec_aa6d_0242ac1c0002row2_col5\" class=\"data row2 col5\" >-0.056698</td>\n",
              "                        <td id=\"T_0672b760_1283_11ec_aa6d_0242ac1c0002row2_col6\" class=\"data row2 col6\" >-0.004670</td>\n",
              "                        <td id=\"T_0672b760_1283_11ec_aa6d_0242ac1c0002row2_col7\" class=\"data row2 col7\" >-0.056855</td>\n",
              "            </tr>\n",
              "            <tr>\n",
              "                        <th id=\"T_0672b760_1283_11ec_aa6d_0242ac1c0002level0_row3\" class=\"row_heading level0 row3\" >Advertising</th>\n",
              "                        <td id=\"T_0672b760_1283_11ec_aa6d_0242ac1c0002row3_col0\" class=\"data row3 col0\" >0.269507</td>\n",
              "                        <td id=\"T_0672b760_1283_11ec_aa6d_0242ac1c0002row3_col1\" class=\"data row3 col1\" >-0.024199</td>\n",
              "                        <td id=\"T_0672b760_1283_11ec_aa6d_0242ac1c0002row3_col2\" class=\"data row3 col2\" >0.058995</td>\n",
              "                        <td id=\"T_0672b760_1283_11ec_aa6d_0242ac1c0002row3_col3\" class=\"data row3 col3\" >1.000000</td>\n",
              "                        <td id=\"T_0672b760_1283_11ec_aa6d_0242ac1c0002row3_col4\" class=\"data row3 col4\" >0.265652</td>\n",
              "                        <td id=\"T_0672b760_1283_11ec_aa6d_0242ac1c0002row3_col5\" class=\"data row3 col5\" >0.044537</td>\n",
              "                        <td id=\"T_0672b760_1283_11ec_aa6d_0242ac1c0002row3_col6\" class=\"data row3 col6\" >-0.004557</td>\n",
              "                        <td id=\"T_0672b760_1283_11ec_aa6d_0242ac1c0002row3_col7\" class=\"data row3 col7\" >-0.033594</td>\n",
              "            </tr>\n",
              "            <tr>\n",
              "                        <th id=\"T_0672b760_1283_11ec_aa6d_0242ac1c0002level0_row4\" class=\"row_heading level0 row4\" >Population</th>\n",
              "                        <td id=\"T_0672b760_1283_11ec_aa6d_0242ac1c0002row4_col0\" class=\"data row4 col0\" >0.050471</td>\n",
              "                        <td id=\"T_0672b760_1283_11ec_aa6d_0242ac1c0002row4_col1\" class=\"data row4 col1\" >-0.094707</td>\n",
              "                        <td id=\"T_0672b760_1283_11ec_aa6d_0242ac1c0002row4_col2\" class=\"data row4 col2\" >-0.007877</td>\n",
              "                        <td id=\"T_0672b760_1283_11ec_aa6d_0242ac1c0002row4_col3\" class=\"data row4 col3\" >0.265652</td>\n",
              "                        <td id=\"T_0672b760_1283_11ec_aa6d_0242ac1c0002row4_col4\" class=\"data row4 col4\" >1.000000</td>\n",
              "                        <td id=\"T_0672b760_1283_11ec_aa6d_0242ac1c0002row4_col5\" class=\"data row4 col5\" >-0.012144</td>\n",
              "                        <td id=\"T_0672b760_1283_11ec_aa6d_0242ac1c0002row4_col6\" class=\"data row4 col6\" >-0.042663</td>\n",
              "                        <td id=\"T_0672b760_1283_11ec_aa6d_0242ac1c0002row4_col7\" class=\"data row4 col7\" >-0.106378</td>\n",
              "            </tr>\n",
              "            <tr>\n",
              "                        <th id=\"T_0672b760_1283_11ec_aa6d_0242ac1c0002level0_row5\" class=\"row_heading level0 row5\" >Price</th>\n",
              "                        <td id=\"T_0672b760_1283_11ec_aa6d_0242ac1c0002row5_col0\" class=\"data row5 col0\" >-0.444951</td>\n",
              "                        <td id=\"T_0672b760_1283_11ec_aa6d_0242ac1c0002row5_col1\" class=\"data row5 col1\" >0.584848</td>\n",
              "                        <td id=\"T_0672b760_1283_11ec_aa6d_0242ac1c0002row5_col2\" class=\"data row5 col2\" >-0.056698</td>\n",
              "                        <td id=\"T_0672b760_1283_11ec_aa6d_0242ac1c0002row5_col3\" class=\"data row5 col3\" >0.044537</td>\n",
              "                        <td id=\"T_0672b760_1283_11ec_aa6d_0242ac1c0002row5_col4\" class=\"data row5 col4\" >-0.012144</td>\n",
              "                        <td id=\"T_0672b760_1283_11ec_aa6d_0242ac1c0002row5_col5\" class=\"data row5 col5\" >1.000000</td>\n",
              "                        <td id=\"T_0672b760_1283_11ec_aa6d_0242ac1c0002row5_col6\" class=\"data row5 col6\" >-0.102177</td>\n",
              "                        <td id=\"T_0672b760_1283_11ec_aa6d_0242ac1c0002row5_col7\" class=\"data row5 col7\" >0.011747</td>\n",
              "            </tr>\n",
              "            <tr>\n",
              "                        <th id=\"T_0672b760_1283_11ec_aa6d_0242ac1c0002level0_row6\" class=\"row_heading level0 row6\" >Age</th>\n",
              "                        <td id=\"T_0672b760_1283_11ec_aa6d_0242ac1c0002row6_col0\" class=\"data row6 col0\" >-0.231815</td>\n",
              "                        <td id=\"T_0672b760_1283_11ec_aa6d_0242ac1c0002row6_col1\" class=\"data row6 col1\" >-0.100239</td>\n",
              "                        <td id=\"T_0672b760_1283_11ec_aa6d_0242ac1c0002row6_col2\" class=\"data row6 col2\" >-0.004670</td>\n",
              "                        <td id=\"T_0672b760_1283_11ec_aa6d_0242ac1c0002row6_col3\" class=\"data row6 col3\" >-0.004557</td>\n",
              "                        <td id=\"T_0672b760_1283_11ec_aa6d_0242ac1c0002row6_col4\" class=\"data row6 col4\" >-0.042663</td>\n",
              "                        <td id=\"T_0672b760_1283_11ec_aa6d_0242ac1c0002row6_col5\" class=\"data row6 col5\" >-0.102177</td>\n",
              "                        <td id=\"T_0672b760_1283_11ec_aa6d_0242ac1c0002row6_col6\" class=\"data row6 col6\" >1.000000</td>\n",
              "                        <td id=\"T_0672b760_1283_11ec_aa6d_0242ac1c0002row6_col7\" class=\"data row6 col7\" >0.006488</td>\n",
              "            </tr>\n",
              "            <tr>\n",
              "                        <th id=\"T_0672b760_1283_11ec_aa6d_0242ac1c0002level0_row7\" class=\"row_heading level0 row7\" >Education</th>\n",
              "                        <td id=\"T_0672b760_1283_11ec_aa6d_0242ac1c0002row7_col0\" class=\"data row7 col0\" >-0.051955</td>\n",
              "                        <td id=\"T_0672b760_1283_11ec_aa6d_0242ac1c0002row7_col1\" class=\"data row7 col1\" >0.025197</td>\n",
              "                        <td id=\"T_0672b760_1283_11ec_aa6d_0242ac1c0002row7_col2\" class=\"data row7 col2\" >-0.056855</td>\n",
              "                        <td id=\"T_0672b760_1283_11ec_aa6d_0242ac1c0002row7_col3\" class=\"data row7 col3\" >-0.033594</td>\n",
              "                        <td id=\"T_0672b760_1283_11ec_aa6d_0242ac1c0002row7_col4\" class=\"data row7 col4\" >-0.106378</td>\n",
              "                        <td id=\"T_0672b760_1283_11ec_aa6d_0242ac1c0002row7_col5\" class=\"data row7 col5\" >0.011747</td>\n",
              "                        <td id=\"T_0672b760_1283_11ec_aa6d_0242ac1c0002row7_col6\" class=\"data row7 col6\" >0.006488</td>\n",
              "                        <td id=\"T_0672b760_1283_11ec_aa6d_0242ac1c0002row7_col7\" class=\"data row7 col7\" >1.000000</td>\n",
              "            </tr>\n",
              "    </tbody></table>"
            ],
            "text/plain": [
              "<pandas.io.formats.style.Styler at 0x7f9e60cb35d0>"
            ]
          },
          "metadata": {},
          "execution_count": 20
        }
      ]
    },
    {
      "cell_type": "markdown",
      "metadata": {
        "id": "5sF2AuR0vivO"
      },
      "source": [
        "# Variables categoricas"
      ]
    },
    {
      "cell_type": "code",
      "metadata": {
        "id": "Oned8qKFvXGC"
      },
      "source": [
        "import seaborn as sns"
      ],
      "execution_count": null,
      "outputs": []
    },
    {
      "cell_type": "code",
      "metadata": {
        "colab": {
          "base_uri": "https://localhost:8080/",
          "height": 401
        },
        "id": "IAAxg7pAvqzZ",
        "outputId": "e802615b-bcfc-4dad-ca06-1aabb9a0502f"
      },
      "source": [
        "sns.catplot(data=carseats_data, y='Sales', x='Urban', kind='box')"
      ],
      "execution_count": null,
      "outputs": [
        {
          "output_type": "execute_result",
          "data": {
            "text/plain": [
              "<seaborn.axisgrid.FacetGrid at 0x7f9e60ff5c50>"
            ]
          },
          "metadata": {},
          "execution_count": 23
        },
        {
          "output_type": "display_data",
          "data": {
            "image/png": "[encoded data removed]",
            "text/plain": [
              "<Figure size 360x360 with 1 Axes>"
            ]
          },
          "metadata": {
            "needs_background": "light"
          }
        }
      ]
    },
    {
      "cell_type": "code",
      "metadata": {
        "colab": {
          "base_uri": "https://localhost:8080/",
          "height": 401
        },
        "id": "8LE-m-prv-9u",
        "outputId": "b96253ef-a9bd-44e1-bb3e-4fe5bf5c2cb0"
      },
      "source": [
        "sns.catplot(data=carseats_data, y='Sales', x='ShelveLoc', kind='box')"
      ],
      "execution_count": null,
      "outputs": [
        {
          "output_type": "execute_result",
          "data": {
            "text/plain": [
              "<seaborn.axisgrid.FacetGrid at 0x7f9e601b90d0>"
            ]
          },
          "metadata": {},
          "execution_count": 25
        },
        {
          "output_type": "display_data",
          "data": {
            "image/png": "[encoded data removed]",
            "text/plain": [
              "<Figure size 360x360 with 1 Axes>"
            ]
          },
          "metadata": {
            "needs_background": "light"
          }
        }
      ]
    },
    {
      "cell_type": "code",
      "metadata": {
        "colab": {
          "base_uri": "https://localhost:8080/",
          "height": 401
        },
        "id": "26nT8R-uwPwX",
        "outputId": "f225e88d-371f-4a0a-e5fe-c637cbcb1ba8"
      },
      "source": [
        "sns.catplot(data=carseats_data, y='Sales', x='Urban', kind='box')"
      ],
      "execution_count": null,
      "outputs": [
        {
          "output_type": "execute_result",
          "data": {
            "text/plain": [
              "<seaborn.axisgrid.FacetGrid at 0x7f9e57f5a090>"
            ]
          },
          "metadata": {},
          "execution_count": 26
        },
        {
          "output_type": "display_data",
          "data": {
            "image/png": "[encoded data removed]",
            "text/plain": [
              "<Figure size 360x360 with 1 Axes>"
            ]
          },
          "metadata": {
            "needs_background": "light"
          }
        }
      ]
    },
    {
      "cell_type": "code",
      "metadata": {
        "colab": {
          "base_uri": "https://localhost:8080/"
        },
        "id": "Yk-I1OFQwXl2",
        "outputId": "ff07b70b-e2c1-46c6-a3bb-625caa5fc116"
      },
      "source": [
        "carseats_data[\"US\"].unique()"
      ],
      "execution_count": null,
      "outputs": [
        {
          "output_type": "execute_result",
          "data": {
            "text/plain": [
              "array(['Yes', 'No'], dtype=object)"
            ]
          },
          "metadata": {},
          "execution_count": 27
        }
      ]
    },
    {
      "cell_type": "code",
      "metadata": {
        "colab": {
          "base_uri": "https://localhost:8080/",
          "height": 401
        },
        "id": "4gwh5ajHwd3N",
        "outputId": "00b84719-b262-4cf1-e32c-07cf45d99230"
      },
      "source": [
        "sns.catplot(data=carseats_data, y='Sales', x='US', kind='box')"
      ],
      "execution_count": null,
      "outputs": [
        {
          "output_type": "execute_result",
          "data": {
            "text/plain": [
              "<seaborn.axisgrid.FacetGrid at 0x7f9e57e95cd0>"
            ]
          },
          "metadata": {},
          "execution_count": 28
        },
        {
          "output_type": "display_data",
          "data": {
            "image/png": "[encoded data removed]",
            "text/plain": [
              "<Figure size 360x360 with 1 Axes>"
            ]
          },
          "metadata": {
            "needs_background": "light"
          }
        }
      ]
    },
    {
      "cell_type": "markdown",
      "metadata": {
        "id": "bq1Jkgwww8JU"
      },
      "source": [
        "# variable dicotomica ventas_altas"
      ]
    },
    {
      "cell_type": "code",
      "metadata": {
        "id": "s1ThtBPUw_fD"
      },
      "source": [
        "carseats_data[\"ventas_altas\"] = np.where(carseats_data.Sales > 8,1,0);"
      ],
      "execution_count": null,
      "outputs": []
    },
    {
      "cell_type": "markdown",
      "metadata": {
        "id": "F3LiPXAixPpc"
      },
      "source": [
        "# Arbol de clasificacion"
      ]
    },
    {
      "cell_type": "code",
      "metadata": {
        "id": "Sl6ZbRh1xMy1"
      },
      "source": [
        "#dividiendo el dataset\n",
        "x = carseats_data[['CompPrice', 'Income',\t'Advertising', 'Population', \t'Price',\t'Age', \t'Education', 'Urban', 'US']]\n",
        "y = carseats_data['ventas_altas']\n",
        "\n",
        "x_train, x_test, y_train, y_test = train_test_split(x, y, test_size=0.2, random_state=42) "
      ],
      "execution_count": null,
      "outputs": []
    },
    {
      "cell_type": "code",
      "metadata": {
        "colab": {
          "base_uri": "https://localhost:8080/"
        },
        "id": "NThSDqmIyPDL",
        "outputId": "c848caeb-e7e0-4a1f-fe20-ff03556460d4"
      },
      "source": [
        "#tamanio de dataset de entrenamiento\n",
        "x_train.shape"
      ],
      "execution_count": null,
      "outputs": [
        {
          "output_type": "execute_result",
          "data": {
            "text/plain": [
              "(320, 9)"
            ]
          },
          "metadata": {},
          "execution_count": 35
        }
      ]
    },
    {
      "cell_type": "code",
      "metadata": {
        "colab": {
          "base_uri": "https://localhost:8080/"
        },
        "id": "aRD4NRPlyRdg",
        "outputId": "22bc0274-1e70-4073-f78b-df1127f2a386"
      },
      "source": [
        "#tamanio de dataset de pruebas\n",
        "x_test.shape"
      ],
      "execution_count": null,
      "outputs": [
        {
          "output_type": "execute_result",
          "data": {
            "text/plain": [
              "(80, 9)"
            ]
          },
          "metadata": {},
          "execution_count": 38
        }
      ]
    },
    {
      "cell_type": "code",
      "metadata": {
        "id": "XeGRa-dFydH3"
      },
      "source": [
        "##transformando las variables categoricas\n",
        "cat_cols = x_train.select_dtypes(include=['object', 'category']).columns.to_list()\n",
        "numeric_cols = x_train.select_dtypes(include=['float64', 'int']).columns.to_list()"
      ],
      "execution_count": null,
      "outputs": []
    },
    {
      "cell_type": "code",
      "metadata": {
        "colab": {
          "base_uri": "https://localhost:8080/"
        },
        "id": "goTwF3Wky2m3",
        "outputId": "0fa401b3-474b-4b2e-d671-14ed63dc37b3"
      },
      "source": [
        "print(f\"Variables categoricas: {cat_cols}\")\n",
        "print(f\"Variables numericas: {numeric_cols}\")"
      ],
      "execution_count": null,
      "outputs": [
        {
          "output_type": "stream",
          "name": "stdout",
          "text": [
            "Variables categoricas: ['Urban', 'US']\n",
            "Variables numericas: ['CompPrice', 'Income', 'Advertising', 'Population', 'Price', 'Age', 'Education']\n"
          ]
        }
      ]
    },
    {
      "cell_type": "code",
      "metadata": {
        "id": "UZ30ZpT9zHIx"
      },
      "source": [
        "preprocessor = ColumnTransformer(\n",
        "    [('onehot', OneHotEncoder(handle_unknown='ignore'), cat_cols)], remainder = 'passthrough'\n",
        "    )"
      ],
      "execution_count": 64,
      "outputs": []
    },
    {
      "cell_type": "markdown",
      "metadata": {
        "id": "szCoiKCDziiC"
      },
      "source": [
        "#D"
      ]
    },
    {
      "cell_type": "code",
      "metadata": {
        "id": "spBv_hP3zkXn"
      },
      "source": [
        "x_train_raw = preprocessor.fit_transform(x_train)"
      ],
      "execution_count": 68,
      "outputs": []
    },
    {
      "cell_type": "code",
      "metadata": {
        "colab": {
          "base_uri": "https://localhost:8080/",
          "height": 202
        },
        "id": "YEDFPrzbz7bc",
        "outputId": "e030cdca-8414-4ea8-b5ed-39fe6beff587"
      },
      "source": [
        "x_train.head()"
      ],
      "execution_count": 69,
      "outputs": [
        {
          "output_type": "execute_result",
          "data": {
            "text/html": [
              "<div>\n",
              "<style scoped>\n",
              "    .dataframe tbody tr th:only-of-type {\n",
              "        vertical-align: middle;\n",
              "    }\n",
              "\n",
              "    .dataframe tbody tr th {\n",
              "        vertical-align: top;\n",
              "    }\n",
              "\n",
              "    .dataframe thead th {\n",
              "        text-align: right;\n",
              "    }\n",
              "</style>\n",
              "<table border=\"1\" class=\"dataframe\">\n",
              "  <thead>\n",
              "    <tr style=\"text-align: right;\">\n",
              "      <th></th>\n",
              "      <th>CompPrice</th>\n",
              "      <th>Income</th>\n",
              "      <th>Advertising</th>\n",
              "      <th>Population</th>\n",
              "      <th>Price</th>\n",
              "      <th>Age</th>\n",
              "      <th>Education</th>\n",
              "      <th>Urban</th>\n",
              "      <th>US</th>\n",
              "    </tr>\n",
              "  </thead>\n",
              "  <tbody>\n",
              "    <tr>\n",
              "      <th>3</th>\n",
              "      <td>117</td>\n",
              "      <td>100</td>\n",
              "      <td>4</td>\n",
              "      <td>466</td>\n",
              "      <td>97</td>\n",
              "      <td>55</td>\n",
              "      <td>14</td>\n",
              "      <td>Yes</td>\n",
              "      <td>Yes</td>\n",
              "    </tr>\n",
              "    <tr>\n",
              "      <th>18</th>\n",
              "      <td>110</td>\n",
              "      <td>110</td>\n",
              "      <td>0</td>\n",
              "      <td>408</td>\n",
              "      <td>68</td>\n",
              "      <td>46</td>\n",
              "      <td>17</td>\n",
              "      <td>No</td>\n",
              "      <td>Yes</td>\n",
              "    </tr>\n",
              "    <tr>\n",
              "      <th>202</th>\n",
              "      <td>121</td>\n",
              "      <td>78</td>\n",
              "      <td>4</td>\n",
              "      <td>413</td>\n",
              "      <td>130</td>\n",
              "      <td>46</td>\n",
              "      <td>10</td>\n",
              "      <td>No</td>\n",
              "      <td>Yes</td>\n",
              "    </tr>\n",
              "    <tr>\n",
              "      <th>250</th>\n",
              "      <td>137</td>\n",
              "      <td>105</td>\n",
              "      <td>10</td>\n",
              "      <td>435</td>\n",
              "      <td>156</td>\n",
              "      <td>72</td>\n",
              "      <td>14</td>\n",
              "      <td>Yes</td>\n",
              "      <td>Yes</td>\n",
              "    </tr>\n",
              "    <tr>\n",
              "      <th>274</th>\n",
              "      <td>135</td>\n",
              "      <td>93</td>\n",
              "      <td>2</td>\n",
              "      <td>67</td>\n",
              "      <td>119</td>\n",
              "      <td>34</td>\n",
              "      <td>11</td>\n",
              "      <td>Yes</td>\n",
              "      <td>Yes</td>\n",
              "    </tr>\n",
              "  </tbody>\n",
              "</table>\n",
              "</div>"
            ],
            "text/plain": [
              "     CompPrice  Income  Advertising  Population  ...  Age  Education  Urban   US\n",
              "3          117     100            4         466  ...   55         14    Yes  Yes\n",
              "18         110     110            0         408  ...   46         17     No  Yes\n",
              "202        121      78            4         413  ...   46         10     No  Yes\n",
              "250        137     105           10         435  ...   72         14    Yes  Yes\n",
              "274        135      93            2          67  ...   34         11    Yes  Yes\n",
              "\n",
              "[5 rows x 9 columns]"
            ]
          },
          "metadata": {},
          "execution_count": 69
        }
      ]
    },
    {
      "cell_type": "code",
      "metadata": {
        "id": "jJcGhmFQ2BH-"
      },
      "source": [
        "columns_names = [\"urban_no\", \"urban_yes\", \"US_no\", \"US_yes\", 'CompPrice', 'Income', 'Advertising', 'Population', 'Price', 'Age', 'Education'] "
      ],
      "execution_count": 70,
      "outputs": []
    },
    {
      "cell_type": "code",
      "metadata": {
        "colab": {
          "base_uri": "https://localhost:8080/",
          "height": 202
        },
        "id": "T42hioMT0B4v",
        "outputId": "d787758b-0ea8-486d-e842-804b147f3571"
      },
      "source": [
        "x_train_data = pd.DataFrame(x_train_raw, columns=columns_names)\n",
        "x_train_data.head()"
      ],
      "execution_count": 72,
      "outputs": [
        {
          "output_type": "execute_result",
          "data": {
            "text/html": [
              "<div>\n",
              "<style scoped>\n",
              "    .dataframe tbody tr th:only-of-type {\n",
              "        vertical-align: middle;\n",
              "    }\n",
              "\n",
              "    .dataframe tbody tr th {\n",
              "        vertical-align: top;\n",
              "    }\n",
              "\n",
              "    .dataframe thead th {\n",
              "        text-align: right;\n",
              "    }\n",
              "</style>\n",
              "<table border=\"1\" class=\"dataframe\">\n",
              "  <thead>\n",
              "    <tr style=\"text-align: right;\">\n",
              "      <th></th>\n",
              "      <th>urban_no</th>\n",
              "      <th>urban_yes</th>\n",
              "      <th>US_no</th>\n",
              "      <th>US_yes</th>\n",
              "      <th>CompPrice</th>\n",
              "      <th>Income</th>\n",
              "      <th>Advertising</th>\n",
              "      <th>Population</th>\n",
              "      <th>Price</th>\n",
              "      <th>Age</th>\n",
              "      <th>Education</th>\n",
              "    </tr>\n",
              "  </thead>\n",
              "  <tbody>\n",
              "    <tr>\n",
              "      <th>0</th>\n",
              "      <td>0.0</td>\n",
              "      <td>1.0</td>\n",
              "      <td>0.0</td>\n",
              "      <td>1.0</td>\n",
              "      <td>117.0</td>\n",
              "      <td>100.0</td>\n",
              "      <td>4.0</td>\n",
              "      <td>466.0</td>\n",
              "      <td>97.0</td>\n",
              "      <td>55.0</td>\n",
              "      <td>14.0</td>\n",
              "    </tr>\n",
              "    <tr>\n",
              "      <th>1</th>\n",
              "      <td>1.0</td>\n",
              "      <td>0.0</td>\n",
              "      <td>0.0</td>\n",
              "      <td>1.0</td>\n",
              "      <td>110.0</td>\n",
              "      <td>110.0</td>\n",
              "      <td>0.0</td>\n",
              "      <td>408.0</td>\n",
              "      <td>68.0</td>\n",
              "      <td>46.0</td>\n",
              "      <td>17.0</td>\n",
              "    </tr>\n",
              "    <tr>\n",
              "      <th>2</th>\n",
              "      <td>1.0</td>\n",
              "      <td>0.0</td>\n",
              "      <td>0.0</td>\n",
              "      <td>1.0</td>\n",
              "      <td>121.0</td>\n",
              "      <td>78.0</td>\n",
              "      <td>4.0</td>\n",
              "      <td>413.0</td>\n",
              "      <td>130.0</td>\n",
              "      <td>46.0</td>\n",
              "      <td>10.0</td>\n",
              "    </tr>\n",
              "    <tr>\n",
              "      <th>3</th>\n",
              "      <td>0.0</td>\n",
              "      <td>1.0</td>\n",
              "      <td>0.0</td>\n",
              "      <td>1.0</td>\n",
              "      <td>137.0</td>\n",
              "      <td>105.0</td>\n",
              "      <td>10.0</td>\n",
              "      <td>435.0</td>\n",
              "      <td>156.0</td>\n",
              "      <td>72.0</td>\n",
              "      <td>14.0</td>\n",
              "    </tr>\n",
              "    <tr>\n",
              "      <th>4</th>\n",
              "      <td>0.0</td>\n",
              "      <td>1.0</td>\n",
              "      <td>0.0</td>\n",
              "      <td>1.0</td>\n",
              "      <td>135.0</td>\n",
              "      <td>93.0</td>\n",
              "      <td>2.0</td>\n",
              "      <td>67.0</td>\n",
              "      <td>119.0</td>\n",
              "      <td>34.0</td>\n",
              "      <td>11.0</td>\n",
              "    </tr>\n",
              "  </tbody>\n",
              "</table>\n",
              "</div>"
            ],
            "text/plain": [
              "   urban_no  urban_yes  US_no  US_yes  ...  Population  Price   Age  Education\n",
              "0       0.0        1.0    0.0     1.0  ...       466.0   97.0  55.0       14.0\n",
              "1       1.0        0.0    0.0     1.0  ...       408.0   68.0  46.0       17.0\n",
              "2       1.0        0.0    0.0     1.0  ...       413.0  130.0  46.0       10.0\n",
              "3       0.0        1.0    0.0     1.0  ...       435.0  156.0  72.0       14.0\n",
              "4       0.0        1.0    0.0     1.0  ...        67.0  119.0  34.0       11.0\n",
              "\n",
              "[5 rows x 11 columns]"
            ]
          },
          "metadata": {},
          "execution_count": 72
        }
      ]
    },
    {
      "cell_type": "markdown",
      "metadata": {
        "id": "bX9QrxdO2VHX"
      },
      "source": [
        "# Entrenando el modelo"
      ]
    },
    {
      "cell_type": "code",
      "metadata": {
        "id": "80cuJDQh2Uf4"
      },
      "source": [
        "clf = DecisionTreeClassifier(\n",
        "    max_depth = 5,\n",
        "    criterion='gini'\n",
        ")\n",
        "\n",
        "clf = clf.fit(x_train_data, y_train)"
      ],
      "execution_count": 74,
      "outputs": []
    },
    {
      "cell_type": "code",
      "metadata": {
        "id": "krtbr8BM2mTk"
      },
      "source": [
        "predictions = clf.predict(x_train_data)"
      ],
      "execution_count": 75,
      "outputs": []
    },
    {
      "cell_type": "code",
      "metadata": {
        "colab": {
          "base_uri": "https://localhost:8080/",
          "height": 976
        },
        "id": "BqxGCd5j2xt6",
        "outputId": "894c2d09-5923-44f1-960d-65eba10f7195"
      },
      "source": [
        "plot_tree(clf)"
      ],
      "execution_count": 76,
      "outputs": [
        {
          "output_type": "execute_result",
          "data": {
            "text/plain": [
              "[Text(143.30454545454546, 199.32, 'X[8] <= 92.5\\ngini = 0.479\\nsamples = 320\\nvalue = [193, 127]'),\n",
              " Text(60.872727272727275, 163.07999999999998, 'X[4] <= 101.0\\ngini = 0.292\\nsamples = 45\\nvalue = [8, 37]'),\n",
              " Text(20.290909090909093, 126.83999999999999, 'X[5] <= 75.0\\ngini = 0.486\\nsamples = 12\\nvalue = [5, 7]'),\n",
              " Text(10.145454545454546, 90.6, 'gini = 0.0\\nsamples = 3\\nvalue = [3, 0]'),\n",
              " Text(30.436363636363637, 90.6, 'X[8] <= 80.0\\ngini = 0.346\\nsamples = 9\\nvalue = [2, 7]'),\n",
              " Text(20.290909090909093, 54.359999999999985, 'gini = 0.0\\nsamples = 6\\nvalue = [0, 6]'),\n",
              " Text(40.581818181818186, 54.359999999999985, 'X[0] <= 0.5\\ngini = 0.444\\nsamples = 3\\nvalue = [2, 1]'),\n",
              " Text(30.436363636363637, 18.119999999999976, 'gini = 0.0\\nsamples = 2\\nvalue = [2, 0]'),\n",
              " Text(50.727272727272734, 18.119999999999976, 'gini = 0.0\\nsamples = 1\\nvalue = [0, 1]'),\n",
              " Text(101.45454545454547, 126.83999999999999, 'X[4] <= 137.0\\ngini = 0.165\\nsamples = 33\\nvalue = [3, 30]'),\n",
              " Text(91.30909090909091, 90.6, 'X[3] <= 0.5\\ngini = 0.117\\nsamples = 32\\nvalue = [2, 30]'),\n",
              " Text(81.16363636363637, 54.359999999999985, 'X[4] <= 118.5\\ngini = 0.278\\nsamples = 12\\nvalue = [2, 10]'),\n",
              " Text(71.01818181818183, 18.119999999999976, 'gini = 0.444\\nsamples = 6\\nvalue = [2, 4]'),\n",
              " Text(91.30909090909091, 18.119999999999976, 'gini = 0.0\\nsamples = 6\\nvalue = [0, 6]'),\n",
              " Text(101.45454545454547, 54.359999999999985, 'gini = 0.0\\nsamples = 20\\nvalue = [0, 20]'),\n",
              " Text(111.60000000000001, 90.6, 'gini = 0.0\\nsamples = 1\\nvalue = [1, 0]'),\n",
              " Text(225.73636363636365, 163.07999999999998, 'X[6] <= 6.5\\ngini = 0.44\\nsamples = 275\\nvalue = [185, 90]'),\n",
              " Text(167.4, 126.83999999999999, 'X[9] <= 50.5\\ngini = 0.298\\nsamples = 148\\nvalue = [121, 27]'),\n",
              " Text(131.8909090909091, 90.6, 'X[8] <= 103.0\\ngini = 0.459\\nsamples = 56\\nvalue = [36, 20]'),\n",
              " Text(121.74545454545455, 54.359999999999985, 'gini = 0.0\\nsamples = 5\\nvalue = [0, 5]'),\n",
              " Text(142.03636363636366, 54.359999999999985, 'X[4] <= 131.5\\ngini = 0.415\\nsamples = 51\\nvalue = [36, 15]'),\n",
              " Text(131.8909090909091, 18.119999999999976, 'gini = 0.211\\nsamples = 25\\nvalue = [22, 3]'),\n",
              " Text(152.1818181818182, 18.119999999999976, 'gini = 0.497\\nsamples = 26\\nvalue = [14, 12]'),\n",
              " Text(202.90909090909093, 90.6, 'X[4] <= 147.5\\ngini = 0.141\\nsamples = 92\\nvalue = [85, 7]'),\n",
              " Text(182.61818181818182, 54.359999999999985, 'X[5] <= 75.0\\ngini = 0.111\\nsamples = 85\\nvalue = [80, 5]'),\n",
              " Text(172.4727272727273, 18.119999999999976, 'gini = 0.038\\nsamples = 51\\nvalue = [50, 1]'),\n",
              " Text(192.76363636363638, 18.119999999999976, 'gini = 0.208\\nsamples = 34\\nvalue = [30, 4]'),\n",
              " Text(223.20000000000002, 54.359999999999985, 'X[7] <= 158.0\\ngini = 0.408\\nsamples = 7\\nvalue = [5, 2]'),\n",
              " Text(213.05454545454546, 18.119999999999976, 'gini = 0.0\\nsamples = 4\\nvalue = [4, 0]'),\n",
              " Text(233.34545454545457, 18.119999999999976, 'gini = 0.444\\nsamples = 3\\nvalue = [1, 2]'),\n",
              " Text(284.0727272727273, 126.83999999999999, 'X[8] <= 136.0\\ngini = 0.5\\nsamples = 127\\nvalue = [64, 63]'),\n",
              " Text(253.63636363636365, 90.6, 'X[4] <= 106.5\\ngini = 0.49\\nsamples = 105\\nvalue = [45, 60]'),\n",
              " Text(243.4909090909091, 54.359999999999985, 'gini = 0.0\\nsamples = 10\\nvalue = [10, 0]'),\n",
              " Text(263.7818181818182, 54.359999999999985, 'X[6] <= 13.5\\ngini = 0.465\\nsamples = 95\\nvalue = [35, 60]'),\n",
              " Text(253.63636363636365, 18.119999999999976, 'gini = 0.5\\nsamples = 59\\nvalue = [29, 30]'),\n",
              " Text(273.92727272727274, 18.119999999999976, 'gini = 0.278\\nsamples = 36\\nvalue = [6, 30]'),\n",
              " Text(314.50909090909096, 90.6, 'X[6] <= 23.0\\ngini = 0.236\\nsamples = 22\\nvalue = [19, 3]'),\n",
              " Text(304.3636363636364, 54.359999999999985, 'X[6] <= 11.0\\ngini = 0.172\\nsamples = 21\\nvalue = [19, 2]'),\n",
              " Text(294.21818181818185, 18.119999999999976, 'gini = 0.346\\nsamples = 9\\nvalue = [7, 2]'),\n",
              " Text(314.50909090909096, 18.119999999999976, 'gini = 0.0\\nsamples = 12\\nvalue = [12, 0]'),\n",
              " Text(324.6545454545455, 54.359999999999985, 'gini = 0.0\\nsamples = 1\\nvalue = [0, 1]')]"
            ]
          },
          "metadata": {},
          "execution_count": 76
        },
        {
          "output_type": "display_data",
          "data": {
            "image/png": "[encoded data removed]",
            "text/plain": [
              "<Figure size 432x288 with 1 Axes>"
            ]
          },
          "metadata": {
            "needs_background": "light"
          }
        }
      ]
    },
    {
      "cell_type": "code",
      "metadata": {
        "colab": {
          "base_uri": "https://localhost:8080/",
          "height": 202
        },
        "id": "sp9TDeNU22vG",
        "outputId": "e993bc1d-c5d1-44c6-e601-ff6f620f5ef9"
      },
      "source": [
        "# aplicamos transformacion en el dataset de prueba\n",
        "\n",
        "x_test_raw = preprocessor.fit_transform(x_test)\n",
        "x_test_data = pd.DataFrame(x_test_raw, columns=columns_names)\n",
        "x_test_data.head()"
      ],
      "execution_count": 79,
      "outputs": [
        {
          "output_type": "execute_result",
          "data": {
            "text/html": [
              "<div>\n",
              "<style scoped>\n",
              "    .dataframe tbody tr th:only-of-type {\n",
              "        vertical-align: middle;\n",
              "    }\n",
              "\n",
              "    .dataframe tbody tr th {\n",
              "        vertical-align: top;\n",
              "    }\n",
              "\n",
              "    .dataframe thead th {\n",
              "        text-align: right;\n",
              "    }\n",
              "</style>\n",
              "<table border=\"1\" class=\"dataframe\">\n",
              "  <thead>\n",
              "    <tr style=\"text-align: right;\">\n",
              "      <th></th>\n",
              "      <th>urban_no</th>\n",
              "      <th>urban_yes</th>\n",
              "      <th>US_no</th>\n",
              "      <th>US_yes</th>\n",
              "      <th>CompPrice</th>\n",
              "      <th>Income</th>\n",
              "      <th>Advertising</th>\n",
              "      <th>Population</th>\n",
              "      <th>Price</th>\n",
              "      <th>Age</th>\n",
              "      <th>Education</th>\n",
              "    </tr>\n",
              "  </thead>\n",
              "  <tbody>\n",
              "    <tr>\n",
              "      <th>0</th>\n",
              "      <td>1.0</td>\n",
              "      <td>0.0</td>\n",
              "      <td>0.0</td>\n",
              "      <td>1.0</td>\n",
              "      <td>98.0</td>\n",
              "      <td>21.0</td>\n",
              "      <td>11.0</td>\n",
              "      <td>326.0</td>\n",
              "      <td>90.0</td>\n",
              "      <td>76.0</td>\n",
              "      <td>11.0</td>\n",
              "    </tr>\n",
              "    <tr>\n",
              "      <th>1</th>\n",
              "      <td>0.0</td>\n",
              "      <td>1.0</td>\n",
              "      <td>0.0</td>\n",
              "      <td>1.0</td>\n",
              "      <td>121.0</td>\n",
              "      <td>86.0</td>\n",
              "      <td>10.0</td>\n",
              "      <td>496.0</td>\n",
              "      <td>145.0</td>\n",
              "      <td>51.0</td>\n",
              "      <td>10.0</td>\n",
              "    </tr>\n",
              "    <tr>\n",
              "      <th>2</th>\n",
              "      <td>0.0</td>\n",
              "      <td>1.0</td>\n",
              "      <td>0.0</td>\n",
              "      <td>1.0</td>\n",
              "      <td>114.0</td>\n",
              "      <td>38.0</td>\n",
              "      <td>13.0</td>\n",
              "      <td>317.0</td>\n",
              "      <td>128.0</td>\n",
              "      <td>50.0</td>\n",
              "      <td>16.0</td>\n",
              "    </tr>\n",
              "    <tr>\n",
              "      <th>3</th>\n",
              "      <td>1.0</td>\n",
              "      <td>0.0</td>\n",
              "      <td>0.0</td>\n",
              "      <td>1.0</td>\n",
              "      <td>125.0</td>\n",
              "      <td>41.0</td>\n",
              "      <td>2.0</td>\n",
              "      <td>357.0</td>\n",
              "      <td>123.0</td>\n",
              "      <td>47.0</td>\n",
              "      <td>14.0</td>\n",
              "    </tr>\n",
              "    <tr>\n",
              "      <th>4</th>\n",
              "      <td>0.0</td>\n",
              "      <td>1.0</td>\n",
              "      <td>1.0</td>\n",
              "      <td>0.0</td>\n",
              "      <td>145.0</td>\n",
              "      <td>30.0</td>\n",
              "      <td>0.0</td>\n",
              "      <td>67.0</td>\n",
              "      <td>104.0</td>\n",
              "      <td>55.0</td>\n",
              "      <td>17.0</td>\n",
              "    </tr>\n",
              "  </tbody>\n",
              "</table>\n",
              "</div>"
            ],
            "text/plain": [
              "   urban_no  urban_yes  US_no  US_yes  ...  Population  Price   Age  Education\n",
              "0       1.0        0.0    0.0     1.0  ...       326.0   90.0  76.0       11.0\n",
              "1       0.0        1.0    0.0     1.0  ...       496.0  145.0  51.0       10.0\n",
              "2       0.0        1.0    0.0     1.0  ...       317.0  128.0  50.0       16.0\n",
              "3       1.0        0.0    0.0     1.0  ...       357.0  123.0  47.0       14.0\n",
              "4       0.0        1.0    1.0     0.0  ...        67.0  104.0  55.0       17.0\n",
              "\n",
              "[5 rows x 11 columns]"
            ]
          },
          "metadata": {},
          "execution_count": 79
        }
      ]
    },
    {
      "cell_type": "code",
      "metadata": {
        "colab": {
          "base_uri": "https://localhost:8080/"
        },
        "id": "Q4fWHZmZ3M5F",
        "outputId": "81bb3cb6-7a74-48b6-c2b4-1f20a9705567"
      },
      "source": [
        "x_test_data.shape"
      ],
      "execution_count": 80,
      "outputs": [
        {
          "output_type": "execute_result",
          "data": {
            "text/plain": [
              "(80, 11)"
            ]
          },
          "metadata": {},
          "execution_count": 80
        }
      ]
    },
    {
      "cell_type": "code",
      "metadata": {
        "id": "jFbctU_A3Pqf"
      },
      "source": [
        "predictions = clf.predict(x_test_data)"
      ],
      "execution_count": 81,
      "outputs": []
    },
    {
      "cell_type": "code",
      "metadata": {
        "colab": {
          "base_uri": "https://localhost:8080/"
        },
        "id": "1I3Xnsih3UO0",
        "outputId": "d15e5f25-c499-4573-8a77-41544027e1d3"
      },
      "source": [
        "acc = accuracy_score(y_test, predictions)\n",
        "print(f\"El modelo tiene {acc*100}% del Accuracy en el set de datos de prueba\")"
      ],
      "execution_count": 84,
      "outputs": [
        {
          "output_type": "stream",
          "name": "stdout",
          "text": [
            "El modelo tiene 66.25% del Accuracy en el set de datos de prueba\n"
          ]
        }
      ]
    },
    {
      "cell_type": "markdown",
      "metadata": {
        "id": "j6Ej-b0S3ns6"
      },
      "source": [
        "#Agregado al problema"
      ]
    },
    {
      "cell_type": "code",
      "metadata": {
        "id": "x6YOdCTj3mBv"
      },
      "source": [
        "from sklearn.metrics import plot_confusion_matrix"
      ],
      "execution_count": 85,
      "outputs": []
    },
    {
      "cell_type": "code",
      "metadata": {
        "colab": {
          "base_uri": "https://localhost:8080/"
        },
        "id": "v07sJ8nw3xn3",
        "outputId": "c6df836b-bef2-4356-bc52-14085f1c4939"
      },
      "source": [
        "confusion_matrix(y_test, predictions)"
      ],
      "execution_count": 86,
      "outputs": [
        {
          "output_type": "execute_result",
          "data": {
            "text/plain": [
              "array([[29, 14],\n",
              "       [13, 24]])"
            ]
          },
          "metadata": {},
          "execution_count": 86
        }
      ]
    },
    {
      "cell_type": "code",
      "metadata": {
        "colab": {
          "base_uri": "https://localhost:8080/",
          "height": 296
        },
        "id": "IMNB1lrW31IW",
        "outputId": "c32281a9-f298-4868-9506-d539d7edf1cf"
      },
      "source": [
        "plot_confusion_matrix(clf, x_test_data, y_test)"
      ],
      "execution_count": 87,
      "outputs": [
        {
          "output_type": "execute_result",
          "data": {
            "text/plain": [
              "<sklearn.metrics._plot.confusion_matrix.ConfusionMatrixDisplay at 0x7f9e56ece290>"
            ]
          },
          "metadata": {},
          "execution_count": 87
        },
        {
          "output_type": "display_data",
          "data": {
            "image/png": "[encoded data removed]",
            "text/plain": [
              "<Figure size 432x288 with 2 Axes>"
            ]
          },
          "metadata": {
            "needs_background": "light"
          }
        }
      ]
    },
    {
      "cell_type": "markdown",
      "metadata": {
        "id": "tBaHIFue37Sn"
      },
      "source": [
        "# G)"
      ]
    },
    {
      "cell_type": "code",
      "metadata": {
        "id": "5kiE77KB36ff"
      },
      "source": [
        "importances = clf.feature_importances_\n",
        "indices = np.argsort(importances)"
      ],
      "execution_count": 89,
      "outputs": []
    },
    {
      "cell_type": "code",
      "metadata": {
        "colab": {
          "base_uri": "https://localhost:8080/",
          "height": 294
        },
        "id": "bQE7E6gL4Gcf",
        "outputId": "220932bd-67c1-43d3-a868-4d41210a4c1e"
      },
      "source": [
        "plt.title('Feature Importances')\n",
        "plt.barh(range(len(indices)), importances[indices], color='b', align='center')\n",
        "plt.yticks(range(len(indices)), [columns_names[i] for i in indices])\n",
        "plt.xlabel('Relative Importance')\n",
        "plt.show()"
      ],
      "execution_count": 92,
      "outputs": [
        {
          "output_type": "display_data",
          "data": {
            "image/png": "[encoded data removed]",
            "text/plain": [
              "<Figure size 432x288 with 1 Axes>"
            ]
          },
          "metadata": {
            "needs_background": "light"
          }
        }
      ]
    },
    {
      "cell_type": "markdown",
      "metadata": {
        "id": "rmsBVLgJ4mV4"
      },
      "source": [
        "# segun el grafico anterior, lo mas influyente es el precio."
      ]
    }
  ]
}