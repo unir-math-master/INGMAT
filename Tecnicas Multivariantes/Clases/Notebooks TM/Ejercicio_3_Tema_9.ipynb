{
  "nbformat": 4,
  "nbformat_minor": 0,
  "metadata": {
    "colab": {
      "name": "Ejercicio 3 Tema 9.ipynb",
      "provenance": []
    },
    "kernelspec": {
      "name": "python3",
      "display_name": "Python 3"
    },
    "language_info": {
      "name": "python"
    }
  },
  "cells": [
    {
      "cell_type": "code",
      "metadata": {
        "id": "0aCUi_o892WC"
      },
      "source": [
        "# Obtén K-clusters del conjunto de datos mb mediante el método de las K-medias\n",
        "# Obtén K-clusters pero del conjunto de datos mb_PC que has obtenido \n",
        "# en el Ejercicio 1 después de aplicar el PCA"
      ],
      "execution_count": null,
      "outputs": []
    },
    {
      "cell_type": "code",
      "metadata": {
        "colab": {
          "base_uri": "https://localhost:8080/"
        },
        "id": "6guzMoLa72si",
        "outputId": "9f155137-98ab-49ad-d6e7-886cf7278693"
      },
      "source": [
        "# cargar librerÌas-----------------------------------------------\n",
        "import pandas as pd\n",
        "import os, sys\n",
        "import matplotlib as mpl\n",
        "import matplotlib.pyplot as plt\n",
        "import numpy as np\n",
        "import io\n",
        "\n",
        "from sklearn.cluster import KMeans\n",
        "from sklearn.cluster import MiniBatchKMeans\n",
        "\n",
        "# cargar base----------------------------------------------------\n",
        "\n",
        "url = 'https://raw.githubusercontent.com/ninelUNIR/ejemplos/main/mb.csv'\n",
        "mb = pd.read_csv(url)\n",
        "\n",
        "# info de la base------------------------------------------------\n",
        "print(mb.info())"
      ],
      "execution_count": null,
      "outputs": [
        {
          "output_type": "stream",
          "text": [
            "<class 'pandas.core.frame.DataFrame'>\n",
            "RangeIndex: 1175 entries, 0 to 1174\n",
            "Data columns (total 54 columns):\n",
            " #   Column                 Non-Null Count  Dtype  \n",
            "---  ------                 --------------  -----  \n",
            " 0   alanine                1175 non-null   float64\n",
            " 1   creatin.phosphate      1175 non-null   float64\n",
            " 2   creatine               1175 non-null   float64\n",
            " 3   cysteine               1175 non-null   float64\n",
            " 4   glutamine              1175 non-null   float64\n",
            " 5   n.acetylglutamine      1175 non-null   float64\n",
            " 6   proline                1175 non-null   float64\n",
            " 7   tryptophan             1175 non-null   float64\n",
            " 8   tyrosine               1175 non-null   float64\n",
            " 9   isoleucine             1175 non-null   float64\n",
            " 10  leucine                1175 non-null   float64\n",
            " 11  valine                 1175 non-null   float64\n",
            " 12  fa.ch2ch2co            1175 non-null   float64\n",
            " 13  fa.ch2ch3              1175 non-null   float64\n",
            " 14  fa.ch2n                1175 non-null   float64\n",
            " 15  fa.ch3                 1175 non-null   float64\n",
            " 16  fa.chch2ch             1175 non-null   float64\n",
            " 17  isobutyrate            1175 non-null   float64\n",
            " 18  albumin                1175 non-null   float64\n",
            " 19  creatinine             1175 non-null   float64\n",
            " 20  citrate                1175 non-null   float64\n",
            " 21  lactate                1175 non-null   float64\n",
            " 22  pyruvate               1175 non-null   float64\n",
            " 23  acetate                1175 non-null   float64\n",
            " 24  acetone                1175 non-null   float64\n",
            " 25  hydroxybutyrate.3      1175 non-null   float64\n",
            " 26  ethanol                1175 non-null   float64\n",
            " 27  isopropanol            1175 non-null   float64\n",
            " 28  methanol               1175 non-null   float64\n",
            " 29  trimethylamines        1175 non-null   float64\n",
            " 30  phenylpropionate       1175 non-null   float64\n",
            " 31  O.phosphoethanolamine  1175 non-null   float64\n",
            " 32  total.c                1175 non-null   float64\n",
            " 33  vldl.c                 1175 non-null   float64\n",
            " 34  ldl.c                  1175 non-null   float64\n",
            " 35  idl.c                  1175 non-null   float64\n",
            " 36  hdl.c                  1175 non-null   float64\n",
            " 37  total.tg               1175 non-null   float64\n",
            " 38  vldl.tg                1175 non-null   float64\n",
            " 39  ldl.tg                 1175 non-null   float64\n",
            " 40  idl.tg                 1175 non-null   float64\n",
            " 41  hdl.tg                 1175 non-null   float64\n",
            " 42  total.vldl             1175 non-null   float64\n",
            " 43  large.vldl             1175 non-null   float64\n",
            " 44  medium.vldl            1175 non-null   float64\n",
            " 45  small.vldl             1175 non-null   float64\n",
            " 46  total.ldl              1175 non-null   float64\n",
            " 47  large.ldl              1175 non-null   float64\n",
            " 48  medium.ldl             1175 non-null   float64\n",
            " 49  small.ldl              1175 non-null   float64\n",
            " 50  total.hdl              1175 non-null   float64\n",
            " 51  large.hdl              1175 non-null   float64\n",
            " 52  medium.hdl             1175 non-null   float64\n",
            " 53  small.hdl              1175 non-null   float64\n",
            "dtypes: float64(54)\n",
            "memory usage: 495.8 KB\n",
            "None\n"
          ],
          "name": "stdout"
        }
      ]
    },
    {
      "cell_type": "code",
      "metadata": {
        "id": "Ctl5i_vR7691"
      },
      "source": [
        "# definir ajuste Kmedias para la base mb-------------------------\n",
        "kmedias_k_mb = [KMeans(n_clusters = k, random_state = 3, \n",
        "n_init = 10).fit(mb)\n",
        "                for k in range(2, 26)]\n",
        "inercias_mb = [model.inertia_ for model in kmedias_k_mb]"
      ],
      "execution_count": null,
      "outputs": []
    },
    {
      "cell_type": "code",
      "metadata": {
        "colab": {
          "base_uri": "https://localhost:8080/",
          "height": 329
        },
        "id": "nXiLMawz8ZC5",
        "outputId": "cf303072-a614-4c5d-8c4b-cf39032165bd"
      },
      "source": [
        "# pintar inercias------------------------------------------------\n",
        "plt.figure(figsize=(8, 4.75))\n",
        "plt.plot(range(2, 26), inercias_mb, \"bo-\")\n",
        "plt.xlabel(\"$k$\", fontsize=14)\n",
        "plt.ylabel(\"Inercia\", fontsize=14)\n",
        "plt.annotate('Codo',\n",
        "             xy=(4, inercias_mb[3]),\n",
        "             xytext=(0.5, 0.5),\n",
        "             textcoords='figure fraction',\n",
        "             fontsize=16,\n",
        "             arrowprops=dict(facecolor='black', shrink=0.2)\n",
        "            )\n",
        "plt.axis([1, 25.5, 0, 8000])\n",
        "plt.show()"
      ],
      "execution_count": null,
      "outputs": [
        {
          "output_type": "display_data",
          "data": {
            "image/png": "[encoded data removed]",
            "text/plain": [
              "<Figure size 576x342 with 1 Axes>"
            ]
          },
          "metadata": {
            "tags": [],
            "needs_background": "light"
          }
        }
      ]
    },
    {
      "cell_type": "code",
      "metadata": {
        "colab": {
          "base_uri": "https://localhost:8080/"
        },
        "id": "hF8VF8i_8m0V",
        "outputId": "61e658a0-b72e-4c3e-c2c1-5e8e6705be64"
      },
      "source": [
        "# definir ajuste Kmedias con K = 5-------------------------------\n",
        "kmedias_5_mb = KMeans(n_clusters = 5, \n",
        "random_state = 3, n_init = 10).fit(mb)\n",
        "y_pred = kmedias_5_mb.fit_predict(mb)\n",
        "# clases del clustering------------------------------------------\n",
        "unique, counts = np.unique(y_pred, return_counts = True)\n",
        "dict(zip(unique, counts))\n",
        "# clases reales--------------------------------------------------"
      ],
      "execution_count": null,
      "outputs": [
        {
          "output_type": "execute_result",
          "data": {
            "text/plain": [
              "{0: 368, 1: 218, 2: 145, 3: 25, 4: 419}"
            ]
          },
          "metadata": {
            "tags": []
          },
          "execution_count": 23
        }
      ]
    },
    {
      "cell_type": "code",
      "metadata": {
        "colab": {
          "base_uri": "https://localhost:8080/"
        },
        "id": "b2yPngM188s0",
        "outputId": "c41c8314-1af9-4a32-aa8a-26491d19455a"
      },
      "source": [
        "# se aplica el PCA con sklearn-----------------------------------\n",
        "from sklearn.decomposition import PCA\n",
        "# crear clase PCA con 7 componentes------------------------------\n",
        "pca_7 = PCA(n_components = 7)\n",
        "# obtener la proyeccion de la matriz mb en las com principales---\n",
        "mb_PC_7 = pca_7.fit_transform(mb)\n",
        "# comprobamos la dim de mb_PC------------------------------------\n",
        "mb_PC_7.shape"
      ],
      "execution_count": null,
      "outputs": [
        {
          "output_type": "execute_result",
          "data": {
            "text/plain": [
              "(1175, 7)"
            ]
          },
          "metadata": {
            "tags": []
          },
          "execution_count": 24
        }
      ]
    },
    {
      "cell_type": "code",
      "metadata": {
        "colab": {
          "base_uri": "https://localhost:8080/"
        },
        "id": "lajpDT3081_l",
        "outputId": "c5cf1f6f-dc4e-43ff-df03-6f4d4366fc74"
      },
      "source": [
        "# representacion conjunto de datos en componentes principales----\n",
        "mb_PC_7_df = pd.DataFrame(data = mb_PC_7,\n",
        "columns = [\"PC1\",\"PC2\",\"PC3\",\"PC4\",\"PC5\",\"PC6\",\"PC7\"])\n",
        "# primeras observaciones del nuevo conjunto de datos-------------\n",
        "print(mb_PC_7_df.head())"
      ],
      "execution_count": null,
      "outputs": [
        {
          "output_type": "stream",
          "text": [
            "        PC1       PC2       PC3       PC4       PC5       PC6       PC7\n",
            "0 -1.306603 -0.034829  0.229271 -0.451673  0.280762 -0.211499 -0.170963\n",
            "1  0.081369 -1.001265 -0.069101 -0.164533  0.321772 -0.220162  0.046287\n",
            "2  4.451763 -2.034792 -1.154947  0.372276 -0.755619  0.136554  0.365416\n",
            "3  2.773560  5.209073 -0.228254 -0.382472 -0.208599 -0.044343 -1.104811\n",
            "4  0.399323 -0.036426  0.743607  1.228068  0.175580  0.250503 -0.358563\n"
          ],
          "name": "stdout"
        }
      ]
    },
    {
      "cell_type": "code",
      "metadata": {
        "id": "gC_JCqwF9HSK"
      },
      "source": [
        "# definir ajuste Kmedias para la base mb-------------------------\n",
        "kmedias_k_mb_PC = [KMeans(n_clusters = k, random_state = 3, \n",
        "n_init = 10).fit(mb_PC_7_df)\n",
        "                for k in range(2, 26)]\n",
        "inercias_mb_PC = [model.inertia_ for model in kmedias_k_mb_PC]"
      ],
      "execution_count": null,
      "outputs": []
    },
    {
      "cell_type": "code",
      "metadata": {
        "colab": {
          "base_uri": "https://localhost:8080/",
          "height": 329
        },
        "id": "LR_dXdxg9Kny",
        "outputId": "41ac5068-2d0e-45f4-990b-271235728c10"
      },
      "source": [
        "# pintar inercias------------------------------------------------\n",
        "plt.figure(figsize=(8, 4.75))\n",
        "plt.plot(range(2, 26), inercias_mb_PC, \"bo-\")\n",
        "plt.xlabel(\"$k$\", fontsize=14)\n",
        "plt.ylabel(\"Inercia\", fontsize=14)\n",
        "plt.annotate('Codo',\n",
        "             xy=(4, inercias_mb_PC[3]),\n",
        "             xytext=(0.5, 0.5),\n",
        "             textcoords='figure fraction',\n",
        "             fontsize=16,\n",
        "             arrowprops=dict(facecolor='black', shrink=0.2)\n",
        "            )\n",
        "plt.axis([1, 25.5, 0, 8000])\n",
        "plt.show()"
      ],
      "execution_count": null,
      "outputs": [
        {
          "output_type": "display_data",
          "data": {
            "image/png": "[encoded data removed]",
            "text/plain": [
              "<Figure size 576x342 with 1 Axes>"
            ]
          },
          "metadata": {
            "tags": [],
            "needs_background": "light"
          }
        }
      ]
    },
    {
      "cell_type": "code",
      "metadata": {
        "colab": {
          "base_uri": "https://localhost:8080/"
        },
        "id": "4XuKplFM7tt0",
        "outputId": "6d62dc74-0750-4674-8120-b0d12b41192f"
      },
      "source": [
        "# definir ajuste Kmedias con K = 5-------------------------------\n",
        "kmedias_5_mb_PC = KMeans(n_clusters = 5, \n",
        "random_state = 3, n_init = 10).fit(mb_PC_7_df)\n",
        "y_pred = kmedias_5_mb_PC.fit_predict(mb_PC_7_df)\n",
        "# clases del clustering------------------------------------------\n",
        "unique, counts = np.unique(y_pred, return_counts=True)\n",
        "dict(zip(unique, counts))\n",
        "# clases reales--------------------------------------------------"
      ],
      "execution_count": null,
      "outputs": [
        {
          "output_type": "execute_result",
          "data": {
            "text/plain": [
              "{0: 384, 1: 180, 2: 439, 3: 146, 4: 26}"
            ]
          },
          "metadata": {
            "tags": []
          },
          "execution_count": 29
        }
      ]
    },
    {
      "cell_type": "code",
      "metadata": {
        "id": "xdEuufZY9W83"
      },
      "source": [
        "# Se comprueba que el número de grupos adecuado es el mismo\n",
        "# para el conjunto de datos original y para el conjunto de datos\n",
        "# una vez aplicado el análisis de componentes principales, como era de esperar"
      ],
      "execution_count": null,
      "outputs": []
    }
  ]
}