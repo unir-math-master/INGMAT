{
  "nbformat": 4,
  "nbformat_minor": 0,
  "metadata": {
    "colab": {
      "name": "Ejercicio 2 Tema 9.ipynb",
      "provenance": []
    },
    "kernelspec": {
      "name": "python3",
      "display_name": "Python 3"
    },
    "language_info": {
      "name": "python"
    }
  },
  "cells": [
    {
      "cell_type": "code",
      "metadata": {
        "id": "XTWNl28Y9vEp"
      },
      "source": [
        "# Obtén K clusters del conjunto Iris mediante el método de K-medias"
      ],
      "execution_count": null,
      "outputs": []
    },
    {
      "cell_type": "code",
      "metadata": {
        "id": "1L0cZtHV6iw3"
      },
      "source": [
        "import os, sys\n",
        "# cargar librerÌas-----------------------------------------------\n",
        "import pandas as pd\n",
        "import matplotlib as mpl\n",
        "import matplotlib.pyplot as plt\n",
        "from sklearn.cluster import KMeans\n",
        "from sklearn.cluster import MiniBatchKMeans\n",
        "import numpy as np\n",
        "\n",
        "# cargar datos Iris----------------------------------------------\n",
        "from sklearn.datasets import load_iris\n",
        "data = load_iris()"
      ],
      "execution_count": null,
      "outputs": []
    },
    {
      "cell_type": "code",
      "metadata": {
        "colab": {
          "base_uri": "https://localhost:8080/"
        },
        "id": "YCBybg8p6mg7",
        "outputId": "00088578-5f99-4e4d-fe3a-bf747d7f982f"
      },
      "source": [
        "# capturar matriz de las variables de iris-----------------------\n",
        "X = data.data\n",
        "\n",
        "# nombres variables X\n",
        "data.feature_names"
      ],
      "execution_count": null,
      "outputs": [
        {
          "output_type": "execute_result",
          "data": {
            "text/plain": [
              "['sepal length (cm)',\n",
              " 'sepal width (cm)',\n",
              " 'petal length (cm)',\n",
              " 'petal width (cm)']"
            ]
          },
          "metadata": {
            "tags": []
          },
          "execution_count": 18
        }
      ]
    },
    {
      "cell_type": "code",
      "metadata": {
        "colab": {
          "base_uri": "https://localhost:8080/"
        },
        "id": "Ak3m1KXB6-H8",
        "outputId": "f015c515-c598-469c-a220-fa83003cd023"
      },
      "source": [
        "# dimension de X\n",
        "X.shape"
      ],
      "execution_count": null,
      "outputs": [
        {
          "output_type": "execute_result",
          "data": {
            "text/plain": [
              "(150, 4)"
            ]
          },
          "metadata": {
            "tags": []
          },
          "execution_count": 19
        }
      ]
    },
    {
      "cell_type": "code",
      "metadata": {
        "id": "aIal_9Rp7Fte"
      },
      "source": [
        "# grupos reales (para comprobar que el clustering)--------------- \n",
        "y = data.target"
      ],
      "execution_count": null,
      "outputs": []
    },
    {
      "cell_type": "code",
      "metadata": {
        "id": "lnvhCnQO7P1d"
      },
      "source": [
        "# definir ajuste Kmedias-----------------------------------------\n",
        "kmedias_k = [KMeans(n_clusters = k, random_state = 3, \n",
        "n_init = 10).fit(X)\n",
        "                for k in range(2, 11)]\n",
        "inercias = [model.inertia_ for model in kmedias_k]"
      ],
      "execution_count": null,
      "outputs": []
    },
    {
      "cell_type": "code",
      "metadata": {
        "colab": {
          "base_uri": "https://localhost:8080/",
          "height": 329
        },
        "id": "2ZHp1sJ27T3z",
        "outputId": "bb0375d1-a374-4a88-8449-38eb37e0d4e1"
      },
      "source": [
        "# pintar inercias------------------------------------------------\n",
        "plt.figure(figsize=(8, 4.75))\n",
        "plt.plot(range(2, 11), inercias, \"bo-\")\n",
        "plt.xlabel(\"$k$\", fontsize=14)\n",
        "plt.ylabel(\"Inercia\", fontsize=14)\n",
        "plt.annotate('Codo',\n",
        "             xy=(3, inercias[1]),\n",
        "             xytext=(0.55, 0.55),\n",
        "             textcoords='figure fraction',\n",
        "             fontsize=16,\n",
        "             arrowprops=dict(facecolor='black', shrink=0.1)\n",
        "            )\n",
        "plt.axis([1, 10.5, 0, 300])\n",
        "plt.show()"
      ],
      "execution_count": null,
      "outputs": [
        {
          "output_type": "display_data",
          "data": {
            "image/png": "[encoded data removed]",
            "text/plain": [
              "<Figure size 576x342 with 1 Axes>"
            ]
          },
          "metadata": {
            "tags": [],
            "needs_background": "light"
          }
        }
      ]
    },
    {
      "cell_type": "code",
      "metadata": {
        "colab": {
          "base_uri": "https://localhost:8080/"
        },
        "id": "o9kSPbtx7fx9",
        "outputId": "ccb84ce3-2acd-4d6f-a3cb-6ad3f2e204c9"
      },
      "source": [
        "# definir ajuste Kmedias con K = 3-------------------------------\n",
        "kmedias_3 = KMeans(n_clusters = 3, \n",
        "random_state = 3, n_init = 10).fit(X)\n",
        "# calcular prediccion--------------------------------------------\n",
        "y_pred = kmedias_3.fit_predict(X)\n",
        "# clases del clustering------------------------------------------\n",
        "print(y_pred)"
      ],
      "execution_count": null,
      "outputs": [
        {
          "output_type": "stream",
          "text": [
            "[0 0 0 0 0 0 0 0 0 0 0 0 0 0 0 0 0 0 0 0 0 0 0 0 0 0 0 0 0 0 0 0 0 0 0 0 0\n",
            " 0 0 0 0 0 0 0 0 0 0 0 0 0 1 1 2 1 1 1 1 1 1 1 1 1 1 1 1 1 1 1 1 1 1 1 1 1\n",
            " 1 1 1 2 1 1 1 1 1 1 1 1 1 1 1 1 1 1 1 1 1 1 1 1 1 1 2 1 2 2 2 2 1 2 2 2 2\n",
            " 2 2 1 1 2 2 2 2 1 2 1 2 1 2 2 1 1 2 2 2 2 2 1 2 2 2 2 1 2 2 2 1 2 2 2 1 2\n",
            " 2 1]\n"
          ],
          "name": "stdout"
        }
      ]
    },
    {
      "cell_type": "code",
      "metadata": {
        "colab": {
          "base_uri": "https://localhost:8080/"
        },
        "id": "U0_Jeuxf7hoB",
        "outputId": "2e0fe3c2-225b-414d-e35c-b833e1c01ad0"
      },
      "source": [
        "# clases reales--------------------------------------------------\n",
        "print(y)"
      ],
      "execution_count": null,
      "outputs": [
        {
          "output_type": "stream",
          "text": [
            "[0 0 0 0 0 0 0 0 0 0 0 0 0 0 0 0 0 0 0 0 0 0 0 0 0 0 0 0 0 0 0 0 0 0 0 0 0\n",
            " 0 0 0 0 0 0 0 0 0 0 0 0 0 1 1 1 1 1 1 1 1 1 1 1 1 1 1 1 1 1 1 1 1 1 1 1 1\n",
            " 1 1 1 1 1 1 1 1 1 1 1 1 1 1 1 1 1 1 1 1 1 1 1 1 1 1 2 2 2 2 2 2 2 2 2 2 2\n",
            " 2 2 2 2 2 2 2 2 2 2 2 2 2 2 2 2 2 2 2 2 2 2 2 2 2 2 2 2 2 2 2 2 2 2 2 2 2\n",
            " 2 2]\n"
          ],
          "name": "stdout"
        }
      ]
    },
    {
      "cell_type": "code",
      "metadata": {
        "id": "8pHx_fqG6Lxc"
      },
      "source": [
        "# Se observa que todas las flores de la clase 0 se clasifican correctamente,\n",
        "# aunque para algunas de las flores de las clases 1 y 2 existen discrepancias\n",
        "# entre los valores predichos mediante el clustering y los valores reales.\n",
        "# Esto se debe a que estas 2 clases tienen longitudes y anchuras de pétalo\n",
        "# y sépalo similares."
      ],
      "execution_count": null,
      "outputs": []
    }
  ]
}