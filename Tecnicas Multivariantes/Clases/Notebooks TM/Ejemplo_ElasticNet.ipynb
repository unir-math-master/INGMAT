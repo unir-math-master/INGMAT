{
  "nbformat": 4,
  "nbformat_minor": 0,
  "metadata": {
    "colab": {
      "name": "Ejemplo ElasticNet.ipynb",
      "provenance": []
    },
    "kernelspec": {
      "name": "python3",
      "display_name": "Python 3"
    },
    "language_info": {
      "name": "python"
    }
  },
  "cells": [
    {
      "cell_type": "code",
      "metadata": {
        "colab": {
          "base_uri": "https://localhost:8080/"
        },
        "id": "kgLCAnTrT00c",
        "outputId": "68217a12-67a2-48c7-959e-76ab24c928f9"
      },
      "source": [
        "# load and summarize the housing dataset\n",
        "from pandas import read_csv\n",
        "from matplotlib import pyplot\n",
        "# load dataset\n",
        "url = 'https://raw.githubusercontent.com/jbrownlee/Datasets/master/housing.csv'\n",
        "dataframe = read_csv(url, header=None)\n",
        "# summarize shape\n",
        "print(dataframe.shape)\n",
        "# summarize first few lines\n",
        "print(dataframe.head())"
      ],
      "execution_count": 3,
      "outputs": [
        {
          "output_type": "stream",
          "text": [
            "(506, 14)\n",
            "        0     1     2   3      4      5   ...  8      9     10      11    12    13\n",
            "0  0.00632  18.0  2.31   0  0.538  6.575  ...   1  296.0  15.3  396.90  4.98  24.0\n",
            "1  0.02731   0.0  7.07   0  0.469  6.421  ...   2  242.0  17.8  396.90  9.14  21.6\n",
            "2  0.02729   0.0  7.07   0  0.469  7.185  ...   2  242.0  17.8  392.83  4.03  34.7\n",
            "3  0.03237   0.0  2.18   0  0.458  6.998  ...   3  222.0  18.7  394.63  2.94  33.4\n",
            "4  0.06905   0.0  2.18   0  0.458  7.147  ...   3  222.0  18.7  396.90  5.33  36.2\n",
            "\n",
            "[5 rows x 14 columns]\n"
          ],
          "name": "stdout"
        }
      ]
    },
    {
      "cell_type": "code",
      "metadata": {
        "colab": {
          "base_uri": "https://localhost:8080/"
        },
        "id": "zTgLDxKaT8qz",
        "outputId": "1e35bff8-fe9a-4708-e0d0-04ce6d2c1acf"
      },
      "source": [
        "# Podemos evaluar el modelo Elastic Net en el conjunto de datos de vivienda \n",
        "# utilizando una validación cruzada repetida de 10 veces e informar \n",
        "# del error medio absoluto promedio (MAE) en el conjunto de datos.\n",
        "\n",
        "# evaluate an elastic net model on the dataset\n",
        "from numpy import mean\n",
        "from numpy import std\n",
        "from numpy import absolute\n",
        "from pandas import read_csv\n",
        "from sklearn.model_selection import cross_val_score\n",
        "from sklearn.model_selection import RepeatedKFold\n",
        "from sklearn.linear_model import ElasticNet\n",
        "data = dataframe.values\n",
        "X, y = data[:, :-1], data[:, -1]\n",
        "# define model\n",
        "model = ElasticNet(alpha=1.0, l1_ratio=0.5)\n",
        "# define model evaluation method\n",
        "cv = RepeatedKFold(n_splits=10, n_repeats=3, random_state=1)\n",
        "# evaluate model\n",
        "scores = cross_val_score(model, X, y, scoring='neg_mean_absolute_error', cv=cv, n_jobs=-1)\n",
        "# force scores to be positive\n",
        "scores = absolute(scores)\n",
        "print('Mean MAE: %.3f (%.3f)' % (mean(scores), std(scores)))"
      ],
      "execution_count": 4,
      "outputs": [
        {
          "output_type": "stream",
          "text": [
            "Mean MAE: 3.682 (0.530)\n"
          ],
          "name": "stdout"
        }
      ]
    },
    {
      "cell_type": "code",
      "metadata": {
        "colab": {
          "base_uri": "https://localhost:8080/"
        },
        "id": "HP1fVHblW1H7",
        "outputId": "851f600d-7f64-4542-de2c-10aec49afe3c"
      },
      "source": [
        "# Podemos decidir utilizar Elastic Net como nuestro modelo final y hacer predicciones sobre nuevos datos.\n",
        "# Esto se puede lograr ajustando el modelo a todos los datos disponibles y llamando a la función predict(), pasando una nueva fila de datos.\n",
        "# Podemos demostrar esto con un ejemplo completo, que se enumera a continuación.\n",
        "\n",
        "# fit model\n",
        "model.fit(X, y)\n",
        "# define new data\n",
        "row = [0.00632,18.00,2.310,0,0.5380,6.5750,65.20,4.0900,1,296.0,15.30,396.90,4.98]\n",
        "# make a prediction\n",
        "yhat = model.predict([row])\n",
        "# summarize prediction\n",
        "print('Predicted: %.3f' % yhat)"
      ],
      "execution_count": 5,
      "outputs": [
        {
          "output_type": "stream",
          "text": [
            "Predicted: 31.047\n"
          ],
          "name": "stdout"
        }
      ]
    },
    {
      "cell_type": "code",
      "metadata": {
        "colab": {
          "base_uri": "https://localhost:8080/"
        },
        "id": "iX2BBEr8WlTl",
        "outputId": "1cc6518a-8d63-432b-fcdc-7b04c4640bd0"
      },
      "source": [
        "# Cambio de parámetros\n",
        "\n",
        "# evaluate an elastic net model on the dataset\n",
        "# define model\n",
        "model = ElasticNet(alpha=1.5, l1_ratio=0.2)\n",
        "# define model evaluation method\n",
        "cv = RepeatedKFold(n_splits=10, n_repeats=3, random_state=1)\n",
        "# evaluate model\n",
        "scores = cross_val_score(model, X, y, scoring='neg_mean_absolute_error', cv=cv, n_jobs=-1)\n",
        "# force scores to be positive\n",
        "scores = absolute(scores)\n",
        "print('Mean MAE: %.3f (%.3f)' % (mean(scores), std(scores)))"
      ],
      "execution_count": 6,
      "outputs": [
        {
          "output_type": "stream",
          "text": [
            "Mean MAE: 3.740 (0.533)\n"
          ],
          "name": "stdout"
        }
      ]
    },
    {
      "cell_type": "code",
      "metadata": {
        "colab": {
          "base_uri": "https://localhost:8080/"
        },
        "id": "bB8bw0DNUSZy",
        "outputId": "8da45dcf-5690-47e7-bfab-70c8a0e7026a"
      },
      "source": [
        "# make a prediction with an elastic net model on the dataset\n",
        "# fit model\n",
        "model.fit(X, y)\n",
        "# define new data\n",
        "row = [0.00632,18.00,2.310,0,0.5380,6.5750,65.20,4.0900,1,296.0,15.30,396.90,4.98]\n",
        "# make a prediction\n",
        "yhat = model.predict([row])\n",
        "# summarize prediction\n",
        "print('Predicted: %.3f' % yhat)"
      ],
      "execution_count": 7,
      "outputs": [
        {
          "output_type": "stream",
          "text": [
            "Predicted: 30.959\n"
          ],
          "name": "stdout"
        }
      ]
    },
    {
      "cell_type": "code",
      "metadata": {
        "colab": {
          "base_uri": "https://localhost:8080/"
        },
        "id": "E73lRauQZVcf",
        "outputId": "bdca405e-2cd7-433c-8ecc-63121c168505"
      },
      "source": [
        "# grid search hyperparameters for the elastic net\n",
        "from numpy import arange\n",
        "from sklearn.model_selection import GridSearchCV\n",
        "# define model\n",
        "model = ElasticNet()\n",
        "# define model evaluation method\n",
        "cv = RepeatedKFold(n_splits=10, n_repeats=3, random_state=1)\n",
        "# define grid\n",
        "grid = dict()\n",
        "grid['alpha'] = [1e-5, 1e-4, 1e-3, 1e-2, 1e-1, 0.0, 1.0, 10.0, 100.0]\n",
        "grid['l1_ratio'] = arange(0, 1, 0.1)\n",
        "# define search\n",
        "search = GridSearchCV(model, grid, scoring='neg_mean_absolute_error', cv=cv, n_jobs=-1)\n",
        "# perform the search\n",
        "results = search.fit(X, y)\n",
        "# summarize\n",
        "print('MAE: %.3f' % results.best_score_)\n",
        "print('Config: %s' % results.best_params_)"
      ],
      "execution_count": 8,
      "outputs": [
        {
          "output_type": "stream",
          "text": [
            "MAE: -3.379\n",
            "Config: {'alpha': 0.001, 'l1_ratio': 0.0}\n"
          ],
          "name": "stdout"
        },
        {
          "output_type": "stream",
          "text": [
            "/usr/local/lib/python3.7/dist-packages/sklearn/linear_model/_coordinate_descent.py:476: ConvergenceWarning: Objective did not converge. You might want to increase the number of iterations. Duality gap: 5605.839892203837, tolerance: 4.2716295415019765\n",
            "  positive)\n"
          ],
          "name": "stderr"
        }
      ]
    },
    {
      "cell_type": "code",
      "metadata": {
        "colab": {
          "base_uri": "https://localhost:8080/"
        },
        "id": "WOvflbSUUYTG",
        "outputId": "3862f385-90dd-4b9e-f41d-ab6371f8e6a2"
      },
      "source": [
        "# grid search hyperparameters for the elastic net\n",
        "from numpy import arange\n",
        "from sklearn.model_selection import GridSearchCV\n",
        "# define model\n",
        "model = ElasticNet()\n",
        "# define model evaluation method\n",
        "cv = RepeatedKFold(n_splits=10, n_repeats=3, random_state=1)\n",
        "# define grid\n",
        "grid = dict()\n",
        "grid['alpha'] = [1e-5, 1e-4, 1e-3, 1e-2, 1e-1, 0.0, 1.0, 10.0, 100.0]\n",
        "grid['l1_ratio'] = arange(0, 1, 0.01)\n",
        "# define search\n",
        "search = GridSearchCV(model, grid, scoring='neg_mean_absolute_error', cv=cv, n_jobs=-1)\n",
        "# perform the search\n",
        "results = search.fit(X, y)\n",
        "# summarize\n",
        "print('MAE: %.3f' % results.best_score_)\n",
        "print('Config: %s' % results.best_params_)"
      ],
      "execution_count": 9,
      "outputs": [
        {
          "output_type": "stream",
          "text": [
            "MAE: -3.378\n",
            "Config: {'alpha': 0.01, 'l1_ratio': 0.97}\n"
          ],
          "name": "stdout"
        }
      ]
    }
  ]
}