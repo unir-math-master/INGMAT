{
  "nbformat": 4,
  "nbformat_minor": 0,
  "metadata": {
    "colab": {
      "name": "Ejercicios tema 4.ipynb",
      "provenance": []
    },
    "kernelspec": {
      "name": "python3",
      "display_name": "Python 3"
    },
    "language_info": {
      "name": "python"
    }
  },
  "cells": [
    {
      "cell_type": "markdown",
      "metadata": {
        "id": "aiO1MjGJ5nsf"
      },
      "source": [
        "# Ejercicios tema 4\n",
        "\n",
        "Inicialización e importación de librerías"
      ]
    },
    {
      "cell_type": "code",
      "metadata": {
        "id": "yRVkYPmX6IWh"
      },
      "source": [
        "#!/usr/local/bin/python\n",
        "# coding: latin-1\n",
        "import os, sys\n",
        "#EJERCICIO 1\n",
        "# cargar librerias-----------------------------------------------\n",
        "import pandas as pd\n",
        "import numpy as np\n",
        "from pandas.core.common import flatten\n",
        "from plotnine import *\n",
        "from array import *\n",
        "import scipy.stats as stats\n",
        "import math\n",
        "import matplotlib as mpl\n",
        "import matplotlib.pyplot as plt\n",
        "import statsmodels.api as sm\n",
        "from sklearn import linear_model\n",
        "from sklearn.metrics import mean_squared_error, r2_score\n",
        "import statsmodels.formula.api as smf\n",
        "import statsmodels.stats.api as sms\n",
        "import os\n",
        "import tarfile\n",
        "import urllib.request\n",
        "import pandas as pd"
      ],
      "execution_count": 1,
      "outputs": []
    },
    {
      "cell_type": "markdown",
      "metadata": {
        "id": "UOx1BkX16ARA"
      },
      "source": [
        "## Ejercicio 1"
      ]
    },
    {
      "cell_type": "code",
      "metadata": {
        "colab": {
          "base_uri": "https://localhost:8080/"
        },
        "id": "TA1_s7gB5bMZ",
        "outputId": "105bdeac-7be1-4317-bf1a-425b8a659fdf"
      },
      "source": [
        "\n",
        "\n",
        "# definir las rutas y caminos donde se encuentran los datos------\n",
        "DOWNLOAD_ROOT = \"https://raw.githubusercontent.com/ageron/handson-ml2/master/\"\n",
        "# path que se va a crear en nuestro sistema----------------------\n",
        "HOUSING_PATH = os.path.join(\"datasets\", \"housing\")\n",
        "# lugar de descarga del dataset----------------------------------\n",
        "HOUSING_URL = DOWNLOAD_ROOT + \"datasets/housing/housing.tgz\"\n",
        "\n",
        "# definir una funcion que obtenga los datos y los descargue-----\n",
        "def fetch_housing_data(housing_url=HOUSING_URL, \n",
        "housing_path=HOUSING_PATH):\n",
        "    if not os.path.isdir(housing_path):\n",
        "        os.makedirs(housing_path)\n",
        "    tgz_path = os.path.join(housing_path, \"housing.tgz\")\n",
        "    urllib.request.urlretrieve(housing_url, tgz_path)\n",
        "    housing_tgz = tarfile.open(tgz_path)\n",
        "    housing_tgz.extractall(path=housing_path)\n",
        "    housing_tgz.close()\n",
        "fetch_housing_data()\n",
        "# definir una funcion que cargue el csv en un dataframe----------\n",
        "def load_housing_data(housing_path=HOUSING_PATH):\n",
        "    csv_path = os.path.join(housing_path, \"housing.csv\")\n",
        "    return pd.read_csv(csv_path)\n",
        "housing = load_housing_data()\n",
        "# recordatorio variables numericas-------------------------------\n",
        "housing.info()\n",
        "#definir variable respuesta\n",
        "y = housing[\"median_house_value\"].values.reshape(-1,1)\n",
        "# Ajuste con longitude\n",
        "# extraer variable y convertir en np.array-----------------------\n",
        "x = housing[\"longitude\"].values.reshape(-1,1)\n",
        "# x.shape\n",
        "# crear el modelo------------------------------------------------\n",
        "lm1 = linear_model.LinearRegression()\n",
        "lm1.fit(x, y)\n",
        "y_pred = lm1.predict(x)\n",
        "print(\"Coeficiente de det. R2: %.4f\"\n",
        "      % r2_score(y, y_pred))\n",
        "#definir variable respuesta\n",
        "y = housing[\"median_house_value\"].values.reshape(-1,1)\n",
        "# Ajuste con latitude\n",
        "# extraer variable y convertir en np.array-----------------------\n",
        "x = housing[\"latitude\"].values.reshape(-1,1)\n",
        "# x.shape\n",
        "# crear el modelo------------------------------------------------\n",
        "lm1 = linear_model.LinearRegression()\n",
        "lm1.fit(x, y)\n",
        "y_pred = lm1.predict(x)\n",
        "print(\"Coeficiente de det. R2: %.4f\"\n",
        "      % r2_score(y, y_pred))\n",
        "#definir variable respuesta\n",
        "y = housing[\"median_house_value\"].values.reshape(-1,1)\n",
        "# Ajuste con housing_median_age  \n",
        "# extraer variable y convertir en np.array-----------------------\n",
        "x = housing[\"housing_median_age\"].values.reshape(-1,1)\n",
        "# x.shape\n",
        "# crear el modelo------------------------------------------------\n",
        "lm1 = linear_model.LinearRegression()\n",
        "lm1.fit(x, y)\n",
        "y_pred = lm1.predict(x)\n",
        "print(\"Coeficiente de det. R2: %.4f\"\n",
        "      % r2_score(y, y_pred))\n",
        "#definir variable respuesta\n",
        "y = housing[\"median_house_value\"].values.reshape(-1,1)\n",
        "# Ajuste con total_rooms  \n",
        "# extraer variable y convertir en np.array-----------------------\n",
        "x = housing[\"total_rooms\"].values.reshape(-1,1)\n",
        "# x.shape\n",
        "# crear el modelo------------------------------------------------\n",
        "lm1 = linear_model.LinearRegression()\n",
        "lm1.fit(x, y)\n",
        "y_pred = lm1.predict(x)\n",
        "print(\"Coeficiente de det. R2: %.4f\"\n",
        "      % r2_score(y, y_pred))\n",
        "#definir variable respuesta\n",
        "housing_2 = housing.dropna(axis=0, how='any')\n",
        "y = housing_2[\"median_house_value\"].values.reshape(-1,1)\n",
        "# Ajuste con total_bedrooms  \n",
        "# extraer variable y convertir en np.array-----------------------\n",
        "x = housing_2[\"total_bedrooms\"].values.reshape(-1,1)\n",
        "# x.shape\n",
        "# crear el modelo------------------------------------------------\n",
        "lm1 = linear_model.LinearRegression()\n",
        "lm1.fit(x, y)\n",
        "y_pred = lm1.predict(x)\n",
        "print(\"Coeficiente de det. R2: %.4f\"\n",
        "      % r2_score(y, y_pred))\n",
        "#definir variable respuesta\n",
        "y = housing[\"median_house_value\"].values.reshape(-1,1)\n",
        "# Ajuste con population  \n",
        "# extraer variable y convertir en np.array-----------------------\n",
        "x = housing[\"population\"].values.reshape(-1,1)\n",
        "# x.shape\n",
        "# crear el modelo------------------------------------------------\n",
        "lm1 = linear_model.LinearRegression()\n",
        "lm1.fit(x, y)\n",
        "y_pred = lm1.predict(x)\n",
        "print(\"Coeficiente de det. R2: %.4f\"\n",
        "      % r2_score(y, y_pred))\n",
        "#definir variable respuesta\n",
        "y = housing[\"median_house_value\"].values.reshape(-1,1)\n",
        "# Ajuste con households  \n",
        "# extraer variable y convertir en np.array-----------------------\n",
        "x = housing[\"households\"].values.reshape(-1,1)\n",
        "# x.shape\n",
        "# crear el modelo------------------------------------------------\n",
        "lm1 = linear_model.LinearRegression()\n",
        "lm1.fit(x, y)\n",
        "y_pred = lm1.predict(x)\n",
        "print(\"Coeficiente de det. R2: %.4f\"\n",
        "      % r2_score(y, y_pred))\n",
        "#definir variable respuesta\n",
        "y = housing[\"median_house_value\"].values.reshape(-1,1)\n",
        "# Ajuste con median_income  \n",
        "# extraer variable y convertir en np.array-----------------------\n",
        "x = housing[\"median_income\"].values.reshape(-1,1)\n",
        "# x.shape\n",
        "# crear el modelo------------------------------------------------\n",
        "lm1 = linear_model.LinearRegression()\n",
        "lm1.fit(x, y)\n",
        "y_pred = lm1.predict(x)\n",
        "print(\"Coeficiente de det. R2: %.4f\"\n",
        "      % r2_score(y, y_pred))\n",
        "\n",
        "      "
      ],
      "execution_count": 2,
      "outputs": [
        {
          "output_type": "stream",
          "text": [
            "<class 'pandas.core.frame.DataFrame'>\n",
            "RangeIndex: 20640 entries, 0 to 20639\n",
            "Data columns (total 10 columns):\n",
            " #   Column              Non-Null Count  Dtype  \n",
            "---  ------              --------------  -----  \n",
            " 0   longitude           20640 non-null  float64\n",
            " 1   latitude            20640 non-null  float64\n",
            " 2   housing_median_age  20640 non-null  float64\n",
            " 3   total_rooms         20640 non-null  float64\n",
            " 4   total_bedrooms      20433 non-null  float64\n",
            " 5   population          20640 non-null  float64\n",
            " 6   households          20640 non-null  float64\n",
            " 7   median_income       20640 non-null  float64\n",
            " 8   median_house_value  20640 non-null  float64\n",
            " 9   ocean_proximity     20640 non-null  object \n",
            "dtypes: float64(9), object(1)\n",
            "memory usage: 1.6+ MB\n",
            "Coeficiente de det. R2: 0.0021\n",
            "Coeficiente de det. R2: 0.0208\n",
            "Coeficiente de det. R2: 0.0112\n",
            "Coeficiente de det. R2: 0.0180\n",
            "Coeficiente de det. R2: 0.0025\n",
            "Coeficiente de det. R2: 0.0006\n",
            "Coeficiente de det. R2: 0.0043\n",
            "Coeficiente de det. R2: 0.4734\n"
          ],
          "name": "stdout"
        }
      ]
    },
    {
      "cell_type": "markdown",
      "metadata": {
        "id": "E5HK57A85l3l"
      },
      "source": [
        " ## Ejercicio 2"
      ]
    },
    {
      "cell_type": "code",
      "metadata": {
        "colab": {
          "base_uri": "https://localhost:8080/",
          "height": 406
        },
        "id": "LhOMfh2t5kOF",
        "outputId": "7a560f62-c6aa-430b-d421-e25609d32a75"
      },
      "source": [
        "#EJERCICIO 2\n",
        "# se pueden obtener los coeficientes-----------------------------\n",
        "print(\"Beta1: \", lm1.coef_)\n",
        "# Este es el valor donde corta el eje Y (en X=0)\n",
        "print(\"Beta0: \", lm1.intercept_)\n",
        "# obtener valores modelo-----------------------------------------\n",
        "# pintar x e y---------------------------------------------------\n",
        "fig = plt.figure(figsize=(5,5))\n",
        "plt.scatter(x, y)\n",
        "# pintar recta de regresion--------------------------------------\n",
        "y_pred = lm1.predict(x)\n",
        "plt.plot(x, y_pred, color='red', linewidth=3)\n",
        "# definir ejes---------------------------------------------------\n",
        "plt.xlabel(\"ingresos (decenas de miles de dolares)\")\n",
        "plt.ylabel(\"precio casas (dolares)\")\n",
        "# mostrar grafico------------------------------------------------\n",
        "plt.show()\n",
        "# calcular sigma2------------------------------------------------\n",
        "y_resta = (y - y_pred) ** 2\n",
        "print(sum(y_resta)/len(y))\n",
        "# estimador de la varianza por OLS-------------------------------\n",
        "print(sum(y_resta)/(len(y)-2))\n",
        "\n"
      ],
      "execution_count": 3,
      "outputs": [
        {
          "output_type": "stream",
          "text": [
            "Beta1:  [[41793.8492019]]\n",
            "Beta0:  [45085.57670327]\n"
          ],
          "name": "stdout"
        },
        {
          "output_type": "display_data",
          "data": {
            "image/png": "[encoded data removed]",
            "text/plain": [
              "<Figure size 360x360 with 1 Axes>"
            ]
          },
          "metadata": {
            "tags": [],
            "needs_background": "light"
          }
        },
        {
          "output_type": "stream",
          "text": [
            "[7.0113115e+09]\n",
            "[7.01199096e+09]\n"
          ],
          "name": "stdout"
        }
      ]
    },
    {
      "cell_type": "markdown",
      "metadata": {
        "id": "J5zfXfS06gBD"
      },
      "source": [
        "## Ejercicio 3"
      ]
    },
    {
      "cell_type": "code",
      "metadata": {
        "id": "Y76txu146iAU",
        "colab": {
          "base_uri": "https://localhost:8080/"
        },
        "outputId": "829845bf-c2ab-4067-e985-6944ff23439a"
      },
      "source": [
        "#EJERCICIO 3\n",
        "# calcular ICbeta1-----------------------------------------------\n",
        "# calcular numerador sb1^2\n",
        "s2 = sum(y_resta)/(len(y)-2)\n",
        "# calcular denominador sb1^2\n",
        "den = np.var(x) * len(x)\n",
        "# calcular sb1\n",
        "sb1 = (s2/den) ** 0.5\n",
        "amplitud = 1.96 * sb1\n",
        "print(\"El IC al 0.95 de b1 es:\", lm1.coef_, \"+/-\", amplitud)\n",
        "x_nueva = 33.7\n",
        "y_nueva = lm1.intercept_ + lm1.coef_ * x_nueva\n",
        "print(\"y nueva = %.2f\" % y_nueva)\n",
        "# comprobacion\n",
        "x_array = np.array(x_nueva)\n",
        "y_predicha = lm1.predict(x_array.reshape(1, -1))\n",
        "print(\"y predicha = %.2f\" % y_predicha)"
      ],
      "execution_count": 4,
      "outputs": [
        {
          "output_type": "stream",
          "text": [
            "El IC al 0.95 de b1 es: [[41793.8492019]] +/- [601.33927762]\n",
            "y nueva = 1453538.29\n",
            "y predicha = 1453538.29\n"
          ],
          "name": "stdout"
        }
      ]
    }
  ]
}