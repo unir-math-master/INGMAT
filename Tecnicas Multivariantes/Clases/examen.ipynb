{
 "cells": [
  {
   "cell_type": "code",
   "execution_count": 84,
   "id": "433c5e96-fb3b-4300-ac86-ef4937b81403",
   "metadata": {},
   "outputs": [],
   "source": [
    "import pandas as pd\n",
    "import numpy as np\n",
    "import matplotlib.pyplot as plt\n",
    "import seaborn as sns\n",
    "from sklearn import linear_model\n",
    "import statsmodels.api as sm\n",
    "from sklearn.metrics import mean_squared_error, r2_score\n",
    "import scipy.stats as stats\n",
    "import statsmodels.stats.api as sms\n",
    "from statsmodels.stats.outliers_influence import variance_inflation_factor"
   ]
  },
  {
   "cell_type": "markdown",
   "id": "bffc4baa-5ef6-4298-ac4f-1f2de4b74590",
   "metadata": {},
   "source": [
    "# Examen - Pregunta 2"
   ]
  },
  {
   "cell_type": "code",
   "execution_count": 96,
   "id": "99921f91-5a19-40c6-b256-139043789629",
   "metadata": {},
   "outputs": [],
   "source": [
    "desestabilizado_no = [0] * 74 \n",
    "desestabilizado_no.extend([1]*12)"
   ]
  },
  {
   "cell_type": "code",
   "execution_count": 98,
   "id": "c2ed344e-3358-4cf7-9d6c-8b91da560c59",
   "metadata": {},
   "outputs": [],
   "source": [
    "desestabilizado_si = [0] * 5 \n",
    "desestabilizado_si.extend([1]*4)"
   ]
  },
  {
   "cell_type": "code",
   "execution_count": 97,
   "id": "47c56177-bcad-471a-8eb8-2b1b0ba9164b",
   "metadata": {},
   "outputs": [
    {
     "data": {
      "text/plain": [
       "[0,\n",
       " 0,\n",
       " 0,\n",
       " 0,\n",
       " 0,\n",
       " 0,\n",
       " 0,\n",
       " 0,\n",
       " 0,\n",
       " 0,\n",
       " 0,\n",
       " 0,\n",
       " 0,\n",
       " 0,\n",
       " 0,\n",
       " 0,\n",
       " 0,\n",
       " 0,\n",
       " 0,\n",
       " 0,\n",
       " 0,\n",
       " 0,\n",
       " 0,\n",
       " 0,\n",
       " 0,\n",
       " 0,\n",
       " 0,\n",
       " 0,\n",
       " 0,\n",
       " 0,\n",
       " 0,\n",
       " 0,\n",
       " 0,\n",
       " 0,\n",
       " 0,\n",
       " 0,\n",
       " 0,\n",
       " 0,\n",
       " 0,\n",
       " 0,\n",
       " 0,\n",
       " 0,\n",
       " 0,\n",
       " 0,\n",
       " 0,\n",
       " 0,\n",
       " 0,\n",
       " 0,\n",
       " 0,\n",
       " 0,\n",
       " 0,\n",
       " 0,\n",
       " 0,\n",
       " 0,\n",
       " 0,\n",
       " 0,\n",
       " 0,\n",
       " 0,\n",
       " 0,\n",
       " 0,\n",
       " 0,\n",
       " 0,\n",
       " 0,\n",
       " 0,\n",
       " 0,\n",
       " 0,\n",
       " 0,\n",
       " 0,\n",
       " 0,\n",
       " 0,\n",
       " 0,\n",
       " 0,\n",
       " 0,\n",
       " 0,\n",
       " 1,\n",
       " 1,\n",
       " 1,\n",
       " 1,\n",
       " 1,\n",
       " 1,\n",
       " 1,\n",
       " 1,\n",
       " 1,\n",
       " 1,\n",
       " 1,\n",
       " 1]"
      ]
     },
     "execution_count": 97,
     "metadata": {},
     "output_type": "execute_result"
    }
   ],
   "source": [
    "desestabilizado_no"
   ]
  },
  {
   "cell_type": "code",
   "execution_count": 99,
   "id": "02dc3216-332f-4716-8ba4-a46bd4a245e7",
   "metadata": {},
   "outputs": [
    {
     "data": {
      "text/plain": [
       "[0, 0, 0, 0, 0, 1, 1, 1, 1]"
      ]
     },
     "execution_count": 99,
     "metadata": {},
     "output_type": "execute_result"
    }
   ],
   "source": [
    "desestabilizado_si"
   ]
  },
  {
   "cell_type": "code",
   "execution_count": null,
   "id": "b654cda0-f947-49ca-9f97-9877123f9e0e",
   "metadata": {},
   "outputs": [],
   "source": []
  },
  {
   "cell_type": "markdown",
   "id": "841a4d05-97a6-4cc2-9701-b0b9fc5b3883",
   "metadata": {},
   "source": [
    "# Examen - Pregunta 3"
   ]
  },
  {
   "cell_type": "code",
   "execution_count": 41,
   "id": "bbce90dd-00fb-481a-a433-4c80bee299a9",
   "metadata": {},
   "outputs": [
    {
     "data": {
      "text/plain": [
       "<matplotlib.collections.PathCollection at 0x21459e13f40>"
      ]
     },
     "execution_count": 41,
     "metadata": {},
     "output_type": "execute_result"
    },
    {
     "data": {
      "image/png": "[encoded data removed]",
      "text/plain": [
       "<Figure size 432x288 with 1 Axes>"
      ]
     },
     "metadata": {
      "needs_background": "light"
     },
     "output_type": "display_data"
    }
   ],
   "source": [
    "x1 = [1,2,3,3,4,4,6,6]\n",
    "x2 = [1,4,2,5,4,7,4,6]\n",
    "\n",
    "plt.scatter(x1, x2)"
   ]
  },
  {
   "cell_type": "markdown",
   "id": "9bc027ee-0794-48d0-8325-1e69ba1a1b0b",
   "metadata": {},
   "source": [
    "# Examen -  Ejercicio 4"
   ]
  },
  {
   "cell_type": "code",
   "execution_count": 3,
   "id": "5f3ff6ca-b175-4254-a8c9-3f45316f6ea9",
   "metadata": {},
   "outputs": [],
   "source": [
    "d = {\n",
    "    \"peso\": [849, 850, 950, 1640, 150, 750, 600, 875, 975, 450,1050, 335, 525, 850, 760, 1212],\n",
    "    \"volumen\": [890, 805, 1001, 1525, 39, 701, 641, 1028, 1492, 519, 1110, 505,834, 944, 920, 1350],\n",
    "    \"tapas\": ['D', 'D', 'D', 'D', 'D', 'D', 'D', 'D', 'B', 'B', 'B', 'B', 'B', 'B', 'B', 'B']\n",
    "}\n",
    "data = pd.DataFrame(d)"
   ]
  },
  {
   "cell_type": "code",
   "execution_count": 4,
   "id": "99123164-2a7c-4eff-bab8-f795e1e3a26a",
   "metadata": {},
   "outputs": [],
   "source": []
  },
  {
   "cell_type": "code",
   "execution_count": 19,
   "id": "4dc8b280-3d91-48b1-92d1-17773bde2e40",
   "metadata": {},
   "outputs": [
    {
     "data": {
      "text/html": [
       "<div>\n",
       "<style scoped>\n",
       "    .dataframe tbody tr th:only-of-type {\n",
       "        vertical-align: middle;\n",
       "    }\n",
       "\n",
       "    .dataframe tbody tr th {\n",
       "        vertical-align: top;\n",
       "    }\n",
       "\n",
       "    .dataframe thead th {\n",
       "        text-align: right;\n",
       "    }\n",
       "</style>\n",
       "<table border=\"1\" class=\"dataframe\">\n",
       "  <thead>\n",
       "    <tr style=\"text-align: right;\">\n",
       "      <th></th>\n",
       "      <th>peso</th>\n",
       "      <th>volumen</th>\n",
       "    </tr>\n",
       "  </thead>\n",
       "  <tbody>\n",
       "    <tr>\n",
       "      <th>count</th>\n",
       "      <td>16.000000</td>\n",
       "      <td>16.000000</td>\n",
       "    </tr>\n",
       "    <tr>\n",
       "      <th>mean</th>\n",
       "      <td>801.312500</td>\n",
       "      <td>894.000000</td>\n",
       "    </tr>\n",
       "    <tr>\n",
       "      <th>std</th>\n",
       "      <td>354.487182</td>\n",
       "      <td>381.112757</td>\n",
       "    </tr>\n",
       "    <tr>\n",
       "      <th>min</th>\n",
       "      <td>150.000000</td>\n",
       "      <td>39.000000</td>\n",
       "    </tr>\n",
       "    <tr>\n",
       "      <th>25%</th>\n",
       "      <td>581.250000</td>\n",
       "      <td>686.000000</td>\n",
       "    </tr>\n",
       "    <tr>\n",
       "      <th>50%</th>\n",
       "      <td>849.500000</td>\n",
       "      <td>905.000000</td>\n",
       "    </tr>\n",
       "    <tr>\n",
       "      <th>75%</th>\n",
       "      <td>956.250000</td>\n",
       "      <td>1048.500000</td>\n",
       "    </tr>\n",
       "    <tr>\n",
       "      <th>max</th>\n",
       "      <td>1640.000000</td>\n",
       "      <td>1525.000000</td>\n",
       "    </tr>\n",
       "  </tbody>\n",
       "</table>\n",
       "</div>"
      ],
      "text/plain": [
       "              peso      volumen\n",
       "count    16.000000    16.000000\n",
       "mean    801.312500   894.000000\n",
       "std     354.487182   381.112757\n",
       "min     150.000000    39.000000\n",
       "25%     581.250000   686.000000\n",
       "50%     849.500000   905.000000\n",
       "75%     956.250000  1048.500000\n",
       "max    1640.000000  1525.000000"
      ]
     },
     "execution_count": 19,
     "metadata": {},
     "output_type": "execute_result"
    }
   ],
   "source": [
    "data.describe()"
   ]
  },
  {
   "cell_type": "code",
   "execution_count": 14,
   "id": "897d4a5a-f5b9-47bf-8ced-1a682ffa7868",
   "metadata": {},
   "outputs": [
    {
     "data": {
      "text/plain": [
       "[]"
      ]
     },
     "execution_count": 14,
     "metadata": {},
     "output_type": "execute_result"
    },
    {
     "data": {
      "image/png": "[encoded data removed]",
      "text/plain": [
       "<Figure size 720x360 with 2 Axes>"
      ]
     },
     "metadata": {
      "needs_background": "light"
     },
     "output_type": "display_data"
    }
   ],
   "source": [
    "data.hist(figsize=(10,5))\n",
    "plt.plot()"
   ]
  },
  {
   "cell_type": "code",
   "execution_count": 17,
   "id": "21ae7d94-5039-4c81-8c36-25bdb7974d9e",
   "metadata": {},
   "outputs": [
    {
     "data": {
      "text/plain": [
       "<AxesSubplot:>"
      ]
     },
     "execution_count": 17,
     "metadata": {},
     "output_type": "execute_result"
    },
    {
     "data": {
      "image/png": "[encoded data removed]",
      "text/plain": [
       "<Figure size 432x288 with 2 Axes>"
      ]
     },
     "metadata": {
      "needs_background": "light"
     },
     "output_type": "display_data"
    }
   ],
   "source": [
    "sns.heatmap(data.corr(), annot = True)"
   ]
  },
  {
   "cell_type": "code",
   "execution_count": 24,
   "id": "1b769cf0-6041-4f3c-ab22-cbaf77b711ed",
   "metadata": {},
   "outputs": [
    {
     "data": {
      "text/plain": [
       "Text(0, 0.5, 'Peso')"
      ]
     },
     "execution_count": 24,
     "metadata": {},
     "output_type": "execute_result"
    },
    {
     "data": {
      "image/png": "[encoded data removed]",
      "text/plain": [
       "<Figure size 432x288 with 1 Axes>"
      ]
     },
     "metadata": {
      "needs_background": "light"
     },
     "output_type": "display_data"
    }
   ],
   "source": [
    "peso = data['peso'].values\n",
    "plt.scatter(x=data['volumen'], y=peso)\n",
    "plt.plot([0, max(peso)], [0, max(peso)], color = 'red', linewidth = 3)\n",
    "plt.xlabel(\"Volumen\")\n",
    "plt.ylabel(\"Peso\")"
   ]
  },
  {
   "cell_type": "code",
   "execution_count": 34,
   "id": "2830b8d9-6394-44d4-a989-7ff5e5f578c7",
   "metadata": {},
   "outputs": [
    {
     "data": {
      "text/plain": [
       "<seaborn.axisgrid.FacetGrid at 0x21457ca6160>"
      ]
     },
     "execution_count": 34,
     "metadata": {},
     "output_type": "execute_result"
    },
    {
     "data": {
      "image/png": "[encoded data removed]",
      "text/plain": [
       "<Figure size 360x360 with 1 Axes>"
      ]
     },
     "metadata": {
      "needs_background": "light"
     },
     "output_type": "display_data"
    }
   ],
   "source": [
    "sns.catplot(data=data, y=\"peso\", x=\"tapas\", kind=\"box\")"
   ]
  },
  {
   "cell_type": "code",
   "execution_count": 35,
   "id": "185027b2-a47c-4117-b7c2-ff5f3eb6bf51",
   "metadata": {},
   "outputs": [],
   "source": [
    "# encodeamos la variable tapa\n",
    "data['tapa_enc'] = np.where(data['tapas']=='D',1, 0)"
   ]
  },
  {
   "cell_type": "code",
   "execution_count": 36,
   "id": "30c92984-ea5d-48bf-8dd1-b1d25b8ec74e",
   "metadata": {},
   "outputs": [
    {
     "data": {
      "text/html": [
       "<div>\n",
       "<style scoped>\n",
       "    .dataframe tbody tr th:only-of-type {\n",
       "        vertical-align: middle;\n",
       "    }\n",
       "\n",
       "    .dataframe tbody tr th {\n",
       "        vertical-align: top;\n",
       "    }\n",
       "\n",
       "    .dataframe thead th {\n",
       "        text-align: right;\n",
       "    }\n",
       "</style>\n",
       "<table border=\"1\" class=\"dataframe\">\n",
       "  <thead>\n",
       "    <tr style=\"text-align: right;\">\n",
       "      <th></th>\n",
       "      <th>peso</th>\n",
       "      <th>volumen</th>\n",
       "      <th>tapas</th>\n",
       "      <th>tapa_enc</th>\n",
       "    </tr>\n",
       "  </thead>\n",
       "  <tbody>\n",
       "    <tr>\n",
       "      <th>0</th>\n",
       "      <td>849</td>\n",
       "      <td>890</td>\n",
       "      <td>D</td>\n",
       "      <td>1</td>\n",
       "    </tr>\n",
       "    <tr>\n",
       "      <th>1</th>\n",
       "      <td>850</td>\n",
       "      <td>805</td>\n",
       "      <td>D</td>\n",
       "      <td>1</td>\n",
       "    </tr>\n",
       "    <tr>\n",
       "      <th>2</th>\n",
       "      <td>950</td>\n",
       "      <td>1001</td>\n",
       "      <td>D</td>\n",
       "      <td>1</td>\n",
       "    </tr>\n",
       "    <tr>\n",
       "      <th>3</th>\n",
       "      <td>1640</td>\n",
       "      <td>1525</td>\n",
       "      <td>D</td>\n",
       "      <td>1</td>\n",
       "    </tr>\n",
       "    <tr>\n",
       "      <th>4</th>\n",
       "      <td>150</td>\n",
       "      <td>39</td>\n",
       "      <td>D</td>\n",
       "      <td>1</td>\n",
       "    </tr>\n",
       "    <tr>\n",
       "      <th>5</th>\n",
       "      <td>750</td>\n",
       "      <td>701</td>\n",
       "      <td>D</td>\n",
       "      <td>1</td>\n",
       "    </tr>\n",
       "    <tr>\n",
       "      <th>6</th>\n",
       "      <td>600</td>\n",
       "      <td>641</td>\n",
       "      <td>D</td>\n",
       "      <td>1</td>\n",
       "    </tr>\n",
       "    <tr>\n",
       "      <th>7</th>\n",
       "      <td>875</td>\n",
       "      <td>1028</td>\n",
       "      <td>D</td>\n",
       "      <td>1</td>\n",
       "    </tr>\n",
       "    <tr>\n",
       "      <th>8</th>\n",
       "      <td>975</td>\n",
       "      <td>1492</td>\n",
       "      <td>B</td>\n",
       "      <td>0</td>\n",
       "    </tr>\n",
       "    <tr>\n",
       "      <th>9</th>\n",
       "      <td>450</td>\n",
       "      <td>519</td>\n",
       "      <td>B</td>\n",
       "      <td>0</td>\n",
       "    </tr>\n",
       "    <tr>\n",
       "      <th>10</th>\n",
       "      <td>1050</td>\n",
       "      <td>1110</td>\n",
       "      <td>B</td>\n",
       "      <td>0</td>\n",
       "    </tr>\n",
       "    <tr>\n",
       "      <th>11</th>\n",
       "      <td>335</td>\n",
       "      <td>505</td>\n",
       "      <td>B</td>\n",
       "      <td>0</td>\n",
       "    </tr>\n",
       "    <tr>\n",
       "      <th>12</th>\n",
       "      <td>525</td>\n",
       "      <td>834</td>\n",
       "      <td>B</td>\n",
       "      <td>0</td>\n",
       "    </tr>\n",
       "    <tr>\n",
       "      <th>13</th>\n",
       "      <td>850</td>\n",
       "      <td>944</td>\n",
       "      <td>B</td>\n",
       "      <td>0</td>\n",
       "    </tr>\n",
       "    <tr>\n",
       "      <th>14</th>\n",
       "      <td>760</td>\n",
       "      <td>920</td>\n",
       "      <td>B</td>\n",
       "      <td>0</td>\n",
       "    </tr>\n",
       "    <tr>\n",
       "      <th>15</th>\n",
       "      <td>1212</td>\n",
       "      <td>1350</td>\n",
       "      <td>B</td>\n",
       "      <td>0</td>\n",
       "    </tr>\n",
       "  </tbody>\n",
       "</table>\n",
       "</div>"
      ],
      "text/plain": [
       "    peso  volumen tapas  tapa_enc\n",
       "0    849      890     D         1\n",
       "1    850      805     D         1\n",
       "2    950     1001     D         1\n",
       "3   1640     1525     D         1\n",
       "4    150       39     D         1\n",
       "5    750      701     D         1\n",
       "6    600      641     D         1\n",
       "7    875     1028     D         1\n",
       "8    975     1492     B         0\n",
       "9    450      519     B         0\n",
       "10  1050     1110     B         0\n",
       "11   335      505     B         0\n",
       "12   525      834     B         0\n",
       "13   850      944     B         0\n",
       "14   760      920     B         0\n",
       "15  1212     1350     B         0"
      ]
     },
     "execution_count": 36,
     "metadata": {},
     "output_type": "execute_result"
    }
   ],
   "source": [
    "data"
   ]
  },
  {
   "cell_type": "code",
   "execution_count": 37,
   "id": "38d403c7-af02-46db-8169-64d79a9bdcbe",
   "metadata": {},
   "outputs": [],
   "source": [
    "x = data[['volumen', 'tapa_enc']]\n",
    "y = data[['peso']]"
   ]
  },
  {
   "cell_type": "code",
   "execution_count": 40,
   "id": "70ae6164-6e6d-44a4-916a-3ead3c41abdd",
   "metadata": {},
   "outputs": [
    {
     "name": "stdout",
     "output_type": "stream",
     "text": [
      "                                 OLS Regression Results                                \n",
      "=======================================================================================\n",
      "Dep. Variable:                   peso   R-squared (uncentered):                   0.983\n",
      "Model:                            OLS   Adj. R-squared (uncentered):              0.980\n",
      "Method:                 Least Squares   F-statistic:                              395.1\n",
      "Date:                Fri, 09 Jul 2021   Prob (F-statistic):                    4.85e-13\n",
      "Time:                        18:10:53   Log-Likelihood:                         -98.625\n",
      "No. Observations:                  16   AIC:                                      201.3\n",
      "Df Residuals:                      14   BIC:                                      202.8\n",
      "Df Model:                           2                                                  \n",
      "Covariance Type:            nonrobust                                                  \n",
      "==============================================================================\n",
      "                 coef    std err          t      P>|t|      [0.025      0.975]\n",
      "------------------------------------------------------------------------------\n",
      "volumen        0.8217      0.040     20.567      0.000       0.736       0.907\n",
      "tapa_enc     151.9932     54.648      2.781      0.015      34.784     269.202\n",
      "==============================================================================\n",
      "Omnibus:                        0.500   Durbin-Watson:                   1.853\n",
      "Prob(Omnibus):                  0.779   Jarque-Bera (JB):                0.001\n",
      "Skew:                           0.008   Prob(JB):                         1.00\n",
      "Kurtosis:                       3.031   Cond. No.                     1.72e+03\n",
      "==============================================================================\n",
      "\n",
      "Notes:\n",
      "[1] R² is computed without centering (uncentered) since the model does not contain a constant.\n",
      "[2] Standard Errors assume that the covariance matrix of the errors is correctly specified.\n",
      "[3] The condition number is large, 1.72e+03. This might indicate that there are\n",
      "strong multicollinearity or other numerical problems.\n"
     ]
    },
    {
     "name": "stderr",
     "output_type": "stream",
     "text": [
      "c:\\users\\ewdia\\scoop\\apps\\python\\3.9.6\\lib\\site-packages\\scipy\\stats\\stats.py:1541: UserWarning: kurtosistest only valid for n>=20 ... continuing anyway, n=16\n",
      "  warnings.warn(\"kurtosistest only valid for n>=20 ... continuing \"\n"
     ]
    }
   ],
   "source": [
    "modelo = sm.OLS(endog=y, exog=x)\n",
    "modelo = modelo.fit()\n",
    "print(modelo.summary())"
   ]
  },
  {
   "cell_type": "markdown",
   "id": "10a6c2e6-2cc0-44df-bfbf-14cfb19746d5",
   "metadata": {},
   "source": [
    "# Modelo Lineal"
   ]
  },
  {
   "cell_type": "code",
   "execution_count": 42,
   "id": "90ab65c8-5b22-46f6-bb5f-adebe929b2c5",
   "metadata": {},
   "outputs": [],
   "source": [
    "lm = linear_model.LinearRegression()"
   ]
  },
  {
   "cell_type": "code",
   "execution_count": 43,
   "id": "b3008df2-77a3-4d4d-ab85-02fa04381392",
   "metadata": {},
   "outputs": [
    {
     "data": {
      "text/plain": [
       "LinearRegression()"
      ]
     },
     "execution_count": 43,
     "metadata": {},
     "output_type": "execute_result"
    }
   ],
   "source": [
    "lm.fit(x, y)"
   ]
  },
  {
   "cell_type": "code",
   "execution_count": 44,
   "id": "2f1c667a-e05c-4a8b-819d-83df29b22683",
   "metadata": {},
   "outputs": [
    {
     "name": "stdout",
     "output_type": "stream",
     "text": [
      "DATOS DEL MODELO REGRESIÓN LINEAL MULTIPLE\n",
      "Coeficientes:\n",
      "[[  0.88941906 179.44418746]]\n",
      "Intercepto:\n",
      "[-83.55023425]\n"
     ]
    }
   ],
   "source": [
    "print('DATOS DEL MODELO REGRESIÓN LINEAL MULTIPLE')\n",
    "print('Coeficientes:')\n",
    "print(lm.coef_)\n",
    "print('Intercepto:')\n",
    "print(lm.intercept_)"
   ]
  },
  {
   "cell_type": "code",
   "execution_count": 46,
   "id": "200e4c50-f51e-46b2-90e2-935b54dc4a61",
   "metadata": {},
   "outputs": [
    {
     "name": "stdout",
     "output_type": "stream",
     "text": [
      "R^2:\n",
      "0.8942973002237611\n"
     ]
    }
   ],
   "source": [
    "print('R^2:')\n",
    "print(lm.score(x, y))"
   ]
  },
  {
   "cell_type": "code",
   "execution_count": 47,
   "id": "83e05854-2a28-4d38-8408-ea551a05a292",
   "metadata": {},
   "outputs": [],
   "source": [
    "y_pred = lm.predict(x)"
   ]
  },
  {
   "cell_type": "code",
   "execution_count": 52,
   "id": "49a18a94-2964-4bf9-a894-97cb8025d938",
   "metadata": {},
   "outputs": [
    {
     "data": {
      "text/plain": [
       "array([[ 887.47691749],\n",
       "       [ 811.8762973 ],\n",
       "       [ 986.20243326],\n",
       "       [1452.25802121],\n",
       "       [ 130.58129658],\n",
       "       [ 719.37671496],\n",
       "       [ 666.0115713 ],\n",
       "       [1010.2167479 ],\n",
       "       [1243.46300474],\n",
       "       [ 378.0582584 ],\n",
       "       [ 903.70492344],\n",
       "       [ 365.60639155],\n",
       "       [ 658.22526261],\n",
       "       [ 756.06135932],\n",
       "       [ 734.71530186],\n",
       "       [1117.16549808]])"
      ]
     },
     "execution_count": 52,
     "metadata": {},
     "output_type": "execute_result"
    }
   ],
   "source": [
    "y_pred"
   ]
  },
  {
   "cell_type": "code",
   "execution_count": 50,
   "id": "4dcb3748-da47-41c6-bd63-1e04bc4b9613",
   "metadata": {},
   "outputs": [
    {
     "data": {
      "text/plain": [
       "12452.553874941257"
      ]
     },
     "execution_count": 50,
     "metadata": {},
     "output_type": "execute_result"
    }
   ],
   "source": [
    "mean_squared_error(y_pred, y)"
   ]
  },
  {
   "cell_type": "code",
   "execution_count": 66,
   "id": "a8355871-7b41-48d7-94ca-1d7d90dd0db7",
   "metadata": {},
   "outputs": [
    {
     "data": {
      "text/plain": [
       "1640"
      ]
     },
     "execution_count": 66,
     "metadata": {},
     "output_type": "execute_result"
    }
   ],
   "source": [
    "y.values.max()"
   ]
  },
  {
   "cell_type": "code",
   "execution_count": 68,
   "id": "a53a589a-9465-4d5a-9b88-c01f0c9c7ce7",
   "metadata": {},
   "outputs": [
    {
     "data": {
      "image/png": "[encoded data removed]",
      "text/plain": [
       "<Figure size 576x576 with 1 Axes>"
      ]
     },
     "metadata": {
      "needs_background": "light"
     },
     "output_type": "display_data"
    }
   ],
   "source": [
    "fig = plt.figure(figsize=(8, 8))\n",
    "\n",
    "plt.scatter(y_pred, y.values)\n",
    "plt.xlabel(\"puntos reales\")\n",
    "plt.ylabel(\"puntos ajuste\")\n",
    "plt.plot(\n",
    "    [y.values.min(), y.values.max()], [y.values.min(), y.values.max()], \n",
    "    color = 'red', linewidth = 3\n",
    ")\n",
    "plt.show()"
   ]
  },
  {
   "cell_type": "code",
   "execution_count": null,
   "id": "df7cfaa6-0ec6-481b-9bd3-7a674d4ae024",
   "metadata": {},
   "outputs": [],
   "source": []
  },
  {
   "cell_type": "code",
   "execution_count": null,
   "id": "31063e2c-a1ee-4b2d-bd61-f21cc0936c64",
   "metadata": {},
   "outputs": [],
   "source": []
  },
  {
   "cell_type": "code",
   "execution_count": 69,
   "id": "a26c2854-0329-4ea8-96b2-5ea523ca7ae9",
   "metadata": {},
   "outputs": [],
   "source": [
    "residuos = y_pred - y.values"
   ]
  },
  {
   "cell_type": "code",
   "execution_count": 73,
   "id": "33586a4e-19e4-4f3a-b4d8-eea41dd3a3fd",
   "metadata": {},
   "outputs": [
    {
     "data": {
      "image/png": "[encoded data removed]",
      "text/plain": [
       "<Figure size 432x288 with 1 Axes>"
      ]
     },
     "metadata": {
      "needs_background": "light"
     },
     "output_type": "display_data"
    }
   ],
   "source": [
    "plt.scatter(data['volumen'], residuos)\n",
    "plt.xlabel(\"Volumen\")\n",
    "plt.ylabel(\"Residuos\")\n",
    "plt.plot(\n",
    "    [0, data['volumen'].values.max()], [0,0], \n",
    "    color = 'red', linewidth = 3\n",
    ")\n",
    "plt.show()"
   ]
  },
  {
   "cell_type": "code",
   "execution_count": 83,
   "id": "ae26e29c-774b-4374-8a55-f45c53715135",
   "metadata": {},
   "outputs": [
    {
     "name": "stderr",
     "output_type": "stream",
     "text": [
      "C:\\Users\\ewdia\\AppData\\Local\\Temp/ipykernel_6644/883498994.py:6: UserWarning: color is redundantly defined by the 'color' keyword argument and the fmt string \"k--\" (-> color='k'). The keyword argument will take precedence.\n",
      "  axes[0, 0].plot([y.min(), y.max()], [y.values.min(), y.values.max()],\n",
      "c:\\users\\ewdia\\scoop\\apps\\python\\3.9.6\\lib\\site-packages\\statsmodels\\graphics\\gofplots.py:993: UserWarning: marker is redundantly defined by the 'marker' keyword argument and the fmt string \"bo\" (-> marker='o'). The keyword argument will take precedence.\n",
      "  ax.plot(x, y, fmt, **plot_style)\n",
      "c:\\users\\ewdia\\scoop\\apps\\python\\3.9.6\\lib\\site-packages\\statsmodels\\graphics\\gofplots.py:993: UserWarning: color is redundantly defined by the 'color' keyword argument and the fmt string \"bo\" (-> color='b'). The keyword argument will take precedence.\n",
      "  ax.plot(x, y, fmt, **plot_style)\n"
     ]
    },
    {
     "data": {
      "image/png": "[encoded data removed]",
      "text/plain": [
       "<Figure size 648x576 with 6 Axes>"
      ]
     },
     "metadata": {
      "needs_background": "light"
     },
     "output_type": "display_data"
    }
   ],
   "source": [
    "# Gráficos\n",
    "# ==============================================================================\n",
    "fig, axes = plt.subplots(nrows=3, ncols=2, figsize=(9, 8))\n",
    "\n",
    "axes[0, 0].scatter(y, y_pred, edgecolors=(0, 0, 0), alpha = 0.4)\n",
    "axes[0, 0].plot([y.min(), y.max()], [y.values.min(), y.values.max()],\n",
    "                'k--', color = 'black', lw=2)\n",
    "axes[0, 0].set_title('Valor predicho vs valor real', fontsize = 10, fontweight = \"bold\")\n",
    "axes[0, 0].set_xlabel('Real')\n",
    "axes[0, 0].set_ylabel('Predicción')\n",
    "axes[0, 0].tick_params(labelsize = 7)\n",
    "\n",
    "axes[0, 1].scatter(list(range(len(y))), residuos,\n",
    "                   edgecolors=(0, 0, 0), alpha = 0.4)\n",
    "axes[0, 1].axhline(y = 0, linestyle = '--', color = 'black', lw=2)\n",
    "axes[0, 1].set_title('Residuos del modelo', fontsize = 10, fontweight = \"bold\")\n",
    "axes[0, 1].set_xlabel('id')\n",
    "axes[0, 1].set_ylabel('Residuo')\n",
    "axes[0, 1].tick_params(labelsize = 7)\n",
    "\n",
    "sns.histplot(\n",
    "    data    = residuos,\n",
    "    stat    = \"density\",\n",
    "    kde     = True,\n",
    "    line_kws= {'linewidth': 1},\n",
    "    color   = \"firebrick\",\n",
    "    alpha   = 0.3,\n",
    "    ax      = axes[1, 0]\n",
    ")\n",
    "\n",
    "axes[1, 0].set_title('Distribución residuos del modelo', fontsize = 10,\n",
    "                     fontweight = \"bold\")\n",
    "axes[1, 0].set_xlabel(\"Residuo\")\n",
    "axes[1, 0].tick_params(labelsize = 7)\n",
    "\n",
    "\n",
    "sm.qqplot(\n",
    "    residuos,\n",
    "    fit   = True,\n",
    "    line  = 'q',\n",
    "    ax    = axes[1, 1], \n",
    "    color = 'firebrick',\n",
    "    alpha = 0.4,\n",
    "    lw    = 2\n",
    ")\n",
    "axes[1, 1].set_title('Q-Q residuos del modelo', fontsize = 10, fontweight = \"bold\")\n",
    "axes[1, 1].tick_params(labelsize = 7)\n",
    "\n",
    "axes[2, 0].scatter(y_pred, residuos,\n",
    "                   edgecolors=(0, 0, 0), alpha = 0.4)\n",
    "axes[2, 0].axhline(y = 0, linestyle = '--', color = 'black', lw=2)\n",
    "axes[2, 0].set_title('Residuos del modelo vs predicción', fontsize = 10, fontweight = \"bold\")\n",
    "axes[2, 0].set_xlabel('Predicción')\n",
    "axes[2, 0].set_ylabel('Residuo')\n",
    "axes[2, 0].tick_params(labelsize = 7)"
   ]
  },
  {
   "cell_type": "code",
   "execution_count": null,
   "id": "b9dba298-a68c-4746-a287-ea60cc33cc96",
   "metadata": {},
   "outputs": [],
   "source": []
  },
  {
   "cell_type": "code",
   "execution_count": 79,
   "id": "37cec67f-f426-41d4-a198-69fbb101517e",
   "metadata": {},
   "outputs": [
    {
     "name": "stdout",
     "output_type": "stream",
     "text": [
      "Test Shapiro-Wilk, p.valor: 0.79126\n"
     ]
    }
   ],
   "source": [
    "sh_result = stats.shapiro(residuos)\n",
    "# dar formato a la salida----------------------------------------\n",
    "print(\"Test Shapiro-Wilk, p.valor: %5.5f\" %(\n",
    "sh_result.pvalue))"
   ]
  },
  {
   "cell_type": "code",
   "execution_count": 82,
   "id": "29858fb3-1ca1-4fa0-9be6-b22080d2e7c6",
   "metadata": {},
   "outputs": [
    {
     "name": "stdout",
     "output_type": "stream",
     "text": [
      "El resultado del test Breusch-Pagan es: p.valor = 0.024\n"
     ]
    }
   ],
   "source": [
    "m1 = sm.OLS(y, sm.add_constant(x)).fit()\n",
    "bp1 = sms.het_breuschpagan(resid = m1.resid,\n",
    "exog_het = m1.model.exog)[1]\n",
    "print(\"El resultado del test Breusch-Pagan es: p.valor = %5.3f\"\n",
    "%(bp1))"
   ]
  },
  {
   "cell_type": "code",
   "execution_count": 89,
   "id": "b111fc1c-a9aa-47d7-98d4-bb0f0c48ac4c",
   "metadata": {},
   "outputs": [
    {
     "data": {
      "text/html": [
       "<div>\n",
       "<style scoped>\n",
       "    .dataframe tbody tr th:only-of-type {\n",
       "        vertical-align: middle;\n",
       "    }\n",
       "\n",
       "    .dataframe tbody tr th {\n",
       "        vertical-align: top;\n",
       "    }\n",
       "\n",
       "    .dataframe thead th {\n",
       "        text-align: right;\n",
       "    }\n",
       "</style>\n",
       "<table border=\"1\" class=\"dataframe\">\n",
       "  <thead>\n",
       "    <tr style=\"text-align: right;\">\n",
       "      <th></th>\n",
       "      <th>peso</th>\n",
       "      <th>volumen</th>\n",
       "      <th>tapas</th>\n",
       "      <th>tapa_enc</th>\n",
       "    </tr>\n",
       "  </thead>\n",
       "  <tbody>\n",
       "    <tr>\n",
       "      <th>0</th>\n",
       "      <td>849</td>\n",
       "      <td>890</td>\n",
       "      <td>D</td>\n",
       "      <td>1</td>\n",
       "    </tr>\n",
       "    <tr>\n",
       "      <th>1</th>\n",
       "      <td>850</td>\n",
       "      <td>805</td>\n",
       "      <td>D</td>\n",
       "      <td>1</td>\n",
       "    </tr>\n",
       "    <tr>\n",
       "      <th>2</th>\n",
       "      <td>950</td>\n",
       "      <td>1001</td>\n",
       "      <td>D</td>\n",
       "      <td>1</td>\n",
       "    </tr>\n",
       "    <tr>\n",
       "      <th>3</th>\n",
       "      <td>1640</td>\n",
       "      <td>1525</td>\n",
       "      <td>D</td>\n",
       "      <td>1</td>\n",
       "    </tr>\n",
       "    <tr>\n",
       "      <th>4</th>\n",
       "      <td>150</td>\n",
       "      <td>39</td>\n",
       "      <td>D</td>\n",
       "      <td>1</td>\n",
       "    </tr>\n",
       "    <tr>\n",
       "      <th>5</th>\n",
       "      <td>750</td>\n",
       "      <td>701</td>\n",
       "      <td>D</td>\n",
       "      <td>1</td>\n",
       "    </tr>\n",
       "    <tr>\n",
       "      <th>6</th>\n",
       "      <td>600</td>\n",
       "      <td>641</td>\n",
       "      <td>D</td>\n",
       "      <td>1</td>\n",
       "    </tr>\n",
       "    <tr>\n",
       "      <th>7</th>\n",
       "      <td>875</td>\n",
       "      <td>1028</td>\n",
       "      <td>D</td>\n",
       "      <td>1</td>\n",
       "    </tr>\n",
       "    <tr>\n",
       "      <th>8</th>\n",
       "      <td>975</td>\n",
       "      <td>1492</td>\n",
       "      <td>B</td>\n",
       "      <td>0</td>\n",
       "    </tr>\n",
       "    <tr>\n",
       "      <th>9</th>\n",
       "      <td>450</td>\n",
       "      <td>519</td>\n",
       "      <td>B</td>\n",
       "      <td>0</td>\n",
       "    </tr>\n",
       "    <tr>\n",
       "      <th>10</th>\n",
       "      <td>1050</td>\n",
       "      <td>1110</td>\n",
       "      <td>B</td>\n",
       "      <td>0</td>\n",
       "    </tr>\n",
       "    <tr>\n",
       "      <th>11</th>\n",
       "      <td>335</td>\n",
       "      <td>505</td>\n",
       "      <td>B</td>\n",
       "      <td>0</td>\n",
       "    </tr>\n",
       "    <tr>\n",
       "      <th>12</th>\n",
       "      <td>525</td>\n",
       "      <td>834</td>\n",
       "      <td>B</td>\n",
       "      <td>0</td>\n",
       "    </tr>\n",
       "    <tr>\n",
       "      <th>13</th>\n",
       "      <td>850</td>\n",
       "      <td>944</td>\n",
       "      <td>B</td>\n",
       "      <td>0</td>\n",
       "    </tr>\n",
       "    <tr>\n",
       "      <th>14</th>\n",
       "      <td>760</td>\n",
       "      <td>920</td>\n",
       "      <td>B</td>\n",
       "      <td>0</td>\n",
       "    </tr>\n",
       "    <tr>\n",
       "      <th>15</th>\n",
       "      <td>1212</td>\n",
       "      <td>1350</td>\n",
       "      <td>B</td>\n",
       "      <td>0</td>\n",
       "    </tr>\n",
       "  </tbody>\n",
       "</table>\n",
       "</div>"
      ],
      "text/plain": [
       "    peso  volumen tapas  tapa_enc\n",
       "0    849      890     D         1\n",
       "1    850      805     D         1\n",
       "2    950     1001     D         1\n",
       "3   1640     1525     D         1\n",
       "4    150       39     D         1\n",
       "5    750      701     D         1\n",
       "6    600      641     D         1\n",
       "7    875     1028     D         1\n",
       "8    975     1492     B         0\n",
       "9    450      519     B         0\n",
       "10  1050     1110     B         0\n",
       "11   335      505     B         0\n",
       "12   525      834     B         0\n",
       "13   850      944     B         0\n",
       "14   760      920     B         0\n",
       "15  1212     1350     B         0"
      ]
     },
     "execution_count": 89,
     "metadata": {},
     "output_type": "execute_result"
    }
   ],
   "source": [
    "data"
   ]
  },
  {
   "cell_type": "code",
   "execution_count": 92,
   "id": "f30b7693-67b0-4653-ac6c-890387156618",
   "metadata": {},
   "outputs": [
    {
     "name": "stdout",
     "output_type": "stream",
     "text": [
      "  variable        VIF\n",
      "0     peso  36.995504\n",
      "1  volumen  36.995504\n"
     ]
    }
   ],
   "source": [
    "data1 = data[['peso', 'volumen']]\n",
    "ej1_VIF = pd.DataFrame()\n",
    "ej1_VIF[\"variable\"] = data1.columns\n",
    "# aplicar el metodo\n",
    "ej1_VIF[\"VIF\"] = [variance_inflation_factor(data1.values, i) for i in range(len(data1.columns))]\n",
    "print(ej1_VIF)"
   ]
  },
  {
   "cell_type": "code",
   "execution_count": 88,
   "id": "2d5b0ee4-41d9-467b-bea7-b644db95aab8",
   "metadata": {},
   "outputs": [
    {
     "name": "stdout",
     "output_type": "stream",
     "text": [
      "[[849 890 'D' 1]\n",
      " [850 805 'D' 1]\n",
      " [950 1001 'D' 1]\n",
      " [1640 1525 'D' 1]\n",
      " [150 39 'D' 1]\n",
      " [750 701 'D' 1]\n",
      " [600 641 'D' 1]\n",
      " [875 1028 'D' 1]\n",
      " [975 1492 'B' 0]\n",
      " [450 519 'B' 0]\n",
      " [1050 1110 'B' 0]\n",
      " [335 505 'B' 0]\n",
      " [525 834 'B' 0]\n",
      " [850 944 'B' 0]\n",
      " [760 920 'B' 0]\n",
      " [1212 1350 'B' 0]]\n",
      "[[849 890 'D' 1]\n",
      " [850 805 'D' 1]\n",
      " [950 1001 'D' 1]\n",
      " [1640 1525 'D' 1]\n",
      " [150 39 'D' 1]\n",
      " [750 701 'D' 1]\n",
      " [600 641 'D' 1]\n",
      " [875 1028 'D' 1]\n",
      " [975 1492 'B' 0]\n",
      " [450 519 'B' 0]\n",
      " [1050 1110 'B' 0]\n",
      " [335 505 'B' 0]\n",
      " [525 834 'B' 0]\n",
      " [850 944 'B' 0]\n",
      " [760 920 'B' 0]\n",
      " [1212 1350 'B' 0]]\n",
      "[[849 890 'D' 1]\n",
      " [850 805 'D' 1]\n",
      " [950 1001 'D' 1]\n",
      " [1640 1525 'D' 1]\n",
      " [150 39 'D' 1]\n",
      " [750 701 'D' 1]\n",
      " [600 641 'D' 1]\n",
      " [875 1028 'D' 1]\n",
      " [975 1492 'B' 0]\n",
      " [450 519 'B' 0]\n",
      " [1050 1110 'B' 0]\n",
      " [335 505 'B' 0]\n",
      " [525 834 'B' 0]\n",
      " [850 944 'B' 0]\n",
      " [760 920 'B' 0]\n",
      " [1212 1350 'B' 0]]\n",
      "[[849 890 'D' 1]\n",
      " [850 805 'D' 1]\n",
      " [950 1001 'D' 1]\n",
      " [1640 1525 'D' 1]\n",
      " [150 39 'D' 1]\n",
      " [750 701 'D' 1]\n",
      " [600 641 'D' 1]\n",
      " [875 1028 'D' 1]\n",
      " [975 1492 'B' 0]\n",
      " [450 519 'B' 0]\n",
      " [1050 1110 'B' 0]\n",
      " [335 505 'B' 0]\n",
      " [525 834 'B' 0]\n",
      " [850 944 'B' 0]\n",
      " [760 920 'B' 0]\n",
      " [1212 1350 'B' 0]]\n"
     ]
    }
   ],
   "source": [
    "for i in range(len(data.columns)):\n",
    "    print(data.values)"
   ]
  },
  {
   "cell_type": "code",
   "execution_count": null,
   "id": "9781a431-f75f-4734-aeee-9060fa5688c3",
   "metadata": {},
   "outputs": [],
   "source": []
  }
 ],
 "metadata": {
  "kernelspec": {
   "display_name": "Python 3 (ipykernel)",
   "language": "python",
   "name": "python3"
  },
  "language_info": {
   "codemirror_mode": {
    "name": "ipython",
    "version": 3
   },
   "file_extension": ".py",
   "mimetype": "text/x-python",
   "name": "python",
   "nbconvert_exporter": "python",
   "pygments_lexer": "ipython3",
   "version": "3.9.6"
  }
 },
 "nbformat": 4,
 "nbformat_minor": 5
}
