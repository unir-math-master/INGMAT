{
  "nbformat": 4,
  "nbformat_minor": 0,
  "metadata": {
    "colab": {
      "name": "P2.ipynb",
      "provenance": [],
      "collapsed_sections": []
    },
    "kernelspec": {
      "name": "python3",
      "display_name": "Python 3"
    },
    "language_info": {
      "name": "python"
    }
  },
  "cells": [
    {
      "cell_type": "markdown",
      "metadata": {
        "id": "DiciMCc7In4v"
      },
      "source": [
        "P2"
      ]
    },
    {
      "cell_type": "code",
      "metadata": {
        "id": "Nw70fxB6Ic5W"
      },
      "source": [
        "import pandas as pd\n",
        "import numpy as np\n",
        "import matplotlib.pyplot as plt\n",
        "from sklearn import linear_model\n",
        "from sklearn.metrics import mean_squared_error, r2_score\n",
        "from tabulate import tabulate\n",
        "from plotnine import *\n",
        "from sklearn.linear_model import LogisticRegression"
      ],
      "execution_count": 39,
      "outputs": []
    },
    {
      "cell_type": "code",
      "metadata": {
        "id": "pbCXev0wId8o",
        "colab": {
          "base_uri": "https://localhost:8080/"
        },
        "outputId": "96a5d499-984a-45f4-c57b-378b4bc16e7c"
      },
      "source": [
        "y = np.ones(95)\n",
        "y[:86] = 0\n",
        "print(y)"
      ],
      "execution_count": 40,
      "outputs": [
        {
          "output_type": "stream",
          "name": "stdout",
          "text": [
            "[0. 0. 0. 0. 0. 0. 0. 0. 0. 0. 0. 0. 0. 0. 0. 0. 0. 0. 0. 0. 0. 0. 0. 0.\n",
            " 0. 0. 0. 0. 0. 0. 0. 0. 0. 0. 0. 0. 0. 0. 0. 0. 0. 0. 0. 0. 0. 0. 0. 0.\n",
            " 0. 0. 0. 0. 0. 0. 0. 0. 0. 0. 0. 0. 0. 0. 0. 0. 0. 0. 0. 0. 0. 0. 0. 0.\n",
            " 0. 0. 0. 0. 0. 0. 0. 0. 0. 0. 0. 0. 0. 0. 1. 1. 1. 1. 1. 1. 1. 1. 1.]\n"
          ]
        }
      ]
    },
    {
      "cell_type": "code",
      "metadata": {
        "colab": {
          "base_uri": "https://localhost:8080/"
        },
        "id": "SmyhNY9YLwK1",
        "outputId": "cb2b9322-b476-4701-b8d1-31bb9bd69f01"
      },
      "source": [
        "x = np.ones(95)\n",
        "x[:74] = 0\n",
        "x[86:91] = 0\n",
        "print(x)\n",
        "from sklearn import preprocessing\n",
        "#definir variable respuesta\n",
        "x_prepared = x.reshape(-1,1)\n"
      ],
      "execution_count": 42,
      "outputs": [
        {
          "output_type": "stream",
          "name": "stdout",
          "text": [
            "[0. 0. 0. 0. 0. 0. 0. 0. 0. 0. 0. 0. 0. 0. 0. 0. 0. 0. 0. 0. 0. 0. 0. 0.\n",
            " 0. 0. 0. 0. 0. 0. 0. 0. 0. 0. 0. 0. 0. 0. 0. 0. 0. 0. 0. 0. 0. 0. 0. 0.\n",
            " 0. 0. 0. 0. 0. 0. 0. 0. 0. 0. 0. 0. 0. 0. 0. 0. 0. 0. 0. 0. 0. 0. 0. 0.\n",
            " 0. 0. 1. 1. 1. 1. 1. 1. 1. 1. 1. 1. 1. 1. 0. 0. 0. 0. 0. 1. 1. 1. 1.]\n"
          ]
        }
      ]
    },
    {
      "cell_type": "code",
      "metadata": {
        "colab": {
          "base_uri": "https://localhost:8080/"
        },
        "id": "CAasGE6NMPeo",
        "outputId": "dc46c318-9b05-4cae-b354-4974285b5c51"
      },
      "source": [
        "logistic_reg =  LogisticRegression()\n",
        "logistic_reg.fit(x_prepared, y)\n",
        "print(\"El intercepto es = %.3f\" % logistic_reg.intercept_)\n",
        "print(\"El coeficiente es = %.3f\" % logistic_reg.coef_)"
      ],
      "execution_count": 52,
      "outputs": [
        {
          "output_type": "stream",
          "name": "stdout",
          "text": [
            "El intercepto es = -2.495\n",
            "El coeficiente es = 1.020\n"
          ]
        }
      ]
    },
    {
      "cell_type": "code",
      "metadata": {
        "colab": {
          "base_uri": "https://localhost:8080/"
        },
        "id": "5KP4TWJYNdgw",
        "outputId": "6b1ec67d-385f-42e6-f7be-bcb7e271e786"
      },
      "source": [
        "from sklearn.feature_selection import chi2\n",
        "scores, pvalues = chi2(x_prepared, y)\n",
        "print(pvalues)"
      ],
      "execution_count": 53,
      "outputs": [
        {
          "output_type": "stream",
          "name": "stdout",
          "text": [
            "[0.03394611]\n"
          ]
        }
      ]
    }
  ]
}