{
  "nbformat": 4,
  "nbformat_minor": 0,
  "metadata": {
    "colab": {
      "name": "Untitled0.ipynb",
      "provenance": [],
      "collapsed_sections": []
    },
    "kernelspec": {
      "name": "python3",
      "display_name": "Python 3"
    },
    "language_info": {
      "name": "python"
    }
  },
  "cells": [
    {
      "cell_type": "markdown",
      "metadata": {
        "id": "lWIegiKWE-QH"
      },
      "source": [
        "P4"
      ]
    },
    {
      "cell_type": "code",
      "metadata": {
        "id": "NBeRLlbblTR7"
      },
      "source": [
        "import pandas as pd\n",
        "import numpy as np\n",
        "from pandas.core.common import flatten\n",
        "from plotnine import *\n",
        "from array import *\n",
        "import scipy.stats as stats\n",
        "import math\n",
        "import matplotlib as mpl\n",
        "import matplotlib.pyplot as plt\n",
        "import statsmodels.api as sm\n",
        "from sklearn import linear_model\n",
        "from sklearn.metrics import mean_squared_error, r2_score\n",
        "import statsmodels.formula.api as smf\n",
        "import statsmodels.stats.api as sms\n"
      ],
      "execution_count": 1,
      "outputs": []
    },
    {
      "cell_type": "code",
      "metadata": {
        "id": "67S_ggQ78Fun",
        "colab": {
          "base_uri": "https://localhost:8080/"
        },
        "outputId": "fc45510c-e5ca-48c7-eb09-eb820238440a"
      },
      "source": [
        "X = {'volumen' : [890, 805, 1001, 1525, 39, 701, 641, 1028, 1492, 519, 1110, 505, 834, 944, 920, 1350],\n",
        "     'tapas': [0, 0, 0, 0, 0, 0, 0, 0, 1, 1, 1, 1, 1, 1, 1, 1]}\n",
        "X = pd.DataFrame(X, columns = ['volumen', 'tapas'])\n",
        "volumen = [890, 805, 1001, 1525, 39, 701, 641, 1028, 1492, 519, 1110, 505, 834, 944, 920, 1350]\n",
        "peso = [849, 850, 950, 1640, 150, 750, 600, 875, 975, 450, 1050, 335, 525, 850, 760, 1212]\n",
        "print(X)\n",
        "print(peso)"
      ],
      "execution_count": 4,
      "outputs": [
        {
          "output_type": "stream",
          "name": "stdout",
          "text": [
            "    volumen  tapas\n",
            "0       890      0\n",
            "1       805      0\n",
            "2      1001      0\n",
            "3      1525      0\n",
            "4        39      0\n",
            "5       701      0\n",
            "6       641      0\n",
            "7      1028      0\n",
            "8      1492      1\n",
            "9       519      1\n",
            "10     1110      1\n",
            "11      505      1\n",
            "12      834      1\n",
            "13      944      1\n",
            "14      920      1\n",
            "15     1350      1\n",
            "[849, 850, 950, 1640, 150, 750, 600, 875, 975, 450, 1050, 335, 525, 850, 760, 1212]\n"
          ]
        }
      ]
    },
    {
      "cell_type": "code",
      "metadata": {
        "id": "fDAXb-lW8F9k",
        "colab": {
          "base_uri": "https://localhost:8080/",
          "height": 282
        },
        "outputId": "591c0af8-8250-466d-99f9-ee2ef93b5b94"
      },
      "source": [
        "peso = [849, 850, 950, 1640, 150, 750, 600, 875, 975, 450, 1050, 335, 525, 850, 760, 1212]\n",
        "volumen = [890, 805, 1001, 1525, 39, 701, 641, 1028, 1492, 519, 1110, 505, 834, 944, 920, 1350]\n",
        "plt.scatter(volumen, peso)"
      ],
      "execution_count": 85,
      "outputs": [
        {
          "output_type": "execute_result",
          "data": {
            "text/plain": [
              "<matplotlib.collections.PathCollection at 0x7f33461bc290>"
            ]
          },
          "metadata": {},
          "execution_count": 85
        },
        {
          "output_type": "display_data",
          "data": {
            "image/png": "[encoded data removed]",
            "text/plain": [
              "<Figure size 432x288 with 1 Axes>"
            ]
          },
          "metadata": {
            "needs_background": "light"
          }
        }
      ]
    },
    {
      "cell_type": "code",
      "metadata": {
        "id": "K2YkoYi_8GKA",
        "colab": {
          "base_uri": "https://localhost:8080/",
          "height": 520
        },
        "outputId": "cb5c07f6-8312-4f94-92e0-aadb159cef4e"
      },
      "source": [
        "peso_duras = [849, 850, 950, 1640, 150, 750, 600, 875]\n",
        "peso_blandas = [975, 450, 1050, 335, 525, 850, 760, 1212]\n",
        "plt.boxplot([peso_duras, peso_blandas])"
      ],
      "execution_count": 5,
      "outputs": [
        {
          "output_type": "execute_result",
          "data": {
            "text/plain": [
              "{'boxes': [<matplotlib.lines.Line2D at 0x7f0559fae050>,\n",
              "  <matplotlib.lines.Line2D at 0x7f0559fc0790>],\n",
              " 'caps': [<matplotlib.lines.Line2D at 0x7f0559fb8110>,\n",
              "  <matplotlib.lines.Line2D at 0x7f0559fb8650>,\n",
              "  <matplotlib.lines.Line2D at 0x7f0559fc9750>,\n",
              "  <matplotlib.lines.Line2D at 0x7f0559fc9c90>],\n",
              " 'fliers': [<matplotlib.lines.Line2D at 0x7f055a01c610>,\n",
              "  <matplotlib.lines.Line2D at 0x7f0559fd2750>],\n",
              " 'means': [],\n",
              " 'medians': [<matplotlib.lines.Line2D at 0x7f0559fb8bd0>,\n",
              "  <matplotlib.lines.Line2D at 0x7f0559fd2210>],\n",
              " 'whiskers': [<matplotlib.lines.Line2D at 0x7f0559fae650>,\n",
              "  <matplotlib.lines.Line2D at 0x7f0559faeb90>,\n",
              "  <matplotlib.lines.Line2D at 0x7f0559fc0cd0>,\n",
              "  <matplotlib.lines.Line2D at 0x7f0559fc9210>]}"
            ]
          },
          "metadata": {},
          "execution_count": 5
        },
        {
          "output_type": "display_data",
          "data": {
            "image/png": "[encoded data removed]",
            "text/plain": [
              "<Figure size 432x288 with 1 Axes>"
            ]
          },
          "metadata": {
            "needs_background": "light"
          }
        }
      ]
    },
    {
      "cell_type": "code",
      "metadata": {
        "colab": {
          "base_uri": "https://localhost:8080/",
          "height": 282
        },
        "id": "YQ0RpyJIFt1S",
        "outputId": "ecb287ec-066c-4cfa-f184-0fe6aefc4fcf"
      },
      "source": [
        "volumen_duras = [890, 805, 1001, 1525, 39, 701, 641, 1028]\n",
        "volumen_blandas = [1492, 519, 1110, 505, 834, 944, 920, 1350]\n",
        "plt.scatter(volumen_duras, peso_duras)\n"
      ],
      "execution_count": 7,
      "outputs": [
        {
          "output_type": "execute_result",
          "data": {
            "text/plain": [
              "<matplotlib.collections.PathCollection at 0x7f0559aca410>"
            ]
          },
          "metadata": {},
          "execution_count": 7
        },
        {
          "output_type": "display_data",
          "data": {
            "image/png": "[encoded data removed]",
            "text/plain": [
              "<Figure size 432x288 with 1 Axes>"
            ]
          },
          "metadata": {
            "needs_background": "light"
          }
        }
      ]
    },
    {
      "cell_type": "code",
      "metadata": {
        "colab": {
          "base_uri": "https://localhost:8080/",
          "height": 282
        },
        "id": "7Jt9cFPgGN9Q",
        "outputId": "ab5cf38b-a1ed-41ec-bc21-4ff473ad3f35"
      },
      "source": [
        "plt.scatter(volumen_blandas, peso_blandas)\n"
      ],
      "execution_count": 8,
      "outputs": [
        {
          "output_type": "execute_result",
          "data": {
            "text/plain": [
              "<matplotlib.collections.PathCollection at 0x7f0559a44dd0>"
            ]
          },
          "metadata": {},
          "execution_count": 8
        },
        {
          "output_type": "display_data",
          "data": {
            "image/png": "[encoded data removed]",
            "text/plain": [
              "<Figure size 432x288 with 1 Axes>"
            ]
          },
          "metadata": {
            "needs_background": "light"
          }
        }
      ]
    },
    {
      "cell_type": "code",
      "metadata": {
        "id": "TUh1MfwP8GQO",
        "colab": {
          "base_uri": "https://localhost:8080/"
        },
        "outputId": "90eb6191-c600-4d01-ad8e-e4024fe57206"
      },
      "source": [
        "# correlación\n",
        "x = X[\"volumen\"].values.reshape(-1,1)\n",
        "# crear el modelo------------------------------------------------\n",
        "lm1 = linear_model.LinearRegression()\n",
        "lm1.fit(x, peso)\n",
        "peso_pred = lm1.predict(x)\n",
        "print(\"Coeficiente de det. R2: %.4f\"\n",
        "% r2_score(peso, peso_pred))\n",
        "r = pow(0.8281, 0.5)\n",
        "print(\"r = \",r)"
      ],
      "execution_count": 13,
      "outputs": [
        {
          "output_type": "stream",
          "name": "stdout",
          "text": [
            "Coeficiente de det. R2: 0.8281\n",
            "r =  0.9099999999999999\n"
          ]
        }
      ]
    },
    {
      "cell_type": "code",
      "metadata": {
        "id": "gdok5TAw8GUw",
        "colab": {
          "base_uri": "https://localhost:8080/"
        },
        "outputId": "3d2ff041-2bfa-46b9-e9a2-b1bb181bc89b"
      },
      "source": [
        "import statsmodels.api as sm\n",
        "from scipy import stats\n",
        "# anyadir intercepto---------------------------------------------\n",
        "X2 = sm.add_constant(X)\n",
        "# ajustar el modelo----------------------------------------------\n",
        "est = sm.OLS(peso, X2)\n",
        "# ver ajuste-----------------------------------------------------\n",
        "est = est.fit()\n",
        "print(est.summary())"
      ],
      "execution_count": 14,
      "outputs": [
        {
          "output_type": "stream",
          "name": "stdout",
          "text": [
            "                            OLS Regression Results                            \n",
            "==============================================================================\n",
            "Dep. Variable:                      y   R-squared:                       0.894\n",
            "Model:                            OLS   Adj. R-squared:                  0.878\n",
            "Method:                 Least Squares   F-statistic:                     54.99\n",
            "Date:                Tue, 07 Sep 2021   Prob (F-statistic):           4.53e-07\n",
            "Time:                        21:12:46   Log-Likelihood:                -98.140\n",
            "No. Observations:                  16   AIC:                             202.3\n",
            "Df Residuals:                      13   BIC:                             204.6\n",
            "Df Model:                           2                                         \n",
            "Covariance Type:            nonrobust                                         \n",
            "==============================================================================\n",
            "                 coef    std err          t      P>|t|      [0.025      0.975]\n",
            "------------------------------------------------------------------------------\n",
            "const         95.8940     83.086      1.154      0.269     -83.602     275.390\n",
            "volumen        0.8894      0.085     10.437      0.000       0.705       1.074\n",
            "tapas       -179.4442     62.891     -2.853      0.014    -315.311     -43.577\n",
            "==============================================================================\n",
            "Omnibus:                        1.996   Durbin-Watson:                   1.738\n",
            "Prob(Omnibus):                  0.369   Jarque-Bera (JB):                0.880\n",
            "Skew:                          -0.571   Prob(JB):                        0.644\n",
            "Kurtosis:                       3.126   Cond. No.                     2.67e+03\n",
            "==============================================================================\n",
            "\n",
            "Warnings:\n",
            "[1] Standard Errors assume that the covariance matrix of the errors is correctly specified.\n",
            "[2] The condition number is large, 2.67e+03. This might indicate that there are\n",
            "strong multicollinearity or other numerical problems.\n"
          ]
        },
        {
          "output_type": "stream",
          "name": "stderr",
          "text": [
            "/usr/local/lib/python3.7/dist-packages/scipy/stats/stats.py:1535: UserWarning: kurtosistest only valid for n>=20 ... continuing anyway, n=16\n",
            "  \"anyway, n=%i\" % int(n))\n"
          ]
        }
      ]
    },
    {
      "cell_type": "code",
      "metadata": {
        "colab": {
          "base_uri": "https://localhost:8080/"
        },
        "id": "AJ7asR6ydcUk",
        "outputId": "a66c4c89-5772-44a2-94b3-1313cc64150b"
      },
      "source": [
        "lm2 = linear_model.LinearRegression()\n",
        "lm2.fit(X, peso)\n",
        "peso_pred_2 = lm2.predict(X)\n",
        "print(\"Coeficiente de det. R2: %.4f\"\n",
        "% r2_score(peso, peso_pred_2))"
      ],
      "execution_count": 15,
      "outputs": [
        {
          "output_type": "stream",
          "name": "stdout",
          "text": [
            "Coeficiente de det. R2: 0.8943\n"
          ]
        }
      ]
    }
  ]
}