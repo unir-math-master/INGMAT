{
  "nbformat": 4,
  "nbformat_minor": 0,
  "metadata": {
    "colab": {
      "name": "Ejercicio 1 Tema 9.ipynb",
      "provenance": []
    },
    "kernelspec": {
      "name": "python3",
      "display_name": "Python 3"
    },
    "language_info": {
      "name": "python"
    }
  },
  "cells": [
    {
      "cell_type": "code",
      "metadata": {
        "colab": {
          "base_uri": "https://localhost:8080/"
        },
        "id": "zKHoW8vPAuO6",
        "outputId": "f03e585f-fa5f-46fa-ca9b-dadc2eaecc1d"
      },
      "source": [
        "#EJERCICIO 1\n",
        "# cargar librerÌas-----------------------------------------------\n",
        "import pandas as pd\n",
        "import os, sys\n",
        "import matplotlib as mpl\n",
        "import matplotlib.pyplot as plt\n",
        "import numpy as np\n",
        "import io\n",
        "\n",
        "# cargar base----------------------------------------------------\n",
        "\n",
        "url = 'https://raw.githubusercontent.com/ninelUNIR/ejemplos/main/mb.csv'\n",
        "mb = pd.read_csv(url)\n",
        "\n",
        "# info de la base------------------------------------------------\n",
        "print(mb.info())"
      ],
      "execution_count": null,
      "outputs": [
        {
          "output_type": "stream",
          "text": [
            "<class 'pandas.core.frame.DataFrame'>\n",
            "RangeIndex: 1175 entries, 0 to 1174\n",
            "Data columns (total 54 columns):\n",
            " #   Column                 Non-Null Count  Dtype  \n",
            "---  ------                 --------------  -----  \n",
            " 0   alanine                1175 non-null   float64\n",
            " 1   creatin.phosphate      1175 non-null   float64\n",
            " 2   creatine               1175 non-null   float64\n",
            " 3   cysteine               1175 non-null   float64\n",
            " 4   glutamine              1175 non-null   float64\n",
            " 5   n.acetylglutamine      1175 non-null   float64\n",
            " 6   proline                1175 non-null   float64\n",
            " 7   tryptophan             1175 non-null   float64\n",
            " 8   tyrosine               1175 non-null   float64\n",
            " 9   isoleucine             1175 non-null   float64\n",
            " 10  leucine                1175 non-null   float64\n",
            " 11  valine                 1175 non-null   float64\n",
            " 12  fa.ch2ch2co            1175 non-null   float64\n",
            " 13  fa.ch2ch3              1175 non-null   float64\n",
            " 14  fa.ch2n                1175 non-null   float64\n",
            " 15  fa.ch3                 1175 non-null   float64\n",
            " 16  fa.chch2ch             1175 non-null   float64\n",
            " 17  isobutyrate            1175 non-null   float64\n",
            " 18  albumin                1175 non-null   float64\n",
            " 19  creatinine             1175 non-null   float64\n",
            " 20  citrate                1175 non-null   float64\n",
            " 21  lactate                1175 non-null   float64\n",
            " 22  pyruvate               1175 non-null   float64\n",
            " 23  acetate                1175 non-null   float64\n",
            " 24  acetone                1175 non-null   float64\n",
            " 25  hydroxybutyrate.3      1175 non-null   float64\n",
            " 26  ethanol                1175 non-null   float64\n",
            " 27  isopropanol            1175 non-null   float64\n",
            " 28  methanol               1175 non-null   float64\n",
            " 29  trimethylamines        1175 non-null   float64\n",
            " 30  phenylpropionate       1175 non-null   float64\n",
            " 31  O.phosphoethanolamine  1175 non-null   float64\n",
            " 32  total.c                1175 non-null   float64\n",
            " 33  vldl.c                 1175 non-null   float64\n",
            " 34  ldl.c                  1175 non-null   float64\n",
            " 35  idl.c                  1175 non-null   float64\n",
            " 36  hdl.c                  1175 non-null   float64\n",
            " 37  total.tg               1175 non-null   float64\n",
            " 38  vldl.tg                1175 non-null   float64\n",
            " 39  ldl.tg                 1175 non-null   float64\n",
            " 40  idl.tg                 1175 non-null   float64\n",
            " 41  hdl.tg                 1175 non-null   float64\n",
            " 42  total.vldl             1175 non-null   float64\n",
            " 43  large.vldl             1175 non-null   float64\n",
            " 44  medium.vldl            1175 non-null   float64\n",
            " 45  small.vldl             1175 non-null   float64\n",
            " 46  total.ldl              1175 non-null   float64\n",
            " 47  large.ldl              1175 non-null   float64\n",
            " 48  medium.ldl             1175 non-null   float64\n",
            " 49  small.ldl              1175 non-null   float64\n",
            " 50  total.hdl              1175 non-null   float64\n",
            " 51  large.hdl              1175 non-null   float64\n",
            " 52  medium.hdl             1175 non-null   float64\n",
            " 53  small.hdl              1175 non-null   float64\n",
            "dtypes: float64(54)\n",
            "memory usage: 495.8 KB\n",
            "None\n"
          ],
          "name": "stdout"
        }
      ]
    },
    {
      "cell_type": "code",
      "metadata": {
        "colab": {
          "base_uri": "https://localhost:8080/"
        },
        "id": "S4U1zgVtU5a4",
        "outputId": "737892e1-3fab-4814-96de-63b1ac42a370"
      },
      "source": [
        "# se aplica el PCA con sklearn-----------------------------------\n",
        "from sklearn.decomposition import PCA\n",
        "\n",
        "# crear clase PCA con n componentes------------------------------\n",
        "pca = PCA()\n",
        "\n",
        "# obtener la proyeccion de la matriz mb en las componentes principales--\n",
        "mb_PC = pca.fit_transform(mb)\n",
        "\n",
        "# comprobamos la dim de mb_PC------------------------------------\n",
        "mb_PC.shape"
      ],
      "execution_count": null,
      "outputs": [
        {
          "output_type": "execute_result",
          "data": {
            "text/plain": [
              "(1175, 54)"
            ]
          },
          "metadata": {
            "tags": []
          },
          "execution_count": 2
        }
      ]
    },
    {
      "cell_type": "code",
      "metadata": {
        "colab": {
          "base_uri": "https://localhost:8080/"
        },
        "id": "xGT3b7qjU-Wu",
        "outputId": "4fbaf0c8-02fd-496c-e57a-0f56088314d5"
      },
      "source": [
        "# 95% varianza\n",
        "\n",
        "print(pca.explained_variance_ratio_)\n",
        "\n",
        "# suma de las varianzas de todas las componentes principales-----\n",
        "print(round(sum(pca.explained_variance_ratio_), 5))"
      ],
      "execution_count": null,
      "outputs": [
        {
          "output_type": "stream",
          "text": [
            "[6.54113751e-01 1.18315153e-01 8.57161065e-02 4.49026558e-02\n",
            " 2.40614153e-02 1.57406515e-02 1.19984404e-02 1.07629315e-02\n",
            " 7.25341646e-03 5.09067583e-03 4.14285028e-03 2.86864343e-03\n",
            " 2.45528447e-03 1.87532558e-03 1.66420326e-03 1.51093331e-03\n",
            " 1.29703833e-03 1.15389535e-03 8.64402585e-04 8.08919830e-04\n",
            " 5.22737224e-04 4.35979353e-04 3.79831616e-04 3.39089074e-04\n",
            " 2.91621961e-04 2.25647457e-04 1.92138875e-04 1.40931503e-04\n",
            " 1.20856631e-04 1.16412240e-04 9.12743328e-05 7.54115534e-05\n",
            " 6.91451154e-05 5.60639983e-05 4.88777554e-05 3.89308594e-05\n",
            " 3.46320905e-05 3.20654047e-05 2.95220832e-05 2.72828096e-05\n",
            " 2.34086263e-05 1.87246371e-05 1.62239037e-05 1.52212230e-05\n",
            " 1.21886973e-05 1.12322939e-05 9.69063850e-06 7.50877781e-06\n",
            " 6.46432044e-06 4.32411037e-06 3.67087520e-06 2.56866886e-06\n",
            " 2.47900852e-06 1.14812962e-06]\n",
            "1.0\n"
          ],
          "name": "stdout"
        }
      ]
    },
    {
      "cell_type": "code",
      "metadata": {
        "colab": {
          "base_uri": "https://localhost:8080/"
        },
        "id": "3tMq9cqFVMhR",
        "outputId": "c98e5a5b-5b84-4b5a-be0e-0d7590f68951"
      },
      "source": [
        "# acumulado de la varianza de todas las componentes principales--\n",
        "print(pca.explained_variance_ratio_.cumsum())"
      ],
      "execution_count": null,
      "outputs": [
        {
          "output_type": "stream",
          "text": [
            "[0.65411375 0.7724289  0.85814501 0.90304767 0.92710908 0.94284973\n",
            " 0.95484817 0.96561111 0.97286452 0.9779552  0.98209805 0.98496669\n",
            " 0.98742198 0.9892973  0.9909615  0.99247244 0.99376948 0.99492337\n",
            " 0.99578777 0.99659669 0.99711943 0.99755541 0.99793524 0.99827433\n",
            " 0.99856595 0.9987916  0.99898374 0.99912467 0.99924553 0.99936194\n",
            " 0.99945321 0.99952863 0.99959777 0.99965384 0.99970271 0.99974164\n",
            " 0.99977628 0.99980834 0.99983786 0.99986515 0.99988855 0.99990728\n",
            " 0.9999235  0.99993872 0.99995091 0.99996215 0.99997184 0.99997934\n",
            " 0.99998581 0.99999013 0.9999938  0.99999637 0.99999885 1.        ]\n"
          ],
          "name": "stdout"
        }
      ]
    },
    {
      "cell_type": "code",
      "metadata": {
        "colab": {
          "base_uri": "https://localhost:8080/"
        },
        "id": "7jwzEVI5VPEI",
        "outputId": "48b72257-610d-46db-f2d7-e65a8d706f82"
      },
      "source": [
        "# crear clase PCA con 7 componentes------------------------------\n",
        "pca_7 = PCA(n_components = 7)\n",
        "# obtener la proyeccion de la matriz mb en las com principales---\n",
        "mb_PC_7 = pca_7.fit_transform(mb)\n",
        "# comprobamos la dim de mb_PC------------------------------------\n",
        "mb_PC_7.shape"
      ],
      "execution_count": null,
      "outputs": [
        {
          "output_type": "execute_result",
          "data": {
            "text/plain": [
              "(1175, 7)"
            ]
          },
          "metadata": {
            "tags": []
          },
          "execution_count": 5
        }
      ]
    },
    {
      "cell_type": "code",
      "metadata": {
        "colab": {
          "base_uri": "https://localhost:8080/"
        },
        "id": "AzrZISl-VfTH",
        "outputId": "1ddd63ba-4f4e-4cc1-8ecc-c4c87a80c21a"
      },
      "source": [
        "# crear clase PCA con 0.95 varianza explicada--------------------\n",
        "pca_7_bis = PCA(n_components = 0.95)\n",
        "# obtener la proyeccion de la matriz mb en las comp principales--\n",
        "mb_PC_7_bis = pca_7_bis.fit_transform(mb)\n",
        "# comprobamos la dim de mb_PC------------------------------------\n",
        "mb_PC_7_bis.shape"
      ],
      "execution_count": null,
      "outputs": [
        {
          "output_type": "execute_result",
          "data": {
            "text/plain": [
              "(1175, 7)"
            ]
          },
          "metadata": {
            "tags": []
          },
          "execution_count": 6
        }
      ]
    },
    {
      "cell_type": "code",
      "metadata": {
        "colab": {
          "base_uri": "https://localhost:8080/"
        },
        "id": "W2t2UFpxV6zf",
        "outputId": "b2fba999-f146-4632-a707-84f0433b2f38"
      },
      "source": [
        "# representacion conjunto de datos en componentes principales----\n",
        "mb_PC_7_df = pd.DataFrame(data = mb_PC_7,\n",
        "columns = [\"PC1\",\"PC2\",\"PC3\",\"PC4\",\"PC5\",\"PC6\",\"PC7\"])\n",
        "# primeras observaciones del nuevo conjunto de datos-------------\n",
        "print(mb_PC_7_df.head())"
      ],
      "execution_count": null,
      "outputs": [
        {
          "output_type": "stream",
          "text": [
            "        PC1       PC2       PC3       PC4       PC5       PC6       PC7\n",
            "0 -1.306603 -0.034829  0.229271 -0.451673  0.280762 -0.211505 -0.170965\n",
            "1  0.081369 -1.001265 -0.069101 -0.164533  0.321772 -0.220157  0.046266\n",
            "2  4.451763 -2.034792 -1.154947  0.372276 -0.755619  0.136551  0.365415\n",
            "3  2.773560  5.209073 -0.228254 -0.382472 -0.208598 -0.044352 -1.104795\n",
            "4  0.399323 -0.036426  0.743607  1.228068  0.175580  0.250503 -0.358554\n"
          ],
          "name": "stdout"
        }
      ]
    },
    {
      "cell_type": "code",
      "metadata": {
        "colab": {
          "base_uri": "https://localhost:8080/",
          "height": 265
        },
        "id": "qB7HBoklV_P4",
        "outputId": "b2360f02-4c30-4ab6-edca-20913b3f90a4"
      },
      "source": [
        "# CODO\n",
        "\n",
        "# representacion conjunto de datos en componentes principales----\n",
        "plt.plot(pca.explained_variance_ratio_.cumsum())\n",
        "plt.show()"
      ],
      "execution_count": null,
      "outputs": [
        {
          "output_type": "display_data",
          "data": {
            "image/png": "[encoded data removed]",
            "text/plain": [
              "<Figure size 432x288 with 1 Axes>"
            ]
          },
          "metadata": {
            "tags": [],
            "needs_background": "light"
          }
        }
      ]
    },
    {
      "cell_type": "code",
      "metadata": {
        "colab": {
          "base_uri": "https://localhost:8080/"
        },
        "id": "wouRgTi_WEyv",
        "outputId": "7fde2382-726a-4af0-aa34-bb22e10667f5"
      },
      "source": [
        "pca_10 = PCA(n_components = 10)\n",
        "mb_PC_10 = pca_10.fit_transform(mb)\n",
        "\n",
        "# representacion conjunto de datos en componentes principales----\n",
        "mb_PC_10_df = pd.DataFrame(data = mb_PC_10\n",
        "             , columns = [\"PC1\",\"PC2\",\"PC3\",\"PC4\",\"PC5\",\"PC6\",\n",
        "             \"PC7\",\"PC8\",\"PC9\",\"PC10\"])\n",
        "\n",
        "# primeras observaciones del nuevo conjunto de datos-------------\n",
        "print(mb_PC_10_df.head())"
      ],
      "execution_count": null,
      "outputs": [
        {
          "output_type": "stream",
          "text": [
            "        PC1       PC2       PC3  ...       PC8       PC9      PC10\n",
            "0 -1.306603 -0.034829  0.229271  ...  0.076533  0.342417  0.326693\n",
            "1  0.081369 -1.001265 -0.069101  ... -0.023822 -0.301291  0.193222\n",
            "2  4.451763 -2.034792 -1.154947  ...  0.767979  0.102949 -0.160447\n",
            "3  2.773560  5.209073 -0.228254  ...  1.025534 -0.169929 -0.091042\n",
            "4  0.399323 -0.036426  0.743607  ...  0.159049  0.257652 -0.204033\n",
            "\n",
            "[5 rows x 10 columns]\n"
          ],
          "name": "stdout"
        }
      ]
    },
    {
      "cell_type": "code",
      "metadata": {
        "colab": {
          "base_uri": "https://localhost:8080/"
        },
        "id": "Mrq7yrnFByQy",
        "outputId": "2e064912-8c24-4a75-e548-f589515978c8"
      },
      "source": [
        "# KAISER\n",
        "\n",
        "# varianza explicada por las componentes principales-------------\n",
        "print(pca.explained_variance_)"
      ],
      "execution_count": null,
      "outputs": [
        {
          "output_type": "stream",
          "text": [
            "[5.84872221e+00 1.05790845e+00 7.66425862e-01 4.01494632e-01\n",
            " 2.15143824e-01 1.40744171e-01 1.07283396e-01 9.62361612e-02\n",
            " 6.48560252e-02 4.55179986e-02 3.70430685e-02 2.56498178e-02\n",
            " 2.19537913e-02 1.67681207e-02 1.48803821e-02 1.35099273e-02\n",
            " 1.15973971e-02 1.03174920e-02 7.72900828e-03 7.23291227e-03\n",
            " 4.67402620e-03 3.89828546e-03 3.39624355e-03 3.03194635e-03\n",
            " 2.60752176e-03 2.01761435e-03 1.71799921e-03 1.26013130e-03\n",
            " 1.08063293e-03 1.04089365e-03 8.16124437e-04 6.74288266e-04\n",
            " 6.18257255e-04 5.01293164e-04 4.37037767e-04 3.48098143e-04\n",
            " 3.09660937e-04 2.86711057e-04 2.63970086e-04 2.43947744e-04\n",
            " 2.09306948e-04 1.67425315e-04 1.45065145e-04 1.36099730e-04\n",
            " 1.08984568e-04 1.00432940e-04 8.66483123e-05 6.71393247e-05\n",
            " 5.78003665e-05 3.86637955e-05 3.28229291e-05 2.29676116e-05\n",
            " 2.21659187e-05 1.02659380e-05]\n"
          ],
          "name": "stdout"
        }
      ]
    },
    {
      "cell_type": "code",
      "metadata": {
        "colab": {
          "base_uri": "https://localhost:8080/"
        },
        "id": "cd-FG0ojWhzR",
        "outputId": "5dbda59e-7e20-4be6-b527-3778fe508198"
      },
      "source": [
        "pca_2 = PCA(n_components = 2)\n",
        "mb_PC_2 = pca_2.fit_transform(mb)\n",
        "# representacion conjunto de datos en componentes principales----\n",
        "mb_PC_2_df = pd.DataFrame(data = mb_PC_2\n",
        "             , columns = [\"PC1\",\"PC2\"])\n",
        "# primeras observaciones del nuevo conjunto de datos-------------\n",
        "print(mb_PC_2_df.head())"
      ],
      "execution_count": null,
      "outputs": [
        {
          "output_type": "stream",
          "text": [
            "        PC1       PC2\n",
            "0 -1.306603 -0.034829\n",
            "1  0.081369 -1.001265\n",
            "2  4.451763 -2.034792\n",
            "3  2.773560  5.209073\n",
            "4  0.399323 -0.036426\n"
          ],
          "name": "stdout"
        }
      ]
    }
  ]
}