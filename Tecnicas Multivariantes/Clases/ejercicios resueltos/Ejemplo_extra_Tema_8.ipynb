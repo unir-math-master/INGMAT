{
  "nbformat": 4,
  "nbformat_minor": 0,
  "metadata": {
    "colab": {
      "name": "Ejemplo extra Tema 8.ipynb",
      "provenance": []
    },
    "kernelspec": {
      "name": "python3",
      "display_name": "Python 3"
    },
    "language_info": {
      "name": "python"
    }
  },
  "cells": [
    {
      "cell_type": "code",
      "metadata": {
        "id": "I0dmqBNo7w8Q"
      },
      "source": [
        "import urllib.request\n",
        "import pandas as pd\n",
        "from sklearn.model_selection import train_test_split\n",
        "from sklearn.ensemble import RandomForestClassifier\n",
        "from sklearn.tree import DecisionTreeClassifier"
      ],
      "execution_count": null,
      "outputs": []
    },
    {
      "cell_type": "code",
      "metadata": {
        "id": "WBtDLeUT71N-",
        "colab": {
          "base_uri": "https://localhost:8080/"
        },
        "outputId": "2e9ce34a-478a-4b82-f3f1-9e87e66a7314"
      },
      "source": [
        "file_name = 'dataR2.csv'\n",
        "def download_file(file_name):\n",
        "    print('Descargando el dataset')\n",
        "    url = 'https://archive.ics.uci.edu/ml/machine-learning-databases/00451/dataR2.csv'\n",
        "    urllib.request.urlretrieve(url, file_name)\n",
        "download_file(file_name)"
      ],
      "execution_count": null,
      "outputs": [
        {
          "output_type": "stream",
          "text": [
            "Descargando el dataset\n"
          ],
          "name": "stdout"
        }
      ]
    },
    {
      "cell_type": "code",
      "metadata": {
        "id": "XzAgkaJT740i"
      },
      "source": [
        "data = pd.read_csv(file_name)\n",
        "y = data[\"Classification\"]\n",
        "X = data.drop([\"Classification\"], axis=1)\n",
        "(X_train, X_test,\n",
        " y_train, y_test) = train_test_split(X,\n",
        "                                     y,\n",
        "                                     stratify=y,\n",
        "                                     test_size=0.33,\n",
        "                                     random_state=11)"
      ],
      "execution_count": null,
      "outputs": []
    },
    {
      "cell_type": "code",
      "metadata": {
        "id": "NWnlYVj58eCy",
        "colab": {
          "base_uri": "https://localhost:8080/"
        },
        "outputId": "f71cddaf-92a1-41c7-d217-5d40ae7b3537"
      },
      "source": [
        "print(data.info())\n",
        "print(data.describe())"
      ],
      "execution_count": null,
      "outputs": [
        {
          "output_type": "stream",
          "text": [
            "<class 'pandas.core.frame.DataFrame'>\n",
            "RangeIndex: 116 entries, 0 to 115\n",
            "Data columns (total 10 columns):\n",
            " #   Column          Non-Null Count  Dtype  \n",
            "---  ------          --------------  -----  \n",
            " 0   Age             116 non-null    int64  \n",
            " 1   BMI             116 non-null    float64\n",
            " 2   Glucose         116 non-null    int64  \n",
            " 3   Insulin         116 non-null    float64\n",
            " 4   HOMA            116 non-null    float64\n",
            " 5   Leptin          116 non-null    float64\n",
            " 6   Adiponectin     116 non-null    float64\n",
            " 7   Resistin        116 non-null    float64\n",
            " 8   MCP.1           116 non-null    float64\n",
            " 9   Classification  116 non-null    int64  \n",
            "dtypes: float64(7), int64(3)\n",
            "memory usage: 9.2 KB\n",
            "None\n",
            "              Age         BMI  ...        MCP.1  Classification\n",
            "count  116.000000  116.000000  ...   116.000000      116.000000\n",
            "mean    57.301724   27.582111  ...   534.647000        1.551724\n",
            "std     16.112766    5.020136  ...   345.912663        0.499475\n",
            "min     24.000000   18.370000  ...    45.843000        1.000000\n",
            "25%     45.000000   22.973205  ...   269.978250        1.000000\n",
            "50%     56.000000   27.662416  ...   471.322500        2.000000\n",
            "75%     71.000000   31.241442  ...   700.085000        2.000000\n",
            "max     89.000000   38.578759  ...  1698.440000        2.000000\n",
            "\n",
            "[8 rows x 10 columns]\n"
          ],
          "name": "stdout"
        }
      ]
    },
    {
      "cell_type": "code",
      "metadata": {
        "id": "hlZTRlVX7-cr",
        "colab": {
          "base_uri": "https://localhost:8080/"
        },
        "outputId": "4cab7162-72f1-4b13-ab95-6a278ea1ce61"
      },
      "source": [
        "tree = DecisionTreeClassifier(random_state=11)\n",
        "tree.fit(X_train, y_train)\n",
        "print(f\"Tree Accuracy: {tree.score(X_test, y_test)}\")"
      ],
      "execution_count": null,
      "outputs": [
        {
          "output_type": "stream",
          "text": [
            "Tree Accuracy: 0.6410256410256411\n"
          ],
          "name": "stdout"
        }
      ]
    },
    {
      "cell_type": "code",
      "metadata": {
        "id": "KG_d6RCn8BbX",
        "colab": {
          "base_uri": "https://localhost:8080/"
        },
        "outputId": "af54954f-3408-4cd4-d5f8-9ae86947c978"
      },
      "source": [
        "model = RandomForestClassifier(random_state=11, n_estimators=200,\n",
        "                               class_weight=\"balanced\", max_features=\"log2\")\n",
        "model.fit(X_train, y_train)\n",
        "print(f\"RF Accuracy: {model.score(X_test, y_test)}\")"
      ],
      "execution_count": null,
      "outputs": [
        {
          "output_type": "stream",
          "text": [
            "RF Accuracy: 0.6923076923076923\n"
          ],
          "name": "stdout"
        }
      ]
    },
    {
      "cell_type": "code",
      "metadata": {
        "id": "SofhfFRn9K7U",
        "colab": {
          "base_uri": "https://localhost:8080/"
        },
        "outputId": "466e229d-49d8-4b32-9b19-595b50b898e6"
      },
      "source": [
        "# cargar librerias-----------------------------------------------\n",
        "from sklearn.ensemble import BaggingClassifier\n",
        "from sklearn.tree import DecisionTreeClassifier\n",
        "\n",
        "# crear objeto de la clase BaggingClassifier---------------------\n",
        "bag_clf = BaggingClassifier(\n",
        "    DecisionTreeClassifier(random_state = 3), n_estimators = 500,\n",
        "    max_samples = 50, bootstrap=True, random_state = 3);\n",
        "\n",
        "# ajustar el modelo----------------------------------------------\n",
        "bag_clf.fit(X_train, y_train);\n",
        "\n",
        "# obtener estimaciones del modelo sobre la muestra de test-------\n",
        "y_pred = bag_clf.predict(X_test)\n",
        "\n",
        "# comprobar resultados-------------------------------------------\n",
        "from sklearn.metrics import accuracy_score\n",
        "print('Bagging',accuracy_score(y_test, y_pred))\n"
      ],
      "execution_count": null,
      "outputs": [
        {
          "output_type": "stream",
          "text": [
            "Bagging 0.6666666666666666\n"
          ],
          "name": "stdout"
        }
      ]
    },
    {
      "cell_type": "code",
      "metadata": {
        "id": "ajtNg5li9Oeo",
        "colab": {
          "base_uri": "https://localhost:8080/"
        },
        "outputId": "5e635c68-be02-40bc-a2f5-e1159c95fb52"
      },
      "source": [
        "# crear objeto de la clase BaggingClassifier---------------------\n",
        "pas_clf = BaggingClassifier(\n",
        "    DecisionTreeClassifier(random_state = 3), n_estimators = 500,\n",
        "    max_samples = 50, bootstrap=False, random_state = 3);\n",
        "\n",
        "# ajustar el modelo----------------------------------------------\n",
        "pas_clf.fit(X_train, y_train);\n",
        "\n",
        "# obtener estimaciones del modelo sobre la muestra de test-------\n",
        "y_pred_pas = pas_clf.predict(X_test);\n",
        "\n",
        "# comprobar resultados-------------------------------------------\n",
        "print('Pasting',accuracy_score(y_test, y_pred_pas))"
      ],
      "execution_count": null,
      "outputs": [
        {
          "output_type": "stream",
          "text": [
            "Pasting 0.6410256410256411\n"
          ],
          "name": "stdout"
        }
      ]
    },
    {
      "cell_type": "code",
      "metadata": {
        "id": "RTjtpHDZ9Tk5",
        "colab": {
          "base_uri": "https://localhost:8080/"
        },
        "outputId": "0ed79e30-1a06-4096-e6d8-76ceecbc8020"
      },
      "source": [
        "# cargar librerias-----------------------------------------------\n",
        "from sklearn.ensemble import RandomForestClassifier\n",
        "\n",
        "# crear objeto de la clase RandomForestClassifier----------------\n",
        "rnd_clf = RandomForestClassifier(n_estimators = 500, \n",
        "max_leaf_nodes = 4, random_state = 3, max_samples = 60);\n",
        "\n",
        "# ajustar el modelo----------------------------------------------\n",
        "rnd_clf.fit(X_train, y_train);\n",
        "\n",
        "# obtener estimaciones del modelo sobre la muestra de test-------\n",
        "y_pred_rf = rnd_clf.predict(X_test);\n",
        "\n",
        "# comprobar resultados-------------------------------------------\n",
        "print('RandomForest',accuracy_score(y_test, y_pred_rf))"
      ],
      "execution_count": null,
      "outputs": [
        {
          "output_type": "stream",
          "text": [
            "RandomForest 0.8205128205128205\n"
          ],
          "name": "stdout"
        }
      ]
    },
    {
      "cell_type": "code",
      "metadata": {
        "id": "sDOaOAmB8U3L",
        "colab": {
          "base_uri": "https://localhost:8080/"
        },
        "outputId": "65c73295-ec43-4337-f23a-265600acfd15"
      },
      "source": [
        "# cargar librerias-----------------------------------------------\n",
        "from sklearn.ensemble import GradientBoostingClassifier\n",
        "# crear objeto de la clase BaggingClassifier---------------------\n",
        "gb_clf = GradientBoostingClassifier(n_estimators = 500,\n",
        "random_state = 3);\n",
        "\n",
        "# ajustar el modelo----------------------------------------------\n",
        "gb_clf.fit(X_train, y_train);\n",
        "\n",
        "# obtener estimaciones del modelo sobre la muestra de test-------\n",
        "y_pred_gb = gb_clf.predict(X_test);\n",
        "\n",
        "# comprobar resultados-------------------------------------------\n",
        "print('Gradient',accuracy_score(y_test, y_pred_gb))"
      ],
      "execution_count": null,
      "outputs": [
        {
          "output_type": "stream",
          "text": [
            "Gradient 0.6410256410256411\n"
          ],
          "name": "stdout"
        }
      ]
    },
    {
      "cell_type": "code",
      "metadata": {
        "id": "NS80ud8--V5e",
        "colab": {
          "base_uri": "https://localhost:8080/",
          "height": 1000
        },
        "outputId": "85388ff4-8f13-4902-eff2-c9340c5bdf6b"
      },
      "source": [
        "import numpy as np\n",
        "import matplotlib.pyplot as plt\n",
        "# importancia1\n",
        "importancias1 = np.mean([tree.feature_importances_ for tree in bag_clf.estimators_], axis=0)\n",
        "indices1 = np.argsort(importancias1)[::-1]\n",
        "importancias2 = np.mean([tree.feature_importances_ for tree in pas_clf.estimators_], axis=0)\n",
        "indices2 = np.argsort(importancias2)[::-1]\n",
        "importancias3 = rnd_clf.feature_importances_\n",
        "indices3 = np.argsort(importancias3)[::-1]\n",
        "importancias4 = gb_clf.feature_importances_\n",
        "indices4 = np.argsort(importancias4)[::-1]\n",
        "# dibujar_importancias\n",
        "plt.figure(figsize = (30, 30))\n",
        "plt.subplot(4, 1, 1)\n",
        "plt.title(\"Importancia de las variables con Bagging\")\n",
        "plt.bar(range(X.shape[1]), importancias1[indices1], color=\"r\", align=\"center\")\n",
        "## <BarContainer object of 15 artists>\n",
        "plt.xticks(range(X.shape[1]),indices1)\n",
        "plt.xlim([-1, X.shape[1]])\n",
        "## (-1.0, 15.0)\n",
        "plt.xlabel(\"Variables\")\n",
        "plt.ylabel(\"Importancia (-)\")\n",
        "plt.subplot(4, 1, 2)\n",
        "plt.title(\"Importancia de las variables con Pasting\")\n",
        "plt.bar(range(X.shape[1]), importancias2[indices2], color=\"r\", align=\"center\")\n",
        "## <BarContainer object of 15 artists>\n",
        "plt.xticks(range(X.shape[1]), indices2)\n",
        "plt.xlim([-1, X.shape[1]]) ## (-1.0, 15.0)\n",
        "plt.xlabel(\"Variables\")\n",
        "plt.ylabel(\"Importancia (-)\")\n",
        "plt.subplot(4, 1, 3)\n",
        "plt.title(\"Importancia de las variables con RF\")\n",
        "plt.bar(range(X.shape[1]), importancias3[indices3], color=\"r\", align=\"center\")\n",
        "## <BarContainer object of 15 artists>\n",
        "plt.xticks(range(X.shape[1]),indices3)\n",
        "plt.xlim([-1, X.shape[1]])\n",
        "## (-1.0, 15.0)\n",
        "plt.xlabel(\"Variables\")\n",
        "plt.ylabel(\"Importancia (-)\")\n",
        "plt.subplot(4, 1, 4)\n",
        "plt.title(\"Importancia de las variables con GBM\")\n",
        "plt.bar(range(X.shape[1]), importancias4[indices4], color=\"r\", align=\"center\")\n",
        "## <BarContainer object of 15 artists>\n",
        "plt.xticks(range(X.shape[1]),indices4)\n",
        "plt.xlim([-1, X.shape[1]])\n",
        "## (-1.0, 15.0)\n",
        "plt.xlabel(\"Variables\")\n",
        "plt.ylabel(\"Importancia (-)\")\n",
        "plt.show()"
      ],
      "execution_count": null,
      "outputs": [
        {
          "output_type": "display_data",
          "data": {
            "image/png": "[encoded data removed]",
            "text/plain": [
              "<Figure size 2160x2160 with 4 Axes>"
            ]
          },
          "metadata": {
            "tags": [],
            "needs_background": "light"
          }
        }
      ]
    }
  ]
}