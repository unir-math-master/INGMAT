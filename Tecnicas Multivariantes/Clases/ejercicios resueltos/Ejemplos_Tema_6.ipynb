{
  "nbformat": 4,
  "nbformat_minor": 0,
  "metadata": {
    "colab": {
      "name": "Ejemplos Tema 6.ipynb",
      "provenance": []
    },
    "kernelspec": {
      "name": "python3",
      "display_name": "Python 3"
    },
    "language_info": {
      "name": "python"
    }
  },
  "cells": [
    {
      "cell_type": "code",
      "metadata": {
        "id": "PhF6YYkOKC2A",
        "colab": {
          "base_uri": "https://localhost:8080/",
          "height": 701
        },
        "outputId": "927d8f62-5655-4f2b-da62-d8938d58704e"
      },
      "source": [
        "#!/usr/local/bin/python\n",
        "# coding: latin-1\n",
        "import os, sys\n",
        "#EJERCICIO 1\n",
        "# cargar librerias-----------------------------------------------\n",
        "import pandas as pd\n",
        "import os\n",
        "import tarfile\n",
        "import urllib.request\n",
        "import numpy as np\n",
        "from pandas.core.common import flatten\n",
        "from plotnine import *\n",
        "from array import *\n",
        "import scipy.stats as stats\n",
        "import math\n",
        "import matplotlib as mpl\n",
        "import matplotlib.pyplot as plt\n",
        "import statsmodels.api as sm\n",
        "from sklearn import linear_model\n",
        "from sklearn.metrics import mean_squared_error, r2_score\n",
        "import statsmodels.formula.api as smf\n",
        "import statsmodels.stats.api as sms\n",
        "# definir las rutas y caminos donde se encuentran los datos------\n",
        "DOWNLOAD_ROOT = \"https://raw.githubusercontent.com/ageron/handson-ml2/master/\"\n",
        "# path que se va a crear en nuestro sistema----------------------\n",
        "HOUSING_PATH = os.path.join(\"datasets\", \"housing\")\n",
        "# lugar de descarga del dataset----------------------------------\n",
        "HOUSING_URL = DOWNLOAD_ROOT + \"datasets/housing/housing.tgz\"\n",
        "\n",
        "# definir una funcion que obtenga los datos y los descargue-----\n",
        "def fetch_housing_data(housing_url=HOUSING_URL, \n",
        "housing_path=HOUSING_PATH):\n",
        "    if not os.path.isdir(housing_path):\n",
        "        os.makedirs(housing_path)\n",
        "    tgz_path = os.path.join(housing_path, \"housing.tgz\")\n",
        "    urllib.request.urlretrieve(housing_url, tgz_path)\n",
        "    housing_tgz = tarfile.open(tgz_path)\n",
        "    housing_tgz.extractall(path=housing_path)\n",
        "    housing_tgz.close()\n",
        "fetch_housing_data()\n",
        "# definir una funcion que cargue el csv en un dataframe----------\n",
        "def load_housing_data(housing_path=HOUSING_PATH):\n",
        "    csv_path = os.path.join(housing_path, \"housing.csv\")\n",
        "    return pd.read_csv(csv_path)\n",
        "housing = load_housing_data()\n",
        "# separar variable respuesta del dataset-------------------------\n",
        "respuesta = housing[\"median_house_value\"].copy()\n",
        "housing = housing.drop(\"median_house_value\", axis=1)\n",
        "# definir var numerica-------------------------------------------\n",
        "housing_num = housing.drop(\"ocean_proximity\", axis=1)\n",
        "# importar el \"imputador\"----------------------------------------\n",
        "from sklearn.impute import SimpleImputer\n",
        "# importar el \"estandarizador\"-----------------------------------\n",
        "from sklearn.preprocessing import StandardScaler\n",
        "# importar la clase pipeline\"------------------------------------\n",
        "from sklearn.pipeline import Pipeline\n",
        "# definir el pipeline--------------------------------------------\n",
        "num_pipeline = Pipeline([\n",
        "        (\"imputador\", SimpleImputer(strategy=\"median\")),\n",
        "        (\"std_scaler\", StandardScaler()),\n",
        "    ])\n",
        "# aplicar el pipeline--------------------------------------------\n",
        "housing_num_tr = num_pipeline.fit_transform(housing_num)\n",
        "# importar clases------------------------------------------------\n",
        "from sklearn.compose import ColumnTransformer\n",
        "from sklearn.preprocessing import OneHotEncoder\n",
        "# separar dataset en variables numericas y variable categorica---\n",
        "num_attribs = list(housing_num)\n",
        "cat_attribs = [\"ocean_proximity\"]\n",
        "# definir full pipeline------------------------------------------\n",
        "full_pipeline = ColumnTransformer([\n",
        "        (\"num\", num_pipeline, num_attribs),\n",
        "        (\"cat\", OneHotEncoder(drop = \"first\"), cat_attribs),\n",
        "    ])\n",
        "housing_prepared = full_pipeline.fit_transform(housing)\n",
        "# importar clase-------------------------------------------------\n",
        "from sklearn.linear_model import Ridge\n",
        "# ajustar el modelo----------------------------------------------\n",
        "ridge_reg = Ridge(alpha = 1, solver = \"auto\")\n",
        "ridge_reg.fit(housing_prepared, respuesta)\n",
        "# obtener coeficientes del modelo--------------------------------\n",
        "# intercepto\n",
        "print('Intercepto (Rigde 1):', ridge_reg.intercept_)\n",
        "# coeficientes de regresion\n",
        "print('Coeficientes de regresión (Rigde 1):', ridge_reg.coef_)\n",
        "# importar clase-------------------------------------------------\n",
        "from sklearn.linear_model import Ridge\n",
        "# ajustar el modelo----------------------------------------------\n",
        "ridge_reg_b = Ridge(alpha = 1e4, solver = \"auto\")\n",
        "ridge_reg_b.fit(housing_prepared, respuesta)\n",
        "# obtener coeficientes del modelo--------------------------------\n",
        "# intercepto\n",
        "print('Intercepto (Rigde 1e4):', ridge_reg_b.intercept_)\n",
        "# coeficientes de regresion\n",
        "print('Coeficientes de regresión (Rigde 1e4):', ridge_reg_b.coef_)\n",
        "# importar clase-------------------------------------------------\n",
        "from sklearn.linear_model import LinearRegression\n",
        "# ajustar el modelo----------------------------------------------\n",
        "lm1 = LinearRegression()\n",
        "lm1.fit(housing_prepared, respuesta)\n",
        "# obtener coeficientes del modelo--------------------------------\n",
        "# intercepto\n",
        "print('Intercepto:',lm1.intercept_)\n",
        "# coeficientes de regresion\n",
        "print('Coeficientes de regresión:', lm1.coef_)\n",
        "fig = plt.figure(figsize=(8, 8))\n",
        "# ancho de barra-------------------------------------------------\n",
        "barWidth = 0.25\n",
        "# definir posicion barras series---------------------------------\n",
        "r1 = np.arange(len(lm1.coef_))\n",
        "r2 = [x + barWidth for x in r1]\n",
        "r3 = [x + barWidth for x in r2]\n",
        "# pintar las barras----------------------------------------------\n",
        "plt.bar(r1, lm1.coef_, color = \"blue\", \n",
        "width = barWidth, edgecolor = \"white\", label = \"Lineal\");\n",
        "plt.bar(r2, ridge_reg.coef_, color = \"red\", \n",
        "width = barWidth, edgecolor = \"white\", label = \"Ridge a\");\n",
        "plt.bar(r3, ridge_reg_b.coef_, color = \"green\", \n",
        "width = barWidth, edgecolor = \"white\", label = \"Ridge b\");\n",
        "plt.xticks([r + barWidth for r in range(len(lm1.coef_))], \n",
        "['B1', 'B2', 'B3', 'B4', \n",
        " 'B5', 'B6', 'B7', 'B8', \n",
        " 'B9', 'B10', 'B11', 'B12']);\n",
        "plt.legend();\n",
        "plt.xlabel(\"Variable\");\n",
        "plt.ylabel(\"Beta\");\n",
        "plt.show(fig)"
      ],
      "execution_count": null,
      "outputs": [
        {
          "output_type": "stream",
          "text": [
            "Intercepto (Rigde 1): 219251.8547047691\n",
            "Coeficientes de regresión (Rigde 1): [-52925.7575442  -53744.69781116  13319.85812079 -10293.66412867\n",
            "  29937.78985234 -44479.43818497  29692.21439608  73624.96037269\n",
            " -39789.8719159  130031.63921427  -3697.62935336   4750.43033774]\n",
            "Intercepto (Rigde 1e4): 213248.32449961078\n",
            "Coeficientes de regresión (Rigde 1e4): [ -9760.89761151 -12228.34267466  11199.36514172   5640.33695302\n",
            "   4851.91951441  -9762.34854409   5734.63871066  50971.33381983\n",
            " -24316.41748776     89.44198348   5253.33235919   5765.58163202]\n",
            "Intercepto: 219237.00064331217\n",
            "Coeficientes de regresión: [-52952.95152846 -53767.62485624  13312.88334575 -10320.06092603\n",
            "  29920.76507621 -44490.47744263  29746.22226671  73636.15586366\n",
            " -39766.3987444  156065.71982235  -3697.40166109   4758.75361226]\n"
          ],
          "name": "stdout"
        },
        {
          "output_type": "display_data",
          "data": {
            "image/png": "[encoded data removed]",
            "text/plain": [
              "<Figure size 576x576 with 1 Axes>"
            ]
          },
          "metadata": {
            "tags": [],
            "needs_background": "light"
          }
        }
      ]
    },
    {
      "cell_type": "code",
      "metadata": {
        "id": "PpRkbzieKHka",
        "colab": {
          "base_uri": "https://localhost:8080/",
          "height": 633
        },
        "outputId": "f3b68885-988c-4896-d63b-8c62687557e4"
      },
      "source": [
        "# EJERCICIO 2\n",
        "# importar clase-------------------------------------------------\n",
        "from sklearn.linear_model import Lasso\n",
        "# ajustar el modelo----------------------------------------------\n",
        "lasso_reg = Lasso(alpha = 1)\n",
        "lasso_reg.fit(housing_prepared, respuesta)\n",
        "# obtener coeficientes del modelo--------------------------------\n",
        "# intercepto\n",
        "print(lasso_reg.intercept_)\n",
        "# coeficientes de regresion\n",
        "print(lasso_reg.coef_)\n",
        "# importar clase-------------------------------------------------\n",
        "from sklearn.linear_model import Lasso\n",
        "# ajustar el modelo----------------------------------------------\n",
        "lasso_reg_b = Lasso(alpha = 1e4)\n",
        "lasso_reg_b.fit(housing_prepared, respuesta)\n",
        "# obtener coeficientes del modelo--------------------------------\n",
        "# intercepto\n",
        "print(lasso_reg_b.intercept_)\n",
        "# coeficientes de regresion\n",
        "print(lasso_reg_b.coef_)\n",
        "fig = plt.figure(figsize=(8, 8))\n",
        "# ancho de barra-------------------------------------------------\n",
        "barWidth = 0.25\n",
        "# definir posicion barras series---------------------------------\n",
        "r1 = np.arange(len(lm1.coef_))\n",
        "r2 = [x + barWidth for x in r1]\n",
        "r3 = [x + barWidth for x in r2]\n",
        "# pintar las barras----------------------------------------------\n",
        "plt.bar(r1, lm1.coef_, color = \"blue\", \n",
        "width = barWidth, edgecolor = \"white\", label = \"Lineal\");\n",
        "plt.bar(r2, ridge_reg_b.coef_, color = \"red\", \n",
        "width = barWidth, edgecolor = \"white\", label = \"Ridge b\");\n",
        "plt.bar(r3, lasso_reg_b.coef_, color = \"green\", \n",
        "width = barWidth, edgecolor = \"white\", label = \"Lasso b\");\n",
        "plt.xticks([r + barWidth for r in range(len(lm1.coef_))], \n",
        "['B1', 'B2', 'B3', 'B4', \n",
        " 'B5', 'B6', 'B7', 'B8', \n",
        " 'B9', 'B10', 'B11', 'B12']);\n",
        "plt.legend();\n",
        "plt.xlabel(\"Variable\");\n",
        "plt.ylabel(\"Beta\");\n",
        "plt.show()"
      ],
      "execution_count": null,
      "outputs": [
        {
          "output_type": "stream",
          "text": [
            "219239.37161140097\n",
            "[-52936.10528879 -53753.78630134  13312.79044653 -10299.69365603\n",
            "  29909.69564186 -44483.79617817  29730.65349082  73630.76579416\n",
            " -39774.84408823 151938.98956871  -3679.84442713   4753.79358651]\n",
            "218717.12395482304\n",
            "[    -0.             -0.           5925.06123247      0.\n",
            "      0.             -0.              0.          65973.15122729\n",
            " -37370.99334873      0.              0.              0.        ]\n"
          ],
          "name": "stdout"
        },
        {
          "output_type": "display_data",
          "data": {
            "image/png": "[encoded data removed]",
            "text/plain": [
              "<Figure size 576x576 with 1 Axes>"
            ]
          },
          "metadata": {
            "tags": [],
            "needs_background": "light"
          }
        }
      ]
    },
    {
      "cell_type": "code",
      "metadata": {
        "id": "Tqc3mREdKKlK",
        "colab": {
          "base_uri": "https://localhost:8080/",
          "height": 1000
        },
        "outputId": "a1830fa8-2ed8-4c69-94bc-30708cd344d8"
      },
      "source": [
        "# EJERCICIO 3\n",
        "# semilla para que los resultados sean los mismos----------------\n",
        "np.random.seed(3)\n",
        "# importar clase-------------------------------------------------\n",
        "from sklearn.linear_model import ElasticNetCV\n",
        "# ajustar el modelo----------------------------------------------\n",
        "e_net = ElasticNetCV(cv = 10, l1_ratio = 0.1)\n",
        "e_net.fit(housing_prepared, respuesta)\n",
        "# obtener coeficientes del modelo--------------------------------\n",
        "# intercepto\n",
        "print(e_net.intercept_)\n",
        "# coeficientes de regresion\n",
        "print(e_net.coef_)\n",
        "# semilla para que los resultados sean los mismos----------------\n",
        "np.random.seed(3)\n",
        "# importar clase-------------------------------------------------\n",
        "from sklearn.linear_model import ElasticNetCV\n",
        "# ajustar el modelo----------------------------------------------\n",
        "e_net_b = ElasticNetCV(cv = 10, l1_ratio = 0.95)\n",
        "e_net_b.fit(housing_prepared, respuesta)\n",
        "# obtener coeficientes del modelo--------------------------------\n",
        "# intercepto\n",
        "print(e_net_b.intercept_)\n",
        "# coeficientes de regresion\n",
        "print(e_net_b.coef_)\n",
        "fig = plt.figure(figsize=(8, 8))\n",
        "# ancho de barra-------------------------------------------------\n",
        "barWidth = 0.25\n",
        "# definir posicion barras series---------------------------------\n",
        "r1 = np.arange(len(e_net.coef_))\n",
        "r2 = [x + barWidth for x in r1]\n",
        "r3 = [x + barWidth for x in r2]\n",
        "# pintar las barras----------------------------------------------\n",
        "plt.bar(r2, e_net.coef_, color = \"red\", \n",
        "width = barWidth, edgecolor = \"white\", label = \"Red El. a\");\n",
        "plt.bar(r3, e_net_b.coef_, color = \"green\", \n",
        "width = barWidth, edgecolor = \"white\", label = \"Red El. b\");\n",
        "plt.xticks([r + barWidth for r in range(len(lm1.coef_))], \n",
        "['B1', 'B2', 'B3', 'B4', \n",
        " 'B5', 'B6', 'B7', 'B8', \n",
        " 'B9', 'B10', 'B11', 'B12']);\n",
        "plt.legend();\n",
        "plt.xlabel(\"Variable\");\n",
        "plt.ylabel(\"Beta\");\n",
        "plt.show()\n",
        "# semilla para que los resultados sean los mismos----------------\n",
        "np.random.seed(3)\n",
        "# importar clase-------------------------------------------------\n",
        "from sklearn.linear_model import ElasticNetCV\n",
        "# ajustar el modelo----------------------------------------------\n",
        "e_net_c = ElasticNetCV(cv = 10, l1_ratio = [0.1, 0.95])\n",
        "e_net_c.fit(housing_prepared, respuesta)\n",
        "# obtener coeficientes del modelo--------------------------------\n",
        "# intercepto\n",
        "# print(e_net_c.intercept_)\n",
        "# coeficientes de regresion\n",
        "print(e_net_c.coef_)\n",
        "print(e_net_c.l1_ratio_)\n",
        "# se puede comprobar que el error de test es mayor con r = 0.1---\n",
        "error = e_net_c.mse_path_\n",
        "np.mean(error, axis = 2)"
      ],
      "execution_count": null,
      "outputs": [
        {
          "output_type": "stream",
          "text": [
            "206865.4749645959\n",
            "[ -7.3285382  -23.12318484  16.94967114  21.48093501   7.83412633\n",
            "  -3.90892666  10.4757704  110.83304095 -36.29600822   0.\n",
            "   8.01288948   7.55581778]\n",
            "208267.51670197048\n",
            "[-1469.95946607 -3059.90966939  2747.34800787  2439.66788593\n",
            "   801.03210661 -1171.1003709   1151.60483666 15113.62768328\n",
            " -5336.05497542     0.          1215.79217006  1141.77891116]\n"
          ],
          "name": "stdout"
        },
        {
          "output_type": "display_data",
          "data": {
            "image/png": "[encoded data removed]",
            "text/plain": [
              "<Figure size 576x576 with 1 Axes>"
            ]
          },
          "metadata": {
            "tags": [],
            "needs_background": "light"
          }
        },
        {
          "output_type": "stream",
          "text": [
            "[-1469.95946607 -3059.90966939  2747.34800787  2439.66788593\n",
            "   801.03210661 -1171.1003709   1151.60483666 15113.62768328\n",
            " -5336.05497542     0.          1215.79217006  1141.77891116]\n",
            "0.95\n"
          ],
          "name": "stdout"
        },
        {
          "output_type": "execute_result",
          "data": {
            "text/plain": [
              "array([[1.38049962e+10, 1.38049952e+10, 1.38049938e+10, 1.38049923e+10,\n",
              "        1.38049907e+10, 1.38049890e+10, 1.38049872e+10, 1.38049852e+10,\n",
              "        1.38049831e+10, 1.38049808e+10, 1.38049784e+10, 1.38049758e+10,\n",
              "        1.38049730e+10, 1.38049700e+10, 1.38049668e+10, 1.38049634e+10,\n",
              "        1.38049596e+10, 1.38049556e+10, 1.38049511e+10, 1.38049461e+10,\n",
              "        1.38049409e+10, 1.38049353e+10, 1.38049293e+10, 1.38049228e+10,\n",
              "        1.38049158e+10, 1.38049081e+10, 1.38048997e+10, 1.38048906e+10,\n",
              "        1.38048807e+10, 1.38048702e+10, 1.38048589e+10, 1.38048467e+10,\n",
              "        1.38048336e+10, 1.38048195e+10, 1.38048046e+10, 1.38047885e+10,\n",
              "        1.38047712e+10, 1.38047527e+10, 1.38047330e+10, 1.38047117e+10,\n",
              "        1.38046889e+10, 1.38046644e+10, 1.38046382e+10, 1.38046100e+10,\n",
              "        1.38045798e+10, 1.38045473e+10, 1.38045125e+10, 1.38044751e+10,\n",
              "        1.38044351e+10, 1.38043921e+10, 1.38043460e+10, 1.38042965e+10,\n",
              "        1.38042435e+10, 1.38041865e+10, 1.38041255e+10, 1.38040600e+10,\n",
              "        1.38039897e+10, 1.38039144e+10, 1.38038336e+10, 1.38037470e+10,\n",
              "        1.38036541e+10, 1.38035545e+10, 1.38034477e+10, 1.38033331e+10,\n",
              "        1.38032103e+10, 1.38030785e+10, 1.38029373e+10, 1.38027859e+10,\n",
              "        1.38026235e+10, 1.38024494e+10, 1.38022627e+10, 1.38020625e+10,\n",
              "        1.38018479e+10, 1.38016178e+10, 1.38013710e+10, 1.38011065e+10,\n",
              "        1.38008228e+10, 1.38005186e+10, 1.38001925e+10, 1.37998429e+10,\n",
              "        1.37994680e+10, 1.37990661e+10, 1.37986351e+10, 1.37981730e+10,\n",
              "        1.37976776e+10, 1.37971465e+10, 1.37965770e+10, 1.37959664e+10,\n",
              "        1.37953118e+10, 1.37946100e+10, 1.37938576e+10, 1.37930510e+10,\n",
              "        1.37921861e+10, 1.37912590e+10, 1.37902651e+10, 1.37891995e+10,\n",
              "        1.37880572e+10, 1.37868326e+10, 1.37855199e+10, 1.37841127e+10],\n",
              "       [1.38049691e+10, 1.38048055e+10, 1.38045730e+10, 1.38043182e+10,\n",
              "        1.38040449e+10, 1.38037519e+10, 1.38034377e+10, 1.38031009e+10,\n",
              "        1.38027398e+10, 1.38023526e+10, 1.38019374e+10, 1.38014923e+10,\n",
              "        1.38010151e+10, 1.38005034e+10, 1.37999548e+10, 1.37993689e+10,\n",
              "        1.37987327e+10, 1.37980397e+10, 1.37972682e+10, 1.37964279e+10,\n",
              "        1.37955328e+10, 1.37945739e+10, 1.37935474e+10, 1.37924465e+10,\n",
              "        1.37912504e+10, 1.37899379e+10, 1.37885099e+10, 1.37869564e+10,\n",
              "        1.37852802e+10, 1.37834852e+10, 1.37815623e+10, 1.37794901e+10,\n",
              "        1.37772612e+10, 1.37748739e+10, 1.37723315e+10, 1.37696059e+10,\n",
              "        1.37666773e+10, 1.37635349e+10, 1.37601916e+10, 1.37565932e+10,\n",
              "        1.37527357e+10, 1.37485965e+10, 1.37441619e+10, 1.37394074e+10,\n",
              "        1.37343139e+10, 1.37288528e+10, 1.37229976e+10, 1.37167262e+10,\n",
              "        1.37100027e+10, 1.37028039e+10, 1.36950948e+10, 1.36868357e+10,\n",
              "        1.36779844e+10, 1.36685078e+10, 1.36583666e+10, 1.36475100e+10,\n",
              "        1.36358929e+10, 1.36234671e+10, 1.36101786e+10, 1.35959610e+10,\n",
              "        1.35807577e+10, 1.35645085e+10, 1.35471452e+10, 1.35285959e+10,\n",
              "        1.35087848e+10, 1.34876319e+10, 1.34650530e+10, 1.34409595e+10,\n",
              "        1.34152585e+10, 1.33878526e+10, 1.33586398e+10, 1.33275137e+10,\n",
              "        1.32943633e+10, 1.32590734e+10, 1.32215244e+10, 1.31815925e+10,\n",
              "        1.31391503e+10, 1.30940665e+10, 1.30462071e+10, 1.29954352e+10,\n",
              "        1.29416117e+10, 1.28845964e+10, 1.28242484e+10, 1.27604270e+10,\n",
              "        1.26929932e+10, 1.26218103e+10, 1.25467456e+10, 1.24676722e+10,\n",
              "        1.23844698e+10, 1.22970272e+10, 1.22052438e+10, 1.21090319e+10,\n",
              "        1.20083189e+10, 1.19030492e+10, 1.17931864e+10, 1.16787166e+10,\n",
              "        1.15596494e+10, 1.14360215e+10, 1.13078978e+10, 1.11753737e+10]])"
            ]
          },
          "metadata": {
            "tags": []
          },
          "execution_count": 3
        }
      ]
    }
  ]
}