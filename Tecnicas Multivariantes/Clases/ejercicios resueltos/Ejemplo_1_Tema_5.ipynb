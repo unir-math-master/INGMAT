{
  "nbformat": 4,
  "nbformat_minor": 0,
  "metadata": {
    "colab": {
      "name": "Ejemplo 1 Tema 5.ipynb",
      "provenance": []
    },
    "kernelspec": {
      "name": "python3",
      "display_name": "Python 3"
    },
    "language_info": {
      "name": "python"
    }
  },
  "cells": [
    {
      "cell_type": "code",
      "metadata": {
        "id": "wEuxT39UBs44"
      },
      "source": [
        "#Se importan la librerias a utilizar\n",
        "from sklearn import datasets, linear_model"
      ],
      "execution_count": null,
      "outputs": []
    },
    {
      "cell_type": "code",
      "metadata": {
        "id": "YMHhkVl5B8Fc"
      },
      "source": [
        "#Importamos los datos de la misma librería de scikit-learn\n",
        "boston = datasets.load_boston()"
      ],
      "execution_count": null,
      "outputs": []
    },
    {
      "cell_type": "code",
      "metadata": {
        "id": "E-W6XgGWCBQR"
      },
      "source": [
        "#Verifico la información contenida en el dataset\n",
        "print('Información en el dataset:')\n",
        "print(boston.keys())"
      ],
      "execution_count": null,
      "outputs": []
    },
    {
      "cell_type": "code",
      "metadata": {
        "id": "o1wckFrLCF24"
      },
      "source": [
        "#Verifico las características del dataset\n",
        "print('Características del dataset:')\n",
        "print(boston.DESCR)"
      ],
      "execution_count": null,
      "outputs": []
    },
    {
      "cell_type": "code",
      "metadata": {
        "id": "G0pfGoJzCOke"
      },
      "source": [
        "#Verifico la cantidad de datos que hay en los dataset\n",
        "print('Cantidad de datos:')\n",
        "print(boston.data.shape)"
      ],
      "execution_count": null,
      "outputs": []
    },
    {
      "cell_type": "code",
      "metadata": {
        "id": "iCjCHj19CeP9"
      },
      "source": [
        "#Verifico la información de las columnas\n",
        "print('Nombres columnas:')\n",
        "print(boston.feature_names)"
      ],
      "execution_count": null,
      "outputs": []
    },
    {
      "cell_type": "code",
      "metadata": {
        "id": "N4PtfX9qCg3p"
      },
      "source": [
        "#Selecciono las columna 5, 6 y 7 del dataset (RM número de habitaciones, AGE tiempo ocupada, DIS distancia a los centros de trabajo)\n",
        "X_multiple = boston.data[:, 5:8]\n",
        "print(X_multiple)"
      ],
      "execution_count": null,
      "outputs": []
    },
    {
      "cell_type": "code",
      "metadata": {
        "id": "IgjiFFC2C-PO"
      },
      "source": [
        "#Defino los datos correspondientes a las etiquetas\n",
        "y_multiple = boston.target"
      ],
      "execution_count": null,
      "outputs": []
    },
    {
      "cell_type": "code",
      "metadata": {
        "id": "3FU3vMMaDB_w"
      },
      "source": [
        "from sklearn.model_selection import train_test_split\n",
        "#Separo los datos de \"train\" en entrenamiento y prueba para probar los algoritmos\n",
        "X_train, X_test, y_train, y_test = train_test_split(X_multiple, y_multiple, test_size=0.2)"
      ],
      "execution_count": null,
      "outputs": []
    },
    {
      "cell_type": "code",
      "metadata": {
        "id": "LwN0DO8ZDOm9"
      },
      "source": [
        "#Defino el algoritmo a utilizar\n",
        "lr_multiple = linear_model.LinearRegression()"
      ],
      "execution_count": null,
      "outputs": []
    },
    {
      "cell_type": "code",
      "metadata": {
        "id": "1ZmGvH5lDRN5"
      },
      "source": [
        "#Entreno el modelo\n",
        "lr_multiple.fit(X_train, y_train)"
      ],
      "execution_count": null,
      "outputs": []
    },
    {
      "cell_type": "code",
      "metadata": {
        "id": "n12Le9KnDV6d"
      },
      "source": [
        "#Realizo una predicción\n",
        "Y_pred_multiple = lr_multiple.predict(X_test)\n",
        "print(Y_pred_multiple)\n",
        "print(y_test)"
      ],
      "execution_count": null,
      "outputs": []
    },
    {
      "cell_type": "code",
      "metadata": {
        "id": "LxgJPZWdDZ6N"
      },
      "source": [
        "print('DATOS DEL MODELO REGRESIÓN LINEAL MULTIPLE')\n",
        "print('Coeficientes:')\n",
        "print(lr_multiple.coef_)\n",
        "print('Intercepto:')\n",
        "print(lr_multiple.intercept_)"
      ],
      "execution_count": null,
      "outputs": []
    },
    {
      "cell_type": "code",
      "metadata": {
        "id": "n0x-WXj8Dryy"
      },
      "source": [
        "print('Precisión del modelo:')\n",
        "print(lr_multiple.score(X_train, y_train))"
      ],
      "execution_count": null,
      "outputs": []
    }
  ]
}