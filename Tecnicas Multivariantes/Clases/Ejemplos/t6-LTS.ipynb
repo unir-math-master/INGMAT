{
 "cells": [
  {
   "cell_type": "code",
   "execution_count": 4,
   "id": "be4cb77c-2fb9-47fa-ae1c-55de37121e32",
   "metadata": {},
   "outputs": [],
   "source": [
    "def LTS(x, y, porcentaje_n, rep, rep2):\n",
    "    from sklearn import linear_model\n",
    "    lm = linear_model.LinearRegression()\n",
    "    max_score = 0\n",
    "    n = int(porcentaje_n*len(x))\n",
    "    newx = np.ones(n)\n",
    "    newy = np.ones(n)\n",
    "    bestx = np.ones(n)\n",
    "    besty = np.ones(n)\n",
    "    #find starting point randomly\n",
    "    for i in range(rep):\n",
    "        newx = np.array(sorted(random.sample(range(len(x)), n)))\n",
    "        j = 0\n",
    "        for val in newx:\n",
    "            newy[j] = y[val]\n",
    "            j = j + 1\n",
    "        lm.fit(newx.reshape(-1, 1), newy)\n",
    "        score = lm.score(newx.reshape(-1, 1), newy)\n",
    "        if(score > max_score):\n",
    "            max_score = score\n",
    "            np.copyto(bestx, newx)\n",
    "            np.copyto(besty, newy)\n",
    "            \n",
    "    #alter starting point to get iteratively better\n",
    "    for i in range(rep2):\n",
    "        np.copyto(newx, bestx.astype(int))\n",
    "        np.copyto(newy, besty.astype(int))\n",
    "        flag = True\n",
    "        while flag:\n",
    "            xloc = random.randint(0, len(x) - 1)\n",
    "            if int(x[xloc]) not in newx:\n",
    "                flag = False\n",
    "        newxloc = random.randint(0, len(newx) - 1)\n",
    "        newx[newxloc] = xloc\n",
    "        newx = np.array(sorted(newx))\n",
    "        j = 0\n",
    "        for val in newx:\n",
    "            newy[j] = y[val]\n",
    "            j = j + 1\n",
    "        lm.fit(newx.reshape(-1, 1), newy)\n",
    "        score = lm.score(np.array(newx).reshape(-1, 1), newy)\n",
    "        if(score > max_score):\n",
    "            max_score = score\n",
    "            np.copyto(bestx, newx)\n",
    "            np.copyto(besty, newy)\n",
    "            mejor_lm = lm\n",
    "    return mejor_lm"
   ]
  },
  {
   "cell_type": "code",
   "execution_count": 5,
   "id": "f8a1952c-68f3-4cc6-8db4-f68e9f89bfb3",
   "metadata": {},
   "outputs": [],
   "source": [
    "import numpy as np\n",
    "import random\n",
    "from matplotlib import pyplot as plt\n",
    "from sklearn import linear_model"
   ]
  },
  {
   "cell_type": "code",
   "execution_count": 11,
   "id": "2b69c825-2555-4f7b-b72e-02cd90761bcb",
   "metadata": {},
   "outputs": [
    {
     "data": {
      "text/plain": [
       "LinearRegression()"
      ]
     },
     "execution_count": 11,
     "metadata": {},
     "output_type": "execute_result"
    }
   ],
   "source": [
    "# inicializar valores lineales-----------------------------------\n",
    "n_samples = 100\n",
    "slope = 1\n",
    "intercept = 0\n",
    "x = np.ones(n_samples)\n",
    "y = np.ones(n_samples)\n",
    "# crear datos lineales con ruido----------------------------------\n",
    "for i in range(n_samples):\n",
    "    x[i] = i\n",
    "    y[i] = slope * i + intercept + random.gauss(0, n_samples/5000)\n",
    "xr = x.reshape(-1, 1)\n",
    "title = ['sin outliers', 'outliers en un nivel','outliers aleatorios', 'un gran outlier']\n",
    "#introducir outliers---------------------------------------------\n",
    "# inicializar datos outliers\n",
    "y1 = y.copy()\n",
    "y2 = y.copy()\n",
    "y3 = y.copy()\n",
    "y4 = y.copy()\n",
    "\n",
    "for i in range(n_samples):\n",
    "    # uno de cada 10 puntos outlier contra\n",
    "    if i %10 == 0:\n",
    "        y2[i] = -y[i]\n",
    "    # uno de cada 10 puntos outlier aleatorio\n",
    "    if i %10 == 0:\n",
    "        y3[i] = random.gauss(0, 100)\n",
    "    # un outlier muy grande\n",
    "    if i == 99:\n",
    "        y4[i] = -5000\n",
    "        # ajuste y1------------------------------------------------------\n",
    "lm1 = linear_model.LinearRegression()\n",
    "lm1.fit(xr, y1)"
   ]
  },
  {
   "cell_type": "code",
   "execution_count": 12,
   "id": "b07a91cc-1ca9-4eda-a001-1c2c193c9825",
   "metadata": {},
   "outputs": [
    {
     "data": {
      "text/plain": [
       "LinearRegression()"
      ]
     },
     "execution_count": 12,
     "metadata": {},
     "output_type": "execute_result"
    }
   ],
   "source": [
    "lts1 = LTS(x, y1, porcentaje_n=0.8, rep=20, rep2=10000)\n",
    "# ajuste y2------------------------------------------------------\n",
    "lm2 = linear_model.LinearRegression()\n",
    "lm2.fit(xr, y2)"
   ]
  },
  {
   "cell_type": "code",
   "execution_count": 13,
   "id": "5f5e3df2-f68f-4be1-88ed-f760a762f186",
   "metadata": {},
   "outputs": [
    {
     "data": {
      "text/plain": [
       "LinearRegression()"
      ]
     },
     "execution_count": 13,
     "metadata": {},
     "output_type": "execute_result"
    }
   ],
   "source": [
    "lts2 = LTS(x, y2, porcentaje_n=0.8, rep=20, rep2=10000)\n",
    "# ajuste y3------------------------------------------------------\n",
    "lm3 = linear_model.LinearRegression()\n",
    "lm3.fit(xr, y3)"
   ]
  },
  {
   "cell_type": "code",
   "execution_count": 14,
   "id": "a9a0733f-24f5-4696-98be-9997261795ba",
   "metadata": {},
   "outputs": [
    {
     "data": {
      "text/plain": [
       "LinearRegression()"
      ]
     },
     "execution_count": 14,
     "metadata": {},
     "output_type": "execute_result"
    }
   ],
   "source": [
    "lts3 = LTS(x, y3, porcentaje_n=0.8, rep=20, rep2=10000)\n",
    "# ajuste y4------------------------------------------------------\n",
    "lm4 = linear_model.LinearRegression()\n",
    "lm4.fit(xr, y4)"
   ]
  },
  {
   "cell_type": "code",
   "execution_count": 15,
   "id": "9ae72a1e-5a49-4781-b576-e530688714cf",
   "metadata": {},
   "outputs": [],
   "source": [
    "lts4 = LTS(x, y4, porcentaje_n=0.8, rep=20, rep2=10000)"
   ]
  }
 ],
 "metadata": {
  "kernelspec": {
   "display_name": "Python 3",
   "language": "python",
   "name": "python3"
  },
  "language_info": {
   "codemirror_mode": {
    "name": "ipython",
    "version": 3
   },
   "file_extension": ".py",
   "mimetype": "text/x-python",
   "name": "python",
   "nbconvert_exporter": "python",
   "pygments_lexer": "ipython3",
   "version": "3.8.6"
  }
 },
 "nbformat": 4,
 "nbformat_minor": 5
}
