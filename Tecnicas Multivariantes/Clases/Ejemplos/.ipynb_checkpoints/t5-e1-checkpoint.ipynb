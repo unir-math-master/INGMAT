{
 "cells": [
  {
   "cell_type": "code",
   "execution_count": 1,
   "id": "0dc6eacf-d379-46bd-9b62-adee59c83fda",
   "metadata": {},
   "outputs": [],
   "source": [
    "import pandas as pd\n",
    "import numpy as np\n",
    "from pandas.core.common import flatten\n",
    "from plotnine import *\n",
    "from array import *\n",
    "import scipy.stats as stats\n",
    "import math\n",
    "import matplotlib as mpl\n",
    "import matplotlib.pyplot as plt\n",
    "import statsmodels.api as sm\n",
    "from sklearn import linear_model\n",
    "from sklearn.metrics import mean_squared_error, r2_score\n",
    "import statsmodels.formula.api as smf\n",
    "import statsmodels.stats.api as sms\n",
    "\n",
    "import os\n",
    "import tarfile\n",
    "import urllib.request\n",
    "import pandas as pd"
   ]
  },
  {
   "cell_type": "code",
   "execution_count": 2,
   "id": "900ff595-dbf5-406b-b66d-e2954bcecd7e",
   "metadata": {},
   "outputs": [],
   "source": [
    "# definir las rutas y caminos donde se encuentran los datos------\n",
    "DOWNLOAD_ROOT = \"https://raw.githubusercontent.com/ageron/handson-ml2/master/\"\n",
    "# path que se va a crear en nuestro sistema----------------------\n",
    "HOUSING_PATH = os.path.join(\"datasets\", \"housing\")\n",
    "# lugar de descarga del dataset----------------------------------\n",
    "HOUSING_URL = DOWNLOAD_ROOT + \"datasets/housing/housing.tgz\""
   ]
  },
  {
   "cell_type": "code",
   "execution_count": 3,
   "id": "af129cfc-7a2d-4a2a-9fd5-b4c69d30c528",
   "metadata": {},
   "outputs": [],
   "source": [
    "# definir una funcion que obtenga los datos y los descargue-----\n",
    "def fetch_housing_data(housing_url=HOUSING_URL,housing_path=HOUSING_PATH):\n",
    "    if not os.path.isdir(housing_path):\n",
    "        os.makedirs(housing_path)\n",
    "    tgz_path = os.path.join(housing_path, \"housing.tgz\")\n",
    "    urllib.request.urlretrieve(housing_url, tgz_path)\n",
    "    housing_tgz = tarfile.open(tgz_path)\n",
    "    housing_tgz.extractall(path=housing_path)\n",
    "    housing_tgz.close()\n",
    "    \n",
    "fetch_housing_data()"
   ]
  },
  {
   "cell_type": "code",
   "execution_count": 4,
   "id": "7b3af02c-a937-438c-9533-1d34b67fd4b2",
   "metadata": {},
   "outputs": [
    {
     "data": {
      "text/html": [
       "<div>\n",
       "<style scoped>\n",
       "    .dataframe tbody tr th:only-of-type {\n",
       "        vertical-align: middle;\n",
       "    }\n",
       "\n",
       "    .dataframe tbody tr th {\n",
       "        vertical-align: top;\n",
       "    }\n",
       "\n",
       "    .dataframe thead th {\n",
       "        text-align: right;\n",
       "    }\n",
       "</style>\n",
       "<table border=\"1\" class=\"dataframe\">\n",
       "  <thead>\n",
       "    <tr style=\"text-align: right;\">\n",
       "      <th></th>\n",
       "      <th>longitude</th>\n",
       "      <th>latitude</th>\n",
       "      <th>housing_median_age</th>\n",
       "      <th>total_rooms</th>\n",
       "      <th>total_bedrooms</th>\n",
       "      <th>population</th>\n",
       "      <th>households</th>\n",
       "      <th>median_income</th>\n",
       "      <th>median_house_value</th>\n",
       "      <th>ocean_proximity</th>\n",
       "    </tr>\n",
       "  </thead>\n",
       "  <tbody>\n",
       "    <tr>\n",
       "      <th>0</th>\n",
       "      <td>-122.23</td>\n",
       "      <td>37.88</td>\n",
       "      <td>41.0</td>\n",
       "      <td>880.0</td>\n",
       "      <td>129.0</td>\n",
       "      <td>322.0</td>\n",
       "      <td>126.0</td>\n",
       "      <td>8.3252</td>\n",
       "      <td>452600.0</td>\n",
       "      <td>NEAR BAY</td>\n",
       "    </tr>\n",
       "    <tr>\n",
       "      <th>1</th>\n",
       "      <td>-122.22</td>\n",
       "      <td>37.86</td>\n",
       "      <td>21.0</td>\n",
       "      <td>7099.0</td>\n",
       "      <td>1106.0</td>\n",
       "      <td>2401.0</td>\n",
       "      <td>1138.0</td>\n",
       "      <td>8.3014</td>\n",
       "      <td>358500.0</td>\n",
       "      <td>NEAR BAY</td>\n",
       "    </tr>\n",
       "    <tr>\n",
       "      <th>2</th>\n",
       "      <td>-122.24</td>\n",
       "      <td>37.85</td>\n",
       "      <td>52.0</td>\n",
       "      <td>1467.0</td>\n",
       "      <td>190.0</td>\n",
       "      <td>496.0</td>\n",
       "      <td>177.0</td>\n",
       "      <td>7.2574</td>\n",
       "      <td>352100.0</td>\n",
       "      <td>NEAR BAY</td>\n",
       "    </tr>\n",
       "    <tr>\n",
       "      <th>3</th>\n",
       "      <td>-122.25</td>\n",
       "      <td>37.85</td>\n",
       "      <td>52.0</td>\n",
       "      <td>1274.0</td>\n",
       "      <td>235.0</td>\n",
       "      <td>558.0</td>\n",
       "      <td>219.0</td>\n",
       "      <td>5.6431</td>\n",
       "      <td>341300.0</td>\n",
       "      <td>NEAR BAY</td>\n",
       "    </tr>\n",
       "    <tr>\n",
       "      <th>4</th>\n",
       "      <td>-122.25</td>\n",
       "      <td>37.85</td>\n",
       "      <td>52.0</td>\n",
       "      <td>1627.0</td>\n",
       "      <td>280.0</td>\n",
       "      <td>565.0</td>\n",
       "      <td>259.0</td>\n",
       "      <td>3.8462</td>\n",
       "      <td>342200.0</td>\n",
       "      <td>NEAR BAY</td>\n",
       "    </tr>\n",
       "    <tr>\n",
       "      <th>...</th>\n",
       "      <td>...</td>\n",
       "      <td>...</td>\n",
       "      <td>...</td>\n",
       "      <td>...</td>\n",
       "      <td>...</td>\n",
       "      <td>...</td>\n",
       "      <td>...</td>\n",
       "      <td>...</td>\n",
       "      <td>...</td>\n",
       "      <td>...</td>\n",
       "    </tr>\n",
       "    <tr>\n",
       "      <th>20635</th>\n",
       "      <td>-121.09</td>\n",
       "      <td>39.48</td>\n",
       "      <td>25.0</td>\n",
       "      <td>1665.0</td>\n",
       "      <td>374.0</td>\n",
       "      <td>845.0</td>\n",
       "      <td>330.0</td>\n",
       "      <td>1.5603</td>\n",
       "      <td>78100.0</td>\n",
       "      <td>INLAND</td>\n",
       "    </tr>\n",
       "    <tr>\n",
       "      <th>20636</th>\n",
       "      <td>-121.21</td>\n",
       "      <td>39.49</td>\n",
       "      <td>18.0</td>\n",
       "      <td>697.0</td>\n",
       "      <td>150.0</td>\n",
       "      <td>356.0</td>\n",
       "      <td>114.0</td>\n",
       "      <td>2.5568</td>\n",
       "      <td>77100.0</td>\n",
       "      <td>INLAND</td>\n",
       "    </tr>\n",
       "    <tr>\n",
       "      <th>20637</th>\n",
       "      <td>-121.22</td>\n",
       "      <td>39.43</td>\n",
       "      <td>17.0</td>\n",
       "      <td>2254.0</td>\n",
       "      <td>485.0</td>\n",
       "      <td>1007.0</td>\n",
       "      <td>433.0</td>\n",
       "      <td>1.7000</td>\n",
       "      <td>92300.0</td>\n",
       "      <td>INLAND</td>\n",
       "    </tr>\n",
       "    <tr>\n",
       "      <th>20638</th>\n",
       "      <td>-121.32</td>\n",
       "      <td>39.43</td>\n",
       "      <td>18.0</td>\n",
       "      <td>1860.0</td>\n",
       "      <td>409.0</td>\n",
       "      <td>741.0</td>\n",
       "      <td>349.0</td>\n",
       "      <td>1.8672</td>\n",
       "      <td>84700.0</td>\n",
       "      <td>INLAND</td>\n",
       "    </tr>\n",
       "    <tr>\n",
       "      <th>20639</th>\n",
       "      <td>-121.24</td>\n",
       "      <td>39.37</td>\n",
       "      <td>16.0</td>\n",
       "      <td>2785.0</td>\n",
       "      <td>616.0</td>\n",
       "      <td>1387.0</td>\n",
       "      <td>530.0</td>\n",
       "      <td>2.3886</td>\n",
       "      <td>89400.0</td>\n",
       "      <td>INLAND</td>\n",
       "    </tr>\n",
       "  </tbody>\n",
       "</table>\n",
       "<p>20640 rows × 10 columns</p>\n",
       "</div>"
      ],
      "text/plain": [
       "       longitude  latitude  housing_median_age  total_rooms  total_bedrooms  \\\n",
       "0        -122.23     37.88                41.0        880.0           129.0   \n",
       "1        -122.22     37.86                21.0       7099.0          1106.0   \n",
       "2        -122.24     37.85                52.0       1467.0           190.0   \n",
       "3        -122.25     37.85                52.0       1274.0           235.0   \n",
       "4        -122.25     37.85                52.0       1627.0           280.0   \n",
       "...          ...       ...                 ...          ...             ...   \n",
       "20635    -121.09     39.48                25.0       1665.0           374.0   \n",
       "20636    -121.21     39.49                18.0        697.0           150.0   \n",
       "20637    -121.22     39.43                17.0       2254.0           485.0   \n",
       "20638    -121.32     39.43                18.0       1860.0           409.0   \n",
       "20639    -121.24     39.37                16.0       2785.0           616.0   \n",
       "\n",
       "       population  households  median_income  median_house_value  \\\n",
       "0           322.0       126.0         8.3252            452600.0   \n",
       "1          2401.0      1138.0         8.3014            358500.0   \n",
       "2           496.0       177.0         7.2574            352100.0   \n",
       "3           558.0       219.0         5.6431            341300.0   \n",
       "4           565.0       259.0         3.8462            342200.0   \n",
       "...           ...         ...            ...                 ...   \n",
       "20635       845.0       330.0         1.5603             78100.0   \n",
       "20636       356.0       114.0         2.5568             77100.0   \n",
       "20637      1007.0       433.0         1.7000             92300.0   \n",
       "20638       741.0       349.0         1.8672             84700.0   \n",
       "20639      1387.0       530.0         2.3886             89400.0   \n",
       "\n",
       "      ocean_proximity  \n",
       "0            NEAR BAY  \n",
       "1            NEAR BAY  \n",
       "2            NEAR BAY  \n",
       "3            NEAR BAY  \n",
       "4            NEAR BAY  \n",
       "...               ...  \n",
       "20635          INLAND  \n",
       "20636          INLAND  \n",
       "20637          INLAND  \n",
       "20638          INLAND  \n",
       "20639          INLAND  \n",
       "\n",
       "[20640 rows x 10 columns]"
      ]
     },
     "execution_count": 4,
     "metadata": {},
     "output_type": "execute_result"
    }
   ],
   "source": [
    "# definir una funcion que cargue el csv en un dataframe----------\n",
    "def load_housing_data(housing_path=HOUSING_PATH):\n",
    "    csv_path = os.path.join(housing_path, \"housing.csv\")\n",
    "    return pd.read_csv(csv_path)\n",
    "\n",
    "housing = load_housing_data()\n",
    "housing"
   ]
  },
  {
   "cell_type": "markdown",
   "id": "cd4ea034-3a2c-4671-9b06-68b8f4e0fbc6",
   "metadata": {},
   "source": [
    "## En este ejercicio profundizarás en los modelos de regresión lineal general. Carga el dataset California housing, y realiza:"
   ]
  },
  {
   "cell_type": "markdown",
   "id": "4ced4ad9-2155-4a9e-8377-243af3f47265",
   "metadata": {},
   "source": [
    "## a) Un modelo de regresión lineal general de la mediana de los valores de las casas (variable respuesta Y ) con todas las variables numéricas del dataset."
   ]
  },
  {
   "cell_type": "markdown",
   "id": "ecbf3ff4-3716-4ed8-af57-8b715347ec79",
   "metadata": {},
   "source": [
    "Como se va a realizar el ajuste de un modelo de regresión lineal general de la variable\n",
    "respuesta median_house_value con el resto de variables del dataset como variables\n",
    "predictoras es necesario separar en la respuesta Y , y el resto de variables del dataset."
   ]
  },
  {
   "cell_type": "code",
   "execution_count": 5,
   "id": "334c2adc-6bac-4358-902f-3e0f6e57a287",
   "metadata": {},
   "outputs": [],
   "source": [
    "respuesta = housing[\"median_house_value\"].copy()\n",
    "housing = housing.drop(\"median_house_value\", axis=1)"
   ]
  },
  {
   "cell_type": "markdown",
   "id": "80c2e7a8-8272-44e6-afce-d9d0161abb1e",
   "metadata": {},
   "source": [
    "Recordando la información sobre las variables que conforman el dataset nos damos\n",
    "cuenta que es necesario salvar un obstáculo para poder ajustar el modelo de regresión\n",
    "lineal: la variable total_bedrooms tiene menos valores que el resto de variables, esto\n",
    "quiere decir que tiene datos faltantes."
   ]
  },
  {
   "cell_type": "code",
   "execution_count": 6,
   "id": "b9891b92-f9c8-4830-914d-c22f571a8bb0",
   "metadata": {},
   "outputs": [
    {
     "name": "stdout",
     "output_type": "stream",
     "text": [
      "<class 'pandas.core.frame.DataFrame'>\n",
      "RangeIndex: 20640 entries, 0 to 20639\n",
      "Data columns (total 9 columns):\n",
      " #   Column              Non-Null Count  Dtype  \n",
      "---  ------              --------------  -----  \n",
      " 0   longitude           20640 non-null  float64\n",
      " 1   latitude            20640 non-null  float64\n",
      " 2   housing_median_age  20640 non-null  float64\n",
      " 3   total_rooms         20640 non-null  float64\n",
      " 4   total_bedrooms      20433 non-null  float64\n",
      " 5   population          20640 non-null  float64\n",
      " 6   households          20640 non-null  float64\n",
      " 7   median_income       20640 non-null  float64\n",
      " 8   ocean_proximity     20640 non-null  object \n",
      "dtypes: float64(8), object(1)\n",
      "memory usage: 1.4+ MB\n"
     ]
    }
   ],
   "source": [
    "housing.info()"
   ]
  },
  {
   "cell_type": "markdown",
   "id": "d662b828-a2de-42e3-bf96-94c570e3c54b",
   "metadata": {},
   "source": [
    "Es necesario hacer algo con los datos faltantes que se encuentran en la variable total\n",
    "bedrooms. En el tema anterior se eliminaron esas observaciones, pero para no perder\n",
    "la información que sí proporcionan el resto de variables en este caso se va a imputar el\n",
    "valor faltante, por el valor de la mediana de la variable. Para lograr la imputación se\n",
    "va a hacer uso del objeto SimpleImputer() en el cual definiremos como estrategia de\n",
    "imputación la mediana.\n",
    "\n",
    "Este imputador va a tratar de imputar todas las variables del dataset. Si se prueba a\n",
    "imputar la base de datos original obtendremos un error relacionado con que no se\n",
    "puede imputar la mediana en una variable categórica. Así pues, quitaremos la variable\n",
    "categórica ocean_proximity y se imputará el valor de los datos faltantes.\n",
    "\n",
    "Para quitar una variable empleamos el método .drop() donde en el argumento axis\n",
    "definimos que se refiere a columnas utilizando axis=1. Hay que tener en cuenta que al\n",
    "realizar la imputación mediante el método .transform() se obtiene un array y es nece-\n",
    "sario volver a definirlo como un dataframe con la función pd.DataFrame(). Por último,\n",
    "se vuelve a aplicar el método .info() sobre el dataframe imputado para comprobar que\n",
    "ya no existen datos faltantes."
   ]
  },
  {
   "cell_type": "code",
   "execution_count": 7,
   "id": "62d9a70c-4b0b-438f-963f-cda7ac91e0ec",
   "metadata": {},
   "outputs": [
    {
     "name": "stdout",
     "output_type": "stream",
     "text": [
      "[-118.49     34.26     29.     2127.      435.     1166.      409.\n",
      "    3.5348]\n",
      "<class 'pandas.core.frame.DataFrame'>\n",
      "RangeIndex: 20640 entries, 0 to 20639\n",
      "Data columns (total 8 columns):\n",
      " #   Column              Non-Null Count  Dtype  \n",
      "---  ------              --------------  -----  \n",
      " 0   longitude           20640 non-null  float64\n",
      " 1   latitude            20640 non-null  float64\n",
      " 2   housing_median_age  20640 non-null  float64\n",
      " 3   total_rooms         20640 non-null  float64\n",
      " 4   total_bedrooms      20640 non-null  float64\n",
      " 5   population          20640 non-null  float64\n",
      " 6   households          20640 non-null  float64\n",
      " 7   median_income       20640 non-null  float64\n",
      "dtypes: float64(8)\n",
      "memory usage: 1.3 MB\n",
      "None\n"
     ]
    }
   ],
   "source": [
    "# imputar NAs----------------------------------------------------\n",
    "from sklearn.impute import SimpleImputer\n",
    "imputador = SimpleImputer(strategy=\"median\")\n",
    "# imputador.fit(housing) # da error\n",
    "# se quita la variable categorica--------------------------------\n",
    "housing_num = housing.drop(\"ocean_proximity\", axis=1)\n",
    "# se calcula la imputacion---------------------------------------\n",
    "imputador.fit(housing_num)\n",
    "# los valores de las mediana\n",
    "## SimpleImputer(strategy='median')\n",
    "print(imputador.statistics_)\n",
    "# se aplica la imputacion----------------------------------------\n",
    "housing_num_i = imputador.transform(housing_num)\n",
    "# volver a data frame--------------------------------------------\n",
    "housing_i = pd.DataFrame(housing_num_i,\n",
    "columns=housing_num.columns, index=housing.index)\n",
    "# Comprobar df imputado------------------------------------------\n",
    "print(housing_i.info())"
   ]
  },
  {
   "cell_type": "markdown",
   "id": "67acbed9-b1fd-4ff2-9af7-bb5e0eca8d7c",
   "metadata": {},
   "source": [
    "Una vez que se ha comprobado que ya no existen valores faltantes se procede a preprocesar las variables predictoras. En muchos de los métodos de aprendizaje automático\n",
    "es necesario que el rango de las variables predictoras sea similar (la variable respuesta\n",
    "no suele hacer falta escalarla). Para ello existen varias estrategias, tal y como se ha\n",
    "visto en el último apartado del tema.\n",
    "\n",
    "En este ejercicio se va a optar por estandarizar las variables predictoras. Esta estandarización se debe realizar después de imputar. Para automatizar estos procesos para\n",
    "futuros problemas se puede definir la clase pipeline de Scikit-Learn, la cual nos permite\n",
    "realizar todas estas operaciones en el orden correcto. En este caso, se crea un Pipeline\n",
    "con 2 pasos: imputar y estandarizar, que aplicaremos sobre las variables numéricas del\n",
    "dataset."
   ]
  },
  {
   "cell_type": "code",
   "execution_count": 8,
   "id": "d304562a-6735-4abc-8a2d-9fb2d95ae270",
   "metadata": {},
   "outputs": [
    {
     "name": "stdout",
     "output_type": "stream",
     "text": [
      "206855.8169089139\n",
      "[-85369.22518    -90723.40175504  14403.20315262 -14443.94445799\n",
      "  34037.42560482 -45153.79498679  30319.8204304   75520.30834439]\n"
     ]
    }
   ],
   "source": [
    "# importar el \"estandarizador\"-----------------------------------\n",
    "from sklearn.preprocessing import StandardScaler\n",
    "# importar la clase pipeline\"------------------------------------\n",
    "from sklearn.pipeline import Pipeline\n",
    "# definir el pipeline--------------------------------------------\n",
    "num_pipeline = Pipeline([\n",
    "(\"imputador\", SimpleImputer(strategy=\"median\")),\n",
    "(\"std_scaler\", StandardScaler()),\n",
    "])\n",
    "# aplicar el pipeline--------------------------------------------\n",
    "housing_num_tr = num_pipeline.fit_transform(housing_num)\n",
    "# importar clase-------------------------------------------------\n",
    "from sklearn.linear_model import LinearRegression\n",
    "# ajustar el modelo----------------------------------------------\n",
    "lm1 = LinearRegression()\n",
    "lm1.fit(housing_num_tr, respuesta)\n",
    "# obtener coeficientes del modelo--------------------------------\n",
    "# intercepto\n",
    "print(lm1.intercept_)\n",
    "# coeficientes de regresion\n",
    "print(lm1.coef_)"
   ]
  },
  {
   "cell_type": "markdown",
   "id": "cc2070aa-2f54-484e-a8a7-2b64d3fbad29",
   "metadata": {},
   "source": [
    "Se obtiene en lm1.intercept_ la interceptación del modelo y en lm1.coef_ los betas del\n",
    "modelo."
   ]
  },
  {
   "cell_type": "markdown",
   "id": "8f44d0b6-f998-4eed-8d56-a9c78d9f1027",
   "metadata": {},
   "source": [
    "## b) La librería Scikit-Learn no proporciona los p. valores o intervalos de confianza de la estimación de los coeficientes de regresión del modelo. Obten estos valores mediante la librería statsmodels. ¿Qué variables son estadísticamente significativas en el modelo de regresión general? Además, representa los valores predichos del modelo de regresión lineal general frente a los reales. ¿Ajusta bien el modelo?"
   ]
  },
  {
   "cell_type": "markdown",
   "id": "5767f044-ecde-4f00-98ad-8f6ce2c81fec",
   "metadata": {},
   "source": [
    "Para ajustar el modelo de regresión lineal mediante statmodels se va a aprovechar todo\n",
    "el preprocesado empleado en el apartado a). Se importa la librería statsmodels.api y la\n",
    "clase stats de la librería scipy. Se define la matriz X como el conjunto de valores de\n",
    "housing_prepared y como y la variable respuesta. Es necesario, además, definir explicitamente que el modelo tiene interceptación mediante la función sm.add_constant() a\n",
    "la matriz X. El ajuste por minimos cuadrados se construye con la función sm.OLS(). Por\n",
    "último, podemos representar el sumario de la regresión con la función est2.summary()."
   ]
  },
  {
   "cell_type": "code",
   "execution_count": 9,
   "id": "53b6548e-ef7a-46f7-8683-e7374c4bafe8",
   "metadata": {},
   "outputs": [
    {
     "name": "stdout",
     "output_type": "stream",
     "text": [
      "                            OLS Regression Results                            \n",
      "==============================================================================\n",
      "Dep. Variable:     median_house_value   R-squared:                       0.636\n",
      "Model:                            OLS   Adj. R-squared:                  0.635\n",
      "Method:                 Least Squares   F-statistic:                     4498.\n",
      "Date:                Sun, 04 Jul 2021   Prob (F-statistic):               0.00\n",
      "Time:                        01:41:38   Log-Likelihood:            -2.5945e+05\n",
      "No. Observations:               20640   AIC:                         5.189e+05\n",
      "Df Residuals:                   20631   BIC:                         5.190e+05\n",
      "Df Model:                           8                                         \n",
      "Covariance Type:            nonrobust                                         \n",
      "==============================================================================\n",
      "                 coef    std err          t      P>|t|      [0.025      0.975]\n",
      "------------------------------------------------------------------------------\n",
      "const       2.069e+05    484.967    426.536      0.000    2.06e+05    2.08e+05\n",
      "x1         -8.537e+04   1430.745    -59.668      0.000   -8.82e+04   -8.26e+04\n",
      "x2         -9.072e+04   1440.817    -62.967      0.000   -9.35e+04   -8.79e+04\n",
      "x3           1.44e+04    544.172     26.468      0.000    1.33e+04    1.55e+04\n",
      "x4         -1.444e+04   1688.798     -8.553      0.000   -1.78e+04   -1.11e+04\n",
      "x5          3.404e+04   2514.453     13.537      0.000    2.91e+04     3.9e+04\n",
      "x6         -4.515e+04   1213.549    -37.208      0.000   -4.75e+04   -4.28e+04\n",
      "x7          3.032e+04   2579.191     11.756      0.000    2.53e+04    3.54e+04\n",
      "x8          7.552e+04    630.255    119.825      0.000    7.43e+04    7.68e+04\n",
      "==============================================================================\n",
      "Omnibus:                     5044.234   Durbin-Watson:                   0.964\n",
      "Prob(Omnibus):                  0.000   Jarque-Bera (JB):            18974.225\n",
      "Skew:                           1.186   Prob(JB):                         0.00\n",
      "Kurtosis:                       7.055   Cond. No.                         14.1\n",
      "==============================================================================\n",
      "\n",
      "Notes:\n",
      "[1] Standard Errors assume that the covariance matrix of the errors is correctly specified.\n"
     ]
    }
   ],
   "source": [
    "# cargar funciones-----------------------------------------------\n",
    "import statsmodels.api as sm\n",
    "from scipy import stats\n",
    "# definir matriz de disenyo y variable respuesta-----------------\n",
    "X = housing_num_tr\n",
    "y = respuesta\n",
    "# anyadir intercepto---------------------------------------------\n",
    "X2 = sm.add_constant(X)\n",
    "# ajustar el modelo----------------------------------------------\n",
    "est = sm.OLS(y, X2)\n",
    "# ver ajuste-----------------------------------------------------\n",
    "est2 = est.fit()\n",
    "print(est2.summary())"
   ]
  },
  {
   "cell_type": "markdown",
   "id": "0d1d1d84-374a-4088-8ce2-b17ae3e5d0d1",
   "metadata": {},
   "source": [
    "Se observa que todas las variables son estadísticamente significativas ya que el p.valor\n",
    "obtenido es menor de 0.05 para todas las variables. Además de por el p. valor, se\n",
    "puede comprobar la significatividad observando el intervalo de confianza al nivel 1 − α\n",
    "[0.025 − 0.975] donde ninguna variable (quitando del mismo nivel donde el p. valor\n",
    "era mayor que 0.05) contiene al 0.\n",
    "Se puede observar que el coeficiente de determinación del modelo es igual a 0.636,\n",
    "y que el coeficiente de determinación ajustado es 0.635. Que la diferencia entre uno\n",
    "y otro sea tan pequeña es debido a que el número de observaciones es mucho más\n",
    "grande que el número de variables del modelo.\n",
    "Aparte del coeficiente de determinación y de la varianza, se puede realizar un gráfico\n",
    "donde se comparan los valores reales de la muestra frente a los valores del ajuste (ver\n",
    "Figura 3. Cuanto más se aproximen los puntos del gráfico de dispersión a la bisectriz\n",
    "del primer cuadrante, mejor será el ajuste del modelo. Aunque este método es útil\n",
    "gráficamente, para decidir si un modelo ajusta bien o no es preferible basarse en los\n",
    "p.valores y en el coeficiente de determinación obtenido."
   ]
  },
  {
   "cell_type": "code",
   "execution_count": 10,
   "id": "2d3faeab-1635-4826-bebc-dbe7d3b5f05c",
   "metadata": {},
   "outputs": [
    {
     "data": {
      "image/png": "[encoded data removed]",
      "text/plain": [
       "<Figure size 576x576 with 1 Axes>"
      ]
     },
     "metadata": {
      "needs_background": "light"
     },
     "output_type": "display_data"
    }
   ],
   "source": [
    "# pintar reales vs predichos\n",
    "fig = plt.figure(figsize=(8, 8))\n",
    "y_pred = lm1.predict(housing_num_tr)\n",
    "plt.scatter(y, y_pred)\n",
    "plt.xlabel(\"puntos reales\")\n",
    "plt.ylabel(\"puntos ajuste\")\n",
    "plt.plot([0, max(y)], [0, max(y)], color = 'red', linewidth = 3)\n",
    "plt.show()"
   ]
  },
  {
   "cell_type": "markdown",
   "id": "bd09a830-8fd6-4796-8406-83101e517116",
   "metadata": {},
   "source": [
    "En términos generales el modelo ajusta bien, concentrándose la mayoría de las predic-\n",
    "ciones alrededor de la bisectriz del primer cuadrante, aunque existen algunas predic-\n",
    "ciones que arrojan valores negativos, por lo que es necesario trabajar en mejorar el\n",
    "modelo."
   ]
  },
  {
   "cell_type": "markdown",
   "id": "6ed2a228-a1d8-4eaf-84a2-fd2095a1ff0d",
   "metadata": {},
   "source": [
    "## c) ¿Cuál sería la predicción de un barrio donde todas sus variables numéricas estuvieran en el valor de la mediana y su variable categórica tuviera el valor de la moda?"
   ]
  },
  {
   "cell_type": "markdown",
   "id": "51eba51a-80a5-407c-8a9f-486531e03acb",
   "metadata": {},
   "source": [
    "Para obtener el valor de la predicción de un barrio donde todas las variables nu-\n",
    "méricas tienen el valor de la mediana, lo primero es obtener los valores de esa\n",
    "observación y después emplear el método .predict() de dicha observación. Las\n",
    "medianas se obtienen de aplicar la función median() al array que contiene a las\n",
    "variables numéricas. Es interesante recordar que las medianas es necesario extraer-\n",
    "las de las variables numéricas una vez han pasado por el pipeline() del tratamiento\n",
    "numérico para introducirlas en la predicción con sus valores escalados."
   ]
  },
  {
   "cell_type": "code",
   "execution_count": 11,
   "id": "6821a64d-b8b1-4489-aef6-905ca3a5ba32",
   "metadata": {},
   "outputs": [
    {
     "name": "stdout",
     "output_type": "stream",
     "text": [
      "[ 0.53891366 -0.6422871   0.02864572 -0.23321042 -0.24283094 -0.22913175\n",
      " -0.23681619 -0.17679508]\n"
     ]
    }
   ],
   "source": [
    "# obtener observacion medianas\n",
    "medianas = np.median(housing_num_tr, axis=0)\n",
    "print(medianas)"
   ]
  },
  {
   "cell_type": "markdown",
   "id": "a370c291-8c16-4999-a904-0e0bb8f4ed90",
   "metadata": {},
   "source": [
    "Se observa que el nivel más repetido es el primero, que es el que se incluye en la\n",
    "interceptación. Por lo tanto, hay que definir a los coeficientes de regresión relativos a\n",
    "esa variable (β 9 a β 1 2) como 0."
   ]
  },
  {
   "cell_type": "code",
   "execution_count": 12,
   "id": "ec924c06-3866-4b5b-954a-5a8b1919bb8d",
   "metadata": {},
   "outputs": [
    {
     "name": "stdout",
     "output_type": "stream",
     "text": [
      "el valor de y predicho es:  [204449.69888918] dólares\n"
     ]
    }
   ],
   "source": [
    "# obtener observacion para predecir\n",
    "x_nueva = np.array(medianas)\n",
    "x2 = x_nueva.reshape(1, -1)\n",
    "y_nueva = lm1.predict(x2)\n",
    "print(\"el valor de y predicho es: \", y_nueva, \"dólares\")"
   ]
  },
  {
   "cell_type": "markdown",
   "id": "a90a72a7-30f0-4f25-9d9b-3f40a8d785bc",
   "metadata": {},
   "source": [
    "## Repite el ejercicio 1 añadiendo la variable categórica a la regresión."
   ]
  },
  {
   "cell_type": "markdown",
   "id": "80e64826-b464-4e1c-8ec8-c10ca31a8af7",
   "metadata": {},
   "source": [
    "a) Ahora, es necesario definir las variables indicadoras correspondientes a la variable categórica. En primer lugar, se guarda la variable categórica del dataframe,\n",
    "ocean_proximity, en una nueva variable, ocean_cat. Después se crea el indicador\n",
    "de variables empleando el objeto OneHotEncoder de la librería *Scikit-Learn** y\n",
    "se cambia el argumento sparse = False para que cree una matriz densa (con todos\n",
    "los 0 y 1) correspondiente a las diferentes variables indicadoras que contienen la\n",
    "información relativa a la variable categórica. Por último, se crea la matriz (el array)\n",
    "de variables indicadoras ocean_indicadora."
   ]
  },
  {
   "cell_type": "code",
   "execution_count": 13,
   "id": "d9c16d6e-e3ce-4a52-9c9c-f65f265331a6",
   "metadata": {},
   "outputs": [
    {
     "name": "stdout",
     "output_type": "stream",
     "text": [
      "[[0. 0. 0. 1. 0.]\n",
      " [0. 0. 0. 1. 0.]\n",
      " [0. 0. 0. 1. 0.]\n",
      " ...\n",
      " [0. 1. 0. 0. 0.]\n",
      " [0. 1. 0. 0. 0.]\n",
      " [0. 1. 0. 0. 0.]]\n"
     ]
    }
   ],
   "source": [
    "# Transformar variable categorica en variables indicadoras-------\n",
    "# guardar variable-----------------------------------------------\n",
    "ocean_cat = housing[[\"ocean_proximity\"]]\n",
    "# crear categorias para los encabezados--------------------------\n",
    "header_ocean_cat = housing[\"ocean_proximity\"].unique()\n",
    "from sklearn.preprocessing import OneHotEncoder\n",
    "indicar_var = OneHotEncoder(sparse=False)\n",
    "ocean_indicadora = indicar_var.fit_transform(ocean_cat)\n",
    "print(ocean_indicadora)\n",
    "# volver a data frame--------------------------------------------"
   ]
  },
  {
   "cell_type": "code",
   "execution_count": 14,
   "id": "758f15b2-7eec-4bc7-8d7e-c5cd180f5517",
   "metadata": {},
   "outputs": [
    {
     "name": "stdout",
     "output_type": "stream",
     "text": [
      "<class 'pandas.core.frame.DataFrame'>\n",
      "RangeIndex: 20640 entries, 0 to 20639\n",
      "Data columns (total 5 columns):\n",
      " #   Column      Non-Null Count  Dtype  \n",
      "---  ------      --------------  -----  \n",
      " 0   NEAR BAY    20640 non-null  float64\n",
      " 1   <1H OCEAN   20640 non-null  float64\n",
      " 2   INLAND      20640 non-null  float64\n",
      " 3   NEAR OCEAN  20640 non-null  float64\n",
      " 4   ISLAND      20640 non-null  float64\n",
      "dtypes: float64(5)\n",
      "memory usage: 806.4 KB\n",
      "None\n"
     ]
    }
   ],
   "source": [
    "ocean_df = pd.DataFrame(ocean_indicadora,\n",
    "columns = header_ocean_cat, index = housing.index)\n",
    "# Comprobar ocean_df---------------------------------------------\n",
    "print(ocean_df.info())"
   ]
  },
  {
   "cell_type": "code",
   "execution_count": 15,
   "id": "eee51f77-83fd-4a4e-9a59-10203da2ad31",
   "metadata": {},
   "outputs": [
    {
     "name": "stdout",
     "output_type": "stream",
     "text": [
      "   NEAR BAY  <1H OCEAN  INLAND  NEAR OCEAN  ISLAND\n",
      "0       0.0        0.0     0.0         1.0     0.0\n",
      "1       0.0        0.0     0.0         1.0     0.0\n",
      "2       0.0        0.0     0.0         1.0     0.0\n",
      "3       0.0        0.0     0.0         1.0     0.0\n",
      "4       0.0        0.0     0.0         1.0     0.0\n"
     ]
    }
   ],
   "source": [
    "print(ocean_df.head())"
   ]
  },
  {
   "cell_type": "code",
   "execution_count": 16,
   "id": "979ed730-3994-47e5-9d7b-aefb6d3a79e8",
   "metadata": {},
   "outputs": [
    {
     "data": {
      "text/plain": [
       "array([[-1.32783522,  1.05254828,  0.98214266, ...,  0.        ,\n",
       "         1.        ,  0.        ],\n",
       "       [-1.32284391,  1.04318455, -0.60701891, ...,  0.        ,\n",
       "         1.        ,  0.        ],\n",
       "       [-1.33282653,  1.03850269,  1.85618152, ...,  0.        ,\n",
       "         1.        ,  0.        ],\n",
       "       ...,\n",
       "       [-0.8237132 ,  1.77823747, -0.92485123, ...,  0.        ,\n",
       "         0.        ,  0.        ],\n",
       "       [-0.87362627,  1.77823747, -0.84539315, ...,  0.        ,\n",
       "         0.        ,  0.        ],\n",
       "       [-0.83369581,  1.75014627, -1.00430931, ...,  0.        ,\n",
       "         0.        ,  0.        ]])"
      ]
     },
     "execution_count": 16,
     "metadata": {},
     "output_type": "execute_result"
    }
   ],
   "source": [
    "# importar clase-------------------------------------------------\n",
    "from sklearn.compose import ColumnTransformer\n",
    "# separar dataset en variables numericas y variable categorica---\n",
    "num_attribs = list(housing_num)\n",
    "cat_attribs = [\"ocean_proximity\"]\n",
    "# definir full pipeline------------------------------------------\n",
    "full_pipeline = ColumnTransformer([\n",
    "(\"num\", num_pipeline, num_attribs),\n",
    "(\"cat\", OneHotEncoder(), cat_attribs),\n",
    "])\n",
    "housing_prepared = full_pipeline.fit_transform(housing)\n",
    "housing_prepared"
   ]
  },
  {
   "cell_type": "code",
   "execution_count": 17,
   "id": "abb2d88b-231b-402a-aa44-bc4dff9edb44",
   "metadata": {},
   "outputs": [
    {
     "data": {
      "text/plain": [
       "LinearRegression()"
      ]
     },
     "execution_count": 17,
     "metadata": {},
     "output_type": "execute_result"
    }
   ],
   "source": [
    "# importar clase-------------------------------------------------\n",
    "from sklearn.linear_model import LinearRegression\n",
    "# ajustar el modelo----------------------------------------------\n",
    "lm2 = LinearRegression()\n",
    "lm2.fit(housing_prepared, respuesta)\n",
    "# obtener coeficientes del modelo--------------------------------\n",
    "# intercepto"
   ]
  },
  {
   "cell_type": "code",
   "execution_count": 18,
   "id": "57ed1794-d2a7-4cba-96ad-6bf2504ce175",
   "metadata": {},
   "outputs": [
    {
     "name": "stdout",
     "output_type": "stream",
     "text": [
      "242709.13524913645\n"
     ]
    }
   ],
   "source": [
    "print(lm2.intercept_)"
   ]
  },
  {
   "cell_type": "code",
   "execution_count": 19,
   "id": "a689266e-74c3-4cb3-baf4-03322eb01f5c",
   "metadata": {
    "tags": []
   },
   "outputs": [
    {
     "name": "stdout",
     "output_type": "stream",
     "text": [
      "[-52952.95152846 -53767.62485624  13312.88334575 -10320.06092603\n",
      "  29920.76507621 -44490.47744263  29746.22226671  73636.15586366\n",
      " -23472.13460582 -63238.53335023 132593.58521653 -27169.53626692\n",
      " -18713.38099356]\n"
     ]
    }
   ],
   "source": [
    "print(lm2.coef_)"
   ]
  },
  {
   "cell_type": "markdown",
   "id": "58c40d6b-b6ad-4636-93a3-20636793505a",
   "metadata": {},
   "source": [
    "Se obtiene en lm2.intercept_ la interceptación del modelo y en lm2.coef_ los betas del\n",
    "modelo. Hay que tener en cuenta que los últimos cinco β corresponden con los niveles\n",
    "de la variable categórica (en este caso, no se han incluido ninguno de los niveles en\n",
    "el intercepto). Para incluir uno de los niveles en el intercepto y reducir el número de\n",
    "parámetros del modelo debemos definir el argumento (drop = first) en el transformador de las variables categóricas de la Pipeline."
   ]
  },
  {
   "cell_type": "code",
   "execution_count": 20,
   "id": "d2c926f7-1850-4ca8-8d4c-d427c251e45b",
   "metadata": {},
   "outputs": [
    {
     "data": {
      "text/plain": [
       "LinearRegression()"
      ]
     },
     "execution_count": 20,
     "metadata": {},
     "output_type": "execute_result"
    }
   ],
   "source": [
    "# importar clase-------------------------------------------------\n",
    "from sklearn.compose import ColumnTransformer\n",
    "# separar dataset en variables numericas y variable categorica---\n",
    "num_attribs = list(housing_num)\n",
    "cat_attribs = [\"ocean_proximity\"]\n",
    "# definir full pipeline------------------------------------------\n",
    "full_pipeline = ColumnTransformer([\n",
    "(\"num\", num_pipeline, num_attribs),\n",
    "(\"cat\", OneHotEncoder(drop = \"first\"), cat_attribs),\n",
    "])\n",
    "housing_prepared = full_pipeline.fit_transform(housing)\n",
    "# importar clase-------------------------------------------------\n",
    "from sklearn.linear_model import LinearRegression\n",
    "# ajustar el modelo----------------------------------------------\n",
    "lm2 = LinearRegression()\n",
    "lm2.fit(housing_prepared, respuesta)\n",
    "# obtener coeficientes del modelo--------------------------------\n",
    "# intercepto"
   ]
  },
  {
   "cell_type": "code",
   "execution_count": 21,
   "id": "751a009f-3aa5-4f5e-a32f-6a002a8d7a1d",
   "metadata": {},
   "outputs": [
    {
     "name": "stdout",
     "output_type": "stream",
     "text": [
      "219237.00064331223\n"
     ]
    }
   ],
   "source": [
    "print(lm2.intercept_)\n",
    "# coeficientes de regresion"
   ]
  },
  {
   "cell_type": "code",
   "execution_count": 22,
   "id": "4f1031ad-6927-484e-a172-fd7d82487405",
   "metadata": {},
   "outputs": [
    {
     "name": "stdout",
     "output_type": "stream",
     "text": [
      "[-52952.95152846 -53767.62485624  13312.88334575 -10320.06092603\n",
      "  29920.76507621 -44490.47744263  29746.22226671  73636.15586366\n",
      " -39766.3987444  156065.71982235  -3697.40166109   4758.75361226]\n"
     ]
    }
   ],
   "source": [
    "print(lm2.coef_)"
   ]
  },
  {
   "cell_type": "markdown",
   "id": "90765da2-9ea2-4562-82a4-d5baa4eef1ad",
   "metadata": {},
   "source": [
    "Los dos modelos son equivalentes, pero el segundo es más sencillo al haber elimina-\n",
    "do un parámetro. Además, podemos observar cómo los parámetros relativos a los\n",
    "coeficientes de regresión de las variables numéricas se mantienen iguales."
   ]
  },
  {
   "cell_type": "markdown",
   "id": "f6c60b06-bd4d-4473-a602-3c7a87228e32",
   "metadata": {},
   "source": [
    "Para ajustar el modelo de regresión lineal mediante statmodels se va a aprovechar todo\n",
    "el preprocesado empleado en el apartado a). Se importa la librería statsmodels.api y la\n",
    "clase stats de la librería scipy. Se define la matriz X como el conjunto de valores de\n",
    "housing_prepared y como y la variable respuesta. Es necesario, además, definir explici-\n",
    "tamente que el modelo tiene interceptación mediante la función sm.add_constant() a\n",
    "la matriz X. El ajuste por minimos cuadrados se construye con la función sm.OLS(). Por\n",
    "último, podemos representar el sumario de la regresión con la función est2.summary()."
   ]
  },
  {
   "cell_type": "code",
   "execution_count": 23,
   "id": "762d6470-e68a-43f0-b1dd-4e5a05612a8e",
   "metadata": {},
   "outputs": [
    {
     "name": "stdout",
     "output_type": "stream",
     "text": [
      "                            OLS Regression Results                            \n",
      "==============================================================================\n",
      "Dep. Variable:     median_house_value   R-squared:                       0.645\n",
      "Model:                            OLS   Adj. R-squared:                  0.645\n",
      "Method:                 Least Squares   F-statistic:                     3129.\n",
      "Date:                Sun, 04 Jul 2021   Prob (F-statistic):               0.00\n",
      "Time:                        01:44:39   Log-Likelihood:            -2.5917e+05\n",
      "No. Observations:               20640   AIC:                         5.184e+05\n",
      "Df Residuals:                   20627   BIC:                         5.185e+05\n",
      "Df Model:                          12                                         \n",
      "Covariance Type:            nonrobust                                         \n",
      "==============================================================================\n",
      "                 coef    std err          t      P>|t|      [0.025      0.975]\n",
      "------------------------------------------------------------------------------\n",
      "const       2.192e+05    836.139    262.202      0.000    2.18e+05    2.21e+05\n",
      "x1         -5.295e+04   2031.313    -26.068      0.000   -5.69e+04    -4.9e+04\n",
      "x2         -5.377e+04   2135.527    -25.178      0.000    -5.8e+04   -4.96e+04\n",
      "x3          1.331e+04    550.049     24.203      0.000    1.22e+04    1.44e+04\n",
      "x4         -1.032e+04   1681.185     -6.139      0.000   -1.36e+04   -7024.805\n",
      "x5          2.992e+04   2487.720     12.027      0.000     2.5e+04    3.48e+04\n",
      "x6         -4.449e+04   1204.800    -36.928      0.000   -4.69e+04   -4.21e+04\n",
      "x7          2.975e+04   2545.710     11.685      0.000    2.48e+04    3.47e+04\n",
      "x8          7.364e+04    631.147    116.670      0.000    7.24e+04    7.49e+04\n",
      "x9         -3.977e+04   1736.250    -22.904      0.000   -4.32e+04   -3.64e+04\n",
      "x10         1.561e+05   3.08e+04      5.072      0.000    9.57e+04    2.16e+05\n",
      "x11        -3697.4017   1906.041     -1.940      0.052   -7433.393      38.589\n",
      "x12         4758.7536   1562.723      3.045      0.002    1695.692    7821.815\n",
      "==============================================================================\n",
      "Omnibus:                     5177.939   Durbin-Watson:                   0.968\n",
      "Prob(Omnibus):                  0.000   Jarque-Bera (JB):            19747.113\n",
      "Skew:                           1.213   Prob(JB):                         0.00\n",
      "Kurtosis:                       7.132   Cond. No.                         127.\n",
      "==============================================================================\n",
      "\n",
      "Notes:\n",
      "[1] Standard Errors assume that the covariance matrix of the errors is correctly specified.\n"
     ]
    }
   ],
   "source": [
    "# cargar funciones-----------------------------------------------\n",
    "import statsmodels.api as sm\n",
    "from scipy import stats\n",
    "# definir matriz de disenyo y variable respuesta-----------------\n",
    "X = housing_prepared\n",
    "y = respuesta\n",
    "# anyadir intercepto---------------------------------------------\n",
    "X2 = sm.add_constant(X)\n",
    "# ajustar el modelo----------------------------------------------\n",
    "est = sm.OLS(y, X2)\n",
    "# ver ajuste-----------------------------------------------------\n",
    "est2 = est.fit()\n",
    "print(est2.summary())"
   ]
  },
  {
   "cell_type": "markdown",
   "id": "286ed08d-362b-473e-9cac-3356bcd16402",
   "metadata": {},
   "source": [
    "Se observa que todas las variables son estadísticamente significativas ya que el p.va-\n",
    "lor obtenido es menor de 0.05 para todas las variables. Hay una variable indicadora\n",
    "que tiene un p. valor > 0.05, pero es necesario que recordar que la significatividad\n",
    "de una variable se mide en su conjunto, y si un nivel sale significativo es necesario mantener a esa variable en el modelo. Además de por el p. valor, se puede comprobar\n",
    "la significatividad observando el intervalo de confianza al nivel 1 − α [0.025 − 0.975]\n",
    "donde ninguna variable (quitando del mismo nivel donde el p. valor era mayor que\n",
    "0.05) contiene al 0.\n",
    "\n",
    "Se puede observar que el coeficiente de determinación del modelo es igual a 0.645,\n",
    "y que el coeficiente de determinación ajustado, con 3 decimales de precisión tiene\n",
    "también el mismo valor. Este hecho es debido a que el número de observaciónes es\n",
    "mucho más grande que el número de variables del modelo.\n",
    "\n",
    "Aparte del coeficiente de determinación y de la varianza, se puede realizar un gráfico\n",
    "donde se comparan los valores reales de la muestra frente a los valores del ajuste (ver\n",
    "Figura 4). Cuanto más se aproximen los puntos del gráfico de dispersión a la bisectriz\n",
    "del primer cuadrante, mejor será el ajuste del modelo. Aunque este método es útil\n",
    "gráficamente, para decidir si un modelo ajusta bien o no es preferible basarse en los\n",
    "p.valores y en el coeficiente de determinación obtenido.\n"
   ]
  },
  {
   "cell_type": "code",
   "execution_count": 25,
   "id": "4365c2fd-19ad-4aa8-bbc2-6b573612f9e3",
   "metadata": {},
   "outputs": [
    {
     "data": {
      "image/png": "[encoded data removed]",
      "text/plain": [
       "<Figure size 576x576 with 1 Axes>"
      ]
     },
     "metadata": {
      "needs_background": "light"
     },
     "output_type": "display_data"
    }
   ],
   "source": [
    "#pintar reales vs predichos\n",
    "fig = plt.figure(figsize=(8, 8))\n",
    "y_pred = lm2.predict(housing_prepared)\n",
    "plt.scatter(y, y_pred)\n",
    "plt.xlabel(\"puntos reales\")\n",
    "plt.ylabel(\"puntos ajuste\")\n",
    "plt.plot([0, max(y)], [0, max(y)], color = 'red', linewidth = 3)\n",
    "plt.show()"
   ]
  },
  {
   "cell_type": "markdown",
   "id": "ca6755b9-963c-43dd-8fa3-2766fc8fcc61",
   "metadata": {},
   "source": [
    "En términos generales el modelo ajusta bien, concentrándose la mayoría de las predic-\n",
    "ciones alrededor de la bisectriz del primer cuadrante, aunque existen algunas predic-\n",
    "ciones que arrojan valores negativos, por lo que es necesario trabajar en mejorar el\n",
    "modelo."
   ]
  },
  {
   "cell_type": "markdown",
   "id": "67b2a83d-b955-4b9e-968c-7193aaf6ec59",
   "metadata": {},
   "source": [
    "c) Para obtener el valor de la predicción de un barrio donde todas las variables numéricas tienen el valor de la mediana y la variable categórica tiene el valor de la moda,\n",
    "lo primero es obtener los valores de esa observación y después emplear el método\n",
    ".predict() de dicha observación. Las medianas se obtienen de aplicar la función\n",
    "median() al array que contiene a las variables numéricas, mientras que la moda\n",
    "de la variable categórica se extrae a partir del método .value_conts() de la variable\n",
    "categórica. Es importante recordar que las medianas es necesario extraerlas de las\n",
    "variables numéricas una vez han pasado por el pipeline() del tratamiento numérico\n",
    "para introducirlas en la predicción con sus valores escalados."
   ]
  },
  {
   "cell_type": "code",
   "execution_count": 26,
   "id": "0c2a7427-3a80-4da2-b3f3-81e7af7c4f8c",
   "metadata": {},
   "outputs": [
    {
     "name": "stdout",
     "output_type": "stream",
     "text": [
      "[ 0.53891366 -0.6422871   0.02864572 -0.23321042 -0.24283094 -0.22913175\n",
      " -0.23681619 -0.17679508]\n"
     ]
    }
   ],
   "source": [
    "# obtener observacion medianas\n",
    "medianas = np.median(housing_num_tr, axis=0)\n",
    "print(medianas)\n",
    "# la moda de"
   ]
  },
  {
   "cell_type": "code",
   "execution_count": 27,
   "id": "70af551c-8cd0-4ca2-84de-3bea3c3be3b3",
   "metadata": {},
   "outputs": [
    {
     "name": "stdout",
     "output_type": "stream",
     "text": [
      "<1H OCEAN     9136\n",
      "INLAND        6551\n",
      "NEAR OCEAN    2658\n",
      "NEAR BAY      2290\n",
      "ISLAND           5\n",
      "Name: ocean_proximity, dtype: int64\n"
     ]
    }
   ],
   "source": [
    "print(housing[\"ocean_proximity\"].value_counts())"
   ]
  },
  {
   "cell_type": "markdown",
   "id": "45128b70-60ae-4489-a2cf-a520c30125f1",
   "metadata": {},
   "source": [
    "Se observa que el nivel más repetido es el primero, que es el que se incluye en la\n",
    "interceptación. Por lo tanto, hay que definir a los coeficientes de regresión relativos a\n",
    "esa variable (β 9 a β 1 2) como 0"
   ]
  },
  {
   "cell_type": "code",
   "execution_count": 29,
   "id": "a0d199ec-0aae-4af6-845b-df919fb3c201",
   "metadata": {},
   "outputs": [
    {
     "name": "stdout",
     "output_type": "stream",
     "text": [
      "el valor de y predicho es:  [210887.88263401] dólares.\n"
     ]
    }
   ],
   "source": [
    "# obtener observacion para predecir\n",
    "array_medianas = np.array(medianas)\n",
    "x_nueva = np.append(array_medianas, [0, 0, 0, 0])\n",
    "x2 = x_nueva.reshape(1, -1)\n",
    "y_nueva = lm2.predict(x2)\n",
    "print(\"el valor de y predicho es: \", y_nueva, \"dólares.\")"
   ]
  },
  {
   "cell_type": "markdown",
   "id": "91f59db8-ae79-4d84-98b0-cf934c5f9898",
   "metadata": {},
   "source": [
    "# Ejercicio 3. Analizar los resultados obtenidos de los ejercicios 1 y 2:"
   ]
  },
  {
   "cell_type": "markdown",
   "id": "4d140533-2c09-42ea-b87a-115df7d58cbc",
   "metadata": {},
   "source": [
    "## a) por separado, comprobar si existe colinealidad entre las variables predictoras."
   ]
  },
  {
   "cell_type": "markdown",
   "id": "f3c7936b-f653-4956-9483-dec1ef2e9360",
   "metadata": {},
   "source": [
    "En el primer paso de este ejercicio se va a realizar es evaluar la posible colinealidad entre\n",
    "las variables predictoras de los modelos de regresión lineal múltiple de los Ejercicios 1\n",
    "y 2. Para ello, se emplea la función variance_inflation_factor de la librería statsmodels\n",
    "sobre un objeto de tipo pandas. En este caso, se tiene que el dataframe del Ejercicio 1\n",
    "con las variables numéricas después de realizar la imputación es housing_i."
   ]
  },
  {
   "cell_type": "code",
   "execution_count": 32,
   "id": "df473926-cac5-4fc2-a749-a6456dc893f3",
   "metadata": {},
   "outputs": [
    {
     "name": "stdout",
     "output_type": "stream",
     "text": [
      "<class 'pandas.core.frame.DataFrame'>\n",
      "RangeIndex: 20640 entries, 0 to 20639\n",
      "Data columns (total 8 columns):\n",
      " #   Column              Non-Null Count  Dtype  \n",
      "---  ------              --------------  -----  \n",
      " 0   longitude           20640 non-null  float64\n",
      " 1   latitude            20640 non-null  float64\n",
      " 2   housing_median_age  20640 non-null  float64\n",
      " 3   total_rooms         20640 non-null  float64\n",
      " 4   total_bedrooms      20640 non-null  float64\n",
      " 5   population          20640 non-null  float64\n",
      " 6   households          20640 non-null  float64\n",
      " 7   median_income       20640 non-null  float64\n",
      "dtypes: float64(8)\n",
      "memory usage: 1.3 MB\n"
     ]
    }
   ],
   "source": [
    "# cargar funcion-------------------------------------------------\n",
    "from statsmodels.stats.outliers_influence import variance_inflation_factor\n",
    "# predictores ejercicio 1\n",
    "housing_i.info()\n",
    "# crear dataframe para aplicar VIF"
   ]
  },
  {
   "cell_type": "code",
   "execution_count": 34,
   "id": "4aa5fd14-33d0-4ca1-a797-143bdf63401e",
   "metadata": {},
   "outputs": [
    {
     "name": "stdout",
     "output_type": "stream",
     "text": [
      "             variable         VIF\n",
      "0           longitude  614.390295\n",
      "1            latitude  548.954416\n",
      "2  housing_median_age    7.281102\n",
      "3         total_rooms   29.032423\n",
      "4      total_bedrooms   70.525566\n",
      "5          population   16.173089\n",
      "6          households   73.547059\n",
      "7       median_income    8.003945\n"
     ]
    }
   ],
   "source": [
    "ej1_VIF = pd.DataFrame()\n",
    "ej1_VIF[\"variable\"] = housing_i.columns\n",
    "# aplicar el metodo\n",
    "ej1_VIF[\"VIF\"] = [variance_inflation_factor(housing_i.values, i)\n",
    "for i in range(len(housing_i.columns))]\n",
    "# resultados\n",
    "print(ej1_VIF)"
   ]
  },
  {
   "cell_type": "markdown",
   "id": "fdc338b3-4da2-48ab-a74f-69d8a37339c3",
   "metadata": {},
   "source": [
    "Se observa que la longitud y la latitud presentan unos valores de VIF muy elevados y\n",
    "podemos estar teniendo un problema de colinealidad.\n",
    "De modo similar, se procede para obtener el VIF de las variables del modelo del Ejercicio\n",
    "2, utilizando en este caso un dataframe de tipo pandas a partir de los dataframe\n",
    "housing_i y que vamos a llamar housing_t."
   ]
  },
  {
   "cell_type": "code",
   "execution_count": 36,
   "id": "674d866b-f9bf-478c-ba8c-ddec8dc3ff97",
   "metadata": {},
   "outputs": [
    {
     "name": "stdout",
     "output_type": "stream",
     "text": [
      "<class 'pandas.core.frame.DataFrame'>\n",
      "RangeIndex: 20640 entries, 0 to 20639\n",
      "Data columns (total 9 columns):\n",
      " #   Column              Non-Null Count  Dtype  \n",
      "---  ------              --------------  -----  \n",
      " 0   longitude           20640 non-null  float64\n",
      " 1   latitude            20640 non-null  float64\n",
      " 2   housing_median_age  20640 non-null  float64\n",
      " 3   total_rooms         20640 non-null  float64\n",
      " 4   total_bedrooms      20433 non-null  float64\n",
      " 5   population          20640 non-null  float64\n",
      " 6   households          20640 non-null  float64\n",
      " 7   median_income       20640 non-null  float64\n",
      " 8   ocean_proximity     20640 non-null  object \n",
      "dtypes: float64(8), object(1)\n",
      "memory usage: 1.4+ MB\n"
     ]
    }
   ],
   "source": [
    "# cargar funcion-------------------------------------------------\n",
    "from statsmodels.stats.outliers_influence import variance_inflation_factor\n",
    "# predictores ejercicio 2\n",
    "housing.info()"
   ]
  },
  {
   "cell_type": "code",
   "execution_count": 38,
   "id": "1e1e8cd6-97c7-495a-8a4e-1656278372f7",
   "metadata": {},
   "outputs": [
    {
     "name": "stdout",
     "output_type": "stream",
     "text": [
      "<class 'pandas.core.frame.DataFrame'>\n",
      "RangeIndex: 20640 entries, 0 to 20639\n",
      "Data columns (total 12 columns):\n",
      " #   Column              Non-Null Count  Dtype  \n",
      "---  ------              --------------  -----  \n",
      " 0   longitude           20640 non-null  float64\n",
      " 1   latitude            20640 non-null  float64\n",
      " 2   housing_median_age  20640 non-null  float64\n",
      " 3   total_rooms         20640 non-null  float64\n",
      " 4   total_bedrooms      20640 non-null  float64\n",
      " 5   population          20640 non-null  float64\n",
      " 6   households          20640 non-null  float64\n",
      " 7   median_income       20640 non-null  float64\n",
      " 8   NEAR BAY            20640 non-null  float64\n",
      " 9   INLAND              20640 non-null  float64\n",
      " 10  NEAR OCEAN          20640 non-null  float64\n",
      " 11  ISLAND              20640 non-null  float64\n",
      "dtypes: float64(12)\n",
      "memory usage: 1.9 MB\n",
      "None\n"
     ]
    }
   ],
   "source": [
    "housing_t = pd.merge(housing_i, ocean_df, left_index = True\n",
    ", right_index=True)\n",
    "# es necesario quitar una de las variables categoricas-----------\n",
    "housing_t = housing_t.drop(\"<1H OCEAN\", axis=1)\n",
    "# Comprobar df creado--------------------------------------------\n",
    "print(housing_t.info())\n",
    "# crear dataframe para aplicar VIF"
   ]
  },
  {
   "cell_type": "code",
   "execution_count": 41,
   "id": "705fa50c-e2dc-4ca1-8439-1552e84d12c4",
   "metadata": {},
   "outputs": [
    {
     "name": "stdout",
     "output_type": "stream",
     "text": [
      "              variable         VIF\n",
      "0            longitude  942.605262\n",
      "1             latitude  844.284917\n",
      "2   housing_median_age    8.116462\n",
      "3          total_rooms   30.259091\n",
      "4       total_bedrooms   70.550282\n",
      "5           population   16.381178\n",
      "6           households   75.251325\n",
      "7        median_income    8.822349\n",
      "8             NEAR BAY    3.881851\n",
      "9               INLAND    1.003045\n",
      "10          NEAR OCEAN    1.624071\n",
      "11              ISLAND    1.798857\n"
     ]
    }
   ],
   "source": [
    "ej2_VIF = pd.DataFrame()\n",
    "ej2_VIF[\"variable\"] = housing_t.columns\n",
    "# aplicar el metodo\n",
    "ej2_VIF[\"VIF\"] = [variance_inflation_factor(housing_t.values, i)\n",
    "for i in range(len(housing_t.columns))]\n",
    "# resultados\n",
    "print(ej2_VIF)"
   ]
  },
  {
   "cell_type": "markdown",
   "id": "975b880b-5139-496a-9855-8f67bb48f0df",
   "metadata": {},
   "source": [
    "Se observa que los valores del VIF para la longitude y la latitude son muy elevados,\n",
    "además de otras variables como total_bedrooms y households, que también presentan\n",
    "valores elevados. Lo adecuado, en este caso es acudir a otro tipo de métodos que\n",
    "puedan adaptarse mejor a la coliniealidad."
   ]
  },
  {
   "cell_type": "markdown",
   "id": "ddccd086-33a8-46cb-9c2b-94f81aaff3df",
   "metadata": {},
   "source": [
    "## b) compararlos entre sí y compararlos también con la regresión lineal simple del tema anterior."
   ]
  },
  {
   "cell_type": "markdown",
   "id": "b6a8170b-aad6-4fab-845e-98bae83edfbf",
   "metadata": {},
   "source": [
    "Una buena manera de comparar modelos con diferente número de variables predictoras\n",
    "es a través del valor del coeficiente de determinación ajustada. Se tiene, que:\n",
    "- El modelo de regresión lineal simple obtenía un valor de R 2 = 0.473.\n",
    "- El modelo con las variables numéricas un coeficiente de determinación ajustado de R^2_adj = 0.636.\n",
    "- El modelo con todas las variables un coeficiente de determinación ajustado de R^2_adj = 0.645, que esl mayor valor de los 3. Por lo tanto este es el mejor de los tres modelos.\n",
    "\n",
    "En cualquier caso, como se ha visto que presenta problemas de colinealidad, lo ade-\n",
    "cuado sería buscar otro tipo de modelo de regresión, como por ejemplo alguno de los\n",
    "que veremos en el Tema 6."
   ]
  }
 ],
 "metadata": {
  "kernelspec": {
   "display_name": "Python 3",
   "language": "python",
   "name": "python3"
  },
  "language_info": {
   "codemirror_mode": {
    "name": "ipython",
    "version": 3
   },
   "file_extension": ".py",
   "mimetype": "text/x-python",
   "name": "python",
   "nbconvert_exporter": "python",
   "pygments_lexer": "ipython3",
   "version": "3.8.8"
  }
 },
 "nbformat": 4,
 "nbformat_minor": 5
}
