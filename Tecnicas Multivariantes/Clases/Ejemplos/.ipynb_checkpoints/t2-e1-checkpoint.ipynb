{
 "cells": [
  {
   "cell_type": "markdown",
   "id": "3a1c30a9-e07a-4ead-b7ce-15d1874270cd",
   "metadata": {},
   "source": [
    "## a) Comprueba la normalidad a una muestra obtenida mediante el muestreo aleatorio de una distribución normal con media μ = 0.05 y desviación típica σ = 0.9 y n = 1000."
   ]
  },
  {
   "cell_type": "markdown",
   "id": "37f74894-2e2b-429e-8947-ea6197cedc64",
   "metadata": {},
   "source": [
    "## b) Comprueba la normalidad a una muestra obtenida mediante el muestreo aleatorio de una distribución normal con media μ = 0.05 y desviación típica σ = 0.9 y n = 10000."
   ]
  }
 ],
 "metadata": {
  "kernelspec": {
   "display_name": "Python 3",
   "language": "python",
   "name": "python3"
  },
  "language_info": {
   "codemirror_mode": {
    "name": "ipython",
    "version": 3
   },
   "file_extension": ".py",
   "mimetype": "text/x-python",
   "name": "python",
   "nbconvert_exporter": "python",
   "pygments_lexer": "ipython3",
   "version": "3.8.6"
  }
 },
 "nbformat": 4,
 "nbformat_minor": 5
}
