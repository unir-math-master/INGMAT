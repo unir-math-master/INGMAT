{
 "cells": [
  {
   "cell_type": "code",
   "execution_count": 3,
   "id": "32025739-f4ff-4ea2-af8e-d794d04d34eb",
   "metadata": {},
   "outputs": [],
   "source": [
    "import numpy as np"
   ]
  },
  {
   "cell_type": "markdown",
   "id": "7749a918-e165-4e77-8e62-30a40101e660",
   "metadata": {},
   "source": [
    "## Se tiene la siguiente muestra X = {4, 3, 11, 5, 4, 50, 6, 8, 7, 9}, en el que el valor 50 es un outlier."
   ]
  },
  {
   "cell_type": "markdown",
   "id": "d0d3287a-8617-4575-b9d5-a09bbdfc0db4",
   "metadata": {},
   "source": [
    "### a) Calcula la media recortada de la muestra al 20 %, al 10 % y calcula la centrimedia."
   ]
  },
  {
   "cell_type": "markdown",
   "id": "259386b7-756f-4391-8ae8-476705d917ab",
   "metadata": {},
   "source": [
    "Para calcular las medias recortadas, se eliminan los datos una vez ordenados por\n",
    "cada extremo y se calcula la media. para recortar un 20 % (α = 0.2), se recorta\n",
    "un 10 % (un valor) en cada extremo y se calcula la media. Para recortar un 10 %\n",
    "(α = 0.1), se pondera los valores de los extremos con 0.5 y se calcula la media\n",
    "considerando que n es igual a 9. Por último, para obtener la centrimedia se eliminan\n",
    "2 valores de cada extremo, se pondera por 0.5 el tercer y el octavo valor y se obtiene\n",
    "la media considerando n = 5."
   ]
  },
  {
   "cell_type": "code",
   "execution_count": 6,
   "id": "3ddc9155-b64d-464b-873b-a74cee8babfd",
   "metadata": {},
   "outputs": [
    {
     "data": {
      "text/plain": [
       "array([ 3,  4,  4,  5,  6,  7,  8,  9, 11, 50])"
      ]
     },
     "execution_count": 6,
     "metadata": {},
     "output_type": "execute_result"
    }
   ],
   "source": [
    "#se define la muestra\n",
    "X = np.array([4, 3, 11, 5, 4, 50, 6, 8, 7, 9])\n",
    "\n",
    "#ordenar los valores de la muestra\n",
    "X.sort()\n",
    "\n",
    "X"
   ]
  },
  {
   "cell_type": "code",
   "execution_count": 8,
   "id": "ee61a295-8f1b-4f48-a745-76b5f0966902",
   "metadata": {},
   "outputs": [
    {
     "data": {
      "text/plain": [
       "array([ 4,  4,  5,  6,  7,  8,  9, 11])"
      ]
     },
     "execution_count": 8,
     "metadata": {},
     "output_type": "execute_result"
    }
   ],
   "source": [
    "# quitar valores recortados 0.1----------------------------------\n",
    "X1 = X[1:9]\n",
    "\n",
    "X1"
   ]
  },
  {
   "cell_type": "code",
   "execution_count": 9,
   "id": "e3d517be-11a0-455e-847d-23313dfcd822",
   "metadata": {},
   "outputs": [
    {
     "name": "stdout",
     "output_type": "stream",
     "text": [
      "La media recortada al 20 % es 6.75\n"
     ]
    }
   ],
   "source": [
    "print(\"La media recortada al 20 % es\", sum(X1)/8)"
   ]
  },
  {
   "cell_type": "code",
   "execution_count": 10,
   "id": "a8568338-d06e-4a27-bc6c-ca52b04a540b",
   "metadata": {},
   "outputs": [
    {
     "name": "stdout",
     "output_type": "stream",
     "text": [
      "La media recortada al 10 % es 8.94\n"
     ]
    }
   ],
   "source": [
    "X2 = np.array([3*0.5,4,4,5,6,7,8,9, 11, 50*0.5])\n",
    "print(\"La media recortada al 10 % es\",round(sum(X2)/9, 2))"
   ]
  },
  {
   "cell_type": "code",
   "execution_count": 16,
   "id": "50804662-ecbb-4bb5-a71e-b6848164b9f7",
   "metadata": {},
   "outputs": [
    {
     "name": "stdout",
     "output_type": "stream",
     "text": [
      "[2 5 6 7 8 4]\n",
      "[2 5 6 7 8 4]\n",
      "La centrimedia es 6.4\n"
     ]
    }
   ],
   "source": [
    "X3 = X[2:8]\n",
    "print(X3)\n",
    "X3[0] = 4*0.5\n",
    "X3[5] = 8*0.5\n",
    "print(X3)\n",
    "print(\"La centrimedia es\", sum(X3)/5)"
   ]
  },
  {
   "cell_type": "markdown",
   "id": "f86761b3-5f68-41f1-921e-30ee6639c788",
   "metadata": {},
   "source": [
    "### b) Calcula la media winsorizada al 20 %."
   ]
  },
  {
   "cell_type": "code",
   "execution_count": null,
   "id": "febfd630-2328-4372-b8d7-381b79367cd5",
   "metadata": {},
   "outputs": [],
   "source": []
  },
  {
   "cell_type": "markdown",
   "id": "178a93eb-e26c-4fd8-9f29-3d829ce580f8",
   "metadata": {},
   "source": [
    "### c) Calcula la trimedia."
   ]
  },
  {
   "cell_type": "markdown",
   "id": "99ee90d7-4aa4-4a7b-88c9-c22098a2fefb",
   "metadata": {},
   "source": [
    "### d) Compara los valores obtenidos en los apartados a), b) y c) con la media muestral."
   ]
  },
  {
   "cell_type": "markdown",
   "id": "92530d65-e344-4a8c-8d33-0305604146d6",
   "metadata": {},
   "source": [
    "### e) Calcula el MAD y comparalo con la desviación típica."
   ]
  }
 ],
 "metadata": {
  "kernelspec": {
   "display_name": "Python 3",
   "language": "python",
   "name": "python3"
  },
  "language_info": {
   "codemirror_mode": {
    "name": "ipython",
    "version": 3
   },
   "file_extension": ".py",
   "mimetype": "text/x-python",
   "name": "python",
   "nbconvert_exporter": "python",
   "pygments_lexer": "ipython3",
   "version": "3.8.6"
  }
 },
 "nbformat": 4,
 "nbformat_minor": 5
}
