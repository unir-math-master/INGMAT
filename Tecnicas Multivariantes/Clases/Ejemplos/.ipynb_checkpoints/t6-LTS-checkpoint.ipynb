{
 "cells": [
  {
   "cell_type": "code",
   "execution_count": 3,
   "id": "be4cb77c-2fb9-47fa-ae1c-55de37121e32",
   "metadata": {},
   "outputs": [],
   "source": [
    "def LTS(x, y, porcentaje_n, rep, rep2):\n",
    "    from sklearn import linear_model\n",
    "    lm = linear_model.LinearRegression()\n",
    "    max_score = 0\n",
    "    n = int(porcentaje_n*len(x))\n",
    "    newx = np.ones(n)\n",
    "    newy = np.ones(n)\n",
    "    bestx = np.ones(n)\n",
    "    besty = np.ones(n)\n",
    "    #find starting point randomly\n",
    "    for i in range(rep):\n",
    "        newx = np.array(sorted(random.sample(range(len(x)), n)))\n",
    "        j = 0\n",
    "        for val in newx:\n",
    "            newy[j] = y[val]\n",
    "            j = j + 1\n",
    "        lm.fit(newx.reshape(-1, 1), newy)\n",
    "        score = lm.score(newx.reshape(-1, 1), newy)\n",
    "        if(score > max_score):\n",
    "            max_score = score\n",
    "            np.copyto(bestx, newx)\n",
    "            np.copyto(besty, newy)\n",
    "            \n",
    "    #alter starting point to get iteratively better\n",
    "    for i in range(rep2):\n",
    "        np.copyto(newx, bestx.astype(int))\n",
    "        np.copyto(newy, besty.astype(int))\n",
    "        flag = True\n",
    "        while flag:\n",
    "            xloc = random.randint(0, len(x) - 1)\n",
    "            if int(x[xloc]) not in newx:\n",
    "                flag = False\n",
    "        newxloc = random.randint(0, len(newx) - 1)\n",
    "        newx[newxloc] = xloc\n",
    "        newx = np.array(sorted(newx))\n",
    "        j = 0\n",
    "        for val in newx:\n",
    "            newy[j] = y[val]\n",
    "            j = j + 1\n",
    "        lm.fit(newx.reshape(-1, 1), newy)\n",
    "        score = lm.score(np.array(newx).reshape(-1, 1), newy)\n",
    "        if(score > max_score):\n",
    "            max_score = score\n",
    "            np.copyto(bestx, newx)\n",
    "            np.copyto(besty, newy)\n",
    "            mejor_lm = lm\n",
    "    return mejor_lm"
   ]
  }
 ],
 "metadata": {
  "kernelspec": {
   "display_name": "Python 3",
   "language": "python",
   "name": "python3"
  },
  "language_info": {
   "codemirror_mode": {
    "name": "ipython",
    "version": 3
   },
   "file_extension": ".py",
   "mimetype": "text/x-python",
   "name": "python",
   "nbconvert_exporter": "python",
   "pygments_lexer": "ipython3",
   "version": "3.8.6"
  }
 },
 "nbformat": 4,
 "nbformat_minor": 5
}
