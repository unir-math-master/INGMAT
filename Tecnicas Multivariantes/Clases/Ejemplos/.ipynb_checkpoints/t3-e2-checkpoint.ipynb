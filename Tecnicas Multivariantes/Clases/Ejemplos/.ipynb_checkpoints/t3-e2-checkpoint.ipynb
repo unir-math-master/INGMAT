{
 "cells": [
  {
   "cell_type": "markdown",
   "id": "ea259c69-7321-49c2-9fe6-033878b79bfe",
   "metadata": {},
   "source": [
    "## a) En la base de datos California housing existe una variable que no es del tipo numérico. Muestra los diferentes valores que toma dicha variable."
   ]
  },
  {
   "cell_type": "markdown",
   "id": "024f33f8-6ed9-45ce-8a61-8155c2a2e813",
   "metadata": {},
   "source": [
    "## b) Describe las variables numéricas (máximo, mínimo, media, desviación típica, cuartiles, etc.) y realiza un histograma de cada una de ellas."
   ]
  }
 ],
 "metadata": {
  "kernelspec": {
   "display_name": "Python 3",
   "language": "python",
   "name": "python3"
  },
  "language_info": {
   "codemirror_mode": {
    "name": "ipython",
    "version": 3
   },
   "file_extension": ".py",
   "mimetype": "text/x-python",
   "name": "python",
   "nbconvert_exporter": "python",
   "pygments_lexer": "ipython3",
   "version": "3.8.6"
  }
 },
 "nbformat": 4,
 "nbformat_minor": 5
}
