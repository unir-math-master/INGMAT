{
 "cells": [
  {
   "cell_type": "markdown",
   "id": "4e0c0131-4434-4210-bf33-2171d793f640",
   "metadata": {},
   "source": [
    "# En este ejercicio profundizarás en los modelos de regresión penalizada. Carga el dataset California housing, y realiza un modelo de regresión Ridge de la mediana de los valores de las casas (variable respuesta Y ) con las variables restantes (numéricas y categóricas) del dataset:"
   ]
  },
  {
   "cell_type": "markdown",
   "id": "e3691db7-a6c9-447b-abbb-529ab5a29cde",
   "metadata": {},
   "source": [
    "## a) Con el hiperparámetro de encogimiento ${α = 1}$."
   ]
  },
  {
   "cell_type": "code",
   "execution_count": 3,
   "id": "464d5fb1-d5c1-4134-a8f8-e42490a723f6",
   "metadata": {},
   "outputs": [],
   "source": [
    "# cargar librerias-----------------------------------------------\n",
    "import pandas as pd\n",
    "import numpy as np\n",
    "from pandas.core.common import flatten\n",
    "from plotnine import *\n",
    "from array import *\n",
    "import scipy.stats as stats\n",
    "import math\n",
    "import matplotlib as mpl\n",
    "import matplotlib.pyplot as plt\n",
    "import statsmodels.api as sm\n",
    "from sklearn import linear_model\n",
    "from sklearn.metrics import mean_squared_error, r2_score\n",
    "import statsmodels.formula.api as smf\n",
    "import statsmodels.stats.api as sms\n",
    "\n",
    "import os\n",
    "import tarfile\n",
    "import urllib.request"
   ]
  },
  {
   "cell_type": "code",
   "execution_count": 4,
   "id": "908b9b0b-90b2-459a-b5ea-695e9aebc2d5",
   "metadata": {},
   "outputs": [],
   "source": [
    "# definir las rutas y caminos donde se encuentran los datos------\n",
    "DOWNLOAD_ROOT = \"https://raw.githubusercontent.com/ageron/handson-ml2/master/\"\n",
    "# path que se va a crear en nuestro sistema----------------------\n",
    "HOUSING_PATH = os.path.join(\"datasets\", \"housing\")\n",
    "# lugar de descarga del dataset----------------------------------\n",
    "HOUSING_URL = DOWNLOAD_ROOT + \"datasets/housing/housing.tgz\""
   ]
  },
  {
   "cell_type": "code",
   "execution_count": 5,
   "id": "a1be1954-aab5-48f7-9925-b145b8cab309",
   "metadata": {},
   "outputs": [],
   "source": [
    "# definir una funcion que obtenga los datos y los descargue-----\n",
    "def fetch_housing_data(housing_url=HOUSING_URL,housing_path=HOUSING_PATH):\n",
    "    if not os.path.isdir(housing_path):\n",
    "        os.makedirs(housing_path)\n",
    "    tgz_path = os.path.join(housing_path, \"housing.tgz\")\n",
    "    urllib.request.urlretrieve(housing_url, tgz_path)\n",
    "    housing_tgz = tarfile.open(tgz_path)\n",
    "    housing_tgz.extractall(path=housing_path)\n",
    "    housing_tgz.close()\n",
    "    \n",
    "fetch_housing_data()"
   ]
  },
  {
   "cell_type": "code",
   "execution_count": 6,
   "id": "7a681dad-8463-4523-99c7-669e7b77e0fa",
   "metadata": {
    "collapsed": true,
    "jupyter": {
     "outputs_hidden": true
    },
    "tags": []
   },
   "outputs": [
    {
     "data": {
      "text/html": [
       "<div>\n",
       "<style scoped>\n",
       "    .dataframe tbody tr th:only-of-type {\n",
       "        vertical-align: middle;\n",
       "    }\n",
       "\n",
       "    .dataframe tbody tr th {\n",
       "        vertical-align: top;\n",
       "    }\n",
       "\n",
       "    .dataframe thead th {\n",
       "        text-align: right;\n",
       "    }\n",
       "</style>\n",
       "<table border=\"1\" class=\"dataframe\">\n",
       "  <thead>\n",
       "    <tr style=\"text-align: right;\">\n",
       "      <th></th>\n",
       "      <th>longitude</th>\n",
       "      <th>latitude</th>\n",
       "      <th>housing_median_age</th>\n",
       "      <th>total_rooms</th>\n",
       "      <th>total_bedrooms</th>\n",
       "      <th>population</th>\n",
       "      <th>households</th>\n",
       "      <th>median_income</th>\n",
       "      <th>median_house_value</th>\n",
       "      <th>ocean_proximity</th>\n",
       "    </tr>\n",
       "  </thead>\n",
       "  <tbody>\n",
       "    <tr>\n",
       "      <th>0</th>\n",
       "      <td>-122.23</td>\n",
       "      <td>37.88</td>\n",
       "      <td>41.0</td>\n",
       "      <td>880.0</td>\n",
       "      <td>129.0</td>\n",
       "      <td>322.0</td>\n",
       "      <td>126.0</td>\n",
       "      <td>8.3252</td>\n",
       "      <td>452600.0</td>\n",
       "      <td>NEAR BAY</td>\n",
       "    </tr>\n",
       "    <tr>\n",
       "      <th>1</th>\n",
       "      <td>-122.22</td>\n",
       "      <td>37.86</td>\n",
       "      <td>21.0</td>\n",
       "      <td>7099.0</td>\n",
       "      <td>1106.0</td>\n",
       "      <td>2401.0</td>\n",
       "      <td>1138.0</td>\n",
       "      <td>8.3014</td>\n",
       "      <td>358500.0</td>\n",
       "      <td>NEAR BAY</td>\n",
       "    </tr>\n",
       "    <tr>\n",
       "      <th>2</th>\n",
       "      <td>-122.24</td>\n",
       "      <td>37.85</td>\n",
       "      <td>52.0</td>\n",
       "      <td>1467.0</td>\n",
       "      <td>190.0</td>\n",
       "      <td>496.0</td>\n",
       "      <td>177.0</td>\n",
       "      <td>7.2574</td>\n",
       "      <td>352100.0</td>\n",
       "      <td>NEAR BAY</td>\n",
       "    </tr>\n",
       "    <tr>\n",
       "      <th>3</th>\n",
       "      <td>-122.25</td>\n",
       "      <td>37.85</td>\n",
       "      <td>52.0</td>\n",
       "      <td>1274.0</td>\n",
       "      <td>235.0</td>\n",
       "      <td>558.0</td>\n",
       "      <td>219.0</td>\n",
       "      <td>5.6431</td>\n",
       "      <td>341300.0</td>\n",
       "      <td>NEAR BAY</td>\n",
       "    </tr>\n",
       "    <tr>\n",
       "      <th>4</th>\n",
       "      <td>-122.25</td>\n",
       "      <td>37.85</td>\n",
       "      <td>52.0</td>\n",
       "      <td>1627.0</td>\n",
       "      <td>280.0</td>\n",
       "      <td>565.0</td>\n",
       "      <td>259.0</td>\n",
       "      <td>3.8462</td>\n",
       "      <td>342200.0</td>\n",
       "      <td>NEAR BAY</td>\n",
       "    </tr>\n",
       "    <tr>\n",
       "      <th>...</th>\n",
       "      <td>...</td>\n",
       "      <td>...</td>\n",
       "      <td>...</td>\n",
       "      <td>...</td>\n",
       "      <td>...</td>\n",
       "      <td>...</td>\n",
       "      <td>...</td>\n",
       "      <td>...</td>\n",
       "      <td>...</td>\n",
       "      <td>...</td>\n",
       "    </tr>\n",
       "    <tr>\n",
       "      <th>20635</th>\n",
       "      <td>-121.09</td>\n",
       "      <td>39.48</td>\n",
       "      <td>25.0</td>\n",
       "      <td>1665.0</td>\n",
       "      <td>374.0</td>\n",
       "      <td>845.0</td>\n",
       "      <td>330.0</td>\n",
       "      <td>1.5603</td>\n",
       "      <td>78100.0</td>\n",
       "      <td>INLAND</td>\n",
       "    </tr>\n",
       "    <tr>\n",
       "      <th>20636</th>\n",
       "      <td>-121.21</td>\n",
       "      <td>39.49</td>\n",
       "      <td>18.0</td>\n",
       "      <td>697.0</td>\n",
       "      <td>150.0</td>\n",
       "      <td>356.0</td>\n",
       "      <td>114.0</td>\n",
       "      <td>2.5568</td>\n",
       "      <td>77100.0</td>\n",
       "      <td>INLAND</td>\n",
       "    </tr>\n",
       "    <tr>\n",
       "      <th>20637</th>\n",
       "      <td>-121.22</td>\n",
       "      <td>39.43</td>\n",
       "      <td>17.0</td>\n",
       "      <td>2254.0</td>\n",
       "      <td>485.0</td>\n",
       "      <td>1007.0</td>\n",
       "      <td>433.0</td>\n",
       "      <td>1.7000</td>\n",
       "      <td>92300.0</td>\n",
       "      <td>INLAND</td>\n",
       "    </tr>\n",
       "    <tr>\n",
       "      <th>20638</th>\n",
       "      <td>-121.32</td>\n",
       "      <td>39.43</td>\n",
       "      <td>18.0</td>\n",
       "      <td>1860.0</td>\n",
       "      <td>409.0</td>\n",
       "      <td>741.0</td>\n",
       "      <td>349.0</td>\n",
       "      <td>1.8672</td>\n",
       "      <td>84700.0</td>\n",
       "      <td>INLAND</td>\n",
       "    </tr>\n",
       "    <tr>\n",
       "      <th>20639</th>\n",
       "      <td>-121.24</td>\n",
       "      <td>39.37</td>\n",
       "      <td>16.0</td>\n",
       "      <td>2785.0</td>\n",
       "      <td>616.0</td>\n",
       "      <td>1387.0</td>\n",
       "      <td>530.0</td>\n",
       "      <td>2.3886</td>\n",
       "      <td>89400.0</td>\n",
       "      <td>INLAND</td>\n",
       "    </tr>\n",
       "  </tbody>\n",
       "</table>\n",
       "<p>20640 rows × 10 columns</p>\n",
       "</div>"
      ],
      "text/plain": [
       "       longitude  latitude  housing_median_age  total_rooms  total_bedrooms  \\\n",
       "0        -122.23     37.88                41.0        880.0           129.0   \n",
       "1        -122.22     37.86                21.0       7099.0          1106.0   \n",
       "2        -122.24     37.85                52.0       1467.0           190.0   \n",
       "3        -122.25     37.85                52.0       1274.0           235.0   \n",
       "4        -122.25     37.85                52.0       1627.0           280.0   \n",
       "...          ...       ...                 ...          ...             ...   \n",
       "20635    -121.09     39.48                25.0       1665.0           374.0   \n",
       "20636    -121.21     39.49                18.0        697.0           150.0   \n",
       "20637    -121.22     39.43                17.0       2254.0           485.0   \n",
       "20638    -121.32     39.43                18.0       1860.0           409.0   \n",
       "20639    -121.24     39.37                16.0       2785.0           616.0   \n",
       "\n",
       "       population  households  median_income  median_house_value  \\\n",
       "0           322.0       126.0         8.3252            452600.0   \n",
       "1          2401.0      1138.0         8.3014            358500.0   \n",
       "2           496.0       177.0         7.2574            352100.0   \n",
       "3           558.0       219.0         5.6431            341300.0   \n",
       "4           565.0       259.0         3.8462            342200.0   \n",
       "...           ...         ...            ...                 ...   \n",
       "20635       845.0       330.0         1.5603             78100.0   \n",
       "20636       356.0       114.0         2.5568             77100.0   \n",
       "20637      1007.0       433.0         1.7000             92300.0   \n",
       "20638       741.0       349.0         1.8672             84700.0   \n",
       "20639      1387.0       530.0         2.3886             89400.0   \n",
       "\n",
       "      ocean_proximity  \n",
       "0            NEAR BAY  \n",
       "1            NEAR BAY  \n",
       "2            NEAR BAY  \n",
       "3            NEAR BAY  \n",
       "4            NEAR BAY  \n",
       "...               ...  \n",
       "20635          INLAND  \n",
       "20636          INLAND  \n",
       "20637          INLAND  \n",
       "20638          INLAND  \n",
       "20639          INLAND  \n",
       "\n",
       "[20640 rows x 10 columns]"
      ]
     },
     "execution_count": 6,
     "metadata": {},
     "output_type": "execute_result"
    }
   ],
   "source": [
    "# definir una funcion que cargue el csv en un dataframe----------\n",
    "def load_housing_data(housing_path=HOUSING_PATH):\n",
    "    csv_path = os.path.join(housing_path, \"housing.csv\")\n",
    "    return pd.read_csv(csv_path)\n",
    "\n",
    "housing = load_housing_data()\n",
    "housing"
   ]
  },
  {
   "cell_type": "code",
   "execution_count": 16,
   "id": "82a1ab1c-a3cf-4927-aad8-f8d62cf25f40",
   "metadata": {},
   "outputs": [],
   "source": [
    "# path que se va a crear en nuestro sistema----------------------\n",
    "HOUSING_PATH = os.path.join(\"datasets\", \"housing\")\n",
    "# definir una funcion que cargue el csv en un dataframe----------\n",
    "def load_housing_data(housing_path=HOUSING_PATH):\n",
    "    csv_path = os.path.join(housing_path, \"housing.csv\")\n",
    "    return pd.read_csv(csv_path)\n",
    "\n",
    "# cargar base\n",
    "housing = load_housing_data()\n",
    "# separar variable respuesta del dataset-------------------------\n",
    "respuesta = housing[\"median_house_value\"].copy()\n",
    "housing = housing.drop(\"median_house_value\", axis=1)\n",
    "# definir var numerica-------------------------------------------\n",
    "housing_num = housing.drop(\"ocean_proximity\", axis=1)\n",
    "# importar el \"imputador\"----------------------------------------\n",
    "from sklearn.impute import SimpleImputer\n",
    "# importar el \"estandarizador\"-----------------------------------\n",
    "from sklearn.preprocessing import StandardScaler\n",
    "# importar la clase pipeline\"------------------------------------\n",
    "from sklearn.pipeline import Pipeline\n",
    "# definir el pipeline--------------------------------------------\n",
    "num_pipeline = Pipeline([(\"imputador\", SimpleImputer(strategy=\"median\")),(\"std_scaler\", StandardScaler()),])\n",
    "# aplicar el pipeline--------------------------------------------\n",
    "housing_num_tr = num_pipeline.fit_transform(housing_num)\n",
    "# importar clases------------------------------------------------\n",
    "from sklearn.compose import ColumnTransformer\n",
    "from sklearn.preprocessing import OneHotEncoder\n",
    "# separar dataset en variables numericas y variable categorica---\n",
    "num_attribs = list(housing_num)\n",
    "cat_attribs = [\"ocean_proximity\"]\n",
    "# definir full pipeline------------------------------------------\n",
    "full_pipeline = ColumnTransformer([(\"num\", num_pipeline, num_attribs),(\"cat\", OneHotEncoder(drop = \"first\"), cat_attribs),])\n",
    "housing_prepared = full_pipeline.fit_transform(housing)"
   ]
  },
  {
   "cell_type": "markdown",
   "id": "caf68530-1a21-4cfa-be0c-0910d32f871f",
   "metadata": {},
   "source": [
    "Una vez que se han importado las librerías, se carga el dataset California housing y\n",
    "se prepara la matriz de diseño y la variable respuesta del modo que se hizo en los\n",
    "ejercicios resultados del tema anterior."
   ]
  },
  {
   "cell_type": "markdown",
   "id": "573e65d6-8b08-42cc-8ee0-4741f815138d",
   "metadata": {},
   "source": [
    "Una vez que se ha obtenido la matriz de diseño X, y la variable respuesta por separado,\n",
    "se puede realizar la regresión penalizada. Para ello emplearemos una clase de tipo\n",
    "Ridge de la librería sklearn."
   ]
  },
  {
   "cell_type": "code",
   "execution_count": 19,
   "id": "b67dcdd9-839c-4645-baf1-d43b72ec8234",
   "metadata": {},
   "outputs": [
    {
     "data": {
      "text/plain": [
       "Ridge(alpha=1)"
      ]
     },
     "execution_count": 19,
     "metadata": {},
     "output_type": "execute_result"
    }
   ],
   "source": [
    "# importar clase-------------------------------------------------\n",
    "from sklearn.linear_model import Ridge\n",
    "# ajustar el modelo----------------------------------------------\n",
    "ridge_reg = Ridge(alpha = 1, solver = \"auto\")\n",
    "ridge_reg.fit(housing_prepared, respuesta)\n",
    "# obtener coeficientes del modelo--------------------------------\n",
    "# intercepto"
   ]
  },
  {
   "cell_type": "code",
   "execution_count": 20,
   "id": "ca5fd51b-7eea-4123-b23f-2950749daca3",
   "metadata": {},
   "outputs": [
    {
     "name": "stdout",
     "output_type": "stream",
     "text": [
      "219251.85470476843\n"
     ]
    }
   ],
   "source": [
    "print(ridge_reg.intercept_)\n",
    "# coeficientes de regresion"
   ]
  },
  {
   "cell_type": "code",
   "execution_count": 21,
   "id": "32ea1dfe-5336-4751-932b-4f3e42621abd",
   "metadata": {},
   "outputs": [
    {
     "name": "stdout",
     "output_type": "stream",
     "text": [
      "[-52925.7575442  -53744.69781116  13319.85812079 -10293.66412867\n",
      "  29937.78985234 -44479.43818497  29692.21439608  73624.96037269\n",
      " -39789.87191589 130031.63921427  -3697.62935336   4750.43033774]\n"
     ]
    }
   ],
   "source": [
    "print(ridge_reg.coef_)"
   ]
  },
  {
   "cell_type": "markdown",
   "id": "2fd24154-9230-4a4f-b693-40a960aaa2ee",
   "metadata": {},
   "source": [
    "El valor de α = 1 no aplica apenas penalización y los resultados obtenidos son prácti-\n",
    "camente los mismos que se obtenían en el modelo de regresión lineal (ver ejercicios\n",
    "resueltos del Tema 5)."
   ]
  },
  {
   "cell_type": "markdown",
   "id": "8427e3f7-bf46-4791-aac9-3d17c6804c2e",
   "metadata": {},
   "source": [
    "## b) Con el hiperparámetro de encogimiento ${α = 10^4}$."
   ]
  },
  {
   "cell_type": "markdown",
   "id": "e829aa7b-edfb-4bdd-9532-0d0755efa2f6",
   "metadata": {},
   "source": [
    "Si se aumenta el valor de la penalización hasta α = 10^4 se observa cómo los valores\n",
    "de las estimaciones de los coeficientes de regresión ya disminuyen."
   ]
  },
  {
   "cell_type": "code",
   "execution_count": 24,
   "id": "59e2d725-353a-4d82-a2c2-a5faab4b9209",
   "metadata": {},
   "outputs": [
    {
     "data": {
      "text/plain": [
       "Ridge(alpha=10000.0)"
      ]
     },
     "execution_count": 24,
     "metadata": {},
     "output_type": "execute_result"
    }
   ],
   "source": [
    "# importar clase-------------------------------------------------\n",
    "from sklearn.linear_model import Ridge\n",
    "# ajustar el modelo----------------------------------------------\n",
    "ridge_reg_b = Ridge(alpha = 1e4, solver = \"auto\")\n",
    "ridge_reg_b.fit(housing_prepared, respuesta)\n",
    "# obtener coeficientes del modelo--------------------------------\n",
    "# intercepto"
   ]
  },
  {
   "cell_type": "code",
   "execution_count": 23,
   "id": "9c0a1a53-94a9-4122-b9a9-ad68dfd6df0e",
   "metadata": {
    "tags": []
   },
   "outputs": [
    {
     "name": "stdout",
     "output_type": "stream",
     "text": [
      "213248.3244996107\n"
     ]
    }
   ],
   "source": [
    "print(ridge_reg_b.intercept_)\n",
    "# coeficientes de regresion"
   ]
  },
  {
   "cell_type": "code",
   "execution_count": 25,
   "id": "a06a1915-9e09-4928-8d73-673bb2805bf8",
   "metadata": {},
   "outputs": [
    {
     "name": "stdout",
     "output_type": "stream",
     "text": [
      "[ -9760.89761151 -12228.34267466  11199.36514172   5640.33695302\n",
      "   4851.91951441  -9762.34854409   5734.63871066  50971.33381983\n",
      " -24316.41748776     89.44198348   5253.33235919   5765.58163202]\n"
     ]
    }
   ],
   "source": [
    "print(ridge_reg_b.coef_)"
   ]
  },
  {
   "cell_type": "markdown",
   "id": "cf7a4b1a-fe19-4957-aedf-b86747153b4b",
   "metadata": {},
   "source": [
    "Se puede calcular (como se hizo en el Tema 5) cuál era la estimación de los coeficientes\n",
    "de regresión para el modelo de regresión lineal general (sin penalizar), y comparar las\n",
    "3 series de coeficientes obtenidas mediante el gráfico de barras que se muestra en la\n",
    "Figura 8. Se observa que los valores de la estimación de los coeficientes de la regresión\n",
    "penalizada para un α = 10 4 son mucho menores."
   ]
  },
  {
   "cell_type": "code",
   "execution_count": 26,
   "id": "97c37504-6fa5-4507-8795-8415db94eabd",
   "metadata": {},
   "outputs": [
    {
     "data": {
      "text/plain": [
       "LinearRegression()"
      ]
     },
     "execution_count": 26,
     "metadata": {},
     "output_type": "execute_result"
    }
   ],
   "source": [
    "# importar clase-------------------------------------------------\n",
    "from sklearn.linear_model import LinearRegression\n",
    "# ajustar el modelo----------------------------------------------\n",
    "lm1 = LinearRegression()\n",
    "lm1.fit(housing_prepared, respuesta)\n",
    "# obtener coeficientes del modelo--------------------------------\n",
    "# intercepto"
   ]
  },
  {
   "cell_type": "code",
   "execution_count": 28,
   "id": "ac8cd7ca-484d-4dc6-ac31-bb5455513dd2",
   "metadata": {},
   "outputs": [
    {
     "name": "stdout",
     "output_type": "stream",
     "text": [
      "219237.00064331223\n"
     ]
    }
   ],
   "source": [
    "print(lm1.intercept_)\n",
    "# coeficientes de regresion"
   ]
  },
  {
   "cell_type": "code",
   "execution_count": 29,
   "id": "d20983d7-58c3-40ed-a8be-4f75bb06490b",
   "metadata": {},
   "outputs": [
    {
     "name": "stdout",
     "output_type": "stream",
     "text": [
      "[-52952.95152846 -53767.62485624  13312.88334575 -10320.06092603\n",
      "  29920.76507621 -44490.47744263  29746.22226671  73636.15586366\n",
      " -39766.3987444  156065.71982235  -3697.40166109   4758.75361226]\n"
     ]
    }
   ],
   "source": [
    "print(lm1.coef_)"
   ]
  },
  {
   "cell_type": "code",
   "execution_count": 31,
   "id": "b80ebc75-38ba-4042-98e5-fa46587eac64",
   "metadata": {},
   "outputs": [
    {
     "data": {
      "image/png": "[encoded data removed]",
      "text/plain": [
       "<Figure size 576x576 with 1 Axes>"
      ]
     },
     "metadata": {
      "needs_background": "light"
     },
     "output_type": "display_data"
    }
   ],
   "source": [
    "fig = plt.figure(figsize=(8, 8))\n",
    "# ancho de barra-------------------------------------------------\n",
    "barWidth = 0.25\n",
    "# definir posicion barras series---------------------------------\n",
    "r1 = np.arange(len(lm1.coef_))\n",
    "r2 = [x + barWidth for x in r1]\n",
    "r3 = [x + barWidth for x in r2]\n",
    "# pintar las barras----------------------------------------------\n",
    "plt.bar(r1, lm1.coef_, color = \"blue\",\n",
    "width = barWidth, edgecolor = \"white\", label = \"Lineal\");\n",
    "plt.bar(r2, ridge_reg.coef_, color = \"red\",\n",
    "width = barWidth, edgecolor = \"white\", label = \"Ridge a\");\n",
    "plt.bar(r3, ridge_reg_b.coef_, color = \"green\",\n",
    "width = barWidth, edgecolor = \"white\", label = \"Ridge b\");\n",
    "plt.xticks([r + barWidth for r in range(len(lm1.coef_))],\n",
    "['B1', 'B2', 'B3', 'B4',\n",
    "'B5', 'B6', 'B7', 'B8',\n",
    "'B9', 'B10', 'B11', 'B12']);\n",
    "plt.legend();\n",
    "plt.xlabel(\"Variable\");\n",
    "plt.ylabel(\"Beta\");\n",
    "plt.show(fig)"
   ]
  },
  {
   "cell_type": "markdown",
   "id": "a95dd777-92b9-496c-8917-0cb6a8503bb9",
   "metadata": {},
   "source": [
    "# Sobre el dataset California housing, realiza un modelo de regresión LASSO de la mediana de los valores de las casas (variable respuesta Y ) con las variables restantes (numéricas y categóricas) del dataset:"
   ]
  },
  {
   "cell_type": "markdown",
   "id": "e3098eed-9c16-4e6f-8f7e-39ba630ef003",
   "metadata": {},
   "source": [
    "## a) Con el hiperparámetro de encogimiento α = 1."
   ]
  },
  {
   "cell_type": "code",
   "execution_count": 32,
   "id": "e343aeb3-bc7d-4043-814f-4a0322209593",
   "metadata": {},
   "outputs": [
    {
     "data": {
      "text/plain": [
       "Lasso(alpha=1)"
      ]
     },
     "execution_count": 32,
     "metadata": {},
     "output_type": "execute_result"
    }
   ],
   "source": [
    "# importar clase-------------------------------------------------\n",
    "from sklearn.linear_model import Lasso\n",
    "# ajustar el modelo----------------------------------------------\n",
    "lasso_reg = Lasso(alpha = 1)\n",
    "lasso_reg.fit(housing_prepared, respuesta)\n",
    "# obtener coeficientes del modelo--------------------------------\n",
    "# intercepto"
   ]
  },
  {
   "cell_type": "code",
   "execution_count": 33,
   "id": "2ea7a200-451d-43e4-9744-f52e7a3e95d9",
   "metadata": {},
   "outputs": [
    {
     "name": "stdout",
     "output_type": "stream",
     "text": [
      "219239.371611401\n"
     ]
    }
   ],
   "source": [
    "print(lasso_reg.intercept_)\n",
    "# coeficientes de regresion"
   ]
  },
  {
   "cell_type": "code",
   "execution_count": null,
   "id": "3f9d3a8f-181f-467f-9edc-47d6c9d740c0",
   "metadata": {},
   "outputs": [],
   "source": []
  },
  {
   "cell_type": "markdown",
   "id": "a3a0832d-d0e7-49f5-906a-5f565193f8b2",
   "metadata": {},
   "source": [
    "## b) Con el hiperparámetro de encogimiento α = 10^4 ."
   ]
  },
  {
   "cell_type": "markdown",
   "id": "42d6d63e-57a8-4696-89e9-f540045074be",
   "metadata": {},
   "source": [
    "## c) Compara ambos modelos con los modelos del ejercicio 1. ¿Qué se observa?"
   ]
  }
 ],
 "metadata": {
  "kernelspec": {
   "display_name": "Python 3",
   "language": "python",
   "name": "python3"
  },
  "language_info": {
   "codemirror_mode": {
    "name": "ipython",
    "version": 3
   },
   "file_extension": ".py",
   "mimetype": "text/x-python",
   "name": "python",
   "nbconvert_exporter": "python",
   "pygments_lexer": "ipython3",
   "version": "3.8.6"
  }
 },
 "nbformat": 4,
 "nbformat_minor": 5
}
