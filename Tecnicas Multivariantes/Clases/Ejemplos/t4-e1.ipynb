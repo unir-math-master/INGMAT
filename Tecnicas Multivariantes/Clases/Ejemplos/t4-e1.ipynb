{
 "cells": [
  {
   "cell_type": "markdown",
   "source": [
    "Con este ejercicio perfeccionarás el manejo de los modelos de regresión lineal simple y\n",
    "profundizarás en el dataset California housing.\n",
    "\n",
    "Carga el dataset California housing, que empezaste a analizar en el tema anterior,\n",
    "y realiza un modelo de regresión lineal simple de la mediana de los valores de las\n",
    "casas (variable respuesta Y ) con cada variable numérica del dataset. Si únicamente\n",
    "pudieses escoger una variable para predecir el valor mediano de las casas del barrio\n",
    "(median_house_value), ¿qué variable seleccionarías?"
   ],
   "metadata": {}
  },
  {
   "cell_type": "code",
   "execution_count": 2,
   "source": [
    "import pandas as pd\n",
    "import numpy as np\n",
    "from pandas.core.common import flatten\n",
    "from plotnine import *\n",
    "from array import *\n",
    "import scipy.stats as stats\n",
    "import math\n",
    "import matplotlib as mpl\n",
    "import matplotlib.pyplot as plt\n",
    "import statsmodels.api as sm\n",
    "from sklearn import linear_model\n",
    "from sklearn.metrics import mean_squared_error, r2_score\n",
    "import statsmodels.formula.api as smf\n",
    "import statsmodels.stats.api as sms\n",
    "\n",
    "import os\n",
    "import tarfile\n",
    "import urllib.request\n",
    "import pandas as pd"
   ],
   "outputs": [],
   "metadata": {}
  },
  {
   "cell_type": "code",
   "execution_count": 3,
   "source": [
    "# definir las rutas y caminos donde se encuentran los datos------\n",
    "DOWNLOAD_ROOT = \"https://raw.githubusercontent.com/ageron/handson-ml2/master/\"\n",
    "# path que se va a crear en nuestro sistema----------------------\n",
    "HOUSING_PATH = os.path.join(\"datasets\", \"housing\")\n",
    "# lugar de descarga del dataset----------------------------------\n",
    "HOUSING_URL = DOWNLOAD_ROOT + \"datasets/housing/housing.tgz\""
   ],
   "outputs": [],
   "metadata": {}
  },
  {
   "cell_type": "code",
   "execution_count": 4,
   "source": [
    "# definir una funcion que obtenga los datos y los descargue-----\n",
    "def fetch_housing_data(housing_url=HOUSING_URL,housing_path=HOUSING_PATH):\n",
    "    if not os.path.isdir(housing_path):\n",
    "        os.makedirs(housing_path)\n",
    "    tgz_path = os.path.join(housing_path, \"housing.tgz\")\n",
    "    urllib.request.urlretrieve(housing_url, tgz_path)\n",
    "    housing_tgz = tarfile.open(tgz_path)\n",
    "    housing_tgz.extractall(path=housing_path)\n",
    "    housing_tgz.close()\n",
    "    \n",
    "fetch_housing_data()"
   ],
   "outputs": [],
   "metadata": {}
  },
  {
   "cell_type": "code",
   "execution_count": 5,
   "source": [
    "# definir una funcion que cargue el csv en un dataframe----------\n",
    "def load_housing_data(housing_path=HOUSING_PATH):\n",
    "    csv_path = os.path.join(housing_path, \"housing.csv\")\n",
    "    return pd.read_csv(csv_path)\n",
    "\n",
    "housing = load_housing_data()\n",
    "housing"
   ],
   "outputs": [
    {
     "output_type": "execute_result",
     "data": {
      "text/plain": [
       "       longitude  latitude  housing_median_age  total_rooms  total_bedrooms  \\\n",
       "0        -122.23     37.88                41.0        880.0           129.0   \n",
       "1        -122.22     37.86                21.0       7099.0          1106.0   \n",
       "2        -122.24     37.85                52.0       1467.0           190.0   \n",
       "3        -122.25     37.85                52.0       1274.0           235.0   \n",
       "4        -122.25     37.85                52.0       1627.0           280.0   \n",
       "...          ...       ...                 ...          ...             ...   \n",
       "20635    -121.09     39.48                25.0       1665.0           374.0   \n",
       "20636    -121.21     39.49                18.0        697.0           150.0   \n",
       "20637    -121.22     39.43                17.0       2254.0           485.0   \n",
       "20638    -121.32     39.43                18.0       1860.0           409.0   \n",
       "20639    -121.24     39.37                16.0       2785.0           616.0   \n",
       "\n",
       "       population  households  median_income  median_house_value  \\\n",
       "0           322.0       126.0         8.3252            452600.0   \n",
       "1          2401.0      1138.0         8.3014            358500.0   \n",
       "2           496.0       177.0         7.2574            352100.0   \n",
       "3           558.0       219.0         5.6431            341300.0   \n",
       "4           565.0       259.0         3.8462            342200.0   \n",
       "...           ...         ...            ...                 ...   \n",
       "20635       845.0       330.0         1.5603             78100.0   \n",
       "20636       356.0       114.0         2.5568             77100.0   \n",
       "20637      1007.0       433.0         1.7000             92300.0   \n",
       "20638       741.0       349.0         1.8672             84700.0   \n",
       "20639      1387.0       530.0         2.3886             89400.0   \n",
       "\n",
       "      ocean_proximity  \n",
       "0            NEAR BAY  \n",
       "1            NEAR BAY  \n",
       "2            NEAR BAY  \n",
       "3            NEAR BAY  \n",
       "4            NEAR BAY  \n",
       "...               ...  \n",
       "20635          INLAND  \n",
       "20636          INLAND  \n",
       "20637          INLAND  \n",
       "20638          INLAND  \n",
       "20639          INLAND  \n",
       "\n",
       "[20640 rows x 10 columns]"
      ],
      "text/html": [
       "<div>\n",
       "<style scoped>\n",
       "    .dataframe tbody tr th:only-of-type {\n",
       "        vertical-align: middle;\n",
       "    }\n",
       "\n",
       "    .dataframe tbody tr th {\n",
       "        vertical-align: top;\n",
       "    }\n",
       "\n",
       "    .dataframe thead th {\n",
       "        text-align: right;\n",
       "    }\n",
       "</style>\n",
       "<table border=\"1\" class=\"dataframe\">\n",
       "  <thead>\n",
       "    <tr style=\"text-align: right;\">\n",
       "      <th></th>\n",
       "      <th>longitude</th>\n",
       "      <th>latitude</th>\n",
       "      <th>housing_median_age</th>\n",
       "      <th>total_rooms</th>\n",
       "      <th>total_bedrooms</th>\n",
       "      <th>population</th>\n",
       "      <th>households</th>\n",
       "      <th>median_income</th>\n",
       "      <th>median_house_value</th>\n",
       "      <th>ocean_proximity</th>\n",
       "    </tr>\n",
       "  </thead>\n",
       "  <tbody>\n",
       "    <tr>\n",
       "      <th>0</th>\n",
       "      <td>-122.23</td>\n",
       "      <td>37.88</td>\n",
       "      <td>41.0</td>\n",
       "      <td>880.0</td>\n",
       "      <td>129.0</td>\n",
       "      <td>322.0</td>\n",
       "      <td>126.0</td>\n",
       "      <td>8.3252</td>\n",
       "      <td>452600.0</td>\n",
       "      <td>NEAR BAY</td>\n",
       "    </tr>\n",
       "    <tr>\n",
       "      <th>1</th>\n",
       "      <td>-122.22</td>\n",
       "      <td>37.86</td>\n",
       "      <td>21.0</td>\n",
       "      <td>7099.0</td>\n",
       "      <td>1106.0</td>\n",
       "      <td>2401.0</td>\n",
       "      <td>1138.0</td>\n",
       "      <td>8.3014</td>\n",
       "      <td>358500.0</td>\n",
       "      <td>NEAR BAY</td>\n",
       "    </tr>\n",
       "    <tr>\n",
       "      <th>2</th>\n",
       "      <td>-122.24</td>\n",
       "      <td>37.85</td>\n",
       "      <td>52.0</td>\n",
       "      <td>1467.0</td>\n",
       "      <td>190.0</td>\n",
       "      <td>496.0</td>\n",
       "      <td>177.0</td>\n",
       "      <td>7.2574</td>\n",
       "      <td>352100.0</td>\n",
       "      <td>NEAR BAY</td>\n",
       "    </tr>\n",
       "    <tr>\n",
       "      <th>3</th>\n",
       "      <td>-122.25</td>\n",
       "      <td>37.85</td>\n",
       "      <td>52.0</td>\n",
       "      <td>1274.0</td>\n",
       "      <td>235.0</td>\n",
       "      <td>558.0</td>\n",
       "      <td>219.0</td>\n",
       "      <td>5.6431</td>\n",
       "      <td>341300.0</td>\n",
       "      <td>NEAR BAY</td>\n",
       "    </tr>\n",
       "    <tr>\n",
       "      <th>4</th>\n",
       "      <td>-122.25</td>\n",
       "      <td>37.85</td>\n",
       "      <td>52.0</td>\n",
       "      <td>1627.0</td>\n",
       "      <td>280.0</td>\n",
       "      <td>565.0</td>\n",
       "      <td>259.0</td>\n",
       "      <td>3.8462</td>\n",
       "      <td>342200.0</td>\n",
       "      <td>NEAR BAY</td>\n",
       "    </tr>\n",
       "    <tr>\n",
       "      <th>...</th>\n",
       "      <td>...</td>\n",
       "      <td>...</td>\n",
       "      <td>...</td>\n",
       "      <td>...</td>\n",
       "      <td>...</td>\n",
       "      <td>...</td>\n",
       "      <td>...</td>\n",
       "      <td>...</td>\n",
       "      <td>...</td>\n",
       "      <td>...</td>\n",
       "    </tr>\n",
       "    <tr>\n",
       "      <th>20635</th>\n",
       "      <td>-121.09</td>\n",
       "      <td>39.48</td>\n",
       "      <td>25.0</td>\n",
       "      <td>1665.0</td>\n",
       "      <td>374.0</td>\n",
       "      <td>845.0</td>\n",
       "      <td>330.0</td>\n",
       "      <td>1.5603</td>\n",
       "      <td>78100.0</td>\n",
       "      <td>INLAND</td>\n",
       "    </tr>\n",
       "    <tr>\n",
       "      <th>20636</th>\n",
       "      <td>-121.21</td>\n",
       "      <td>39.49</td>\n",
       "      <td>18.0</td>\n",
       "      <td>697.0</td>\n",
       "      <td>150.0</td>\n",
       "      <td>356.0</td>\n",
       "      <td>114.0</td>\n",
       "      <td>2.5568</td>\n",
       "      <td>77100.0</td>\n",
       "      <td>INLAND</td>\n",
       "    </tr>\n",
       "    <tr>\n",
       "      <th>20637</th>\n",
       "      <td>-121.22</td>\n",
       "      <td>39.43</td>\n",
       "      <td>17.0</td>\n",
       "      <td>2254.0</td>\n",
       "      <td>485.0</td>\n",
       "      <td>1007.0</td>\n",
       "      <td>433.0</td>\n",
       "      <td>1.7000</td>\n",
       "      <td>92300.0</td>\n",
       "      <td>INLAND</td>\n",
       "    </tr>\n",
       "    <tr>\n",
       "      <th>20638</th>\n",
       "      <td>-121.32</td>\n",
       "      <td>39.43</td>\n",
       "      <td>18.0</td>\n",
       "      <td>1860.0</td>\n",
       "      <td>409.0</td>\n",
       "      <td>741.0</td>\n",
       "      <td>349.0</td>\n",
       "      <td>1.8672</td>\n",
       "      <td>84700.0</td>\n",
       "      <td>INLAND</td>\n",
       "    </tr>\n",
       "    <tr>\n",
       "      <th>20639</th>\n",
       "      <td>-121.24</td>\n",
       "      <td>39.37</td>\n",
       "      <td>16.0</td>\n",
       "      <td>2785.0</td>\n",
       "      <td>616.0</td>\n",
       "      <td>1387.0</td>\n",
       "      <td>530.0</td>\n",
       "      <td>2.3886</td>\n",
       "      <td>89400.0</td>\n",
       "      <td>INLAND</td>\n",
       "    </tr>\n",
       "  </tbody>\n",
       "</table>\n",
       "<p>20640 rows × 10 columns</p>\n",
       "</div>"
      ]
     },
     "metadata": {},
     "execution_count": 5
    }
   ],
   "metadata": {}
  },
  {
   "cell_type": "markdown",
   "source": [
    "A continuación se realiza el ajuste de un modelo de regresión para cada una de las\n",
    "variables numéricas del dataset con la variable respuesta median_house_value. Si\n",
    "recordamos del tema 3, o si volvemos a ejecutar el método .info() se observa que\n",
    "existen 8 variables numéricas (aparte de median_house_value)."
   ],
   "metadata": {}
  },
  {
   "cell_type": "code",
   "execution_count": 6,
   "source": [
    "# recordatorio variables numericas-------------------------------\n",
    "housing.info()"
   ],
   "outputs": [
    {
     "output_type": "stream",
     "name": "stdout",
     "text": [
      "<class 'pandas.core.frame.DataFrame'>\n",
      "RangeIndex: 20640 entries, 0 to 20639\n",
      "Data columns (total 10 columns):\n",
      " #   Column              Non-Null Count  Dtype  \n",
      "---  ------              --------------  -----  \n",
      " 0   longitude           20640 non-null  float64\n",
      " 1   latitude            20640 non-null  float64\n",
      " 2   housing_median_age  20640 non-null  float64\n",
      " 3   total_rooms         20640 non-null  float64\n",
      " 4   total_bedrooms      20433 non-null  float64\n",
      " 5   population          20640 non-null  float64\n",
      " 6   households          20640 non-null  float64\n",
      " 7   median_income       20640 non-null  float64\n",
      " 8   median_house_value  20640 non-null  float64\n",
      " 9   ocean_proximity     20640 non-null  object \n",
      "dtypes: float64(9), object(1)\n",
      "memory usage: 1.6+ MB\n"
     ]
    }
   ],
   "metadata": {}
  },
  {
   "cell_type": "code",
   "execution_count": 8,
   "source": [
    "#definir variable respuesta\n",
    "y = housing[\"median_house_value\"].values.reshape(-1,1)\n",
    "# Ajuste con longitude\n",
    "# extraer variable y convertir en np.array-----------------------\n",
    "x = housing[\"longitude\"].values.reshape(-1,1)\n",
    "# x.shape\n",
    "# crear el modelo------------------------------------------------\n",
    "lm1 = linear_model.LinearRegression()\n",
    "lm1.fit(x, y)\n",
    "\n",
    "y_pred = lm1.predict(x)\n",
    "print(\"Coeficiente de det. R2: %.4f\"\n",
    "% r2_score(y, y_pred))"
   ],
   "outputs": [
    {
     "output_type": "stream",
     "name": "stdout",
     "text": [
      "Coeficiente de det. R2: 0.0021\n"
     ]
    }
   ],
   "metadata": {}
  },
  {
   "cell_type": "markdown",
   "source": [
    "El coeficiente de determinación es muy bajo, por lo que esta variable no sería una\n",
    "buena predictora en un modelo de regresión lineal simple."
   ],
   "metadata": {}
  },
  {
   "cell_type": "code",
   "execution_count": null,
   "source": [],
   "outputs": [],
   "metadata": {}
  },
  {
   "cell_type": "code",
   "execution_count": 9,
   "source": [
    "#definir variable respuesta\n",
    "y = housing[\"median_house_value\"].values.reshape(-1,1)\n",
    "# Ajuste con longitude\n",
    "# extraer variable y convertir en np.array-----------------------\n",
    "x = housing[\"latitude\"].values.reshape(-1,1)\n",
    "# x.shape\n",
    "# crear el modelo------------------------------------------------\n",
    "lm1 = linear_model.LinearRegression()\n",
    "lm1.fit(x, y)\n",
    "\n",
    "y_pred = lm1.predict(x)\n",
    "print(\"Coeficiente de det. R2: %.4f\"\n",
    "% r2_score(y, y_pred))"
   ],
   "outputs": [
    {
     "output_type": "stream",
     "name": "stdout",
     "text": [
      "Coeficiente de det. R2: 0.0208\n"
     ]
    }
   ],
   "metadata": {}
  },
  {
   "cell_type": "markdown",
   "source": [
    "El coeficiente de determinación es algo mayor que el de longitude, pero sigue siendo\n",
    "muy bajo, por lo que esta variable no sería una buena predictora en un modelo de\n",
    "regresión lineal simple."
   ],
   "metadata": {}
  },
  {
   "cell_type": "code",
   "execution_count": 10,
   "source": [
    "#definir variable respuesta\n",
    "y = housing[\"median_house_value\"].values.reshape(-1,1)\n",
    "# Ajuste con longitude\n",
    "# extraer variable y convertir en np.array-----------------------\n",
    "x = housing[\"housing_median_age\"].values.reshape(-1,1)\n",
    "# x.shape\n",
    "# crear el modelo------------------------------------------------\n",
    "lm1 = linear_model.LinearRegression()\n",
    "lm1.fit(x, y)\n",
    "\n",
    "y_pred = lm1.predict(x)\n",
    "print(\"Coeficiente de det. R2: %.4f\"\n",
    "% r2_score(y, y_pred))"
   ],
   "outputs": [
    {
     "output_type": "stream",
     "name": "stdout",
     "text": [
      "Coeficiente de det. R2: 0.0112\n"
     ]
    }
   ],
   "metadata": {}
  },
  {
   "cell_type": "code",
   "execution_count": 11,
   "source": [
    "#definir variable respuesta\n",
    "y = housing[\"median_house_value\"].values.reshape(-1,1)\n",
    "# Ajuste con longitude\n",
    "# extraer variable y convertir en np.array-----------------------\n",
    "x = housing[\"total_rooms\"].values.reshape(-1,1)\n",
    "# x.shape\n",
    "# crear el modelo------------------------------------------------\n",
    "lm1 = linear_model.LinearRegression()\n",
    "lm1.fit(x, y)\n",
    "\n",
    "y_pred = lm1.predict(x)\n",
    "print(\"Coeficiente de det. R2: %.4f\"\n",
    "% r2_score(y, y_pred))"
   ],
   "outputs": [
    {
     "output_type": "stream",
     "name": "stdout",
     "text": [
      "Coeficiente de det. R2: 0.0180\n"
     ]
    }
   ],
   "metadata": {}
  },
  {
   "cell_type": "markdown",
   "source": [
    "Se ajusta el modelo de regresión lineal simple y se calcula el coeficiente de determi-\n",
    "nación. En esta variable existen datos faltantes o NA, algo muy habitual cuando se\n",
    "manejan datos en el mundo real. Cuando nos encontramos ante este tipo de datos es\n",
    "necesario analizar cuál es la causa de que existan y, dependiendo de su posible origen,\n",
    "se pueden tratar de imputar o se pueden eliminar las observaciones. De momento,\n",
    "y para este ejercicio, eliminaremos las parejas de observaciones que tienen NA. Pa-\n",
    "ra ello, se utiliza el método .dropna() sobre el data.frame, donde le vamos a indicar\n",
    "en el argumento axis que se va a eliminar por filas (axis = 0) y que eliminaremos las\n",
    "observaciones que tengán algún NA."
   ],
   "metadata": {}
  },
  {
   "cell_type": "code",
   "execution_count": 12,
   "source": [
    "housing2 = housing.dropna(axis=0, how='any')\n",
    "#definir variable respuesta\n",
    "y = housing2[\"median_house_value\"].values.reshape(-1,1)\n",
    "# Ajuste con longitude\n",
    "# extraer variable y convertir en np.array-----------------------\n",
    "x = housing2[\"total_bedrooms\"].values.reshape(-1,1)\n",
    "# x.shape\n",
    "# crear el modelo------------------------------------------------\n",
    "lm1 = linear_model.LinearRegression()\n",
    "lm1.fit(x, y)\n",
    "\n",
    "y_pred = lm1.predict(x)\n",
    "print(\"Coeficiente de det. R2: %.4f\"\n",
    "% r2_score(y, y_pred))"
   ],
   "outputs": [
    {
     "output_type": "stream",
     "name": "stdout",
     "text": [
      "Coeficiente de det. R2: 0.0025\n"
     ]
    }
   ],
   "metadata": {}
  },
  {
   "cell_type": "code",
   "execution_count": 13,
   "source": [
    "#definir variable respuesta\n",
    "y = housing[\"median_house_value\"].values.reshape(-1,1)\n",
    "# Ajuste con longitude\n",
    "# extraer variable y convertir en np.array-----------------------\n",
    "x = housing[\"population\"].values.reshape(-1,1)\n",
    "# x.shape\n",
    "# crear el modelo------------------------------------------------\n",
    "lm1 = linear_model.LinearRegression()\n",
    "lm1.fit(x, y)\n",
    "\n",
    "y_pred = lm1.predict(x)\n",
    "print(\"Coeficiente de det. R2: %.4f\"\n",
    "% r2_score(y, y_pred))"
   ],
   "outputs": [
    {
     "output_type": "stream",
     "name": "stdout",
     "text": [
      "Coeficiente de det. R2: 0.0006\n"
     ]
    }
   ],
   "metadata": {}
  },
  {
   "cell_type": "code",
   "execution_count": 14,
   "source": [
    "#definir variable respuesta\n",
    "y = housing[\"median_house_value\"].values.reshape(-1,1)\n",
    "# Ajuste con longitude\n",
    "# extraer variable y convertir en np.array-----------------------\n",
    "x = housing[\"households\"].values.reshape(-1,1)\n",
    "# x.shape\n",
    "# crear el modelo------------------------------------------------\n",
    "lm1 = linear_model.LinearRegression()\n",
    "lm1.fit(x, y)\n",
    "\n",
    "y_pred = lm1.predict(x)\n",
    "print(\"Coeficiente de det. R2: %.4f\"\n",
    "% r2_score(y, y_pred))"
   ],
   "outputs": [
    {
     "output_type": "stream",
     "name": "stdout",
     "text": [
      "Coeficiente de det. R2: 0.0043\n"
     ]
    }
   ],
   "metadata": {}
  },
  {
   "cell_type": "code",
   "execution_count": 15,
   "source": [
    "#definir variable respuesta\n",
    "y = housing[\"median_house_value\"].values.reshape(-1,1)\n",
    "# Ajuste con longitude\n",
    "# extraer variable y convertir en np.array-----------------------\n",
    "x = housing[\"median_income\"].values.reshape(-1,1)\n",
    "# x.shape\n",
    "# crear el modelo------------------------------------------------\n",
    "lm1 = linear_model.LinearRegression()\n",
    "lm1.fit(x, y)\n",
    "\n",
    "y_pred = lm1.predict(x)\n",
    "print(\"Coeficiente de det. R2: %.4f\"\n",
    "% r2_score(y, y_pred))"
   ],
   "outputs": [
    {
     "output_type": "stream",
     "name": "stdout",
     "text": [
      "Coeficiente de det. R2: 0.4734\n"
     ]
    }
   ],
   "metadata": {}
  },
  {
   "cell_type": "markdown",
   "source": [
    "Se observa que el coeficiente de determinación es mucho mejor que todos los anterio-\n",
    "res calculados. Así pues, si tuviesemos que escoger una única variable para realizar un\n",
    "modelo de regresión lineal simple, escogeríamos la variable median_income. No obs-\n",
    "tante, aunque sea el mejor de todos, sigue mostrando una correlación lineal bastante\n",
    "débil. Una de las razones posibles es que haya que tener en cuenta varias variables en\n",
    "el modelo, y no una sola. Esto se llama regresión lineal múltiple y se verá en el próximo\n",
    "tema."
   ],
   "metadata": {}
  }
 ],
 "metadata": {
  "kernelspec": {
   "name": "python3",
   "display_name": "Python 3.8.10 64-bit"
  },
  "language_info": {
   "codemirror_mode": {
    "name": "ipython",
    "version": 3
   },
   "file_extension": ".py",
   "mimetype": "text/x-python",
   "name": "python",
   "nbconvert_exporter": "python",
   "pygments_lexer": "ipython3",
   "version": "3.8.10"
  },
  "interpreter": {
   "hash": "31f2aee4e71d21fbe5cf8b01ff0e069b9275f58929596ceb00d14d90e3e16cd6"
  }
 },
 "nbformat": 4,
 "nbformat_minor": 5
}