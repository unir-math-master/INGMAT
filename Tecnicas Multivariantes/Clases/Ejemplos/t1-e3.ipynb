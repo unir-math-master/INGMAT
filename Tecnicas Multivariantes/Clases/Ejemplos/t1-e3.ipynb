{
 "cells": [
  {
   "cell_type": "markdown",
   "source": [
    "## Latveria y Symkaria son dos poblaciones vecinas. Los hombres y mujeres de Latveria miden de media 175 cm y 169 cm respectivamente y tienen para ámbas distribuciones una desviación típica de 6 cm. En Symkaria, en cambio, las mujeres miden de media 173 cm y los hombres 171. La desviación típica en la altura de las mujeres de Symkaria es de 7 cm y en la de los hombres de 3 cm."
   ],
   "metadata": {}
  },
  {
   "cell_type": "code",
   "execution_count": 1,
   "source": [
    "import numpy as np\n",
    "import pandas as pd\n",
    "from pandas.core.common import flatten"
   ],
   "outputs": [],
   "metadata": {}
  },
  {
   "cell_type": "markdown",
   "source": [
    "## a) Con estos datos, conforma un dataframe que contenga las medidas de 2000 hombres y de 2000 mujeres de cada población. Calcula la media y la desviación típica de la población."
   ],
   "metadata": {}
  },
  {
   "cell_type": "code",
   "execution_count": 2,
   "source": [
    "np.random.seed(seed=3)\n",
    "latveria_h = np.random.normal(175,6,2000)\n",
    "latveria_m = np.random.normal(169,6,2000)\n",
    "symkaria_h = np.random.normal(171,3,2000)\n",
    "symkaria_m = np.random.normal(173,7,2000)\n",
    "\n",
    "l_lh = latveria_h.tolist()\n",
    "l_lm = latveria_m.tolist()\n",
    "l_sh = symkaria_h.tolist()\n",
    "l_sm = symkaria_m.tolist()\n",
    "\n",
    "l_comb = l_lh + l_lm + l_sh + l_sm\n",
    "sexo = [[\"hombre\"]*2000, [\"mujer\"]*2000]*2\n",
    "pais = [[\"latveria\"]*4000, [\"symkaria\"]*4000]\n",
    "\n",
    "flattened_sexo = list(flatten(sexo))\n",
    "flattened_pais = list(flatten(pais))"
   ],
   "outputs": [],
   "metadata": {}
  },
  {
   "cell_type": "code",
   "execution_count": 3,
   "source": [
    "d = {\"Altura\": l_comb, \"Sexo\": flattened_sexo, \"Pais\": flattened_pais}\n",
    "df = pd.DataFrame(d)\n",
    "\n",
    "df"
   ],
   "outputs": [
    {
     "output_type": "execute_result",
     "data": {
      "text/plain": [
       "          Altura    Sexo      Pais\n",
       "0     185.731771  hombre  latveria\n",
       "1     177.619059  hombre  latveria\n",
       "2     175.578985  hombre  latveria\n",
       "3     163.819044  hombre  latveria\n",
       "4     173.335671  hombre  latveria\n",
       "...          ...     ...       ...\n",
       "7995  178.735655   mujer  symkaria\n",
       "7996  172.388692   mujer  symkaria\n",
       "7997  169.920577   mujer  symkaria\n",
       "7998  167.041882   mujer  symkaria\n",
       "7999  164.487935   mujer  symkaria\n",
       "\n",
       "[8000 rows x 3 columns]"
      ],
      "text/html": [
       "<div>\n",
       "<style scoped>\n",
       "    .dataframe tbody tr th:only-of-type {\n",
       "        vertical-align: middle;\n",
       "    }\n",
       "\n",
       "    .dataframe tbody tr th {\n",
       "        vertical-align: top;\n",
       "    }\n",
       "\n",
       "    .dataframe thead th {\n",
       "        text-align: right;\n",
       "    }\n",
       "</style>\n",
       "<table border=\"1\" class=\"dataframe\">\n",
       "  <thead>\n",
       "    <tr style=\"text-align: right;\">\n",
       "      <th></th>\n",
       "      <th>Altura</th>\n",
       "      <th>Sexo</th>\n",
       "      <th>Pais</th>\n",
       "    </tr>\n",
       "  </thead>\n",
       "  <tbody>\n",
       "    <tr>\n",
       "      <th>0</th>\n",
       "      <td>185.731771</td>\n",
       "      <td>hombre</td>\n",
       "      <td>latveria</td>\n",
       "    </tr>\n",
       "    <tr>\n",
       "      <th>1</th>\n",
       "      <td>177.619059</td>\n",
       "      <td>hombre</td>\n",
       "      <td>latveria</td>\n",
       "    </tr>\n",
       "    <tr>\n",
       "      <th>2</th>\n",
       "      <td>175.578985</td>\n",
       "      <td>hombre</td>\n",
       "      <td>latveria</td>\n",
       "    </tr>\n",
       "    <tr>\n",
       "      <th>3</th>\n",
       "      <td>163.819044</td>\n",
       "      <td>hombre</td>\n",
       "      <td>latveria</td>\n",
       "    </tr>\n",
       "    <tr>\n",
       "      <th>4</th>\n",
       "      <td>173.335671</td>\n",
       "      <td>hombre</td>\n",
       "      <td>latveria</td>\n",
       "    </tr>\n",
       "    <tr>\n",
       "      <th>...</th>\n",
       "      <td>...</td>\n",
       "      <td>...</td>\n",
       "      <td>...</td>\n",
       "    </tr>\n",
       "    <tr>\n",
       "      <th>7995</th>\n",
       "      <td>178.735655</td>\n",
       "      <td>mujer</td>\n",
       "      <td>symkaria</td>\n",
       "    </tr>\n",
       "    <tr>\n",
       "      <th>7996</th>\n",
       "      <td>172.388692</td>\n",
       "      <td>mujer</td>\n",
       "      <td>symkaria</td>\n",
       "    </tr>\n",
       "    <tr>\n",
       "      <th>7997</th>\n",
       "      <td>169.920577</td>\n",
       "      <td>mujer</td>\n",
       "      <td>symkaria</td>\n",
       "    </tr>\n",
       "    <tr>\n",
       "      <th>7998</th>\n",
       "      <td>167.041882</td>\n",
       "      <td>mujer</td>\n",
       "      <td>symkaria</td>\n",
       "    </tr>\n",
       "    <tr>\n",
       "      <th>7999</th>\n",
       "      <td>164.487935</td>\n",
       "      <td>mujer</td>\n",
       "      <td>symkaria</td>\n",
       "    </tr>\n",
       "  </tbody>\n",
       "</table>\n",
       "<p>8000 rows × 3 columns</p>\n",
       "</div>"
      ]
     },
     "metadata": {},
     "execution_count": 3
    }
   ],
   "metadata": {}
  },
  {
   "cell_type": "code",
   "execution_count": 4,
   "source": [
    "media = np.mean(df[\"Altura\"])\n",
    "desv = np.std(df[\"Altura\"])\n",
    "\n",
    "print(\"media: \" , round(media,2), \", Desviacion: \", round(desv,2))"
   ],
   "outputs": [
    {
     "output_type": "stream",
     "name": "stdout",
     "text": [
      "media:  171.85 , Desviacion:  6.14\n"
     ]
    }
   ],
   "metadata": {}
  },
  {
   "cell_type": "markdown",
   "source": [
    "## b) Realiza un muestreo estratificado con 4 estratos y n = 100/estrato. Calcula la media y desviación típica de cada estrato."
   ],
   "metadata": {}
  },
  {
   "cell_type": "markdown",
   "source": [
    "### Para seleccionar los estratos debemos seleccionar las 4 combinaciones distintas de sexo y país. POsteriormente, se realiza una estracción aleatoria de 100 individuos por estrato con la función sample sobre el dataframe. Por último, se calcula la media y la desviación estándar para cada estrato."
   ],
   "metadata": {}
  },
  {
   "cell_type": "code",
   "execution_count": 5,
   "source": [
    "np.random.seed(seed=11)"
   ],
   "outputs": [],
   "metadata": {}
  },
  {
   "cell_type": "code",
   "execution_count": 6,
   "source": [
    "#filtros\n",
    "e_h = df[\"Sexo\"] == \"hombre\"\n",
    "e_m = df[\"Sexo\"] == \"mujer\"\n",
    "e_l = df[\"Pais\"] == \"latveria\"\n",
    "e_s = df[\"Pais\"] == \"symkaria\"\n",
    "\n",
    "#generar estratos\n",
    "estrato1 = df[e_h & e_l]\n",
    "estrato2 = df[e_m & e_l]\n",
    "estrato3 = df[e_h & e_s]\n",
    "estrato4 = df[e_m & e_s]"
   ],
   "outputs": [],
   "metadata": {}
  },
  {
   "cell_type": "code",
   "execution_count": 7,
   "source": [
    "n1 = 100/len(estrato1)\n",
    "n2 = 100/len(estrato2)\n",
    "n3 = 100/len(estrato3)\n",
    "n4 = 100/len(estrato4)\n",
    "\n",
    "sample_1 = estrato1.sample(frac=n1)\n",
    "sample_2 = estrato2.sample(frac=n2)\n",
    "sample_3 = estrato3.sample(frac=n3)\n",
    "sample_4 = estrato4.sample(frac=n4)"
   ],
   "outputs": [],
   "metadata": {}
  },
  {
   "cell_type": "code",
   "execution_count": 8,
   "source": [
    "#media estrato 1\n",
    "print(round(np.mean(sample_1[\"Altura\"]),2))\n",
    "#desviacion tipica estrato 1\n",
    "print(round(np.std(sample_1[\"Altura\"]),2))"
   ],
   "outputs": [
    {
     "output_type": "stream",
     "name": "stdout",
     "text": [
      "174.61\n",
      "6.14\n"
     ]
    }
   ],
   "metadata": {}
  },
  {
   "cell_type": "code",
   "execution_count": 9,
   "source": [
    "#media estrato 2\n",
    "print(round(np.mean(sample_2[\"Altura\"]),2))\n",
    "#desviacion tipica estrato 2\n",
    "print(round(np.std(sample_2[\"Altura\"]),2))"
   ],
   "outputs": [
    {
     "output_type": "stream",
     "name": "stdout",
     "text": [
      "168.28\n",
      "6.06\n"
     ]
    }
   ],
   "metadata": {}
  },
  {
   "cell_type": "code",
   "execution_count": 10,
   "source": [
    "#media estrato 3\n",
    "print(round(np.mean(sample_3[\"Altura\"]),2))\n",
    "#desviacion tipica estrato 3\n",
    "print(round(np.std(sample_3[\"Altura\"]),2))"
   ],
   "outputs": [
    {
     "output_type": "stream",
     "name": "stdout",
     "text": [
      "170.99\n",
      "2.78\n"
     ]
    }
   ],
   "metadata": {}
  },
  {
   "cell_type": "code",
   "execution_count": 11,
   "source": [
    "#media estrato 4\n",
    "print(round(np.mean(sample_4[\"Altura\"]),2))\n",
    "#desviacion tipica estrato 4\n",
    "print(round(np.std(sample_4[\"Altura\"]),2))"
   ],
   "outputs": [
    {
     "output_type": "stream",
     "name": "stdout",
     "text": [
      "173.94\n",
      "6.04\n"
     ]
    }
   ],
   "metadata": {}
  },
  {
   "cell_type": "markdown",
   "source": [
    "## c) Realiza un muestreo por conglomerados con 2 conglomerados y n = 200/conglomerado. Calcula la media y desviación típica de cada conglomerado."
   ],
   "metadata": {}
  },
  {
   "cell_type": "markdown",
   "source": [
    "### Aprovechando los estratos definidos del apartado anterior se conforman los conglomerados. En concreto, cada conglomerado estará formado por 50 observaciones de cada uno de los estratos."
   ],
   "metadata": {}
  },
  {
   "cell_type": "code",
   "execution_count": 12,
   "source": [
    "np.random.seed(seed=11)"
   ],
   "outputs": [],
   "metadata": {}
  },
  {
   "cell_type": "code",
   "execution_count": 13,
   "source": [
    "# muestrear en cada estrato para el conglomerado 1---------------\n",
    "sample_1 = estrato1.sample(frac = 0.025)\n",
    "sample_2 = estrato2.sample(frac = 0.025)\n",
    "sample_3 = estrato3.sample(frac = 0.025)\n",
    "sample_4 = estrato4.sample(frac = 0.025)"
   ],
   "outputs": [],
   "metadata": {}
  },
  {
   "cell_type": "code",
   "execution_count": 14,
   "source": [
    "# conformar conglomerado 1---------------------------------------\n",
    "con_1=sample_1.append(sample_2).append(sample_3).append(sample_4)"
   ],
   "outputs": [],
   "metadata": {}
  },
  {
   "cell_type": "code",
   "execution_count": 15,
   "source": [
    "# muestrear en cada estrato para el conglomerado 1---------------\n",
    "sample_1 = estrato1.sample(frac = 0.025)\n",
    "sample_2 = estrato2.sample(frac = 0.025)\n",
    "sample_3 = estrato3.sample(frac = 0.025)\n",
    "sample_4 = estrato4.sample(frac = 0.025)"
   ],
   "outputs": [],
   "metadata": {}
  },
  {
   "cell_type": "code",
   "execution_count": 16,
   "source": [
    "# conformar conglomerado 2---------------------------------------\n",
    "con_2=sample_1.append(sample_2).append(sample_3).append(sample_4)"
   ],
   "outputs": [],
   "metadata": {}
  },
  {
   "cell_type": "code",
   "execution_count": 17,
   "source": [
    "print(round(np.mean(con_1[\"Altura\"]),2))\n",
    "print(round(np.std(con_1[\"Altura\"]),2))"
   ],
   "outputs": [
    {
     "output_type": "stream",
     "name": "stdout",
     "text": [
      "172.31\n",
      "6.07\n"
     ]
    }
   ],
   "metadata": {}
  },
  {
   "cell_type": "code",
   "execution_count": 18,
   "source": [
    "print(round(np.mean(con_2[\"Altura\"]),2))\n",
    "print(round(np.std(con_2[\"Altura\"]),2))"
   ],
   "outputs": [
    {
     "output_type": "stream",
     "name": "stdout",
     "text": [
      "172.64\n",
      "6.27\n"
     ]
    }
   ],
   "metadata": {}
  }
 ],
 "metadata": {
  "kernelspec": {
   "name": "python3",
   "display_name": "Python 3.8.10 64-bit"
  },
  "language_info": {
   "codemirror_mode": {
    "name": "ipython",
    "version": 3
   },
   "file_extension": ".py",
   "mimetype": "text/x-python",
   "name": "python",
   "nbconvert_exporter": "python",
   "pygments_lexer": "ipython3",
   "version": "3.8.10"
  },
  "interpreter": {
   "hash": "31f2aee4e71d21fbe5cf8b01ff0e069b9275f58929596ceb00d14d90e3e16cd6"
  }
 },
 "nbformat": 4,
 "nbformat_minor": 5
}