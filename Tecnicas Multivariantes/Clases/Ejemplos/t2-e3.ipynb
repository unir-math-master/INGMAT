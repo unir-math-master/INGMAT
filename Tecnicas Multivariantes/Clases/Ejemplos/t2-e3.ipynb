{
 "cells": [
  {
   "cell_type": "code",
   "execution_count": 1,
   "source": [
    "import numpy as np"
   ],
   "outputs": [],
   "metadata": {}
  },
  {
   "cell_type": "markdown",
   "source": [
    "## Se tiene la siguiente muestra X = {4, 3, 11, 5, 4, 50, 6, 8, 7, 9}, en el que el valor 50 es un outlier."
   ],
   "metadata": {}
  },
  {
   "cell_type": "markdown",
   "source": [
    "### a) Calcula la media recortada de la muestra al 20 %, al 10 % y calcula la centrimedia."
   ],
   "metadata": {}
  },
  {
   "cell_type": "markdown",
   "source": [
    "Para calcular las medias recortadas, se eliminan los datos una vez ordenados por\n",
    "cada extremo y se calcula la media. para recortar un 20 % (α = 0.2), se recorta\n",
    "un 10 % (un valor) en cada extremo y se calcula la media. Para recortar un 10 %\n",
    "(α = 0.1), se pondera los valores de los extremos con 0.5 y se calcula la media\n",
    "considerando que n es igual a 9. Por último, para obtener la centrimedia se eliminan\n",
    "2 valores de cada extremo, se pondera por 0.5 el tercer y el octavo valor y se obtiene\n",
    "la media considerando n = 5."
   ],
   "metadata": {}
  },
  {
   "cell_type": "code",
   "execution_count": 2,
   "source": [
    "#se define la muestra\n",
    "X = np.array([4, 3, 11, 5, 4, 50, 6, 8, 7, 9])\n",
    "\n",
    "#ordenar los valores de la muestra\n",
    "X.sort()\n",
    "\n",
    "X"
   ],
   "outputs": [
    {
     "output_type": "execute_result",
     "data": {
      "text/plain": [
       "array([ 3,  4,  4,  5,  6,  7,  8,  9, 11, 50])"
      ]
     },
     "metadata": {},
     "execution_count": 2
    }
   ],
   "metadata": {}
  },
  {
   "cell_type": "code",
   "execution_count": 3,
   "source": [
    "# quitar valores recortados 0.1----------------------------------\n",
    "X1 = X[1:9]\n",
    "\n",
    "X1"
   ],
   "outputs": [
    {
     "output_type": "execute_result",
     "data": {
      "text/plain": [
       "array([ 4,  4,  5,  6,  7,  8,  9, 11])"
      ]
     },
     "metadata": {},
     "execution_count": 3
    }
   ],
   "metadata": {}
  },
  {
   "cell_type": "code",
   "execution_count": 4,
   "source": [
    "print(\"La media recortada al 20 % es\", sum(X1)/8)"
   ],
   "outputs": [
    {
     "output_type": "stream",
     "name": "stdout",
     "text": [
      "La media recortada al 20 % es 6.75\n"
     ]
    }
   ],
   "metadata": {}
  },
  {
   "cell_type": "code",
   "execution_count": 5,
   "source": [
    "X2 = np.array([3*0.5,4,4,5,6,7,8,9, 11, 50*0.5])\n",
    "print(\"La media recortada al 10 % es\",round(sum(X2)/9, 2))"
   ],
   "outputs": [
    {
     "output_type": "stream",
     "name": "stdout",
     "text": [
      "La media recortada al 10 % es 8.94\n"
     ]
    }
   ],
   "metadata": {}
  },
  {
   "cell_type": "code",
   "execution_count": 6,
   "source": [
    "X3 = X[2:8]\n",
    "print(X3)\n",
    "X3[0] = 4*0.5\n",
    "X3[5] = 8*0.5\n",
    "print(X3)\n",
    "print(\"La centrimedia es\", sum(X3)/5)"
   ],
   "outputs": [
    {
     "output_type": "stream",
     "name": "stdout",
     "text": [
      "[4 5 6 7 8 9]\n",
      "[2 5 6 7 8 4]\n",
      "La centrimedia es 6.4\n"
     ]
    }
   ],
   "metadata": {}
  },
  {
   "cell_type": "markdown",
   "source": [
    "### b) Calcula la media winsorizada al 20 %."
   ],
   "metadata": {}
  },
  {
   "cell_type": "markdown",
   "source": [
    "Para obtener la media winsorizada, en lugar de eliminar las observaciones, se susti-\n",
    "tuyen por los últimos valores. Es análogo a las medias recortadas excepto en que las\n",
    "puntuaciones que se eliminaban ahora se sustituyen por los valores menor y mayor\n",
    "que quedan para el cómputo de la media winsorizada."
   ],
   "metadata": {}
  },
  {
   "cell_type": "code",
   "execution_count": 7,
   "source": [
    "# definir la muestra---------------------------------------------\n",
    "X = np.array([4, 3, 11, 5, 4, 50, 6, 8, 7, 9])\n",
    "# ordenar los valores de la muestra------------------------------\n",
    "X.sort()\n",
    "X"
   ],
   "outputs": [
    {
     "output_type": "execute_result",
     "data": {
      "text/plain": [
       "array([ 3,  4,  4,  5,  6,  7,  8,  9, 11, 50])"
      ]
     },
     "metadata": {},
     "execution_count": 7
    }
   ],
   "metadata": {}
  },
  {
   "cell_type": "code",
   "execution_count": 8,
   "source": [
    "# quitar valores recortados 0.1----------------------------------\n",
    "W1 = np.array([4,4,4,5,6,7,8,9,11,11])\n",
    "# print(W1)\n",
    "print(\"La media winsorizada es\", sum(W1)/10)"
   ],
   "outputs": [
    {
     "output_type": "stream",
     "name": "stdout",
     "text": [
      "La media winsorizada es 6.9\n"
     ]
    }
   ],
   "metadata": {}
  },
  {
   "cell_type": "markdown",
   "source": [
    "### c) Calcula la trimedia."
   ],
   "metadata": {}
  },
  {
   "cell_type": "markdown",
   "source": [
    "La trimedia se obtiene ponderando la mediana y los primer y tercer cuartiles según la fórmula:\n",
    "\n",
    "trimedia = (cuartil1 + 2 · mediana + cuartil3)/4"
   ],
   "metadata": {}
  },
  {
   "cell_type": "code",
   "execution_count": 9,
   "source": [
    "X = np.array([4, 3, 11, 5, 4, 50, 6, 8, 7, 9])\n",
    "X.sort()\n",
    "X"
   ],
   "outputs": [
    {
     "output_type": "execute_result",
     "data": {
      "text/plain": [
       "array([ 3,  4,  4,  5,  6,  7,  8,  9, 11, 50])"
      ]
     },
     "metadata": {},
     "execution_count": 9
    }
   ],
   "metadata": {}
  },
  {
   "cell_type": "code",
   "execution_count": 10,
   "source": [
    "q1_x = np.quantile(X, 0.25, interpolation='midpoint')\n",
    "me_x = np.quantile(X, 0.50, interpolation='midpoint')\n",
    "q3_x = np.quantile(X, 0.75, interpolation='midpoint')\n",
    "\n",
    "trimedia = (q1_x + 2 * me_x + q3_x)/4\n",
    "trimedia"
   ],
   "outputs": [
    {
     "output_type": "execute_result",
     "data": {
      "text/plain": [
       "6.5"
      ]
     },
     "metadata": {},
     "execution_count": 10
    }
   ],
   "metadata": {}
  },
  {
   "cell_type": "markdown",
   "source": [
    "### d) Compara los valores obtenidos en los apartados a), b) y c) con la media muestral."
   ],
   "metadata": {}
  },
  {
   "cell_type": "code",
   "execution_count": 11,
   "source": [
    "# definir la muestra---------------------------------------------\n",
    "X = np.array([4, 3, 11, 5, 4, 50, 6, 8, 7, 9])\n",
    "# ordenar los valores de la muestra------------------------------\n",
    "print(\"La media muestral es\", X.mean())"
   ],
   "outputs": [
    {
     "output_type": "stream",
     "name": "stdout",
     "text": [
      "La media muestral es 10.7\n"
     ]
    }
   ],
   "metadata": {}
  },
  {
   "cell_type": "markdown",
   "source": [
    "La media muestral es 10.7, que es mucho más sensible al outlier de 50, que los métodos\n",
    "robustos obtenidos en los apartados a, b y c."
   ],
   "metadata": {}
  },
  {
   "cell_type": "markdown",
   "source": [
    "### e) Calcula el MAD y comparalo con la desviación típica."
   ],
   "metadata": {}
  },
  {
   "cell_type": "markdown",
   "source": [
    "Para calcular el MAD es necesario calcular la mediana de la diferencia absoluta de\n",
    "cada valor con la mediana de la muestra."
   ],
   "metadata": {}
  },
  {
   "cell_type": "code",
   "execution_count": 12,
   "source": [
    "print(\"La mediana de la muestra vale me_x = \", me_x)"
   ],
   "outputs": [
    {
     "output_type": "stream",
     "name": "stdout",
     "text": [
      "La mediana de la muestra vale me_x =  6.5\n"
     ]
    }
   ],
   "metadata": {}
  },
  {
   "cell_type": "code",
   "execution_count": 13,
   "source": [
    "## La mediana de la muestra vale me_x =\n",
    "6.5\n",
    "AD = abs(X - me_x)\n",
    "MAD = np.quantile(AD, 0.5, interpolation = \"midpoint\")\n",
    "print(\"El MAD vale\", MAD)"
   ],
   "outputs": [
    {
     "output_type": "stream",
     "name": "stdout",
     "text": [
      "El MAD vale 2.5\n"
     ]
    }
   ],
   "metadata": {}
  },
  {
   "cell_type": "code",
   "execution_count": 35,
   "source": [
    "print(\"La desviación típica es\", round(X.std(), 1))"
   ],
   "outputs": [
    {
     "output_type": "stream",
     "name": "stdout",
     "text": [
      "La desviación típica es 13.3\n"
     ]
    }
   ],
   "metadata": {}
  },
  {
   "cell_type": "markdown",
   "source": [
    "Se observa que el MAD es mucho más insensible a valores atípicos que la desviación\n",
    "típica de la muestra."
   ],
   "metadata": {}
  }
 ],
 "metadata": {
  "kernelspec": {
   "name": "python3",
   "display_name": "Python 3.8.10 64-bit"
  },
  "language_info": {
   "codemirror_mode": {
    "name": "ipython",
    "version": 3
   },
   "file_extension": ".py",
   "mimetype": "text/x-python",
   "name": "python",
   "nbconvert_exporter": "python",
   "pygments_lexer": "ipython3",
   "version": "3.8.10"
  },
  "interpreter": {
   "hash": "31f2aee4e71d21fbe5cf8b01ff0e069b9275f58929596ceb00d14d90e3e16cd6"
  }
 },
 "nbformat": 4,
 "nbformat_minor": 5
}