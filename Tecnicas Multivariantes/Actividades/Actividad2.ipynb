{
 "cells": [
  {
   "cell_type": "markdown",
   "metadata": {},
   "source": [
    "# Técnicas Multivariantes\n",
    "## Jorge A. Balsells Orellana\n",
    "### numero de identificación: 166315389-0101 -> 26632538"
   ]
  },
  {
   "cell_type": "markdown",
   "metadata": {},
   "source": [
    "# Importando librerías"
   ]
  },
  {
   "cell_type": "code",
   "execution_count": 1,
   "metadata": {},
   "outputs": [],
   "source": [
    "from sklearn.model_selection import train_test_split\n",
    "from sklearn.datasets import make_regression\n",
    "from sklearn import linear_model\n",
    "import matplotlib.pyplot as plt\n",
    "import statsmodels.api as sm\n",
    "import sklearn as sk\n",
    "import numpy as np\n",
    "import pandas as pd"
   ]
  },
  {
   "cell_type": "code",
   "execution_count": 2,
   "metadata": {},
   "outputs": [],
   "source": [
    "data = sk.datasets.make_regression(\n",
    "    n_samples=200+10*2, \n",
    "    n_features=10+6+6, \n",
    "    n_informative=10+6, \n",
    "    n_targets=1, \n",
    "    noise=10*3,\n",
    "    shuffle=False, \n",
    "    bias=2, \n",
    "    random_state=None,\n",
    "\n",
    "    effective_rank=None, \n",
    "    tail_strength=0.5,  \n",
    "    coef=False\n",
    ")"
   ]
  },
  {
   "cell_type": "code",
   "execution_count": 3,
   "metadata": {},
   "outputs": [
    {
     "name": "stdout",
     "output_type": "stream",
     "text": [
      "           c0        c1        c2        c3        c4        c5        c6  \\\n",
      "0   -1.200619  0.363886  0.527277  1.776005  1.562085 -0.998717 -1.445892   \n",
      "1   -0.370290 -0.721044 -0.004600  1.988354 -1.187087  1.929338  1.106362   \n",
      "2   -0.083060 -0.848515 -0.666145  2.155664  1.217626  0.442125 -0.066560   \n",
      "3    0.547946  0.137935  0.803414  1.647611 -0.406032 -2.838325  0.998711   \n",
      "4   -0.478050  0.939166  1.590225 -2.444970 -1.545710  0.086851 -0.821011   \n",
      "..        ...       ...       ...       ...       ...       ...       ...   \n",
      "215  0.076349 -0.294829  0.649279 -1.841271  0.515866 -0.785015  0.919299   \n",
      "216 -1.447078  0.530184  0.876954 -0.646612  0.652381 -0.302676 -1.117376   \n",
      "217 -0.197006 -2.568405  0.944425  1.424370  1.913104  0.213528  0.841183   \n",
      "218  0.148215  1.986257  1.706012  1.239836 -0.204384 -1.498575  1.656196   \n",
      "219  0.101630  1.352317  0.540504  1.114844 -0.140460 -1.433073  1.174183   \n",
      "\n",
      "           c7        c8        c9  ...       c12       c13       c14  \\\n",
      "0    1.007802 -0.210287 -0.315635  ... -0.846384  0.751240 -0.831247   \n",
      "1   -1.119966  1.421816 -0.070631  ... -0.386086  0.305581  1.619579   \n",
      "2   -0.238667  0.858434 -0.115024  ...  0.949134 -1.379160  1.224498   \n",
      "3   -1.523243 -0.242737 -1.103062  ...  0.449596 -2.452147 -1.325093   \n",
      "4    0.187369 -0.064385  0.240592  ...  0.141086 -0.828289  1.132770   \n",
      "..        ...       ...       ...  ...       ...       ...       ...   \n",
      "215 -0.460281  1.771298 -0.550230  ... -0.181780 -1.344381 -0.942128   \n",
      "216 -0.952387  0.646239 -0.520901  ... -0.118848 -0.840821  0.817320   \n",
      "217  1.971822  1.805175 -1.793488  ...  0.081922 -0.748347 -1.119656   \n",
      "218  1.336042 -0.428932  0.776098  ...  2.081237 -0.391987 -0.439679   \n",
      "219  1.167033 -0.296465 -1.497535  ...  0.890979 -0.105300  1.564012   \n",
      "\n",
      "          c15       c16       c17       c18       c19       c20       c21  \n",
      "0   -2.234769 -1.388944  0.341197  1.684392 -0.810816  0.172313 -0.943393  \n",
      "1    0.406285 -1.096114 -0.904892 -1.189931 -0.551215  0.579500 -2.862278  \n",
      "2    0.048189 -1.182454 -1.991184 -0.456665 -0.371789 -0.618690 -0.531200  \n",
      "3   -0.034923  0.227892  0.140545 -0.679035 -1.118085  0.325487 -1.751562  \n",
      "4   -2.100005 -0.793645  1.414209  0.430947 -1.358468  1.061865  0.168035  \n",
      "..        ...       ...       ...       ...       ...       ...       ...  \n",
      "215 -0.763008  0.103196  0.059206  0.813484  0.177341  0.376273  0.912228  \n",
      "216  0.154747  0.249033  0.124586  0.790569  1.317087  1.068314 -0.180360  \n",
      "217 -1.136287 -1.632205 -0.185916  0.315124  0.350710  0.078135 -1.662309  \n",
      "218 -0.825360 -0.954144  0.378729  1.972238 -0.975027 -0.040878 -0.707584  \n",
      "219  0.717811 -0.886581  0.015919  0.702115  0.673015 -1.029820 -0.050169  \n",
      "\n",
      "[220 rows x 22 columns]\n"
     ]
    }
   ],
   "source": [
    "data_fr = pd.DataFrame(data[0])\n",
    "data_fr.columns=['c0','c1','c2','c3','c4','c5','c6','c7','c8','c9','c10','c11','c12','c13','c14','c15','c16','c17','c18','c19','c20','c21']\n",
    "print(data_fr)"
   ]
  },
  {
   "cell_type": "code",
   "execution_count": 4,
   "metadata": {},
   "outputs": [
    {
     "name": "stdout",
     "output_type": "stream",
     "text": [
      "tamaño entrenamiento features (200, 22)\n",
      "tamaño test features (20, 22)\n",
      "tamaño entrenamiento respuesta (200,)\n",
      "tamaño test respuesta (20,)\n"
     ]
    }
   ],
   "source": [
    "train_set, test_set, y_train, y_test = train_test_split(data_fr, data[1], test_size=0.09, random_state=42)\n",
    "\n",
    "print(f\"tamaño entrenamiento features {train_set.shape}\")\n",
    "print(f\"tamaño test features {test_set.shape}\")\n",
    "print(f\"tamaño entrenamiento respuesta {y_train.shape}\")\n",
    "print(f\"tamaño test respuesta {y_test.shape}\")"
   ]
  },
  {
   "cell_type": "code",
   "execution_count": 5,
   "metadata": {},
   "outputs": [
    {
     "name": "stdout",
     "output_type": "stream",
     "text": [
      "<class 'pandas.core.frame.DataFrame'>\n",
      "Int64Index: 200 entries, 189 to 102\n",
      "Data columns (total 22 columns):\n",
      " #   Column  Non-Null Count  Dtype  \n",
      "---  ------  --------------  -----  \n",
      " 0   c0      200 non-null    float64\n",
      " 1   c1      200 non-null    float64\n",
      " 2   c2      200 non-null    float64\n",
      " 3   c3      200 non-null    float64\n",
      " 4   c4      200 non-null    float64\n",
      " 5   c5      200 non-null    float64\n",
      " 6   c6      200 non-null    float64\n",
      " 7   c7      200 non-null    float64\n",
      " 8   c8      200 non-null    float64\n",
      " 9   c9      200 non-null    float64\n",
      " 10  c10     200 non-null    float64\n",
      " 11  c11     200 non-null    float64\n",
      " 12  c12     200 non-null    float64\n",
      " 13  c13     200 non-null    float64\n",
      " 14  c14     200 non-null    float64\n",
      " 15  c15     200 non-null    float64\n",
      " 16  c16     200 non-null    float64\n",
      " 17  c17     200 non-null    float64\n",
      " 18  c18     200 non-null    float64\n",
      " 19  c19     200 non-null    float64\n",
      " 20  c20     200 non-null    float64\n",
      " 21  c21     200 non-null    float64\n",
      "dtypes: float64(22)\n",
      "memory usage: 35.9 KB\n"
     ]
    }
   ],
   "source": [
    "train_set.info()"
   ]
  },
  {
   "cell_type": "code",
   "execution_count": 6,
   "metadata": {
    "scrolled": true
   },
   "outputs": [
    {
     "data": {
      "text/html": [
       "<div>\n",
       "<style scoped>\n",
       "    .dataframe tbody tr th:only-of-type {\n",
       "        vertical-align: middle;\n",
       "    }\n",
       "\n",
       "    .dataframe tbody tr th {\n",
       "        vertical-align: top;\n",
       "    }\n",
       "\n",
       "    .dataframe thead th {\n",
       "        text-align: right;\n",
       "    }\n",
       "</style>\n",
       "<table border=\"1\" class=\"dataframe\">\n",
       "  <thead>\n",
       "    <tr style=\"text-align: right;\">\n",
       "      <th></th>\n",
       "      <th>c0</th>\n",
       "      <th>c1</th>\n",
       "      <th>c2</th>\n",
       "      <th>c3</th>\n",
       "      <th>c4</th>\n",
       "      <th>c5</th>\n",
       "      <th>c6</th>\n",
       "      <th>c7</th>\n",
       "      <th>c8</th>\n",
       "      <th>c9</th>\n",
       "      <th>...</th>\n",
       "      <th>c12</th>\n",
       "      <th>c13</th>\n",
       "      <th>c14</th>\n",
       "      <th>c15</th>\n",
       "      <th>c16</th>\n",
       "      <th>c17</th>\n",
       "      <th>c18</th>\n",
       "      <th>c19</th>\n",
       "      <th>c20</th>\n",
       "      <th>c21</th>\n",
       "    </tr>\n",
       "  </thead>\n",
       "  <tbody>\n",
       "    <tr>\n",
       "      <th>count</th>\n",
       "      <td>200.000000</td>\n",
       "      <td>200.000000</td>\n",
       "      <td>200.000000</td>\n",
       "      <td>200.000000</td>\n",
       "      <td>200.000000</td>\n",
       "      <td>200.000000</td>\n",
       "      <td>200.000000</td>\n",
       "      <td>200.000000</td>\n",
       "      <td>200.000000</td>\n",
       "      <td>200.000000</td>\n",
       "      <td>...</td>\n",
       "      <td>200.000000</td>\n",
       "      <td>200.000000</td>\n",
       "      <td>200.000000</td>\n",
       "      <td>200.000000</td>\n",
       "      <td>200.000000</td>\n",
       "      <td>200.000000</td>\n",
       "      <td>200.000000</td>\n",
       "      <td>200.000000</td>\n",
       "      <td>200.000000</td>\n",
       "      <td>200.000000</td>\n",
       "    </tr>\n",
       "    <tr>\n",
       "      <th>mean</th>\n",
       "      <td>0.061775</td>\n",
       "      <td>0.068480</td>\n",
       "      <td>-0.029100</td>\n",
       "      <td>-0.079289</td>\n",
       "      <td>0.024882</td>\n",
       "      <td>0.058193</td>\n",
       "      <td>-0.061592</td>\n",
       "      <td>0.020946</td>\n",
       "      <td>0.024503</td>\n",
       "      <td>-0.093435</td>\n",
       "      <td>...</td>\n",
       "      <td>-0.072567</td>\n",
       "      <td>0.018591</td>\n",
       "      <td>0.064096</td>\n",
       "      <td>-0.042001</td>\n",
       "      <td>0.051858</td>\n",
       "      <td>-0.066966</td>\n",
       "      <td>-0.010057</td>\n",
       "      <td>-0.048863</td>\n",
       "      <td>0.036259</td>\n",
       "      <td>-0.090818</td>\n",
       "    </tr>\n",
       "    <tr>\n",
       "      <th>std</th>\n",
       "      <td>0.951104</td>\n",
       "      <td>0.859848</td>\n",
       "      <td>0.935541</td>\n",
       "      <td>1.045438</td>\n",
       "      <td>1.029154</td>\n",
       "      <td>0.990542</td>\n",
       "      <td>0.898575</td>\n",
       "      <td>1.046160</td>\n",
       "      <td>0.983612</td>\n",
       "      <td>0.951497</td>\n",
       "      <td>...</td>\n",
       "      <td>1.004430</td>\n",
       "      <td>1.008430</td>\n",
       "      <td>0.987427</td>\n",
       "      <td>0.961506</td>\n",
       "      <td>1.068868</td>\n",
       "      <td>0.910952</td>\n",
       "      <td>1.071814</td>\n",
       "      <td>0.893632</td>\n",
       "      <td>0.995174</td>\n",
       "      <td>0.973091</td>\n",
       "    </tr>\n",
       "    <tr>\n",
       "      <th>min</th>\n",
       "      <td>-2.257323</td>\n",
       "      <td>-2.568405</td>\n",
       "      <td>-2.482018</td>\n",
       "      <td>-2.660958</td>\n",
       "      <td>-3.065924</td>\n",
       "      <td>-2.838325</td>\n",
       "      <td>-2.377142</td>\n",
       "      <td>-2.372431</td>\n",
       "      <td>-2.582735</td>\n",
       "      <td>-2.757625</td>\n",
       "      <td>...</td>\n",
       "      <td>-2.571439</td>\n",
       "      <td>-2.511117</td>\n",
       "      <td>-2.603918</td>\n",
       "      <td>-2.434906</td>\n",
       "      <td>-3.314557</td>\n",
       "      <td>-2.959647</td>\n",
       "      <td>-2.939178</td>\n",
       "      <td>-2.101485</td>\n",
       "      <td>-2.593781</td>\n",
       "      <td>-2.862278</td>\n",
       "    </tr>\n",
       "    <tr>\n",
       "      <th>25%</th>\n",
       "      <td>-0.533241</td>\n",
       "      <td>-0.546414</td>\n",
       "      <td>-0.606245</td>\n",
       "      <td>-0.740814</td>\n",
       "      <td>-0.688340</td>\n",
       "      <td>-0.597589</td>\n",
       "      <td>-0.645426</td>\n",
       "      <td>-0.744354</td>\n",
       "      <td>-0.657205</td>\n",
       "      <td>-0.675275</td>\n",
       "      <td>...</td>\n",
       "      <td>-0.668238</td>\n",
       "      <td>-0.699544</td>\n",
       "      <td>-0.597825</td>\n",
       "      <td>-0.652038</td>\n",
       "      <td>-0.604215</td>\n",
       "      <td>-0.633148</td>\n",
       "      <td>-0.712945</td>\n",
       "      <td>-0.590866</td>\n",
       "      <td>-0.631175</td>\n",
       "      <td>-0.696132</td>\n",
       "    </tr>\n",
       "    <tr>\n",
       "      <th>50%</th>\n",
       "      <td>0.102723</td>\n",
       "      <td>0.133160</td>\n",
       "      <td>-0.073856</td>\n",
       "      <td>-0.105574</td>\n",
       "      <td>0.089689</td>\n",
       "      <td>0.072999</td>\n",
       "      <td>-0.062011</td>\n",
       "      <td>-0.085418</td>\n",
       "      <td>0.019527</td>\n",
       "      <td>-0.079579</td>\n",
       "      <td>...</td>\n",
       "      <td>-0.108140</td>\n",
       "      <td>0.082356</td>\n",
       "      <td>0.013870</td>\n",
       "      <td>-0.005546</td>\n",
       "      <td>0.034842</td>\n",
       "      <td>-0.064684</td>\n",
       "      <td>0.023465</td>\n",
       "      <td>-0.114663</td>\n",
       "      <td>0.061491</td>\n",
       "      <td>-0.049538</td>\n",
       "    </tr>\n",
       "    <tr>\n",
       "      <th>75%</th>\n",
       "      <td>0.744515</td>\n",
       "      <td>0.681227</td>\n",
       "      <td>0.627146</td>\n",
       "      <td>0.691111</td>\n",
       "      <td>0.691641</td>\n",
       "      <td>0.776711</td>\n",
       "      <td>0.584005</td>\n",
       "      <td>0.664773</td>\n",
       "      <td>0.690342</td>\n",
       "      <td>0.540392</td>\n",
       "      <td>...</td>\n",
       "      <td>0.602127</td>\n",
       "      <td>0.686061</td>\n",
       "      <td>0.741414</td>\n",
       "      <td>0.602292</td>\n",
       "      <td>0.708587</td>\n",
       "      <td>0.621575</td>\n",
       "      <td>0.614373</td>\n",
       "      <td>0.520805</td>\n",
       "      <td>0.803799</td>\n",
       "      <td>0.533666</td>\n",
       "    </tr>\n",
       "    <tr>\n",
       "      <th>max</th>\n",
       "      <td>2.827125</td>\n",
       "      <td>2.731737</td>\n",
       "      <td>2.353466</td>\n",
       "      <td>2.578257</td>\n",
       "      <td>2.533175</td>\n",
       "      <td>2.936126</td>\n",
       "      <td>2.180832</td>\n",
       "      <td>3.437404</td>\n",
       "      <td>2.713194</td>\n",
       "      <td>2.434474</td>\n",
       "      <td>...</td>\n",
       "      <td>3.605012</td>\n",
       "      <td>3.105076</td>\n",
       "      <td>2.967300</td>\n",
       "      <td>2.438551</td>\n",
       "      <td>2.630969</td>\n",
       "      <td>2.541617</td>\n",
       "      <td>2.675915</td>\n",
       "      <td>2.559372</td>\n",
       "      <td>2.276325</td>\n",
       "      <td>2.769567</td>\n",
       "    </tr>\n",
       "  </tbody>\n",
       "</table>\n",
       "<p>8 rows × 22 columns</p>\n",
       "</div>"
      ],
      "text/plain": [
       "               c0          c1          c2          c3          c4          c5  \\\n",
       "count  200.000000  200.000000  200.000000  200.000000  200.000000  200.000000   \n",
       "mean     0.061775    0.068480   -0.029100   -0.079289    0.024882    0.058193   \n",
       "std      0.951104    0.859848    0.935541    1.045438    1.029154    0.990542   \n",
       "min     -2.257323   -2.568405   -2.482018   -2.660958   -3.065924   -2.838325   \n",
       "25%     -0.533241   -0.546414   -0.606245   -0.740814   -0.688340   -0.597589   \n",
       "50%      0.102723    0.133160   -0.073856   -0.105574    0.089689    0.072999   \n",
       "75%      0.744515    0.681227    0.627146    0.691111    0.691641    0.776711   \n",
       "max      2.827125    2.731737    2.353466    2.578257    2.533175    2.936126   \n",
       "\n",
       "               c6          c7          c8          c9  ...         c12  \\\n",
       "count  200.000000  200.000000  200.000000  200.000000  ...  200.000000   \n",
       "mean    -0.061592    0.020946    0.024503   -0.093435  ...   -0.072567   \n",
       "std      0.898575    1.046160    0.983612    0.951497  ...    1.004430   \n",
       "min     -2.377142   -2.372431   -2.582735   -2.757625  ...   -2.571439   \n",
       "25%     -0.645426   -0.744354   -0.657205   -0.675275  ...   -0.668238   \n",
       "50%     -0.062011   -0.085418    0.019527   -0.079579  ...   -0.108140   \n",
       "75%      0.584005    0.664773    0.690342    0.540392  ...    0.602127   \n",
       "max      2.180832    3.437404    2.713194    2.434474  ...    3.605012   \n",
       "\n",
       "              c13         c14         c15         c16         c17         c18  \\\n",
       "count  200.000000  200.000000  200.000000  200.000000  200.000000  200.000000   \n",
       "mean     0.018591    0.064096   -0.042001    0.051858   -0.066966   -0.010057   \n",
       "std      1.008430    0.987427    0.961506    1.068868    0.910952    1.071814   \n",
       "min     -2.511117   -2.603918   -2.434906   -3.314557   -2.959647   -2.939178   \n",
       "25%     -0.699544   -0.597825   -0.652038   -0.604215   -0.633148   -0.712945   \n",
       "50%      0.082356    0.013870   -0.005546    0.034842   -0.064684    0.023465   \n",
       "75%      0.686061    0.741414    0.602292    0.708587    0.621575    0.614373   \n",
       "max      3.105076    2.967300    2.438551    2.630969    2.541617    2.675915   \n",
       "\n",
       "              c19         c20         c21  \n",
       "count  200.000000  200.000000  200.000000  \n",
       "mean    -0.048863    0.036259   -0.090818  \n",
       "std      0.893632    0.995174    0.973091  \n",
       "min     -2.101485   -2.593781   -2.862278  \n",
       "25%     -0.590866   -0.631175   -0.696132  \n",
       "50%     -0.114663    0.061491   -0.049538  \n",
       "75%      0.520805    0.803799    0.533666  \n",
       "max      2.559372    2.276325    2.769567  \n",
       "\n",
       "[8 rows x 22 columns]"
      ]
     },
     "execution_count": 6,
     "metadata": {},
     "output_type": "execute_result"
    }
   ],
   "source": [
    "train_set.describe()"
   ]
  },
  {
   "cell_type": "code",
   "execution_count": 7,
   "metadata": {},
   "outputs": [
    {
     "data": {
      "image/png": "[encoded data removed]",
      "text/plain": [
       "<Figure size 1440x1080 with 25 Axes>"
      ]
     },
     "metadata": {
      "needs_background": "light"
     },
     "output_type": "display_data"
    }
   ],
   "source": [
    "train_set.hist(bins=50, figsize=(20,15))\n",
    "plt.show()"
   ]
  },
  {
   "cell_type": "code",
   "execution_count": 8,
   "metadata": {},
   "outputs": [
    {
     "data": {
      "image/png": "[encoded data removed]",
      "text/plain": [
       "<Figure size 432x288 with 1 Axes>"
      ]
     },
     "metadata": {
      "needs_background": "light"
     },
     "output_type": "display_data"
    }
   ],
   "source": [
    "plt.hist(y_train, bins='auto')\n",
    "plt.title(\"Histograma de la varaible respuesta\")\n",
    "plt.show()"
   ]
  },
  {
   "cell_type": "code",
   "execution_count": 9,
   "metadata": {},
   "outputs": [
    {
     "data": {
      "text/plain": [
       "c0     0.364644\n",
       "c1     0.250325\n",
       "c2    -0.107469\n",
       "c3     0.424363\n",
       "c4    -0.037278\n",
       "c5     0.351267\n",
       "c6     0.322329\n",
       "c7     0.231789\n",
       "c8    -0.018025\n",
       "c9     0.251766\n",
       "c10    0.130534\n",
       "c11    0.168569\n",
       "c12    0.118699\n",
       "c13    0.161102\n",
       "c14    0.437383\n",
       "c15    0.233611\n",
       "c16    0.062251\n",
       "c17   -0.133591\n",
       "c18   -0.017822\n",
       "c19    0.024090\n",
       "c20   -0.070258\n",
       "c21    0.031895\n",
       "y      1.000000\n",
       "Name: y, dtype: float64"
      ]
     },
     "execution_count": 9,
     "metadata": {},
     "output_type": "execute_result"
    }
   ],
   "source": [
    "train_data = train_set.copy()\n",
    "train_data['y'] = y_train\n",
    "mat_corr = train_data.corr()\n",
    "mat_corr['y']"
   ]
  },
  {
   "cell_type": "code",
   "execution_count": 11,
   "metadata": {},
   "outputs": [],
   "source": [
    "train_set = sm.add_constant(train_set, prepend=True)\n",
    "model1 = sm.OLS(endog=y_train, exog=train_set)\n",
    "model1 = model1.fit()"
   ]
  },
  {
   "cell_type": "code",
   "execution_count": 12,
   "metadata": {},
   "outputs": [
    {
     "name": "stdout",
     "output_type": "stream",
     "text": [
      "                            OLS Regression Results                            \n",
      "==============================================================================\n",
      "Dep. Variable:                      y   R-squared:                       0.982\n",
      "Model:                            OLS   Adj. R-squared:                  0.979\n",
      "Method:                 Least Squares   F-statistic:                     430.1\n",
      "Date:                Mon, 17 May 2021   Prob (F-statistic):          2.78e-141\n",
      "Time:                        01:34:36   Log-Likelihood:                -959.93\n",
      "No. Observations:                 200   AIC:                             1966.\n",
      "Df Residuals:                     177   BIC:                             2042.\n",
      "Df Model:                          22                                         \n",
      "Covariance Type:            nonrobust                                         \n",
      "==============================================================================\n",
      "                 coef    std err          t      P>|t|      [0.025      0.975]\n",
      "------------------------------------------------------------------------------\n",
      "const         -0.2033      2.326     -0.087      0.930      -4.794       4.388\n",
      "c0            71.3972      2.483     28.758      0.000      66.498      76.297\n",
      "c1            65.7305      2.717     24.189      0.000      60.368      71.093\n",
      "c2             2.6603      2.580      1.031      0.304      -2.431       7.751\n",
      "c3            96.9798      2.290     42.354      0.000      92.461     101.499\n",
      "c4            17.8190      2.313      7.705      0.000      13.255      22.383\n",
      "c5            55.8696      2.350     23.774      0.000      51.232      60.507\n",
      "c6            65.0975      2.617     24.878      0.000      59.934      70.261\n",
      "c7            42.9200      2.204     19.472      0.000      38.570      47.270\n",
      "c8             7.8005      2.340      3.334      0.001       3.183      12.418\n",
      "c9            62.1009      2.541     24.439      0.000      57.086      67.116\n",
      "c10           22.1543      2.280      9.719      0.000      17.656      26.653\n",
      "c11           18.4234      2.227      8.272      0.000      14.028      22.819\n",
      "c12           31.9253      2.329     13.706      0.000      27.329      36.522\n",
      "c13           39.7516      2.318     17.148      0.000      35.177      44.326\n",
      "c14           98.2821      2.323     42.301      0.000      93.697     102.867\n",
      "c15           45.2187      2.473     18.288      0.000      40.339      50.098\n",
      "c16            2.7655      2.168      1.276      0.204      -1.513       7.044\n",
      "c17            2.6992      2.632      1.025      0.307      -2.496       7.894\n",
      "c18            2.1383      2.263      0.945      0.346      -2.328       6.604\n",
      "c19            0.7532      2.523      0.299      0.766      -4.225       5.731\n",
      "c20           -3.2485      2.373     -1.369      0.173      -7.931       1.434\n",
      "c21           -0.7817      2.521     -0.310      0.757      -5.756       4.193\n",
      "==============================================================================\n",
      "Omnibus:                        6.271   Durbin-Watson:                   1.991\n",
      "Prob(Omnibus):                  0.043   Jarque-Bera (JB):                9.922\n",
      "Skew:                           0.045   Prob(JB):                      0.00701\n",
      "Kurtosis:                       4.087   Cond. No.                         2.01\n",
      "==============================================================================\n",
      "\n",
      "Notes:\n",
      "[1] Standard Errors assume that the covariance matrix of the errors is correctly specified.\n"
     ]
    }
   ],
   "source": [
    "print(model1.summary())"
   ]
  },
  {
   "cell_type": "code",
   "execution_count": 13,
   "metadata": {},
   "outputs": [],
   "source": [
    "train_set.drop('c19', axis='columns', inplace=True)\n",
    "train_set = sm.add_constant(train_set, prepend=True)\n",
    "model2 = sm.OLS(endog=y_train, exog=train_set)\n",
    "model2 = model2.fit()"
   ]
  },
  {
   "cell_type": "code",
   "execution_count": 14,
   "metadata": {},
   "outputs": [
    {
     "name": "stdout",
     "output_type": "stream",
     "text": [
      "                            OLS Regression Results                            \n",
      "==============================================================================\n",
      "Dep. Variable:                      y   R-squared:                       0.982\n",
      "Model:                            OLS   Adj. R-squared:                  0.979\n",
      "Method:                 Least Squares   F-statistic:                     452.9\n",
      "Date:                Mon, 17 May 2021   Prob (F-statistic):          1.35e-142\n",
      "Time:                        01:34:53   Log-Likelihood:                -959.98\n",
      "No. Observations:                 200   AIC:                             1964.\n",
      "Df Residuals:                     178   BIC:                             2037.\n",
      "Df Model:                          21                                         \n",
      "Covariance Type:            nonrobust                                         \n",
      "==============================================================================\n",
      "                 coef    std err          t      P>|t|      [0.025      0.975]\n",
      "------------------------------------------------------------------------------\n",
      "const         -0.2604      2.313     -0.113      0.910      -4.824       4.303\n",
      "c0            71.4167      2.476     28.849      0.000      66.532      76.302\n",
      "c1            65.7940      2.702     24.349      0.000      60.462      71.126\n",
      "c2             2.6727      2.573      1.039      0.300      -2.404       7.750\n",
      "c3            96.9954      2.283     42.480      0.000      92.490     101.501\n",
      "c4            17.8809      2.297      7.783      0.000      13.347      22.414\n",
      "c5            55.8882      2.343     23.851      0.000      51.264      60.512\n",
      "c6            65.0868      2.610     24.940      0.000      59.937      70.237\n",
      "c7            42.8624      2.190     19.571      0.000      38.540      47.184\n",
      "c8             7.8136      2.333      3.349      0.001       3.209      12.418\n",
      "c9            62.0935      2.534     24.500      0.000      57.092      67.095\n",
      "c10           22.1471      2.274      9.741      0.000      17.660      26.634\n",
      "c11           18.4483      2.220      8.310      0.000      14.067      22.829\n",
      "c12           31.8587      2.313     13.776      0.000      27.295      36.422\n",
      "c13           39.7645      2.312     17.200      0.000      35.202      44.327\n",
      "c14           98.2918      2.317     42.418      0.000      93.719     102.865\n",
      "c15           45.2141      2.466     18.333      0.000      40.347      50.081\n",
      "c16            2.8038      2.158      1.299      0.196      -1.456       7.063\n",
      "c17            2.6858      2.625      1.023      0.308      -2.495       7.867\n",
      "c18            2.1186      2.256      0.939      0.349      -2.334       6.571\n",
      "c20           -3.2184      2.364     -1.361      0.175      -7.884       1.447\n",
      "c21           -0.7839      2.514     -0.312      0.756      -5.746       4.178\n",
      "==============================================================================\n",
      "Omnibus:                        6.547   Durbin-Watson:                   1.988\n",
      "Prob(Omnibus):                  0.038   Jarque-Bera (JB):               10.683\n",
      "Skew:                           0.033   Prob(JB):                      0.00479\n",
      "Kurtosis:                       4.130   Cond. No.                         1.99\n",
      "==============================================================================\n",
      "\n",
      "Notes:\n",
      "[1] Standard Errors assume that the covariance matrix of the errors is correctly specified.\n"
     ]
    }
   ],
   "source": [
    "print(model2.summary())"
   ]
  },
  {
   "cell_type": "code",
   "execution_count": 15,
   "metadata": {},
   "outputs": [],
   "source": [
    "train_set.drop('c21', axis='columns', inplace=True)\n",
    "train_set = sm.add_constant(train_set, prepend=True)\n",
    "model2 = sm.OLS(endog=y_train, exog=train_set)\n",
    "model2 = model2.fit()"
   ]
  },
  {
   "cell_type": "code",
   "execution_count": 16,
   "metadata": {},
   "outputs": [
    {
     "name": "stdout",
     "output_type": "stream",
     "text": [
      "                            OLS Regression Results                            \n",
      "==============================================================================\n",
      "Dep. Variable:                      y   R-squared:                       0.982\n",
      "Model:                            OLS   Adj. R-squared:                  0.980\n",
      "Method:                 Least Squares   F-statistic:                     478.0\n",
      "Date:                Mon, 17 May 2021   Prob (F-statistic):          6.39e-144\n",
      "Time:                        01:35:05   Log-Likelihood:                -960.03\n",
      "No. Observations:                 200   AIC:                             1962.\n",
      "Df Residuals:                     179   BIC:                             2031.\n",
      "Df Model:                          20                                         \n",
      "Covariance Type:            nonrobust                                         \n",
      "==============================================================================\n",
      "                 coef    std err          t      P>|t|      [0.025      0.975]\n",
      "------------------------------------------------------------------------------\n",
      "const         -0.1809      2.293     -0.079      0.937      -4.705       4.343\n",
      "c0            71.2484      2.410     29.566      0.000      66.493      76.004\n",
      "c1            65.8150      2.694     24.426      0.000      60.498      71.132\n",
      "c2             2.7500      2.554      1.077      0.283      -2.290       7.790\n",
      "c3            97.1219      2.241     43.332      0.000      92.699     101.545\n",
      "c4            17.9285      2.286      7.841      0.000      13.417      22.440\n",
      "c5            55.9942      2.313     24.213      0.000      51.431      60.558\n",
      "c6            65.1156      2.602     25.030      0.000      59.982      70.249\n",
      "c7            42.8445      2.184     19.619      0.000      38.535      47.154\n",
      "c8             7.8812      2.317      3.401      0.001       3.308      12.454\n",
      "c9            61.9033      2.454     25.228      0.000      57.061      66.745\n",
      "c10           22.2037      2.261      9.822      0.000      17.743      26.665\n",
      "c11           18.4284      2.214      8.325      0.000      14.060      22.796\n",
      "c12           31.8425      2.306     13.807      0.000      27.292      36.393\n",
      "c13           39.7847      2.305     17.259      0.000      35.236      44.333\n",
      "c14           98.2064      2.295     42.789      0.000      93.677     102.735\n",
      "c15           45.3165      2.438     18.587      0.000      40.505      50.128\n",
      "c16            2.7531      2.147      1.282      0.201      -1.483       6.990\n",
      "c17            2.6668      2.618      1.019      0.310      -2.499       7.833\n",
      "c18            2.0328      2.234      0.910      0.364      -2.375       6.441\n",
      "c20           -3.1425      2.346     -1.340      0.182      -7.772       1.487\n",
      "==============================================================================\n",
      "Omnibus:                        6.356   Durbin-Watson:                   1.988\n",
      "Prob(Omnibus):                  0.042   Jarque-Bera (JB):               10.201\n",
      "Skew:                           0.030   Prob(JB):                      0.00609\n",
      "Kurtosis:                       4.105   Cond. No.                         1.88\n",
      "==============================================================================\n",
      "\n",
      "Notes:\n",
      "[1] Standard Errors assume that the covariance matrix of the errors is correctly specified.\n"
     ]
    }
   ],
   "source": [
    "print(model2.summary())"
   ]
  },
  {
   "cell_type": "code",
   "execution_count": 17,
   "metadata": {},
   "outputs": [],
   "source": [
    "train_set.drop('c18', axis='columns', inplace=True)\n",
    "train_set = sm.add_constant(train_set, prepend=True)\n",
    "model2 = sm.OLS(endog=y_train, exog=train_set)\n",
    "model2 = model2.fit()"
   ]
  },
  {
   "cell_type": "code",
   "execution_count": 18,
   "metadata": {},
   "outputs": [
    {
     "name": "stdout",
     "output_type": "stream",
     "text": [
      "                            OLS Regression Results                            \n",
      "==============================================================================\n",
      "Dep. Variable:                      y   R-squared:                       0.982\n",
      "Model:                            OLS   Adj. R-squared:                  0.980\n",
      "Method:                 Least Squares   F-statistic:                     503.6\n",
      "Date:                Mon, 17 May 2021   Prob (F-statistic):          4.24e-145\n",
      "Time:                        01:35:19   Log-Likelihood:                -960.50\n",
      "No. Observations:                 200   AIC:                             1961.\n",
      "Df Residuals:                     180   BIC:                             2027.\n",
      "Df Model:                          19                                         \n",
      "Covariance Type:            nonrobust                                         \n",
      "==============================================================================\n",
      "                 coef    std err          t      P>|t|      [0.025      0.975]\n",
      "------------------------------------------------------------------------------\n",
      "const         -0.3254      2.286     -0.142      0.887      -4.836       4.186\n",
      "c0            71.3017      2.408     29.611      0.000      66.550      76.053\n",
      "c1            65.8078      2.693     24.435      0.000      60.494      71.122\n",
      "c2             3.0360      2.534      1.198      0.232      -1.964       8.036\n",
      "c3            97.3354      2.228     43.689      0.000      92.939     101.732\n",
      "c4            17.9433      2.285      7.852      0.000      13.434      22.453\n",
      "c5            56.0758      2.310     24.278      0.000      51.518      60.633\n",
      "c6            64.8721      2.586     25.081      0.000      59.768      69.976\n",
      "c7            42.7109      2.178     19.611      0.000      38.413      47.008\n",
      "c8             8.0906      2.305      3.510      0.001       3.542      12.639\n",
      "c9            61.4269      2.396     25.636      0.000      56.699      66.155\n",
      "c10           21.9495      2.242      9.789      0.000      17.525      26.374\n",
      "c11           18.5601      2.208      8.407      0.000      14.204      22.916\n",
      "c12           31.4831      2.271     13.863      0.000      27.002      35.964\n",
      "c13           40.0765      2.282     17.565      0.000      35.574      44.579\n",
      "c14           98.2379      2.294     42.828      0.000      93.712     102.764\n",
      "c15           45.5399      2.425     18.783      0.000      40.756      50.324\n",
      "c16            2.8142      2.145      1.312      0.191      -1.418       7.047\n",
      "c17            2.5329      2.613      0.969      0.334      -2.622       7.688\n",
      "c20           -2.7757      2.310     -1.202      0.231      -7.334       1.782\n",
      "==============================================================================\n",
      "Omnibus:                        6.022   Durbin-Watson:                   1.989\n",
      "Prob(Omnibus):                  0.049   Jarque-Bera (JB):                9.415\n",
      "Skew:                           0.007   Prob(JB):                      0.00903\n",
      "Kurtosis:                       4.063   Cond. No.                         1.78\n",
      "==============================================================================\n",
      "\n",
      "Notes:\n",
      "[1] Standard Errors assume that the covariance matrix of the errors is correctly specified.\n"
     ]
    }
   ],
   "source": [
    "print(model2.summary())"
   ]
  },
  {
   "cell_type": "code",
   "execution_count": 19,
   "metadata": {},
   "outputs": [],
   "source": [
    "train_set.drop('c17', axis='columns', inplace=True)\n",
    "train_set = sm.add_constant(train_set, prepend=True)\n",
    "model2 = sm.OLS(endog=y_train, exog=train_set)\n",
    "model2 = model2.fit()"
   ]
  },
  {
   "cell_type": "code",
   "execution_count": 20,
   "metadata": {},
   "outputs": [
    {
     "name": "stdout",
     "output_type": "stream",
     "text": [
      "                            OLS Regression Results                            \n",
      "==============================================================================\n",
      "Dep. Variable:                      y   R-squared:                       0.981\n",
      "Model:                            OLS   Adj. R-squared:                  0.980\n",
      "Method:                 Least Squares   F-statistic:                     531.7\n",
      "Date:                Mon, 17 May 2021   Prob (F-statistic):          2.89e-146\n",
      "Time:                        01:35:32   Log-Likelihood:                -961.02\n",
      "No. Observations:                 200   AIC:                             1960.\n",
      "Df Residuals:                     181   BIC:                             2023.\n",
      "Df Model:                          18                                         \n",
      "Covariance Type:            nonrobust                                         \n",
      "==============================================================================\n",
      "                 coef    std err          t      P>|t|      [0.025      0.975]\n",
      "------------------------------------------------------------------------------\n",
      "const         -0.5507      2.274     -0.242      0.809      -5.037       3.936\n",
      "c0            71.0005      2.387     29.739      0.000      66.290      75.711\n",
      "c1            65.4634      2.669     24.526      0.000      60.197      70.730\n",
      "c2             2.9783      2.533      1.176      0.241      -2.019       7.975\n",
      "c3            96.8253      2.165     44.732      0.000      92.554     101.096\n",
      "c4            18.0813      2.280      7.929      0.000      13.582      22.581\n",
      "c5            56.1468      2.308     24.325      0.000      51.592      60.701\n",
      "c6            64.8758      2.586     25.087      0.000      59.773      69.978\n",
      "c7            42.9235      2.166     19.813      0.000      38.649      47.198\n",
      "c8             7.9689      2.301      3.463      0.001       3.428      12.509\n",
      "c9            61.4172      2.396     25.637      0.000      56.690      66.144\n",
      "c10           21.9190      2.242      9.778      0.000      17.496      26.342\n",
      "c11           18.8089      2.192      8.579      0.000      14.483      23.135\n",
      "c12           31.2239      2.255     13.847      0.000      26.775      35.673\n",
      "c13           40.1395      2.280     17.603      0.000      35.640      44.639\n",
      "c14           98.2658      2.293     42.851      0.000      93.741     102.791\n",
      "c15           45.4753      2.423     18.767      0.000      40.694      50.257\n",
      "c16            2.6426      2.137      1.237      0.218      -1.574       6.860\n",
      "c20           -2.6741      2.307     -1.159      0.248      -7.226       1.878\n",
      "==============================================================================\n",
      "Omnibus:                        5.772   Durbin-Watson:                   1.997\n",
      "Prob(Omnibus):                  0.056   Jarque-Bera (JB):                8.784\n",
      "Skew:                           0.024   Prob(JB):                       0.0124\n",
      "Kurtosis:                       4.026   Cond. No.                         1.74\n",
      "==============================================================================\n",
      "\n",
      "Notes:\n",
      "[1] Standard Errors assume that the covariance matrix of the errors is correctly specified.\n"
     ]
    }
   ],
   "source": [
    "print(model2.summary())"
   ]
  },
  {
   "cell_type": "code",
   "execution_count": 21,
   "metadata": {},
   "outputs": [],
   "source": [
    "train_set.drop('c20', axis='columns', inplace=True)\n",
    "train_set = sm.add_constant(train_set, prepend=True)\n",
    "model2 = sm.OLS(endog=y_train, exog=train_set)\n",
    "model2 = model2.fit()"
   ]
  },
  {
   "cell_type": "code",
   "execution_count": 22,
   "metadata": {},
   "outputs": [
    {
     "name": "stdout",
     "output_type": "stream",
     "text": [
      "                            OLS Regression Results                            \n",
      "==============================================================================\n",
      "Dep. Variable:                      y   R-squared:                       0.981\n",
      "Model:                            OLS   Adj. R-squared:                  0.980\n",
      "Method:                 Least Squares   F-statistic:                     561.8\n",
      "Date:                Mon, 17 May 2021   Prob (F-statistic):          2.34e-147\n",
      "Time:                        01:35:44   Log-Likelihood:                -961.76\n",
      "No. Observations:                 200   AIC:                             1960.\n",
      "Df Residuals:                     182   BIC:                             2019.\n",
      "Df Model:                          17                                         \n",
      "Covariance Type:            nonrobust                                         \n",
      "==============================================================================\n",
      "                 coef    std err          t      P>|t|      [0.025      0.975]\n",
      "------------------------------------------------------------------------------\n",
      "const         -0.6684      2.274     -0.294      0.769      -5.155       3.818\n",
      "c0            70.9421      2.389     29.694      0.000      66.228      75.656\n",
      "c1            65.6803      2.665     24.645      0.000      60.422      70.939\n",
      "c2             3.1229      2.532      1.233      0.219      -1.873       8.119\n",
      "c3            97.1546      2.148     45.233      0.000      92.917     101.392\n",
      "c4            18.5179      2.251      8.225      0.000      14.076      22.960\n",
      "c5            56.0162      2.308     24.275      0.000      51.463      60.569\n",
      "c6            64.7596      2.587     25.037      0.000      59.656      69.863\n",
      "c7            42.8632      2.168     19.772      0.000      38.586      47.141\n",
      "c8             8.0017      2.303      3.474      0.001       3.457      12.546\n",
      "c9            61.2205      2.392     25.595      0.000      56.501      65.940\n",
      "c10           22.0990      2.238      9.873      0.000      17.683      26.515\n",
      "c11           18.8339      2.194      8.583      0.000      14.504      23.164\n",
      "c12           31.1036      2.255     13.795      0.000      26.655      35.552\n",
      "c13           40.0868      2.282     17.566      0.000      35.584      44.589\n",
      "c14           98.4499      2.290     42.994      0.000      93.932     102.968\n",
      "c15           45.7302      2.415     18.932      0.000      40.964      50.496\n",
      "c16            2.8738      2.130      1.349      0.179      -1.329       7.076\n",
      "==============================================================================\n",
      "Omnibus:                        6.004   Durbin-Watson:                   1.997\n",
      "Prob(Omnibus):                  0.050   Jarque-Bera (JB):                9.310\n",
      "Skew:                           0.034   Prob(JB):                      0.00952\n",
      "Kurtosis:                       4.055   Cond. No.                         1.68\n",
      "==============================================================================\n",
      "\n",
      "Notes:\n",
      "[1] Standard Errors assume that the covariance matrix of the errors is correctly specified.\n"
     ]
    }
   ],
   "source": [
    "print(model2.summary())"
   ]
  },
  {
   "cell_type": "code",
   "execution_count": 23,
   "metadata": {},
   "outputs": [],
   "source": [
    "train_set.drop('c2', axis='columns', inplace=True)\n",
    "train_set = sm.add_constant(train_set, prepend=True)\n",
    "model2 = sm.OLS(endog=y_train, exog=train_set)\n",
    "model2 = model2.fit()"
   ]
  },
  {
   "cell_type": "code",
   "execution_count": 24,
   "metadata": {},
   "outputs": [
    {
     "name": "stdout",
     "output_type": "stream",
     "text": [
      "                            OLS Regression Results                            \n",
      "==============================================================================\n",
      "Dep. Variable:                      y   R-squared:                       0.981\n",
      "Model:                            OLS   Adj. R-squared:                  0.979\n",
      "Method:                 Least Squares   F-statistic:                     595.1\n",
      "Date:                Mon, 17 May 2021   Prob (F-statistic):          2.01e-148\n",
      "Time:                        01:35:58   Log-Likelihood:                -962.59\n",
      "No. Observations:                 200   AIC:                             1959.\n",
      "Df Residuals:                     183   BIC:                             2015.\n",
      "Df Model:                          16                                         \n",
      "Covariance Type:            nonrobust                                         \n",
      "==============================================================================\n",
      "                 coef    std err          t      P>|t|      [0.025      0.975]\n",
      "------------------------------------------------------------------------------\n",
      "const         -0.6630      2.277     -0.291      0.771      -5.155       3.829\n",
      "c0            70.6606      2.382     29.669      0.000      65.962      75.360\n",
      "c1            65.4699      2.663     24.581      0.000      60.215      70.725\n",
      "c3            97.0777      2.150     45.152      0.000      92.836     101.320\n",
      "c4            18.0597      2.224      8.122      0.000      13.672      22.447\n",
      "c5            55.5940      2.285     24.327      0.000      51.085      60.103\n",
      "c6            64.7329      2.590     24.992      0.000      59.623      69.843\n",
      "c7            42.8066      2.170     19.723      0.000      38.524      47.089\n",
      "c8             7.7933      2.300      3.388      0.001       3.255      12.332\n",
      "c9            61.5895      2.376     25.916      0.000      56.901      66.278\n",
      "c10           22.2372      2.239      9.933      0.000      17.820      26.654\n",
      "c11           19.2248      2.174      8.841      0.000      14.935      23.515\n",
      "c12           31.1868      2.257     13.819      0.000      26.734      35.640\n",
      "c13           39.5467      2.243     17.633      0.000      35.122      43.972\n",
      "c14           98.3032      2.290     42.927      0.000      93.785     102.821\n",
      "c15           45.5222      2.413     18.865      0.000      40.761      50.283\n",
      "c16            2.7093      2.129      1.273      0.205      -1.491       6.909\n",
      "==============================================================================\n",
      "Omnibus:                        5.220   Durbin-Watson:                   2.021\n",
      "Prob(Omnibus):                  0.074   Jarque-Bera (JB):                7.417\n",
      "Skew:                           0.052   Prob(JB):                       0.0245\n",
      "Kurtosis:                       3.938   Cond. No.                         1.61\n",
      "==============================================================================\n",
      "\n",
      "Notes:\n",
      "[1] Standard Errors assume that the covariance matrix of the errors is correctly specified.\n"
     ]
    }
   ],
   "source": [
    "print(model2.summary())"
   ]
  },
  {
   "cell_type": "code",
   "execution_count": 26,
   "metadata": {},
   "outputs": [],
   "source": [
    "train_set.drop('c16', axis='columns', inplace=True)\n",
    "train_set = sm.add_constant(train_set, prepend=True)\n",
    "model2 = sm.OLS(endog=y_train, exog=train_set)\n",
    "model2 = model2.fit()"
   ]
  },
  {
   "cell_type": "code",
   "execution_count": 27,
   "metadata": {},
   "outputs": [
    {
     "name": "stdout",
     "output_type": "stream",
     "text": [
      "                            OLS Regression Results                            \n",
      "==============================================================================\n",
      "Dep. Variable:                      y   R-squared:                       0.981\n",
      "Model:                            OLS   Adj. R-squared:                  0.979\n",
      "Method:                 Least Squares   F-statistic:                     632.6\n",
      "Date:                Mon, 17 May 2021   Prob (F-statistic):          1.75e-149\n",
      "Time:                        01:36:18   Log-Likelihood:                -963.47\n",
      "No. Observations:                 200   AIC:                             1959.\n",
      "Df Residuals:                     184   BIC:                             2012.\n",
      "Df Model:                          15                                         \n",
      "Covariance Type:            nonrobust                                         \n",
      "==============================================================================\n",
      "                 coef    std err          t      P>|t|      [0.025      0.975]\n",
      "------------------------------------------------------------------------------\n",
      "const         -0.4821      2.276     -0.212      0.832      -4.973       4.009\n",
      "c0            70.6325      2.386     29.609      0.000      65.926      75.339\n",
      "c1            65.7698      2.657     24.749      0.000      60.527      71.013\n",
      "c3            97.0603      2.154     45.069      0.000      92.811     101.309\n",
      "c4            18.0374      2.227      8.098      0.000      13.643      22.432\n",
      "c5            55.5705      2.289     24.276      0.000      51.054      60.087\n",
      "c6            64.6963      2.594     24.938      0.000      59.578      69.815\n",
      "c7            43.0078      2.168     19.835      0.000      38.730      47.286\n",
      "c8             7.7346      2.304      3.358      0.001       3.190      12.279\n",
      "c9            61.6922      2.379     25.931      0.000      56.998      66.386\n",
      "c10           22.0828      2.239      9.862      0.000      17.665      26.501\n",
      "c11           19.0877      2.175      8.774      0.000      14.796      23.380\n",
      "c12           31.6224      2.234     14.152      0.000      27.214      36.031\n",
      "c13           39.3717      2.242     17.558      0.000      34.948      43.796\n",
      "c14           98.2735      2.294     42.844      0.000      93.748     102.799\n",
      "c15           45.8517      2.403     19.080      0.000      41.110      50.593\n",
      "==============================================================================\n",
      "Omnibus:                        5.633   Durbin-Watson:                   2.036\n",
      "Prob(Omnibus):                  0.060   Jarque-Bera (JB):                8.378\n",
      "Skew:                           0.046   Prob(JB):                       0.0152\n",
      "Kurtosis:                       3.999   Cond. No.                         1.60\n",
      "==============================================================================\n",
      "\n",
      "Notes:\n",
      "[1] Standard Errors assume that the covariance matrix of the errors is correctly specified.\n"
     ]
    }
   ],
   "source": [
    "print(model2.summary())"
   ]
  },
  {
   "cell_type": "code",
   "execution_count": 28,
   "metadata": {},
   "outputs": [],
   "source": [
    "from sklearn.model_selection import RepeatedKFold\n",
    "from sklearn.model_selection import GridSearchCV\n",
    "from sklearn.metrics import mean_squared_error\n",
    "from sklearn.linear_model import ElasticNet"
   ]
  },
  {
   "cell_type": "code",
   "execution_count": 29,
   "metadata": {},
   "outputs": [
    {
     "name": "stdout",
     "output_type": "stream",
     "text": [
      "{'alpha': array([0.005, 0.015, 0.025, 0.035, 0.045, 0.055, 0.065, 0.075, 0.085,\n",
      "       0.095, 0.105, 0.115, 0.125, 0.135, 0.145, 0.155, 0.165, 0.175,\n",
      "       0.185, 0.195, 0.205, 0.215, 0.225, 0.235, 0.245, 0.255, 0.265,\n",
      "       0.275, 0.285, 0.295, 0.305, 0.315, 0.325, 0.335, 0.345, 0.355,\n",
      "       0.365, 0.375, 0.385, 0.395, 0.405, 0.415, 0.425, 0.435, 0.445,\n",
      "       0.455, 0.465, 0.475, 0.485, 0.495, 0.505, 0.515, 0.525, 0.535,\n",
      "       0.545, 0.555, 0.565, 0.575, 0.585, 0.595, 0.605, 0.615, 0.625,\n",
      "       0.635, 0.645, 0.655, 0.665, 0.675, 0.685, 0.695, 0.705, 0.715,\n",
      "       0.725, 0.735, 0.745, 0.755, 0.765, 0.775, 0.785, 0.795, 0.805,\n",
      "       0.815, 0.825, 0.835, 0.845, 0.855, 0.865, 0.875, 0.885, 0.895]), 'l1_ratio': array([0.1 , 0.11, 0.12, 0.13, 0.14, 0.15, 0.16, 0.17, 0.18, 0.19, 0.2 ,\n",
      "       0.21, 0.22, 0.23, 0.24, 0.25, 0.26, 0.27, 0.28, 0.29, 0.3 , 0.31,\n",
      "       0.32, 0.33, 0.34, 0.35, 0.36, 0.37, 0.38, 0.39, 0.4 , 0.41, 0.42,\n",
      "       0.43, 0.44, 0.45, 0.46, 0.47, 0.48, 0.49])}\n"
     ]
    }
   ],
   "source": [
    "parameters = {\n",
    "    'alpha':np.arange(0.005,0.9,0.01),\n",
    "    'l1_ratio':np.arange(0.1,0.5,0.01)\n",
    "}\n",
    "print(parameters)"
   ]
  },
  {
   "cell_type": "code",
   "execution_count": 30,
   "metadata": {},
   "outputs": [
    {
     "name": "stdout",
     "output_type": "stream",
     "text": [
      "RepeatedKFold(n_repeats=2, n_splits=5, random_state=42)\n"
     ]
    }
   ],
   "source": [
    "cv = RepeatedKFold(n_splits=5, n_repeats=2, random_state=42)\n",
    "print(cv)"
   ]
  },
  {
   "cell_type": "code",
   "execution_count": 31,
   "metadata": {},
   "outputs": [],
   "source": [
    "elasticNet = ElasticNet()\n",
    "Srch = GridSearchCV(elasticNet, parameters, scoring='neg_mean_squared_error', cv=cv, n_jobs=-1)\n",
    "result = Srch.fit(train_set,y_train)"
   ]
  },
  {
   "cell_type": "code",
   "execution_count": 32,
   "metadata": {},
   "outputs": [
    {
     "name": "stdout",
     "output_type": "stream",
     "text": [
      "GridSearchCV(cv=RepeatedKFold(n_repeats=2, n_splits=5, random_state=42),\n",
      "             estimator=ElasticNet(), n_jobs=-1,\n",
      "             param_grid={'alpha': array([0.005, 0.015, 0.025, 0.035, 0.045, 0.055, 0.065, 0.075, 0.085,\n",
      "       0.095, 0.105, 0.115, 0.125, 0.135, 0.145, 0.155, 0.165, 0.175,\n",
      "       0.185, 0.195, 0.205, 0.215, 0.225, 0.235, 0.245, 0.255, 0.265,\n",
      "       0.275, 0.285, 0.295, 0.305, 0.315, 0.325, 0.335, 0.345, 0.355,\n",
      "       0.36...\n",
      "       0.725, 0.735, 0.745, 0.755, 0.765, 0.775, 0.785, 0.795, 0.805,\n",
      "       0.815, 0.825, 0.835, 0.845, 0.855, 0.865, 0.875, 0.885, 0.895]),\n",
      "                         'l1_ratio': array([0.1 , 0.11, 0.12, 0.13, 0.14, 0.15, 0.16, 0.17, 0.18, 0.19, 0.2 ,\n",
      "       0.21, 0.22, 0.23, 0.24, 0.25, 0.26, 0.27, 0.28, 0.29, 0.3 , 0.31,\n",
      "       0.32, 0.33, 0.34, 0.35, 0.36, 0.37, 0.38, 0.39, 0.4 , 0.41, 0.42,\n",
      "       0.43, 0.44, 0.45, 0.46, 0.47, 0.48, 0.49])},\n",
      "             scoring='neg_mean_squared_error')\n",
      "-1047.2692562635616\n",
      "{'alpha': 0.005, 'l1_ratio': 0.48999999999999977}\n",
      "ElasticNet(alpha=0.005, l1_ratio=0.48999999999999977)\n"
     ]
    }
   ],
   "source": [
    "print(result)\n",
    "print(result.best_score_)\n",
    "print(result.best_params_)\n",
    "\n",
    "best_elastic = result.best_estimator_\n",
    "print(best_elastic)"
   ]
  },
  {
   "cell_type": "markdown",
   "metadata": {},
   "source": [
    "# Comprobación de error cuadrático medio"
   ]
  },
  {
   "cell_type": "markdown",
   "metadata": {},
   "source": [
    "## Modelo 1"
   ]
  },
  {
   "cell_type": "code",
   "execution_count": 33,
   "metadata": {},
   "outputs": [
    {
     "name": "stdout",
     "output_type": "stream",
     "text": [
      "750.5664746002329\n"
     ]
    }
   ],
   "source": [
    "test_set = sm.add_constant(test_set, prepend=True)\n",
    "y_predict_model_1 = model1.predict(test_set)\n",
    "Mean_Sq_Error = mean_squared_error(y_predict_model_1, y_test)\n",
    "print(Mean_Sq_Error)"
   ]
  },
  {
   "cell_type": "markdown",
   "metadata": {},
   "source": [
    "## Modelo 2"
   ]
  },
  {
   "cell_type": "code",
   "execution_count": 34,
   "metadata": {},
   "outputs": [],
   "source": [
    "test_set.drop(columns=['c2','c16','c17','c18','c19','c20','c21'],inplace=True)\n",
    "y_predict_model_2 = model2.predict(test_set)"
   ]
  },
  {
   "cell_type": "code",
   "execution_count": 36,
   "metadata": {},
   "outputs": [
    {
     "name": "stdout",
     "output_type": "stream",
     "text": [
      "803.4930275424474\n"
     ]
    }
   ],
   "source": [
    "Mean_Sq_Error_2 = mean_squared_error(y_predict_model_2, y_test)\n",
    "print(Mean_Sq_Error_2)"
   ]
  },
  {
   "cell_type": "markdown",
   "metadata": {},
   "source": [
    "## Modelo 3"
   ]
  },
  {
   "cell_type": "code",
   "execution_count": 37,
   "metadata": {},
   "outputs": [],
   "source": [
    "y_predict_model_3 = best_elastic.predict(test_set)"
   ]
  },
  {
   "cell_type": "code",
   "execution_count": 39,
   "metadata": {},
   "outputs": [
    {
     "name": "stdout",
     "output_type": "stream",
     "text": [
      "796.5599792561268\n"
     ]
    }
   ],
   "source": [
    "Mean_Sq_Error_3 = mean_squared_error(y_predict_model_3, y_test)\n",
    "print(Mean_Sq_Error_3)"
   ]
  },
  {
   "cell_type": "markdown",
   "metadata": {},
   "source": [
    "## Resultados de predicciones"
   ]
  },
  {
   "cell_type": "code",
   "execution_count": 48,
   "metadata": {},
   "outputs": [
    {
     "data": {
      "text/html": [
       "<div>\n",
       "<style scoped>\n",
       "    .dataframe tbody tr th:only-of-type {\n",
       "        vertical-align: middle;\n",
       "    }\n",
       "\n",
       "    .dataframe tbody tr th {\n",
       "        vertical-align: top;\n",
       "    }\n",
       "\n",
       "    .dataframe thead th {\n",
       "        text-align: right;\n",
       "    }\n",
       "</style>\n",
       "<table border=\"1\" class=\"dataframe\">\n",
       "  <thead>\n",
       "    <tr style=\"text-align: right;\">\n",
       "      <th></th>\n",
       "      <th>y_true</th>\n",
       "      <th>pred_modelo_1</th>\n",
       "      <th>pred_modelo_2</th>\n",
       "      <th>pred_modelo_3</th>\n",
       "    </tr>\n",
       "  </thead>\n",
       "  <tbody>\n",
       "    <tr>\n",
       "      <th>132</th>\n",
       "      <td>333.020602</td>\n",
       "      <td>337.500686</td>\n",
       "      <td>337.793499</td>\n",
       "      <td>336.921428</td>\n",
       "    </tr>\n",
       "    <tr>\n",
       "      <th>148</th>\n",
       "      <td>48.171506</td>\n",
       "      <td>70.577423</td>\n",
       "      <td>68.063862</td>\n",
       "      <td>67.811020</td>\n",
       "    </tr>\n",
       "    <tr>\n",
       "      <th>93</th>\n",
       "      <td>-2.486599</td>\n",
       "      <td>6.473093</td>\n",
       "      <td>12.315322</td>\n",
       "      <td>12.395744</td>\n",
       "    </tr>\n",
       "    <tr>\n",
       "      <th>180</th>\n",
       "      <td>117.144811</td>\n",
       "      <td>98.533880</td>\n",
       "      <td>100.483649</td>\n",
       "      <td>100.065695</td>\n",
       "    </tr>\n",
       "    <tr>\n",
       "      <th>15</th>\n",
       "      <td>219.582261</td>\n",
       "      <td>179.860269</td>\n",
       "      <td>178.777864</td>\n",
       "      <td>178.464100</td>\n",
       "    </tr>\n",
       "    <tr>\n",
       "      <th>115</th>\n",
       "      <td>118.285486</td>\n",
       "      <td>93.841975</td>\n",
       "      <td>92.082986</td>\n",
       "      <td>91.826115</td>\n",
       "    </tr>\n",
       "    <tr>\n",
       "      <th>172</th>\n",
       "      <td>35.675697</td>\n",
       "      <td>92.450567</td>\n",
       "      <td>99.545055</td>\n",
       "      <td>99.347175</td>\n",
       "    </tr>\n",
       "    <tr>\n",
       "      <th>209</th>\n",
       "      <td>-165.223912</td>\n",
       "      <td>-159.573230</td>\n",
       "      <td>-164.636243</td>\n",
       "      <td>-164.098968</td>\n",
       "    </tr>\n",
       "    <tr>\n",
       "      <th>75</th>\n",
       "      <td>-102.658248</td>\n",
       "      <td>-111.493527</td>\n",
       "      <td>-112.536782</td>\n",
       "      <td>-112.142209</td>\n",
       "    </tr>\n",
       "    <tr>\n",
       "      <th>142</th>\n",
       "      <td>78.210423</td>\n",
       "      <td>44.007023</td>\n",
       "      <td>51.301069</td>\n",
       "      <td>51.217902</td>\n",
       "    </tr>\n",
       "    <tr>\n",
       "      <th>100</th>\n",
       "      <td>136.480734</td>\n",
       "      <td>87.929544</td>\n",
       "      <td>86.054299</td>\n",
       "      <td>85.798261</td>\n",
       "    </tr>\n",
       "    <tr>\n",
       "      <th>30</th>\n",
       "      <td>239.090672</td>\n",
       "      <td>248.634253</td>\n",
       "      <td>246.631635</td>\n",
       "      <td>245.976291</td>\n",
       "    </tr>\n",
       "    <tr>\n",
       "      <th>190</th>\n",
       "      <td>-41.514453</td>\n",
       "      <td>-31.521500</td>\n",
       "      <td>-20.886600</td>\n",
       "      <td>-20.791891</td>\n",
       "    </tr>\n",
       "    <tr>\n",
       "      <th>9</th>\n",
       "      <td>-395.573814</td>\n",
       "      <td>-401.397174</td>\n",
       "      <td>-395.046826</td>\n",
       "      <td>-394.028853</td>\n",
       "    </tr>\n",
       "    <tr>\n",
       "      <th>67</th>\n",
       "      <td>31.789654</td>\n",
       "      <td>39.031722</td>\n",
       "      <td>38.286235</td>\n",
       "      <td>38.367161</td>\n",
       "    </tr>\n",
       "    <tr>\n",
       "      <th>218</th>\n",
       "      <td>373.228970</td>\n",
       "      <td>407.431108</td>\n",
       "      <td>400.094889</td>\n",
       "      <td>398.936383</td>\n",
       "    </tr>\n",
       "    <tr>\n",
       "      <th>175</th>\n",
       "      <td>-336.495524</td>\n",
       "      <td>-362.971016</td>\n",
       "      <td>-365.631178</td>\n",
       "      <td>-364.613181</td>\n",
       "    </tr>\n",
       "    <tr>\n",
       "      <th>18</th>\n",
       "      <td>-99.469821</td>\n",
       "      <td>-152.123828</td>\n",
       "      <td>-155.469751</td>\n",
       "      <td>-155.049234</td>\n",
       "    </tr>\n",
       "    <tr>\n",
       "      <th>197</th>\n",
       "      <td>-139.163819</td>\n",
       "      <td>-137.783906</td>\n",
       "      <td>-149.326964</td>\n",
       "      <td>-149.080743</td>\n",
       "    </tr>\n",
       "    <tr>\n",
       "      <th>66</th>\n",
       "      <td>-107.825197</td>\n",
       "      <td>-118.043561</td>\n",
       "      <td>-112.738986</td>\n",
       "      <td>-112.551307</td>\n",
       "    </tr>\n",
       "  </tbody>\n",
       "</table>\n",
       "</div>"
      ],
      "text/plain": [
       "         y_true  pred_modelo_1  pred_modelo_2  pred_modelo_3\n",
       "132  333.020602     337.500686     337.793499     336.921428\n",
       "148   48.171506      70.577423      68.063862      67.811020\n",
       "93    -2.486599       6.473093      12.315322      12.395744\n",
       "180  117.144811      98.533880     100.483649     100.065695\n",
       "15   219.582261     179.860269     178.777864     178.464100\n",
       "115  118.285486      93.841975      92.082986      91.826115\n",
       "172   35.675697      92.450567      99.545055      99.347175\n",
       "209 -165.223912    -159.573230    -164.636243    -164.098968\n",
       "75  -102.658248    -111.493527    -112.536782    -112.142209\n",
       "142   78.210423      44.007023      51.301069      51.217902\n",
       "100  136.480734      87.929544      86.054299      85.798261\n",
       "30   239.090672     248.634253     246.631635     245.976291\n",
       "190  -41.514453     -31.521500     -20.886600     -20.791891\n",
       "9   -395.573814    -401.397174    -395.046826    -394.028853\n",
       "67    31.789654      39.031722      38.286235      38.367161\n",
       "218  373.228970     407.431108     400.094889     398.936383\n",
       "175 -336.495524    -362.971016    -365.631178    -364.613181\n",
       "18   -99.469821    -152.123828    -155.469751    -155.049234\n",
       "197 -139.163819    -137.783906    -149.326964    -149.080743\n",
       "66  -107.825197    -118.043561    -112.738986    -112.551307"
      ]
     },
     "execution_count": 48,
     "metadata": {},
     "output_type": "execute_result"
    }
   ],
   "source": [
    "resultados_dict ={\n",
    "    'y_true' : y_test,\n",
    "    'pred_modelo_1': y_predict_model_1,\n",
    "    'pred_modelo_2': y_predict_model_2,\n",
    "    'pred_modelo_3': y_predict_model_3,\n",
    "}\n",
    "\n",
    "resultados_df = pd.DataFrame(resultados_dict)\n",
    "\n",
    "resultados_df"
   ]
  }
 ],
 "metadata": {
  "kernelspec": {
   "display_name": "Python 3",
   "language": "python",
   "name": "python3"
  },
  "language_info": {
   "codemirror_mode": {
    "name": "ipython",
    "version": 3
   },
   "file_extension": ".py",
   "mimetype": "text/x-python",
   "name": "python",
   "nbconvert_exporter": "python",
   "pygments_lexer": "ipython3",
   "version": "3.8.8"
  }
 },
 "nbformat": 4,
 "nbformat_minor": 4
}
